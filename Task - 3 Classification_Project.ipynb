{
 "cells": [
  {
   "cell_type": "markdown",
   "id": "3f1bf4b1",
   "metadata": {},
   "source": [
    "# Task - 3"
   ]
  },
  {
   "cell_type": "markdown",
   "id": "8837c745",
   "metadata": {},
   "source": [
    "## 1. Basic Pandas Operations"
   ]
  },
  {
   "cell_type": "code",
   "execution_count": 2,
   "id": "8ad3f232",
   "metadata": {},
   "outputs": [],
   "source": [
    "# Import all the required Libraries\n",
    "\n",
    "import pandas as pd\n",
    "import numpy as np\n",
    "\n",
    "import warnings\n",
    "warnings.filterwarnings(\"ignore\")\n",
    "import seaborn as sns\n",
    "import matplotlib.pyplot as plt"
   ]
  },
  {
   "cell_type": "code",
   "execution_count": 3,
   "id": "31528613",
   "metadata": {},
   "outputs": [
    {
     "data": {
      "text/html": [
       "<div>\n",
       "<style scoped>\n",
       "    .dataframe tbody tr th:only-of-type {\n",
       "        vertical-align: middle;\n",
       "    }\n",
       "\n",
       "    .dataframe tbody tr th {\n",
       "        vertical-align: top;\n",
       "    }\n",
       "\n",
       "    .dataframe thead th {\n",
       "        text-align: right;\n",
       "    }\n",
       "</style>\n",
       "<table border=\"1\" class=\"dataframe\">\n",
       "  <thead>\n",
       "    <tr style=\"text-align: right;\">\n",
       "      <th></th>\n",
       "      <th>Unnamed: 0</th>\n",
       "      <th>ID</th>\n",
       "      <th>City_Code</th>\n",
       "      <th>Region_Code</th>\n",
       "      <th>Accomodation_Type</th>\n",
       "      <th>Reco_Insurance_Type</th>\n",
       "      <th>Upper_Age</th>\n",
       "      <th>Lower_Age</th>\n",
       "      <th>Is_Spouse</th>\n",
       "      <th>Health Indicator</th>\n",
       "      <th>Holding_Policy_Duration</th>\n",
       "      <th>Holding_Policy_Type</th>\n",
       "      <th>Reco_Policy_Cat</th>\n",
       "      <th>Reco_Policy_Premium</th>\n",
       "      <th>Response</th>\n",
       "    </tr>\n",
       "  </thead>\n",
       "  <tbody>\n",
       "    <tr>\n",
       "      <th>0</th>\n",
       "      <td>27385</td>\n",
       "      <td>27386</td>\n",
       "      <td>C3</td>\n",
       "      <td>64</td>\n",
       "      <td>Owned</td>\n",
       "      <td>Individual</td>\n",
       "      <td>36</td>\n",
       "      <td>36</td>\n",
       "      <td>No</td>\n",
       "      <td>X1</td>\n",
       "      <td>14+</td>\n",
       "      <td>2.0</td>\n",
       "      <td>16</td>\n",
       "      <td>13320.0</td>\n",
       "      <td>0</td>\n",
       "    </tr>\n",
       "    <tr>\n",
       "      <th>1</th>\n",
       "      <td>33499</td>\n",
       "      <td>33500</td>\n",
       "      <td>C3</td>\n",
       "      <td>2955</td>\n",
       "      <td>Owned</td>\n",
       "      <td>Individual</td>\n",
       "      <td>66</td>\n",
       "      <td>66</td>\n",
       "      <td>No</td>\n",
       "      <td>X6</td>\n",
       "      <td>10</td>\n",
       "      <td>1.0</td>\n",
       "      <td>19</td>\n",
       "      <td>16152.0</td>\n",
       "      <td>0</td>\n",
       "    </tr>\n",
       "    <tr>\n",
       "      <th>2</th>\n",
       "      <td>7997</td>\n",
       "      <td>7998</td>\n",
       "      <td>C1</td>\n",
       "      <td>1542</td>\n",
       "      <td>Rented</td>\n",
       "      <td>Individual</td>\n",
       "      <td>24</td>\n",
       "      <td>24</td>\n",
       "      <td>No</td>\n",
       "      <td>NaN</td>\n",
       "      <td>3</td>\n",
       "      <td>1.0</td>\n",
       "      <td>16</td>\n",
       "      <td>7310.0</td>\n",
       "      <td>0</td>\n",
       "    </tr>\n",
       "    <tr>\n",
       "      <th>3</th>\n",
       "      <td>33032</td>\n",
       "      <td>33033</td>\n",
       "      <td>C26</td>\n",
       "      <td>772</td>\n",
       "      <td>Rented</td>\n",
       "      <td>Individual</td>\n",
       "      <td>75</td>\n",
       "      <td>75</td>\n",
       "      <td>No</td>\n",
       "      <td>X1</td>\n",
       "      <td>1</td>\n",
       "      <td>3.0</td>\n",
       "      <td>16</td>\n",
       "      <td>15792.0</td>\n",
       "      <td>0</td>\n",
       "    </tr>\n",
       "    <tr>\n",
       "      <th>4</th>\n",
       "      <td>30516</td>\n",
       "      <td>30517</td>\n",
       "      <td>C2</td>\n",
       "      <td>1510</td>\n",
       "      <td>Owned</td>\n",
       "      <td>Joint</td>\n",
       "      <td>59</td>\n",
       "      <td>58</td>\n",
       "      <td>Yes</td>\n",
       "      <td>X1</td>\n",
       "      <td>14+</td>\n",
       "      <td>4.0</td>\n",
       "      <td>17</td>\n",
       "      <td>23673.0</td>\n",
       "      <td>0</td>\n",
       "    </tr>\n",
       "  </tbody>\n",
       "</table>\n",
       "</div>"
      ],
      "text/plain": [
       "   Unnamed: 0     ID City_Code  Region_Code Accomodation_Type  \\\n",
       "0       27385  27386        C3           64             Owned   \n",
       "1       33499  33500        C3         2955             Owned   \n",
       "2        7997   7998        C1         1542            Rented   \n",
       "3       33032  33033       C26          772            Rented   \n",
       "4       30516  30517        C2         1510             Owned   \n",
       "\n",
       "  Reco_Insurance_Type  Upper_Age  Lower_Age Is_Spouse Health Indicator  \\\n",
       "0          Individual         36         36        No               X1   \n",
       "1          Individual         66         66        No               X6   \n",
       "2          Individual         24         24        No              NaN   \n",
       "3          Individual         75         75        No               X1   \n",
       "4               Joint         59         58       Yes               X1   \n",
       "\n",
       "  Holding_Policy_Duration  Holding_Policy_Type  Reco_Policy_Cat  \\\n",
       "0                     14+                  2.0               16   \n",
       "1                      10                  1.0               19   \n",
       "2                       3                  1.0               16   \n",
       "3                       1                  3.0               16   \n",
       "4                     14+                  4.0               17   \n",
       "\n",
       "   Reco_Policy_Premium  Response  \n",
       "0              13320.0         0  \n",
       "1              16152.0         0  \n",
       "2               7310.0         0  \n",
       "3              15792.0         0  \n",
       "4              23673.0         0  "
      ]
     },
     "execution_count": 3,
     "metadata": {},
     "output_type": "execute_result"
    }
   ],
   "source": [
    "# Read the dataset and display the head. You will get the output as mentioned below\n",
    "\n",
    "df=pd.read_csv('train.csv')\n",
    "df.head()"
   ]
  },
  {
   "cell_type": "code",
   "execution_count": 4,
   "id": "082db99d",
   "metadata": {},
   "outputs": [
    {
     "data": {
      "text/plain": [
       "(10000, 15)"
      ]
     },
     "execution_count": 4,
     "metadata": {},
     "output_type": "execute_result"
    }
   ],
   "source": [
    "# Check the shape of the dataframe\n",
    "\n",
    "df.shape"
   ]
  },
  {
   "cell_type": "code",
   "execution_count": 5,
   "id": "2b70d33e",
   "metadata": {},
   "outputs": [
    {
     "name": "stdout",
     "output_type": "stream",
     "text": [
      "<class 'pandas.core.frame.DataFrame'>\n",
      "RangeIndex: 10000 entries, 0 to 9999\n",
      "Data columns (total 15 columns):\n",
      " #   Column                   Non-Null Count  Dtype  \n",
      "---  ------                   --------------  -----  \n",
      " 0   Unnamed: 0               10000 non-null  int64  \n",
      " 1   ID                       10000 non-null  int64  \n",
      " 2   City_Code                10000 non-null  object \n",
      " 3   Region_Code              10000 non-null  int64  \n",
      " 4   Accomodation_Type        10000 non-null  object \n",
      " 5   Reco_Insurance_Type      10000 non-null  object \n",
      " 6   Upper_Age                10000 non-null  int64  \n",
      " 7   Lower_Age                10000 non-null  int64  \n",
      " 8   Is_Spouse                10000 non-null  object \n",
      " 9   Health Indicator         7671 non-null   object \n",
      " 10  Holding_Policy_Duration  5946 non-null   object \n",
      " 11  Holding_Policy_Type      5946 non-null   float64\n",
      " 12  Reco_Policy_Cat          10000 non-null  int64  \n",
      " 13  Reco_Policy_Premium      10000 non-null  float64\n",
      " 14  Response                 10000 non-null  int64  \n",
      "dtypes: float64(2), int64(7), object(6)\n",
      "memory usage: 1.1+ MB\n"
     ]
    }
   ],
   "source": [
    "# On the dataframe apply info() function and observe the Dtypes and Missing Values\n",
    "\n",
    "df.info()"
   ]
  },
  {
   "cell_type": "markdown",
   "id": "c86df9c2",
   "metadata": {},
   "source": [
    "## 2. Cleaning the Data"
   ]
  },
  {
   "cell_type": "code",
   "execution_count": 6,
   "id": "31b2d853",
   "metadata": {},
   "outputs": [],
   "source": [
    "# Impute the Null values in Health Indicator, Holding_Policy_Duration and Holding_Policy_Type\n",
    "\n",
    "df['Health Indicator'].fillna(df['Health Indicator'].mode()[0],axis=0,inplace=True)\n",
    "df['Holding_Policy_Duration'].fillna(df['Holding_Policy_Duration'].mode()[0],axis=0,inplace=True)\n",
    "df['Holding_Policy_Type'].fillna(df['Holding_Policy_Type'].mode()[0],axis=0,inplace=True)"
   ]
  },
  {
   "cell_type": "code",
   "execution_count": 7,
   "id": "07d6cf40",
   "metadata": {},
   "outputs": [
    {
     "data": {
      "text/plain": [
       "dtype('int64')"
      ]
     },
     "execution_count": 7,
     "metadata": {},
     "output_type": "execute_result"
    }
   ],
   "source": [
    "# Check again Holding_Policy_Duration is in object column convert that into int\n",
    "\n",
    "df['Holding_Policy_Duration']=df['Holding_Policy_Duration'].apply(lambda x: str(15) if x=='14+' else x)\n",
    "df['Holding_Policy_Duration']=pd.to_numeric(df['Holding_Policy_Duration'])\n",
    "df['Holding_Policy_Duration'].dtype"
   ]
  },
  {
   "cell_type": "code",
   "execution_count": 8,
   "id": "1a962411",
   "metadata": {},
   "outputs": [
    {
     "data": {
      "text/plain": [
       "Accomodation_Type      2\n",
       "Reco_Insurance_Type    2\n",
       "Is_Spouse              2\n",
       "dtype: int64"
      ]
     },
     "execution_count": 8,
     "metadata": {},
     "output_type": "execute_result"
    }
   ],
   "source": [
    "# Observe that ['Accomodation_Type','Reco_Insurance_Type','Is_Spouse'] \n",
    "# above these Object columns have two values - Yes and No\n",
    "\n",
    "\n",
    "df[['Accomodation_Type','Reco_Insurance_Type','Is_Spouse']].nunique()"
   ]
  },
  {
   "cell_type": "code",
   "execution_count": 9,
   "id": "69dfcf64",
   "metadata": {},
   "outputs": [],
   "source": [
    "# Converting all the Yes to 1 and No to 0. \n",
    "# Write a for loop to iterate over the list given above\n",
    "# For each feature use pandas 'apply()' to convert all the 'Yes' to 1 and 'No' to 0\n",
    "\n",
    "\n",
    "df['Accomodation_Type']=df['Accomodation_Type'].apply(lambda x:1 if x=='Owned' else 0)\n",
    "df['Reco_Insurance_Type']=df['Reco_Insurance_Type'].apply(lambda x:1 if x=='Individual' else 0)\n",
    "df['Is_Spouse']=df['Is_Spouse'].apply(lambda x:1 if x=='Yes' else 0)"
   ]
  },
  {
   "cell_type": "code",
   "execution_count": 10,
   "id": "08b1d826",
   "metadata": {},
   "outputs": [
    {
     "name": "stdout",
     "output_type": "stream",
     "text": [
      "<class 'pandas.core.frame.DataFrame'>\n",
      "RangeIndex: 10000 entries, 0 to 9999\n",
      "Data columns (total 15 columns):\n",
      " #   Column                   Non-Null Count  Dtype  \n",
      "---  ------                   --------------  -----  \n",
      " 0   Unnamed: 0               10000 non-null  int64  \n",
      " 1   ID                       10000 non-null  int64  \n",
      " 2   City_Code                10000 non-null  object \n",
      " 3   Region_Code              10000 non-null  int64  \n",
      " 4   Accomodation_Type        10000 non-null  int64  \n",
      " 5   Reco_Insurance_Type      10000 non-null  int64  \n",
      " 6   Upper_Age                10000 non-null  int64  \n",
      " 7   Lower_Age                10000 non-null  int64  \n",
      " 8   Is_Spouse                10000 non-null  int64  \n",
      " 9   Health Indicator         10000 non-null  object \n",
      " 10  Holding_Policy_Duration  10000 non-null  int64  \n",
      " 11  Holding_Policy_Type      10000 non-null  float64\n",
      " 12  Reco_Policy_Cat          10000 non-null  int64  \n",
      " 13  Reco_Policy_Premium      10000 non-null  float64\n",
      " 14  Response                 10000 non-null  int64  \n",
      "dtypes: float64(2), int64(11), object(2)\n",
      "memory usage: 1.1+ MB\n"
     ]
    }
   ],
   "source": [
    "# Now again having a look at all those columns to see if everything went well\n",
    "\n",
    "# Observe that all those columns are now converted from Object to Int64\n",
    "\n",
    "df.info()"
   ]
  },
  {
   "cell_type": "code",
   "execution_count": 11,
   "id": "587545d1",
   "metadata": {},
   "outputs": [
    {
     "data": {
      "text/plain": [
       "City_Code           36\n",
       "Health Indicator     9\n",
       "dtype: int64"
      ]
     },
     "execution_count": 11,
     "metadata": {},
     "output_type": "execute_result"
    }
   ],
   "source": [
    "# Checking all the Object Dtypes - Here, these columns have more than 2 categories\n",
    "\n",
    "df[['City_Code','Health Indicator']].nunique()"
   ]
  },
  {
   "cell_type": "code",
   "execution_count": 12,
   "id": "68d385bc",
   "metadata": {},
   "outputs": [
    {
     "data": {
      "text/plain": [
       "0       0\n",
       "1       0\n",
       "2       0\n",
       "3       0\n",
       "4       0\n",
       "       ..\n",
       "9995    1\n",
       "9996    0\n",
       "9997    0\n",
       "9998    0\n",
       "9999    0\n",
       "Name: Response, Length: 10000, dtype: int64"
      ]
     },
     "execution_count": 12,
     "metadata": {},
     "output_type": "execute_result"
    }
   ],
   "source": [
    "# Lets just try to see what is happening Response. Check the output.\n",
    "\n",
    "df['Response']"
   ]
  },
  {
   "cell_type": "code",
   "execution_count": 13,
   "id": "30a553f4",
   "metadata": {},
   "outputs": [
    {
     "data": {
      "text/plain": [
       "(10000, 14)"
      ]
     },
     "execution_count": 13,
     "metadata": {},
     "output_type": "execute_result"
    }
   ],
   "source": [
    "# Dropping unknown column\n",
    "\n",
    "# Write the code here to drop unknown column and check dataframe shape\n",
    "\n",
    "\n",
    "df.drop('Unnamed: 0',axis=1,inplace=True)\n",
    "\n",
    "df.shape"
   ]
  },
  {
   "cell_type": "code",
   "execution_count": 14,
   "id": "dde1fd14",
   "metadata": {},
   "outputs": [
    {
     "data": {
      "text/plain": [
       "Index(['City_Code', 'Health Indicator'], dtype='object')"
      ]
     },
     "execution_count": 14,
     "metadata": {},
     "output_type": "execute_result"
    }
   ],
   "source": [
    "# Getting all the Object Dtypes\n",
    "\n",
    "df.select_dtypes(include='object').columns"
   ]
  },
  {
   "cell_type": "code",
   "execution_count": 15,
   "id": "6a93aa24",
   "metadata": {},
   "outputs": [],
   "source": [
    "# Encoding the categorical features\n",
    "\n",
    "\n",
    "\n",
    "# column names are (annoyingly) lost after OneHotEncoding\n",
    "# (i.e. the dataframe is converted to a numpy ndarray)\n",
    "\n",
    "# Write the code here to use 'encoder' to convert all the categorical columns to numerical representations\n",
    "# Take extra care to convert encoded numpy array to dataframe and call that data fram 'df_encoded'\n",
    "\n",
    "from sklearn.preprocessing import OneHotEncoder\n",
    "\n",
    "OHE=OneHotEncoder(handle_unknown='ignore')\n",
    "one_hot_encoded=OHE.fit_transform(df[['Health Indicator']])\n",
    "\n",
    "df_encoded=pd.DataFrame(one_hot_encoded.toarray(),columns=sorted(df['Health Indicator'].unique().tolist()))"
   ]
  },
  {
   "cell_type": "code",
   "execution_count": 16,
   "id": "9098f59c",
   "metadata": {},
   "outputs": [],
   "source": [
    "# Concatinating the original data frame and onehot encoded dataframe\n",
    "\n",
    "final_df=df.join(df_encoded)"
   ]
  },
  {
   "cell_type": "code",
   "execution_count": 17,
   "id": "e48dffd1",
   "metadata": {},
   "outputs": [],
   "source": [
    "# Drop all the unwanted columns.\n",
    "\n",
    "\n",
    "# Because we have already encoded them and added to main dataframe\n",
    "\n",
    "\n",
    "final_df.drop(['ID','Health Indicator','X9'],axis=1,inplace=True)"
   ]
  },
  {
   "cell_type": "code",
   "execution_count": 18,
   "id": "ba3ef7d5",
   "metadata": {},
   "outputs": [
    {
     "data": {
      "text/html": [
       "<div>\n",
       "<style scoped>\n",
       "    .dataframe tbody tr th:only-of-type {\n",
       "        vertical-align: middle;\n",
       "    }\n",
       "\n",
       "    .dataframe tbody tr th {\n",
       "        vertical-align: top;\n",
       "    }\n",
       "\n",
       "    .dataframe thead th {\n",
       "        text-align: right;\n",
       "    }\n",
       "</style>\n",
       "<table border=\"1\" class=\"dataframe\">\n",
       "  <thead>\n",
       "    <tr style=\"text-align: right;\">\n",
       "      <th></th>\n",
       "      <th>City_Code</th>\n",
       "      <th>Region_Code</th>\n",
       "      <th>Accomodation_Type</th>\n",
       "      <th>Reco_Insurance_Type</th>\n",
       "      <th>Upper_Age</th>\n",
       "      <th>Lower_Age</th>\n",
       "      <th>Is_Spouse</th>\n",
       "      <th>Holding_Policy_Duration</th>\n",
       "      <th>Holding_Policy_Type</th>\n",
       "      <th>Reco_Policy_Cat</th>\n",
       "      <th>Reco_Policy_Premium</th>\n",
       "      <th>Response</th>\n",
       "      <th>X1</th>\n",
       "      <th>X2</th>\n",
       "      <th>X3</th>\n",
       "      <th>X4</th>\n",
       "      <th>X5</th>\n",
       "      <th>X6</th>\n",
       "      <th>X7</th>\n",
       "      <th>X8</th>\n",
       "    </tr>\n",
       "  </thead>\n",
       "  <tbody>\n",
       "    <tr>\n",
       "      <th>0</th>\n",
       "      <td>C3</td>\n",
       "      <td>64</td>\n",
       "      <td>1</td>\n",
       "      <td>1</td>\n",
       "      <td>36</td>\n",
       "      <td>36</td>\n",
       "      <td>0</td>\n",
       "      <td>15</td>\n",
       "      <td>2.0</td>\n",
       "      <td>16</td>\n",
       "      <td>13320.0</td>\n",
       "      <td>0</td>\n",
       "      <td>1.0</td>\n",
       "      <td>0.0</td>\n",
       "      <td>0.0</td>\n",
       "      <td>0.0</td>\n",
       "      <td>0.0</td>\n",
       "      <td>0.0</td>\n",
       "      <td>0.0</td>\n",
       "      <td>0.0</td>\n",
       "    </tr>\n",
       "    <tr>\n",
       "      <th>1</th>\n",
       "      <td>C3</td>\n",
       "      <td>2955</td>\n",
       "      <td>1</td>\n",
       "      <td>1</td>\n",
       "      <td>66</td>\n",
       "      <td>66</td>\n",
       "      <td>0</td>\n",
       "      <td>10</td>\n",
       "      <td>1.0</td>\n",
       "      <td>19</td>\n",
       "      <td>16152.0</td>\n",
       "      <td>0</td>\n",
       "      <td>0.0</td>\n",
       "      <td>0.0</td>\n",
       "      <td>0.0</td>\n",
       "      <td>0.0</td>\n",
       "      <td>0.0</td>\n",
       "      <td>1.0</td>\n",
       "      <td>0.0</td>\n",
       "      <td>0.0</td>\n",
       "    </tr>\n",
       "    <tr>\n",
       "      <th>2</th>\n",
       "      <td>C1</td>\n",
       "      <td>1542</td>\n",
       "      <td>0</td>\n",
       "      <td>1</td>\n",
       "      <td>24</td>\n",
       "      <td>24</td>\n",
       "      <td>0</td>\n",
       "      <td>3</td>\n",
       "      <td>1.0</td>\n",
       "      <td>16</td>\n",
       "      <td>7310.0</td>\n",
       "      <td>0</td>\n",
       "      <td>1.0</td>\n",
       "      <td>0.0</td>\n",
       "      <td>0.0</td>\n",
       "      <td>0.0</td>\n",
       "      <td>0.0</td>\n",
       "      <td>0.0</td>\n",
       "      <td>0.0</td>\n",
       "      <td>0.0</td>\n",
       "    </tr>\n",
       "    <tr>\n",
       "      <th>3</th>\n",
       "      <td>C26</td>\n",
       "      <td>772</td>\n",
       "      <td>0</td>\n",
       "      <td>1</td>\n",
       "      <td>75</td>\n",
       "      <td>75</td>\n",
       "      <td>0</td>\n",
       "      <td>1</td>\n",
       "      <td>3.0</td>\n",
       "      <td>16</td>\n",
       "      <td>15792.0</td>\n",
       "      <td>0</td>\n",
       "      <td>1.0</td>\n",
       "      <td>0.0</td>\n",
       "      <td>0.0</td>\n",
       "      <td>0.0</td>\n",
       "      <td>0.0</td>\n",
       "      <td>0.0</td>\n",
       "      <td>0.0</td>\n",
       "      <td>0.0</td>\n",
       "    </tr>\n",
       "    <tr>\n",
       "      <th>4</th>\n",
       "      <td>C2</td>\n",
       "      <td>1510</td>\n",
       "      <td>1</td>\n",
       "      <td>0</td>\n",
       "      <td>59</td>\n",
       "      <td>58</td>\n",
       "      <td>1</td>\n",
       "      <td>15</td>\n",
       "      <td>4.0</td>\n",
       "      <td>17</td>\n",
       "      <td>23673.0</td>\n",
       "      <td>0</td>\n",
       "      <td>1.0</td>\n",
       "      <td>0.0</td>\n",
       "      <td>0.0</td>\n",
       "      <td>0.0</td>\n",
       "      <td>0.0</td>\n",
       "      <td>0.0</td>\n",
       "      <td>0.0</td>\n",
       "      <td>0.0</td>\n",
       "    </tr>\n",
       "    <tr>\n",
       "      <th>...</th>\n",
       "      <td>...</td>\n",
       "      <td>...</td>\n",
       "      <td>...</td>\n",
       "      <td>...</td>\n",
       "      <td>...</td>\n",
       "      <td>...</td>\n",
       "      <td>...</td>\n",
       "      <td>...</td>\n",
       "      <td>...</td>\n",
       "      <td>...</td>\n",
       "      <td>...</td>\n",
       "      <td>...</td>\n",
       "      <td>...</td>\n",
       "      <td>...</td>\n",
       "      <td>...</td>\n",
       "      <td>...</td>\n",
       "      <td>...</td>\n",
       "      <td>...</td>\n",
       "      <td>...</td>\n",
       "      <td>...</td>\n",
       "    </tr>\n",
       "    <tr>\n",
       "      <th>9995</th>\n",
       "      <td>C3</td>\n",
       "      <td>13</td>\n",
       "      <td>1</td>\n",
       "      <td>0</td>\n",
       "      <td>47</td>\n",
       "      <td>40</td>\n",
       "      <td>1</td>\n",
       "      <td>15</td>\n",
       "      <td>3.0</td>\n",
       "      <td>19</td>\n",
       "      <td>27840.0</td>\n",
       "      <td>1</td>\n",
       "      <td>0.0</td>\n",
       "      <td>0.0</td>\n",
       "      <td>0.0</td>\n",
       "      <td>0.0</td>\n",
       "      <td>1.0</td>\n",
       "      <td>0.0</td>\n",
       "      <td>0.0</td>\n",
       "      <td>0.0</td>\n",
       "    </tr>\n",
       "    <tr>\n",
       "      <th>9996</th>\n",
       "      <td>C5</td>\n",
       "      <td>1477</td>\n",
       "      <td>0</td>\n",
       "      <td>1</td>\n",
       "      <td>34</td>\n",
       "      <td>34</td>\n",
       "      <td>0</td>\n",
       "      <td>6</td>\n",
       "      <td>1.0</td>\n",
       "      <td>4</td>\n",
       "      <td>10560.0</td>\n",
       "      <td>0</td>\n",
       "      <td>1.0</td>\n",
       "      <td>0.0</td>\n",
       "      <td>0.0</td>\n",
       "      <td>0.0</td>\n",
       "      <td>0.0</td>\n",
       "      <td>0.0</td>\n",
       "      <td>0.0</td>\n",
       "      <td>0.0</td>\n",
       "    </tr>\n",
       "    <tr>\n",
       "      <th>9997</th>\n",
       "      <td>C1</td>\n",
       "      <td>2357</td>\n",
       "      <td>1</td>\n",
       "      <td>1</td>\n",
       "      <td>64</td>\n",
       "      <td>64</td>\n",
       "      <td>0</td>\n",
       "      <td>8</td>\n",
       "      <td>2.0</td>\n",
       "      <td>19</td>\n",
       "      <td>14716.0</td>\n",
       "      <td>0</td>\n",
       "      <td>1.0</td>\n",
       "      <td>0.0</td>\n",
       "      <td>0.0</td>\n",
       "      <td>0.0</td>\n",
       "      <td>0.0</td>\n",
       "      <td>0.0</td>\n",
       "      <td>0.0</td>\n",
       "      <td>0.0</td>\n",
       "    </tr>\n",
       "    <tr>\n",
       "      <th>9998</th>\n",
       "      <td>C1</td>\n",
       "      <td>1443</td>\n",
       "      <td>0</td>\n",
       "      <td>1</td>\n",
       "      <td>53</td>\n",
       "      <td>53</td>\n",
       "      <td>0</td>\n",
       "      <td>15</td>\n",
       "      <td>3.0</td>\n",
       "      <td>13</td>\n",
       "      <td>11664.0</td>\n",
       "      <td>0</td>\n",
       "      <td>0.0</td>\n",
       "      <td>0.0</td>\n",
       "      <td>0.0</td>\n",
       "      <td>0.0</td>\n",
       "      <td>1.0</td>\n",
       "      <td>0.0</td>\n",
       "      <td>0.0</td>\n",
       "      <td>0.0</td>\n",
       "    </tr>\n",
       "    <tr>\n",
       "      <th>9999</th>\n",
       "      <td>C7</td>\n",
       "      <td>1476</td>\n",
       "      <td>1</td>\n",
       "      <td>0</td>\n",
       "      <td>56</td>\n",
       "      <td>47</td>\n",
       "      <td>1</td>\n",
       "      <td>15</td>\n",
       "      <td>3.0</td>\n",
       "      <td>10</td>\n",
       "      <td>28752.0</td>\n",
       "      <td>0</td>\n",
       "      <td>0.0</td>\n",
       "      <td>1.0</td>\n",
       "      <td>0.0</td>\n",
       "      <td>0.0</td>\n",
       "      <td>0.0</td>\n",
       "      <td>0.0</td>\n",
       "      <td>0.0</td>\n",
       "      <td>0.0</td>\n",
       "    </tr>\n",
       "  </tbody>\n",
       "</table>\n",
       "<p>10000 rows × 20 columns</p>\n",
       "</div>"
      ],
      "text/plain": [
       "     City_Code  Region_Code  Accomodation_Type  Reco_Insurance_Type  \\\n",
       "0           C3           64                  1                    1   \n",
       "1           C3         2955                  1                    1   \n",
       "2           C1         1542                  0                    1   \n",
       "3          C26          772                  0                    1   \n",
       "4           C2         1510                  1                    0   \n",
       "...        ...          ...                ...                  ...   \n",
       "9995        C3           13                  1                    0   \n",
       "9996        C5         1477                  0                    1   \n",
       "9997        C1         2357                  1                    1   \n",
       "9998        C1         1443                  0                    1   \n",
       "9999        C7         1476                  1                    0   \n",
       "\n",
       "      Upper_Age  Lower_Age  Is_Spouse  Holding_Policy_Duration  \\\n",
       "0            36         36          0                       15   \n",
       "1            66         66          0                       10   \n",
       "2            24         24          0                        3   \n",
       "3            75         75          0                        1   \n",
       "4            59         58          1                       15   \n",
       "...         ...        ...        ...                      ...   \n",
       "9995         47         40          1                       15   \n",
       "9996         34         34          0                        6   \n",
       "9997         64         64          0                        8   \n",
       "9998         53         53          0                       15   \n",
       "9999         56         47          1                       15   \n",
       "\n",
       "      Holding_Policy_Type  Reco_Policy_Cat  Reco_Policy_Premium  Response  \\\n",
       "0                     2.0               16              13320.0         0   \n",
       "1                     1.0               19              16152.0         0   \n",
       "2                     1.0               16               7310.0         0   \n",
       "3                     3.0               16              15792.0         0   \n",
       "4                     4.0               17              23673.0         0   \n",
       "...                   ...              ...                  ...       ...   \n",
       "9995                  3.0               19              27840.0         1   \n",
       "9996                  1.0                4              10560.0         0   \n",
       "9997                  2.0               19              14716.0         0   \n",
       "9998                  3.0               13              11664.0         0   \n",
       "9999                  3.0               10              28752.0         0   \n",
       "\n",
       "       X1   X2   X3   X4   X5   X6   X7   X8  \n",
       "0     1.0  0.0  0.0  0.0  0.0  0.0  0.0  0.0  \n",
       "1     0.0  0.0  0.0  0.0  0.0  1.0  0.0  0.0  \n",
       "2     1.0  0.0  0.0  0.0  0.0  0.0  0.0  0.0  \n",
       "3     1.0  0.0  0.0  0.0  0.0  0.0  0.0  0.0  \n",
       "4     1.0  0.0  0.0  0.0  0.0  0.0  0.0  0.0  \n",
       "...   ...  ...  ...  ...  ...  ...  ...  ...  \n",
       "9995  0.0  0.0  0.0  0.0  1.0  0.0  0.0  0.0  \n",
       "9996  1.0  0.0  0.0  0.0  0.0  0.0  0.0  0.0  \n",
       "9997  1.0  0.0  0.0  0.0  0.0  0.0  0.0  0.0  \n",
       "9998  0.0  0.0  0.0  0.0  1.0  0.0  0.0  0.0  \n",
       "9999  0.0  1.0  0.0  0.0  0.0  0.0  0.0  0.0  \n",
       "\n",
       "[10000 rows x 20 columns]"
      ]
     },
     "execution_count": 18,
     "metadata": {},
     "output_type": "execute_result"
    }
   ],
   "source": [
    "final_df"
   ]
  },
  {
   "cell_type": "code",
   "execution_count": null,
   "id": "574dea37",
   "metadata": {},
   "outputs": [],
   "source": []
  },
  {
   "cell_type": "markdown",
   "id": "7ae316b8",
   "metadata": {},
   "source": [
    "## Perform Exploratory Data Analysis\n",
    "\n",
    "**To Do:**\n",
    "1. Perform Univaraite Analysis (Basic pandas statistical description)\n",
    "2. Perform Bivaraite Analysis (Pandas Cross Tabs)\n",
    "3. Visualisations - \n",
    "    * Univariate - Histograms, boxplot, PDFs, countplot, etc\n",
    "    * Bivariate - Scatterplot, Boxplots, Pairplot, etc\n",
    "4. Write proper observations after each plot\n",
    "5. At the end of the notebook, summarize it with all the best observations you got."
   ]
  },
  {
   "cell_type": "markdown",
   "id": "ea471c27",
   "metadata": {},
   "source": [
    "### City Code\n",
    "#### Lets see the number of cities and see how many customers are there"
   ]
  },
  {
   "cell_type": "code",
   "execution_count": 19,
   "id": "29e43c97",
   "metadata": {},
   "outputs": [
    {
     "name": "stdout",
     "output_type": "stream",
     "text": [
      "no of cities in the dataframe :  36\n",
      "\n"
     ]
    },
    {
     "data": {
      "text/plain": [
       "C1     1796\n",
       "C2     1505\n",
       "C3      966\n",
       "C4      727\n",
       "C9      428\n",
       "C7      390\n",
       "C8      371\n",
       "C6      361\n",
       "C10     335\n",
       "C5      264\n",
       "C15     239\n",
       "C11     231\n",
       "C16     219\n",
       "C17     211\n",
       "C13     193\n",
       "C20     179\n",
       "C12     168\n",
       "C19     168\n",
       "C14     153\n",
       "C21     136\n",
       "C24     129\n",
       "C18     127\n",
       "C23     123\n",
       "C22     102\n",
       "C26      89\n",
       "C29      71\n",
       "C25      66\n",
       "C27      57\n",
       "C33      54\n",
       "C28      47\n",
       "C32      39\n",
       "C34      25\n",
       "C36      12\n",
       "C30      12\n",
       "C31       4\n",
       "C35       3\n",
       "Name: City_Code, dtype: int64"
      ]
     },
     "execution_count": 19,
     "metadata": {},
     "output_type": "execute_result"
    }
   ],
   "source": [
    "print('no of cities in the dataframe : ',final_df['City_Code'].nunique())\n",
    "print()\n",
    "final_df['City_Code'].value_counts()"
   ]
  },
  {
   "cell_type": "code",
   "execution_count": 20,
   "id": "2708fc8f",
   "metadata": {},
   "outputs": [
    {
     "data": {
      "image/png": "[encoded data removed]",
      "text/plain": [
       "<Figure size 1440x360 with 1 Axes>"
      ]
     },
     "metadata": {
      "needs_background": "light"
     },
     "output_type": "display_data"
    }
   ],
   "source": [
    "plt.figure(figsize=(20,5))\n",
    "sns.countplot(final_df['City_Code'])\n",
    "plt.show()"
   ]
  },
  {
   "cell_type": "markdown",
   "id": "c5a2e434",
   "metadata": {},
   "source": [
    "#### Let's see city-wise customers interests in recommended policy"
   ]
  },
  {
   "cell_type": "code",
   "execution_count": 21,
   "id": "b4e4ecef",
   "metadata": {},
   "outputs": [
    {
     "data": {
      "image/png": "[encoded data removed]",
      "text/plain": [
       "<Figure size 1440x360 with 1 Axes>"
      ]
     },
     "metadata": {
      "needs_background": "light"
     },
     "output_type": "display_data"
    }
   ],
   "source": [
    "plt.figure(figsize=(20,5))\n",
    "sns.countplot(final_df['City_Code'],hue=final_df['Response'])\n",
    "plt.show()"
   ]
  },
  {
   "cell_type": "markdown",
   "id": "55e64215",
   "metadata": {},
   "source": [
    "### Region Code\n",
    "#### Let's see the number of regions and region-wise customer interests in recommended policy."
   ]
  },
  {
   "cell_type": "code",
   "execution_count": 22,
   "id": "d8b07886",
   "metadata": {},
   "outputs": [
    {
     "name": "stdout",
     "output_type": "stream",
     "text": [
      "no of Regions in the dataframe :  3726\n",
      "\n"
     ]
    },
    {
     "data": {
      "text/plain": [
       "1       23\n",
       "6       18\n",
       "4       18\n",
       "7       17\n",
       "30      15\n",
       "        ..\n",
       "3233     1\n",
       "2765     1\n",
       "2151     1\n",
       "5170     1\n",
       "714      1\n",
       "Name: Region_Code, Length: 3726, dtype: int64"
      ]
     },
     "execution_count": 22,
     "metadata": {},
     "output_type": "execute_result"
    }
   ],
   "source": [
    "print('no of Regions in the dataframe : ',final_df['Region_Code'].nunique())\n",
    "print()\n",
    "final_df['Region_Code'].value_counts()"
   ]
  },
  {
   "cell_type": "markdown",
   "id": "1b5fe731",
   "metadata": {},
   "source": [
    "### Accomodation Type\n",
    "#### Let's see how many customers are living in their own house or rented houseand see how their interests vary in recommended policy."
   ]
  },
  {
   "cell_type": "code",
   "execution_count": 23,
   "id": "f2cb9c22",
   "metadata": {},
   "outputs": [
    {
     "data": {
      "text/plain": [
       "1    5509\n",
       "0    4491\n",
       "Name: Accomodation_Type, dtype: int64"
      ]
     },
     "execution_count": 23,
     "metadata": {},
     "output_type": "execute_result"
    }
   ],
   "source": [
    "final_df['Accomodation_Type'].value_counts()   # here 1 means Owned house and 0 means Rented House"
   ]
  },
  {
   "cell_type": "code",
   "execution_count": 24,
   "id": "0c4d959d",
   "metadata": {},
   "outputs": [
    {
     "data": {
      "text/plain": [
       "<AxesSubplot:xlabel='Accomodation_Type', ylabel='count'>"
      ]
     },
     "execution_count": 24,
     "metadata": {},
     "output_type": "execute_result"
    },
    {
     "data": {
      "image/png": "[encoded data removed]",
      "text/plain": [
       "<Figure size 432x288 with 1 Axes>"
      ]
     },
     "metadata": {
      "needs_background": "light"
     },
     "output_type": "display_data"
    }
   ],
   "source": [
    "sns.countplot(final_df['Accomodation_Type'])"
   ]
  },
  {
   "cell_type": "code",
   "execution_count": 25,
   "id": "384c7b2c",
   "metadata": {},
   "outputs": [
    {
     "data": {
      "text/html": [
       "<div>\n",
       "<style scoped>\n",
       "    .dataframe tbody tr th:only-of-type {\n",
       "        vertical-align: middle;\n",
       "    }\n",
       "\n",
       "    .dataframe tbody tr th {\n",
       "        vertical-align: top;\n",
       "    }\n",
       "\n",
       "    .dataframe thead th {\n",
       "        text-align: right;\n",
       "    }\n",
       "</style>\n",
       "<table border=\"1\" class=\"dataframe\">\n",
       "  <thead>\n",
       "    <tr style=\"text-align: right;\">\n",
       "      <th>Response</th>\n",
       "      <th>0</th>\n",
       "      <th>1</th>\n",
       "    </tr>\n",
       "    <tr>\n",
       "      <th>Accomodation_Type</th>\n",
       "      <th></th>\n",
       "      <th></th>\n",
       "    </tr>\n",
       "  </thead>\n",
       "  <tbody>\n",
       "    <tr>\n",
       "      <th>0</th>\n",
       "      <td>3423</td>\n",
       "      <td>1068</td>\n",
       "    </tr>\n",
       "    <tr>\n",
       "      <th>1</th>\n",
       "      <td>4118</td>\n",
       "      <td>1391</td>\n",
       "    </tr>\n",
       "  </tbody>\n",
       "</table>\n",
       "</div>"
      ],
      "text/plain": [
       "Response              0     1\n",
       "Accomodation_Type            \n",
       "0                  3423  1068\n",
       "1                  4118  1391"
      ]
     },
     "execution_count": 25,
     "metadata": {},
     "output_type": "execute_result"
    }
   ],
   "source": [
    "pd.crosstab(final_df['Accomodation_Type'],final_df['Response'])"
   ]
  },
  {
   "cell_type": "code",
   "execution_count": 26,
   "id": "3d61ab4d",
   "metadata": {
    "scrolled": false
   },
   "outputs": [
    {
     "data": {
      "text/plain": [
       "<AxesSubplot:xlabel='Accomodation_Type', ylabel='count'>"
      ]
     },
     "execution_count": 26,
     "metadata": {},
     "output_type": "execute_result"
    },
    {
     "data": {
      "image/png": "[encoded data removed]",
      "text/plain": [
       "<Figure size 432x288 with 1 Axes>"
      ]
     },
     "metadata": {
      "needs_background": "light"
     },
     "output_type": "display_data"
    }
   ],
   "source": [
    "sns.countplot(final_df['Accomodation_Type'],hue=final_df['Response'])"
   ]
  },
  {
   "cell_type": "markdown",
   "id": "2b2a153b",
   "metadata": {},
   "source": [
    "#### Let's see the city-wise accomodation type and customer response"
   ]
  },
  {
   "cell_type": "code",
   "execution_count": 27,
   "id": "39af659a",
   "metadata": {},
   "outputs": [
    {
     "data": {
      "text/html": [
       "<div>\n",
       "<style scoped>\n",
       "    .dataframe tbody tr th:only-of-type {\n",
       "        vertical-align: middle;\n",
       "    }\n",
       "\n",
       "    .dataframe tbody tr th {\n",
       "        vertical-align: top;\n",
       "    }\n",
       "\n",
       "    .dataframe thead th {\n",
       "        text-align: right;\n",
       "    }\n",
       "</style>\n",
       "<table border=\"1\" class=\"dataframe\">\n",
       "  <thead>\n",
       "    <tr style=\"text-align: right;\">\n",
       "      <th></th>\n",
       "      <th>Response</th>\n",
       "      <th>0</th>\n",
       "      <th>1</th>\n",
       "    </tr>\n",
       "    <tr>\n",
       "      <th>City_Code</th>\n",
       "      <th>Accomodation_Type</th>\n",
       "      <th></th>\n",
       "      <th></th>\n",
       "    </tr>\n",
       "  </thead>\n",
       "  <tbody>\n",
       "    <tr>\n",
       "      <th rowspan=\"2\" valign=\"top\">C1</th>\n",
       "      <th>0</th>\n",
       "      <td>442</td>\n",
       "      <td>141</td>\n",
       "    </tr>\n",
       "    <tr>\n",
       "      <th>1</th>\n",
       "      <td>908</td>\n",
       "      <td>305</td>\n",
       "    </tr>\n",
       "    <tr>\n",
       "      <th rowspan=\"2\" valign=\"top\">C10</th>\n",
       "      <th>0</th>\n",
       "      <td>151</td>\n",
       "      <td>48</td>\n",
       "    </tr>\n",
       "    <tr>\n",
       "      <th>1</th>\n",
       "      <td>107</td>\n",
       "      <td>29</td>\n",
       "    </tr>\n",
       "    <tr>\n",
       "      <th>C11</th>\n",
       "      <th>0</th>\n",
       "      <td>81</td>\n",
       "      <td>31</td>\n",
       "    </tr>\n",
       "    <tr>\n",
       "      <th>...</th>\n",
       "      <th>...</th>\n",
       "      <td>...</td>\n",
       "      <td>...</td>\n",
       "    </tr>\n",
       "    <tr>\n",
       "      <th>C7</th>\n",
       "      <th>1</th>\n",
       "      <td>214</td>\n",
       "      <td>66</td>\n",
       "    </tr>\n",
       "    <tr>\n",
       "      <th rowspan=\"2\" valign=\"top\">C8</th>\n",
       "      <th>0</th>\n",
       "      <td>138</td>\n",
       "      <td>45</td>\n",
       "    </tr>\n",
       "    <tr>\n",
       "      <th>1</th>\n",
       "      <td>147</td>\n",
       "      <td>41</td>\n",
       "    </tr>\n",
       "    <tr>\n",
       "      <th rowspan=\"2\" valign=\"top\">C9</th>\n",
       "      <th>0</th>\n",
       "      <td>162</td>\n",
       "      <td>55</td>\n",
       "    </tr>\n",
       "    <tr>\n",
       "      <th>1</th>\n",
       "      <td>156</td>\n",
       "      <td>55</td>\n",
       "    </tr>\n",
       "  </tbody>\n",
       "</table>\n",
       "<p>72 rows × 2 columns</p>\n",
       "</div>"
      ],
      "text/plain": [
       "Response                       0    1\n",
       "City_Code Accomodation_Type          \n",
       "C1        0                  442  141\n",
       "          1                  908  305\n",
       "C10       0                  151   48\n",
       "          1                  107   29\n",
       "C11       0                   81   31\n",
       "...                          ...  ...\n",
       "C7        1                  214   66\n",
       "C8        0                  138   45\n",
       "          1                  147   41\n",
       "C9        0                  162   55\n",
       "          1                  156   55\n",
       "\n",
       "[72 rows x 2 columns]"
      ]
     },
     "execution_count": 27,
     "metadata": {},
     "output_type": "execute_result"
    }
   ],
   "source": [
    "pd.crosstab(final_df['Response'],columns=[final_df['City_Code'],final_df['Accomodation_Type']]).T"
   ]
  },
  {
   "cell_type": "code",
   "execution_count": 28,
   "id": "3aa09354",
   "metadata": {},
   "outputs": [
    {
     "data": {
      "text/plain": [
       "<AxesSubplot:xlabel='City_Code,Accomodation_Type'>"
      ]
     },
     "execution_count": 28,
     "metadata": {},
     "output_type": "execute_result"
    },
    {
     "data": {
      "image/png": "[encoded data removed]",
      "text/plain": [
       "<Figure size 1440x360 with 1 Axes>"
      ]
     },
     "metadata": {
      "needs_background": "light"
     },
     "output_type": "display_data"
    }
   ],
   "source": [
    "pd.crosstab(final_df['Response'],columns=[final_df['City_Code'],final_df['Accomodation_Type']]).T.plot(kind='bar',figsize=(20,5))"
   ]
  },
  {
   "cell_type": "markdown",
   "id": "4c942944",
   "metadata": {},
   "source": [
    "### Reco Insurance Type\n",
    "#### Let's see the various recommended insurance types and customer response to them."
   ]
  },
  {
   "cell_type": "code",
   "execution_count": 29,
   "id": "5956432a",
   "metadata": {},
   "outputs": [
    {
     "data": {
      "text/html": [
       "<div>\n",
       "<style scoped>\n",
       "    .dataframe tbody tr th:only-of-type {\n",
       "        vertical-align: middle;\n",
       "    }\n",
       "\n",
       "    .dataframe tbody tr th {\n",
       "        vertical-align: top;\n",
       "    }\n",
       "\n",
       "    .dataframe thead th {\n",
       "        text-align: right;\n",
       "    }\n",
       "</style>\n",
       "<table border=\"1\" class=\"dataframe\">\n",
       "  <thead>\n",
       "    <tr style=\"text-align: right;\">\n",
       "      <th>Response</th>\n",
       "      <th>0</th>\n",
       "      <th>1</th>\n",
       "    </tr>\n",
       "    <tr>\n",
       "      <th>Reco_Insurance_Type</th>\n",
       "      <th></th>\n",
       "      <th></th>\n",
       "    </tr>\n",
       "  </thead>\n",
       "  <tbody>\n",
       "    <tr>\n",
       "      <th>0</th>\n",
       "      <td>1509</td>\n",
       "      <td>535</td>\n",
       "    </tr>\n",
       "    <tr>\n",
       "      <th>1</th>\n",
       "      <td>6032</td>\n",
       "      <td>1924</td>\n",
       "    </tr>\n",
       "  </tbody>\n",
       "</table>\n",
       "</div>"
      ],
      "text/plain": [
       "Response                0     1\n",
       "Reco_Insurance_Type            \n",
       "0                    1509   535\n",
       "1                    6032  1924"
      ]
     },
     "execution_count": 29,
     "metadata": {},
     "output_type": "execute_result"
    }
   ],
   "source": [
    "pd.crosstab(final_df['Reco_Insurance_Type'],final_df['Response'])"
   ]
  },
  {
   "cell_type": "code",
   "execution_count": 30,
   "id": "2dfdffe4",
   "metadata": {},
   "outputs": [
    {
     "data": {
      "text/plain": [
       "<AxesSubplot:xlabel='Reco_Insurance_Type', ylabel='count'>"
      ]
     },
     "execution_count": 30,
     "metadata": {},
     "output_type": "execute_result"
    },
    {
     "data": {
      "image/png": "[encoded data removed]",
      "text/plain": [
       "<Figure size 432x288 with 1 Axes>"
      ]
     },
     "metadata": {
      "needs_background": "light"
     },
     "output_type": "display_data"
    }
   ],
   "source": [
    "sns.countplot(final_df['Reco_Insurance_Type'],hue=final_df['Response'])"
   ]
  },
  {
   "cell_type": "markdown",
   "id": "494ccc12",
   "metadata": {},
   "source": [
    "#### Let's see customers accommodation, recommended insurance type and customer responses."
   ]
  },
  {
   "cell_type": "code",
   "execution_count": 31,
   "id": "55bc09de",
   "metadata": {},
   "outputs": [
    {
     "data": {
      "text/html": [
       "<div>\n",
       "<style scoped>\n",
       "    .dataframe tbody tr th:only-of-type {\n",
       "        vertical-align: middle;\n",
       "    }\n",
       "\n",
       "    .dataframe tbody tr th {\n",
       "        vertical-align: top;\n",
       "    }\n",
       "\n",
       "    .dataframe thead th {\n",
       "        text-align: right;\n",
       "    }\n",
       "</style>\n",
       "<table border=\"1\" class=\"dataframe\">\n",
       "  <thead>\n",
       "    <tr style=\"text-align: right;\">\n",
       "      <th></th>\n",
       "      <th>Response</th>\n",
       "      <th>0</th>\n",
       "      <th>1</th>\n",
       "    </tr>\n",
       "    <tr>\n",
       "      <th>Accomodation_Type</th>\n",
       "      <th>Reco_Insurance_Type</th>\n",
       "      <th></th>\n",
       "      <th></th>\n",
       "    </tr>\n",
       "  </thead>\n",
       "  <tbody>\n",
       "    <tr>\n",
       "      <th rowspan=\"2\" valign=\"top\">0</th>\n",
       "      <th>0</th>\n",
       "      <td>380</td>\n",
       "      <td>139</td>\n",
       "    </tr>\n",
       "    <tr>\n",
       "      <th>1</th>\n",
       "      <td>3043</td>\n",
       "      <td>929</td>\n",
       "    </tr>\n",
       "    <tr>\n",
       "      <th rowspan=\"2\" valign=\"top\">1</th>\n",
       "      <th>0</th>\n",
       "      <td>1129</td>\n",
       "      <td>396</td>\n",
       "    </tr>\n",
       "    <tr>\n",
       "      <th>1</th>\n",
       "      <td>2989</td>\n",
       "      <td>995</td>\n",
       "    </tr>\n",
       "  </tbody>\n",
       "</table>\n",
       "</div>"
      ],
      "text/plain": [
       "Response                                  0    1\n",
       "Accomodation_Type Reco_Insurance_Type           \n",
       "0                 0                     380  139\n",
       "                  1                    3043  929\n",
       "1                 0                    1129  396\n",
       "                  1                    2989  995"
      ]
     },
     "execution_count": 31,
     "metadata": {},
     "output_type": "execute_result"
    }
   ],
   "source": [
    "pd.crosstab(index=[final_df['Accomodation_Type'],final_df['Reco_Insurance_Type']],columns=final_df['Response'])"
   ]
  },
  {
   "cell_type": "code",
   "execution_count": 32,
   "id": "c8fd19ed",
   "metadata": {},
   "outputs": [
    {
     "data": {
      "text/plain": [
       "<AxesSubplot:xlabel='Accomodation_Type,Reco_Insurance_Type'>"
      ]
     },
     "execution_count": 32,
     "metadata": {},
     "output_type": "execute_result"
    },
    {
     "data": {
      "image/png": "[encoded data removed]",
      "text/plain": [
       "<Figure size 432x288 with 1 Axes>"
      ]
     },
     "metadata": {
      "needs_background": "light"
     },
     "output_type": "display_data"
    }
   ],
   "source": [
    "pd.crosstab(index=[final_df['Accomodation_Type'],final_df['Reco_Insurance_Type']],columns=final_df['Response']).plot(kind='bar')"
   ]
  },
  {
   "cell_type": "markdown",
   "id": "ee4054d2",
   "metadata": {},
   "source": [
    "### Recommended Policy Category\n",
    "#### Let's see how many categories under the type of recommended policies."
   ]
  },
  {
   "cell_type": "code",
   "execution_count": 33,
   "id": "63ecfd30",
   "metadata": {},
   "outputs": [
    {
     "name": "stdout",
     "output_type": "stream",
     "text": [
      "Number of Recommended Policy Categories :  22\n"
     ]
    }
   ],
   "source": [
    "print('Number of Recommended Policy Categories : ',final_df['Reco_Policy_Cat'].nunique())"
   ]
  },
  {
   "cell_type": "code",
   "execution_count": 34,
   "id": "797e08a9",
   "metadata": {},
   "outputs": [
    {
     "data": {
      "text/plain": [
       "array([16, 19, 17, 21,  9, 18, 13, 15, 14, 22, 20,  5, 12,  6,  4,  1,  3,\n",
       "       11,  8,  2,  7, 10], dtype=int64)"
      ]
     },
     "execution_count": 34,
     "metadata": {},
     "output_type": "execute_result"
    }
   ],
   "source": [
    "final_df['Reco_Policy_Cat'].unique()"
   ]
  },
  {
   "cell_type": "code",
   "execution_count": 35,
   "id": "108c6999",
   "metadata": {},
   "outputs": [
    {
     "data": {
      "text/plain": [
       "<AxesSubplot:xlabel='Reco_Policy_Cat', ylabel='count'>"
      ]
     },
     "execution_count": 35,
     "metadata": {},
     "output_type": "execute_result"
    },
    {
     "data": {
      "image/png": "[encoded data removed]",
      "text/plain": [
       "<Figure size 1080x360 with 1 Axes>"
      ]
     },
     "metadata": {
      "needs_background": "light"
     },
     "output_type": "display_data"
    }
   ],
   "source": [
    "plt.figure(figsize=(15,5))\n",
    "sns.countplot(final_df['Reco_Policy_Cat'])"
   ]
  },
  {
   "cell_type": "markdown",
   "id": "9097a6b9",
   "metadata": {},
   "source": [
    "### Recommended Policy Premium\n",
    "#### Let's see if there is a relationship between the recommended policy premium and recommended policy category.Analyse results with customer's holding policy type and their response to recommended policy."
   ]
  },
  {
   "cell_type": "code",
   "execution_count": 36,
   "id": "42f0bb0b",
   "metadata": {},
   "outputs": [
    {
     "data": {
      "text/html": [
       "<div>\n",
       "<style scoped>\n",
       "    .dataframe tbody tr th:only-of-type {\n",
       "        vertical-align: middle;\n",
       "    }\n",
       "\n",
       "    .dataframe tbody tr th {\n",
       "        vertical-align: top;\n",
       "    }\n",
       "\n",
       "    .dataframe thead th {\n",
       "        text-align: right;\n",
       "    }\n",
       "</style>\n",
       "<table border=\"1\" class=\"dataframe\">\n",
       "  <thead>\n",
       "    <tr style=\"text-align: right;\">\n",
       "      <th></th>\n",
       "      <th>Reco_Policy_Premium</th>\n",
       "    </tr>\n",
       "    <tr>\n",
       "      <th>Reco_Policy_Cat</th>\n",
       "      <th></th>\n",
       "    </tr>\n",
       "  </thead>\n",
       "  <tbody>\n",
       "    <tr>\n",
       "      <th>1</th>\n",
       "      <td>12915.944357</td>\n",
       "    </tr>\n",
       "    <tr>\n",
       "      <th>2</th>\n",
       "      <td>13231.982306</td>\n",
       "    </tr>\n",
       "    <tr>\n",
       "      <th>3</th>\n",
       "      <td>15390.644240</td>\n",
       "    </tr>\n",
       "    <tr>\n",
       "      <th>4</th>\n",
       "      <td>12157.566000</td>\n",
       "    </tr>\n",
       "    <tr>\n",
       "      <th>5</th>\n",
       "      <td>16142.542157</td>\n",
       "    </tr>\n",
       "    <tr>\n",
       "      <th>6</th>\n",
       "      <td>13193.164444</td>\n",
       "    </tr>\n",
       "    <tr>\n",
       "      <th>7</th>\n",
       "      <td>15231.881046</td>\n",
       "    </tr>\n",
       "    <tr>\n",
       "      <th>8</th>\n",
       "      <td>14319.471765</td>\n",
       "    </tr>\n",
       "    <tr>\n",
       "      <th>9</th>\n",
       "      <td>13699.385333</td>\n",
       "    </tr>\n",
       "    <tr>\n",
       "      <th>10</th>\n",
       "      <td>13265.102041</td>\n",
       "    </tr>\n",
       "    <tr>\n",
       "      <th>11</th>\n",
       "      <td>13789.516129</td>\n",
       "    </tr>\n",
       "    <tr>\n",
       "      <th>12</th>\n",
       "      <td>12596.450116</td>\n",
       "    </tr>\n",
       "    <tr>\n",
       "      <th>13</th>\n",
       "      <td>13575.699425</td>\n",
       "    </tr>\n",
       "    <tr>\n",
       "      <th>14</th>\n",
       "      <td>13355.313095</td>\n",
       "    </tr>\n",
       "    <tr>\n",
       "      <th>15</th>\n",
       "      <td>12939.012384</td>\n",
       "    </tr>\n",
       "    <tr>\n",
       "      <th>16</th>\n",
       "      <td>14246.226463</td>\n",
       "    </tr>\n",
       "    <tr>\n",
       "      <th>17</th>\n",
       "      <td>14879.984438</td>\n",
       "    </tr>\n",
       "    <tr>\n",
       "      <th>18</th>\n",
       "      <td>14789.379129</td>\n",
       "    </tr>\n",
       "    <tr>\n",
       "      <th>19</th>\n",
       "      <td>14779.668063</td>\n",
       "    </tr>\n",
       "    <tr>\n",
       "      <th>20</th>\n",
       "      <td>14158.377124</td>\n",
       "    </tr>\n",
       "    <tr>\n",
       "      <th>21</th>\n",
       "      <td>14498.437474</td>\n",
       "    </tr>\n",
       "    <tr>\n",
       "      <th>22</th>\n",
       "      <td>14541.143731</td>\n",
       "    </tr>\n",
       "  </tbody>\n",
       "</table>\n",
       "</div>"
      ],
      "text/plain": [
       "                 Reco_Policy_Premium\n",
       "Reco_Policy_Cat                     \n",
       "1                       12915.944357\n",
       "2                       13231.982306\n",
       "3                       15390.644240\n",
       "4                       12157.566000\n",
       "5                       16142.542157\n",
       "6                       13193.164444\n",
       "7                       15231.881046\n",
       "8                       14319.471765\n",
       "9                       13699.385333\n",
       "10                      13265.102041\n",
       "11                      13789.516129\n",
       "12                      12596.450116\n",
       "13                      13575.699425\n",
       "14                      13355.313095\n",
       "15                      12939.012384\n",
       "16                      14246.226463\n",
       "17                      14879.984438\n",
       "18                      14789.379129\n",
       "19                      14779.668063\n",
       "20                      14158.377124\n",
       "21                      14498.437474\n",
       "22                      14541.143731"
      ]
     },
     "execution_count": 36,
     "metadata": {},
     "output_type": "execute_result"
    }
   ],
   "source": [
    "avg_premium=final_df.groupby(final_df['Reco_Policy_Cat'])[['Reco_Policy_Premium']].mean()\n",
    "avg_premium"
   ]
  },
  {
   "cell_type": "code",
   "execution_count": 37,
   "id": "93e69ab1",
   "metadata": {},
   "outputs": [
    {
     "data": {
      "text/plain": [
       "<AxesSubplot:xlabel='Reco_Policy_Cat'>"
      ]
     },
     "execution_count": 37,
     "metadata": {},
     "output_type": "execute_result"
    },
    {
     "data": {
      "image/png": "[encoded data removed]",
      "text/plain": [
       "<Figure size 432x288 with 1 Axes>"
      ]
     },
     "metadata": {
      "needs_background": "light"
     },
     "output_type": "display_data"
    }
   ],
   "source": [
    "avg_premium.plot(kind='bar')"
   ]
  },
  {
   "cell_type": "code",
   "execution_count": 38,
   "id": "3375b182",
   "metadata": {},
   "outputs": [
    {
     "data": {
      "text/plain": [
       "Text(0, 0.5, 'Average Recommended plocy premium')"
      ]
     },
     "execution_count": 38,
     "metadata": {},
     "output_type": "execute_result"
    },
    {
     "data": {
      "image/png": "[encoded data removed]",
      "text/plain": [
       "<Figure size 432x288 with 1 Axes>"
      ]
     },
     "metadata": {
      "needs_background": "light"
     },
     "output_type": "display_data"
    }
   ],
   "source": [
    "plt.scatter(avg_premium.index,avg_premium.values)\n",
    "plt.xlabel('Recommended policy category')\n",
    "plt.ylabel('Average Recommended plocy premium')"
   ]
  },
  {
   "cell_type": "code",
   "execution_count": 39,
   "id": "4d73d76a",
   "metadata": {},
   "outputs": [
    {
     "data": {
      "text/plain": [
       "<AxesSubplot:xlabel='Reco_Policy_Cat'>"
      ]
     },
     "execution_count": 39,
     "metadata": {},
     "output_type": "execute_result"
    },
    {
     "data": {
      "image/png": "[encoded data removed]",
      "text/plain": [
       "<Figure size 432x288 with 1 Axes>"
      ]
     },
     "metadata": {
      "needs_background": "light"
     },
     "output_type": "display_data"
    }
   ],
   "source": [
    "avg_premium.plot(kind='line')"
   ]
  },
  {
   "cell_type": "code",
   "execution_count": 40,
   "id": "e41ff060",
   "metadata": {},
   "outputs": [
    {
     "data": {
      "text/html": [
       "<div>\n",
       "<style scoped>\n",
       "    .dataframe tbody tr th:only-of-type {\n",
       "        vertical-align: middle;\n",
       "    }\n",
       "\n",
       "    .dataframe tbody tr th {\n",
       "        vertical-align: top;\n",
       "    }\n",
       "\n",
       "    .dataframe thead th {\n",
       "        text-align: right;\n",
       "    }\n",
       "</style>\n",
       "<table border=\"1\" class=\"dataframe\">\n",
       "  <thead>\n",
       "    <tr style=\"text-align: right;\">\n",
       "      <th>Response</th>\n",
       "      <th>0</th>\n",
       "      <th>1</th>\n",
       "    </tr>\n",
       "    <tr>\n",
       "      <th>Holding_Policy_Type</th>\n",
       "      <th></th>\n",
       "      <th></th>\n",
       "    </tr>\n",
       "  </thead>\n",
       "  <tbody>\n",
       "    <tr>\n",
       "      <th>1.0</th>\n",
       "      <td>1212</td>\n",
       "      <td>390</td>\n",
       "    </tr>\n",
       "    <tr>\n",
       "      <th>2.0</th>\n",
       "      <td>730</td>\n",
       "      <td>243</td>\n",
       "    </tr>\n",
       "    <tr>\n",
       "      <th>3.0</th>\n",
       "      <td>5037</td>\n",
       "      <td>1590</td>\n",
       "    </tr>\n",
       "    <tr>\n",
       "      <th>4.0</th>\n",
       "      <td>562</td>\n",
       "      <td>236</td>\n",
       "    </tr>\n",
       "  </tbody>\n",
       "</table>\n",
       "</div>"
      ],
      "text/plain": [
       "Response                0     1\n",
       "Holding_Policy_Type            \n",
       "1.0                  1212   390\n",
       "2.0                   730   243\n",
       "3.0                  5037  1590\n",
       "4.0                   562   236"
      ]
     },
     "execution_count": 40,
     "metadata": {},
     "output_type": "execute_result"
    }
   ],
   "source": [
    "pd.crosstab(final_df['Holding_Policy_Type'],final_df['Response'])"
   ]
  },
  {
   "cell_type": "code",
   "execution_count": 41,
   "id": "9e5de7e9",
   "metadata": {},
   "outputs": [
    {
     "data": {
      "text/plain": [
       "<AxesSubplot:xlabel='Holding_Policy_Type'>"
      ]
     },
     "execution_count": 41,
     "metadata": {},
     "output_type": "execute_result"
    },
    {
     "data": {
      "image/png": "[encoded data removed]",
      "text/plain": [
       "<Figure size 432x288 with 1 Axes>"
      ]
     },
     "metadata": {
      "needs_background": "light"
     },
     "output_type": "display_data"
    }
   ],
   "source": [
    "pd.crosstab(final_df['Holding_Policy_Type'],final_df['Response']).plot(kind='bar')"
   ]
  },
  {
   "cell_type": "markdown",
   "id": "497cdb74",
   "metadata": {},
   "source": [
    "#### Let's see which type of recommnded policy has more number of customers"
   ]
  },
  {
   "cell_type": "code",
   "execution_count": 42,
   "id": "478122bc",
   "metadata": {},
   "outputs": [
    {
     "data": {
      "text/plain": [
       "22    1308\n",
       "18    1102\n",
       "21     966\n",
       "16     786\n",
       "19     764\n",
       "17     694\n",
       "20     612\n",
       "12     431\n",
       "1      381\n",
       "2      373\n",
       "13     348\n",
       "14     336\n",
       "15     323\n",
       "3      217\n",
       "5      204\n",
       "4      200\n",
       "6      180\n",
       "8      170\n",
       "11     155\n",
       "7      153\n",
       "9      150\n",
       "10     147\n",
       "Name: Reco_Policy_Cat, dtype: int64"
      ]
     },
     "execution_count": 42,
     "metadata": {},
     "output_type": "execute_result"
    }
   ],
   "source": [
    "final_df['Reco_Policy_Cat'].value_counts()"
   ]
  },
  {
   "cell_type": "code",
   "execution_count": 43,
   "id": "d4549cc7",
   "metadata": {},
   "outputs": [
    {
     "name": "stdout",
     "output_type": "stream",
     "text": [
      "Recommended policy category 22 has more number of customers with 1308\n"
     ]
    }
   ],
   "source": [
    "print('Recommended policy category {} has more number of customers with {}'.format(final_df['Reco_Policy_Cat'].value_counts().idxmax(),final_df['Reco_Policy_Cat'].value_counts().max()))"
   ]
  },
  {
   "cell_type": "code",
   "execution_count": 44,
   "id": "fd29043b",
   "metadata": {},
   "outputs": [
    {
     "data": {
      "text/html": [
       "<div>\n",
       "<style scoped>\n",
       "    .dataframe tbody tr th:only-of-type {\n",
       "        vertical-align: middle;\n",
       "    }\n",
       "\n",
       "    .dataframe tbody tr th {\n",
       "        vertical-align: top;\n",
       "    }\n",
       "\n",
       "    .dataframe thead th {\n",
       "        text-align: right;\n",
       "    }\n",
       "</style>\n",
       "<table border=\"1\" class=\"dataframe\">\n",
       "  <thead>\n",
       "    <tr style=\"text-align: right;\">\n",
       "      <th>Response</th>\n",
       "      <th>0</th>\n",
       "      <th>1</th>\n",
       "    </tr>\n",
       "    <tr>\n",
       "      <th>Reco_Policy_Cat</th>\n",
       "      <th></th>\n",
       "      <th></th>\n",
       "    </tr>\n",
       "  </thead>\n",
       "  <tbody>\n",
       "    <tr>\n",
       "      <th>1</th>\n",
       "      <td>378</td>\n",
       "      <td>3</td>\n",
       "    </tr>\n",
       "    <tr>\n",
       "      <th>2</th>\n",
       "      <td>324</td>\n",
       "      <td>49</td>\n",
       "    </tr>\n",
       "    <tr>\n",
       "      <th>3</th>\n",
       "      <td>173</td>\n",
       "      <td>44</td>\n",
       "    </tr>\n",
       "    <tr>\n",
       "      <th>4</th>\n",
       "      <td>182</td>\n",
       "      <td>18</td>\n",
       "    </tr>\n",
       "    <tr>\n",
       "      <th>5</th>\n",
       "      <td>150</td>\n",
       "      <td>54</td>\n",
       "    </tr>\n",
       "    <tr>\n",
       "      <th>6</th>\n",
       "      <td>154</td>\n",
       "      <td>26</td>\n",
       "    </tr>\n",
       "    <tr>\n",
       "      <th>7</th>\n",
       "      <td>123</td>\n",
       "      <td>30</td>\n",
       "    </tr>\n",
       "    <tr>\n",
       "      <th>8</th>\n",
       "      <td>137</td>\n",
       "      <td>33</td>\n",
       "    </tr>\n",
       "    <tr>\n",
       "      <th>9</th>\n",
       "      <td>123</td>\n",
       "      <td>27</td>\n",
       "    </tr>\n",
       "    <tr>\n",
       "      <th>10</th>\n",
       "      <td>121</td>\n",
       "      <td>26</td>\n",
       "    </tr>\n",
       "    <tr>\n",
       "      <th>11</th>\n",
       "      <td>123</td>\n",
       "      <td>32</td>\n",
       "    </tr>\n",
       "    <tr>\n",
       "      <th>12</th>\n",
       "      <td>287</td>\n",
       "      <td>144</td>\n",
       "    </tr>\n",
       "    <tr>\n",
       "      <th>13</th>\n",
       "      <td>262</td>\n",
       "      <td>86</td>\n",
       "    </tr>\n",
       "    <tr>\n",
       "      <th>14</th>\n",
       "      <td>244</td>\n",
       "      <td>92</td>\n",
       "    </tr>\n",
       "    <tr>\n",
       "      <th>15</th>\n",
       "      <td>173</td>\n",
       "      <td>150</td>\n",
       "    </tr>\n",
       "    <tr>\n",
       "      <th>16</th>\n",
       "      <td>615</td>\n",
       "      <td>171</td>\n",
       "    </tr>\n",
       "    <tr>\n",
       "      <th>17</th>\n",
       "      <td>471</td>\n",
       "      <td>223</td>\n",
       "    </tr>\n",
       "    <tr>\n",
       "      <th>18</th>\n",
       "      <td>861</td>\n",
       "      <td>241</td>\n",
       "    </tr>\n",
       "    <tr>\n",
       "      <th>19</th>\n",
       "      <td>554</td>\n",
       "      <td>210</td>\n",
       "    </tr>\n",
       "    <tr>\n",
       "      <th>20</th>\n",
       "      <td>452</td>\n",
       "      <td>160</td>\n",
       "    </tr>\n",
       "    <tr>\n",
       "      <th>21</th>\n",
       "      <td>766</td>\n",
       "      <td>200</td>\n",
       "    </tr>\n",
       "    <tr>\n",
       "      <th>22</th>\n",
       "      <td>868</td>\n",
       "      <td>440</td>\n",
       "    </tr>\n",
       "  </tbody>\n",
       "</table>\n",
       "</div>"
      ],
      "text/plain": [
       "Response           0    1\n",
       "Reco_Policy_Cat          \n",
       "1                378    3\n",
       "2                324   49\n",
       "3                173   44\n",
       "4                182   18\n",
       "5                150   54\n",
       "6                154   26\n",
       "7                123   30\n",
       "8                137   33\n",
       "9                123   27\n",
       "10               121   26\n",
       "11               123   32\n",
       "12               287  144\n",
       "13               262   86\n",
       "14               244   92\n",
       "15               173  150\n",
       "16               615  171\n",
       "17               471  223\n",
       "18               861  241\n",
       "19               554  210\n",
       "20               452  160\n",
       "21               766  200\n",
       "22               868  440"
      ]
     },
     "execution_count": 44,
     "metadata": {},
     "output_type": "execute_result"
    }
   ],
   "source": [
    "pd.crosstab(final_df['Reco_Policy_Cat'],final_df['Response'])"
   ]
  },
  {
   "cell_type": "code",
   "execution_count": 45,
   "id": "f17e8314",
   "metadata": {},
   "outputs": [
    {
     "data": {
      "text/plain": [
       "<AxesSubplot:xlabel='Reco_Policy_Cat'>"
      ]
     },
     "execution_count": 45,
     "metadata": {},
     "output_type": "execute_result"
    },
    {
     "data": {
      "image/png": "[encoded data removed]",
      "text/plain": [
       "<Figure size 1080x360 with 1 Axes>"
      ]
     },
     "metadata": {
      "needs_background": "light"
     },
     "output_type": "display_data"
    }
   ],
   "source": [
    "pd.crosstab(final_df['Reco_Policy_Cat'],final_df['Response']).plot(kind='bar',figsize=(15,5))"
   ]
  },
  {
   "cell_type": "markdown",
   "id": "b054e598",
   "metadata": {},
   "source": [
    "#### Let's see city-wise recommended insurance types to customers and theirresponses to recommended policy."
   ]
  },
  {
   "cell_type": "code",
   "execution_count": 46,
   "id": "e5626d36",
   "metadata": {},
   "outputs": [
    {
     "data": {
      "text/html": [
       "<div>\n",
       "<style scoped>\n",
       "    .dataframe tbody tr th:only-of-type {\n",
       "        vertical-align: middle;\n",
       "    }\n",
       "\n",
       "    .dataframe tbody tr th {\n",
       "        vertical-align: top;\n",
       "    }\n",
       "\n",
       "    .dataframe thead th {\n",
       "        text-align: right;\n",
       "    }\n",
       "</style>\n",
       "<table border=\"1\" class=\"dataframe\">\n",
       "  <thead>\n",
       "    <tr style=\"text-align: right;\">\n",
       "      <th></th>\n",
       "      <th>Response</th>\n",
       "      <th>0</th>\n",
       "      <th>1</th>\n",
       "    </tr>\n",
       "    <tr>\n",
       "      <th>City_Code</th>\n",
       "      <th>Reco_Insurance_Type</th>\n",
       "      <th></th>\n",
       "      <th></th>\n",
       "    </tr>\n",
       "  </thead>\n",
       "  <tbody>\n",
       "    <tr>\n",
       "      <th rowspan=\"2\" valign=\"top\">C1</th>\n",
       "      <th>0</th>\n",
       "      <td>354</td>\n",
       "      <td>116</td>\n",
       "    </tr>\n",
       "    <tr>\n",
       "      <th>1</th>\n",
       "      <td>996</td>\n",
       "      <td>330</td>\n",
       "    </tr>\n",
       "    <tr>\n",
       "      <th rowspan=\"2\" valign=\"top\">C10</th>\n",
       "      <th>0</th>\n",
       "      <td>37</td>\n",
       "      <td>25</td>\n",
       "    </tr>\n",
       "    <tr>\n",
       "      <th>1</th>\n",
       "      <td>221</td>\n",
       "      <td>52</td>\n",
       "    </tr>\n",
       "    <tr>\n",
       "      <th>C11</th>\n",
       "      <th>0</th>\n",
       "      <td>39</td>\n",
       "      <td>12</td>\n",
       "    </tr>\n",
       "    <tr>\n",
       "      <th>...</th>\n",
       "      <th>...</th>\n",
       "      <td>...</td>\n",
       "      <td>...</td>\n",
       "    </tr>\n",
       "    <tr>\n",
       "      <th>C7</th>\n",
       "      <th>1</th>\n",
       "      <td>220</td>\n",
       "      <td>60</td>\n",
       "    </tr>\n",
       "    <tr>\n",
       "      <th rowspan=\"2\" valign=\"top\">C8</th>\n",
       "      <th>0</th>\n",
       "      <td>60</td>\n",
       "      <td>12</td>\n",
       "    </tr>\n",
       "    <tr>\n",
       "      <th>1</th>\n",
       "      <td>225</td>\n",
       "      <td>74</td>\n",
       "    </tr>\n",
       "    <tr>\n",
       "      <th rowspan=\"2\" valign=\"top\">C9</th>\n",
       "      <th>0</th>\n",
       "      <td>52</td>\n",
       "      <td>21</td>\n",
       "    </tr>\n",
       "    <tr>\n",
       "      <th>1</th>\n",
       "      <td>266</td>\n",
       "      <td>89</td>\n",
       "    </tr>\n",
       "  </tbody>\n",
       "</table>\n",
       "<p>71 rows × 2 columns</p>\n",
       "</div>"
      ],
      "text/plain": [
       "Response                         0    1\n",
       "City_Code Reco_Insurance_Type          \n",
       "C1        0                    354  116\n",
       "          1                    996  330\n",
       "C10       0                     37   25\n",
       "          1                    221   52\n",
       "C11       0                     39   12\n",
       "...                            ...  ...\n",
       "C7        1                    220   60\n",
       "C8        0                     60   12\n",
       "          1                    225   74\n",
       "C9        0                     52   21\n",
       "          1                    266   89\n",
       "\n",
       "[71 rows x 2 columns]"
      ]
     },
     "execution_count": 46,
     "metadata": {},
     "output_type": "execute_result"
    }
   ],
   "source": [
    "pd.crosstab(index=[final_df['City_Code'],final_df['Reco_Insurance_Type']],columns=final_df['Response'])"
   ]
  },
  {
   "cell_type": "code",
   "execution_count": 47,
   "id": "fd2a08c3",
   "metadata": {},
   "outputs": [
    {
     "data": {
      "text/plain": [
       "<AxesSubplot:xlabel='City_Code,Reco_Insurance_Type'>"
      ]
     },
     "execution_count": 47,
     "metadata": {},
     "output_type": "execute_result"
    },
    {
     "data": {
      "image/png": "[encoded data removed]",
      "text/plain": [
       "<Figure size 1440x360 with 1 Axes>"
      ]
     },
     "metadata": {
      "needs_background": "light"
     },
     "output_type": "display_data"
    }
   ],
   "source": [
    "pd.crosstab(columns=final_df['Response'],index=[final_df['City_Code'],final_df['Reco_Insurance_Type']]).plot(kind='bar',figsize=(20,5))"
   ]
  },
  {
   "cell_type": "markdown",
   "id": "66df2982",
   "metadata": {},
   "source": [
    "#### Let's analyze the customer's upper age with their type of accommodation and recommended policy types to them and also their interest in the recommended policy.\n"
   ]
  },
  {
   "cell_type": "code",
   "execution_count": 48,
   "id": "85cc497a",
   "metadata": {},
   "outputs": [
    {
     "data": {
      "text/html": [
       "<div>\n",
       "<style scoped>\n",
       "    .dataframe tbody tr th:only-of-type {\n",
       "        vertical-align: middle;\n",
       "    }\n",
       "\n",
       "    .dataframe tbody tr th {\n",
       "        vertical-align: top;\n",
       "    }\n",
       "\n",
       "    .dataframe thead th {\n",
       "        text-align: right;\n",
       "    }\n",
       "</style>\n",
       "<table border=\"1\" class=\"dataframe\">\n",
       "  <thead>\n",
       "    <tr style=\"text-align: right;\">\n",
       "      <th>Upper_Age</th>\n",
       "      <th>18</th>\n",
       "      <th>19</th>\n",
       "      <th>20</th>\n",
       "      <th>21</th>\n",
       "      <th>22</th>\n",
       "      <th>23</th>\n",
       "      <th>24</th>\n",
       "      <th>25</th>\n",
       "      <th>26</th>\n",
       "      <th>27</th>\n",
       "      <th>...</th>\n",
       "      <th>66</th>\n",
       "      <th>67</th>\n",
       "      <th>68</th>\n",
       "      <th>69</th>\n",
       "      <th>70</th>\n",
       "      <th>71</th>\n",
       "      <th>72</th>\n",
       "      <th>73</th>\n",
       "      <th>74</th>\n",
       "      <th>75</th>\n",
       "    </tr>\n",
       "    <tr>\n",
       "      <th>Accomodation_Type</th>\n",
       "      <th></th>\n",
       "      <th></th>\n",
       "      <th></th>\n",
       "      <th></th>\n",
       "      <th></th>\n",
       "      <th></th>\n",
       "      <th></th>\n",
       "      <th></th>\n",
       "      <th></th>\n",
       "      <th></th>\n",
       "      <th></th>\n",
       "      <th></th>\n",
       "      <th></th>\n",
       "      <th></th>\n",
       "      <th></th>\n",
       "      <th></th>\n",
       "      <th></th>\n",
       "      <th></th>\n",
       "      <th></th>\n",
       "      <th></th>\n",
       "      <th></th>\n",
       "    </tr>\n",
       "  </thead>\n",
       "  <tbody>\n",
       "    <tr>\n",
       "      <th>0</th>\n",
       "      <td>24</td>\n",
       "      <td>101</td>\n",
       "      <td>129</td>\n",
       "      <td>221</td>\n",
       "      <td>240</td>\n",
       "      <td>247</td>\n",
       "      <td>252</td>\n",
       "      <td>240</td>\n",
       "      <td>201</td>\n",
       "      <td>173</td>\n",
       "      <td>...</td>\n",
       "      <td>32</td>\n",
       "      <td>24</td>\n",
       "      <td>26</td>\n",
       "      <td>23</td>\n",
       "      <td>28</td>\n",
       "      <td>16</td>\n",
       "      <td>25</td>\n",
       "      <td>17</td>\n",
       "      <td>15</td>\n",
       "      <td>109</td>\n",
       "    </tr>\n",
       "    <tr>\n",
       "      <th>1</th>\n",
       "      <td>5</td>\n",
       "      <td>12</td>\n",
       "      <td>21</td>\n",
       "      <td>31</td>\n",
       "      <td>56</td>\n",
       "      <td>59</td>\n",
       "      <td>64</td>\n",
       "      <td>70</td>\n",
       "      <td>88</td>\n",
       "      <td>79</td>\n",
       "      <td>...</td>\n",
       "      <td>106</td>\n",
       "      <td>109</td>\n",
       "      <td>80</td>\n",
       "      <td>97</td>\n",
       "      <td>106</td>\n",
       "      <td>102</td>\n",
       "      <td>74</td>\n",
       "      <td>85</td>\n",
       "      <td>70</td>\n",
       "      <td>441</td>\n",
       "    </tr>\n",
       "  </tbody>\n",
       "</table>\n",
       "<p>2 rows × 58 columns</p>\n",
       "</div>"
      ],
      "text/plain": [
       "Upper_Age          18   19   20   21   22   23   24   25   26   27  ...   66  \\\n",
       "Accomodation_Type                                                   ...        \n",
       "0                  24  101  129  221  240  247  252  240  201  173  ...   32   \n",
       "1                   5   12   21   31   56   59   64   70   88   79  ...  106   \n",
       "\n",
       "Upper_Age           67  68  69   70   71  72  73  74   75  \n",
       "Accomodation_Type                                          \n",
       "0                   24  26  23   28   16  25  17  15  109  \n",
       "1                  109  80  97  106  102  74  85  70  441  \n",
       "\n",
       "[2 rows x 58 columns]"
      ]
     },
     "execution_count": 48,
     "metadata": {},
     "output_type": "execute_result"
    }
   ],
   "source": [
    "pd.crosstab(final_df['Accomodation_Type'],final_df['Upper_Age'])"
   ]
  },
  {
   "cell_type": "code",
   "execution_count": 49,
   "id": "5a7ee069",
   "metadata": {},
   "outputs": [
    {
     "data": {
      "text/plain": [
       "<AxesSubplot:xlabel='Upper_Age', ylabel='count'>"
      ]
     },
     "execution_count": 49,
     "metadata": {},
     "output_type": "execute_result"
    },
    {
     "data": {
      "image/png": "[encoded data removed]",
      "text/plain": [
       "<Figure size 1440x360 with 1 Axes>"
      ]
     },
     "metadata": {
      "needs_background": "light"
     },
     "output_type": "display_data"
    }
   ],
   "source": [
    "plt.figure(figsize=(20,5))\n",
    "sns.countplot(final_df['Upper_Age'],hue=final_df['Accomodation_Type'])"
   ]
  },
  {
   "cell_type": "code",
   "execution_count": 50,
   "id": "cf5f4ddd",
   "metadata": {},
   "outputs": [
    {
     "data": {
      "text/html": [
       "<div>\n",
       "<style scoped>\n",
       "    .dataframe tbody tr th:only-of-type {\n",
       "        vertical-align: middle;\n",
       "    }\n",
       "\n",
       "    .dataframe tbody tr th {\n",
       "        vertical-align: top;\n",
       "    }\n",
       "\n",
       "    .dataframe thead th {\n",
       "        text-align: right;\n",
       "    }\n",
       "</style>\n",
       "<table border=\"1\" class=\"dataframe\">\n",
       "  <thead>\n",
       "    <tr style=\"text-align: right;\">\n",
       "      <th>Upper_Age</th>\n",
       "      <th>18</th>\n",
       "      <th>19</th>\n",
       "      <th>20</th>\n",
       "      <th>21</th>\n",
       "      <th>22</th>\n",
       "      <th>23</th>\n",
       "      <th>24</th>\n",
       "      <th>25</th>\n",
       "      <th>26</th>\n",
       "      <th>27</th>\n",
       "      <th>...</th>\n",
       "      <th>66</th>\n",
       "      <th>67</th>\n",
       "      <th>68</th>\n",
       "      <th>69</th>\n",
       "      <th>70</th>\n",
       "      <th>71</th>\n",
       "      <th>72</th>\n",
       "      <th>73</th>\n",
       "      <th>74</th>\n",
       "      <th>75</th>\n",
       "    </tr>\n",
       "    <tr>\n",
       "      <th>Reco_Policy_Cat</th>\n",
       "      <th></th>\n",
       "      <th></th>\n",
       "      <th></th>\n",
       "      <th></th>\n",
       "      <th></th>\n",
       "      <th></th>\n",
       "      <th></th>\n",
       "      <th></th>\n",
       "      <th></th>\n",
       "      <th></th>\n",
       "      <th></th>\n",
       "      <th></th>\n",
       "      <th></th>\n",
       "      <th></th>\n",
       "      <th></th>\n",
       "      <th></th>\n",
       "      <th></th>\n",
       "      <th></th>\n",
       "      <th></th>\n",
       "      <th></th>\n",
       "      <th></th>\n",
       "    </tr>\n",
       "  </thead>\n",
       "  <tbody>\n",
       "    <tr>\n",
       "      <th>1</th>\n",
       "      <td>0</td>\n",
       "      <td>2</td>\n",
       "      <td>7</td>\n",
       "      <td>8</td>\n",
       "      <td>10</td>\n",
       "      <td>16</td>\n",
       "      <td>12</td>\n",
       "      <td>9</td>\n",
       "      <td>6</td>\n",
       "      <td>14</td>\n",
       "      <td>...</td>\n",
       "      <td>2</td>\n",
       "      <td>4</td>\n",
       "      <td>1</td>\n",
       "      <td>2</td>\n",
       "      <td>4</td>\n",
       "      <td>2</td>\n",
       "      <td>2</td>\n",
       "      <td>3</td>\n",
       "      <td>2</td>\n",
       "      <td>18</td>\n",
       "    </tr>\n",
       "    <tr>\n",
       "      <th>2</th>\n",
       "      <td>8</td>\n",
       "      <td>5</td>\n",
       "      <td>5</td>\n",
       "      <td>9</td>\n",
       "      <td>11</td>\n",
       "      <td>16</td>\n",
       "      <td>11</td>\n",
       "      <td>9</td>\n",
       "      <td>10</td>\n",
       "      <td>6</td>\n",
       "      <td>...</td>\n",
       "      <td>3</td>\n",
       "      <td>1</td>\n",
       "      <td>1</td>\n",
       "      <td>2</td>\n",
       "      <td>6</td>\n",
       "      <td>1</td>\n",
       "      <td>3</td>\n",
       "      <td>1</td>\n",
       "      <td>1</td>\n",
       "      <td>16</td>\n",
       "    </tr>\n",
       "    <tr>\n",
       "      <th>3</th>\n",
       "      <td>0</td>\n",
       "      <td>0</td>\n",
       "      <td>4</td>\n",
       "      <td>5</td>\n",
       "      <td>5</td>\n",
       "      <td>9</td>\n",
       "      <td>4</td>\n",
       "      <td>8</td>\n",
       "      <td>2</td>\n",
       "      <td>4</td>\n",
       "      <td>...</td>\n",
       "      <td>1</td>\n",
       "      <td>5</td>\n",
       "      <td>3</td>\n",
       "      <td>5</td>\n",
       "      <td>0</td>\n",
       "      <td>0</td>\n",
       "      <td>4</td>\n",
       "      <td>1</td>\n",
       "      <td>7</td>\n",
       "      <td>14</td>\n",
       "    </tr>\n",
       "    <tr>\n",
       "      <th>4</th>\n",
       "      <td>0</td>\n",
       "      <td>2</td>\n",
       "      <td>3</td>\n",
       "      <td>10</td>\n",
       "      <td>12</td>\n",
       "      <td>5</td>\n",
       "      <td>9</td>\n",
       "      <td>10</td>\n",
       "      <td>8</td>\n",
       "      <td>2</td>\n",
       "      <td>...</td>\n",
       "      <td>2</td>\n",
       "      <td>1</td>\n",
       "      <td>2</td>\n",
       "      <td>3</td>\n",
       "      <td>1</td>\n",
       "      <td>1</td>\n",
       "      <td>0</td>\n",
       "      <td>2</td>\n",
       "      <td>1</td>\n",
       "      <td>4</td>\n",
       "    </tr>\n",
       "    <tr>\n",
       "      <th>5</th>\n",
       "      <td>0</td>\n",
       "      <td>2</td>\n",
       "      <td>0</td>\n",
       "      <td>1</td>\n",
       "      <td>1</td>\n",
       "      <td>5</td>\n",
       "      <td>6</td>\n",
       "      <td>7</td>\n",
       "      <td>3</td>\n",
       "      <td>8</td>\n",
       "      <td>...</td>\n",
       "      <td>3</td>\n",
       "      <td>4</td>\n",
       "      <td>4</td>\n",
       "      <td>5</td>\n",
       "      <td>5</td>\n",
       "      <td>7</td>\n",
       "      <td>0</td>\n",
       "      <td>5</td>\n",
       "      <td>3</td>\n",
       "      <td>21</td>\n",
       "    </tr>\n",
       "    <tr>\n",
       "      <th>6</th>\n",
       "      <td>0</td>\n",
       "      <td>6</td>\n",
       "      <td>5</td>\n",
       "      <td>9</td>\n",
       "      <td>6</td>\n",
       "      <td>6</td>\n",
       "      <td>8</td>\n",
       "      <td>3</td>\n",
       "      <td>4</td>\n",
       "      <td>2</td>\n",
       "      <td>...</td>\n",
       "      <td>0</td>\n",
       "      <td>1</td>\n",
       "      <td>1</td>\n",
       "      <td>1</td>\n",
       "      <td>0</td>\n",
       "      <td>4</td>\n",
       "      <td>0</td>\n",
       "      <td>2</td>\n",
       "      <td>1</td>\n",
       "      <td>8</td>\n",
       "    </tr>\n",
       "    <tr>\n",
       "      <th>7</th>\n",
       "      <td>0</td>\n",
       "      <td>2</td>\n",
       "      <td>0</td>\n",
       "      <td>1</td>\n",
       "      <td>6</td>\n",
       "      <td>5</td>\n",
       "      <td>3</td>\n",
       "      <td>3</td>\n",
       "      <td>5</td>\n",
       "      <td>2</td>\n",
       "      <td>...</td>\n",
       "      <td>5</td>\n",
       "      <td>7</td>\n",
       "      <td>2</td>\n",
       "      <td>1</td>\n",
       "      <td>1</td>\n",
       "      <td>2</td>\n",
       "      <td>4</td>\n",
       "      <td>3</td>\n",
       "      <td>6</td>\n",
       "      <td>12</td>\n",
       "    </tr>\n",
       "    <tr>\n",
       "      <th>8</th>\n",
       "      <td>0</td>\n",
       "      <td>0</td>\n",
       "      <td>5</td>\n",
       "      <td>3</td>\n",
       "      <td>9</td>\n",
       "      <td>8</td>\n",
       "      <td>4</td>\n",
       "      <td>5</td>\n",
       "      <td>5</td>\n",
       "      <td>3</td>\n",
       "      <td>...</td>\n",
       "      <td>4</td>\n",
       "      <td>2</td>\n",
       "      <td>4</td>\n",
       "      <td>2</td>\n",
       "      <td>3</td>\n",
       "      <td>4</td>\n",
       "      <td>0</td>\n",
       "      <td>0</td>\n",
       "      <td>2</td>\n",
       "      <td>10</td>\n",
       "    </tr>\n",
       "    <tr>\n",
       "      <th>9</th>\n",
       "      <td>0</td>\n",
       "      <td>0</td>\n",
       "      <td>3</td>\n",
       "      <td>4</td>\n",
       "      <td>5</td>\n",
       "      <td>5</td>\n",
       "      <td>6</td>\n",
       "      <td>4</td>\n",
       "      <td>4</td>\n",
       "      <td>7</td>\n",
       "      <td>...</td>\n",
       "      <td>2</td>\n",
       "      <td>1</td>\n",
       "      <td>1</td>\n",
       "      <td>2</td>\n",
       "      <td>1</td>\n",
       "      <td>0</td>\n",
       "      <td>2</td>\n",
       "      <td>1</td>\n",
       "      <td>1</td>\n",
       "      <td>4</td>\n",
       "    </tr>\n",
       "    <tr>\n",
       "      <th>10</th>\n",
       "      <td>0</td>\n",
       "      <td>3</td>\n",
       "      <td>0</td>\n",
       "      <td>5</td>\n",
       "      <td>4</td>\n",
       "      <td>4</td>\n",
       "      <td>4</td>\n",
       "      <td>7</td>\n",
       "      <td>8</td>\n",
       "      <td>7</td>\n",
       "      <td>...</td>\n",
       "      <td>4</td>\n",
       "      <td>1</td>\n",
       "      <td>2</td>\n",
       "      <td>0</td>\n",
       "      <td>1</td>\n",
       "      <td>1</td>\n",
       "      <td>0</td>\n",
       "      <td>1</td>\n",
       "      <td>0</td>\n",
       "      <td>5</td>\n",
       "    </tr>\n",
       "    <tr>\n",
       "      <th>11</th>\n",
       "      <td>0</td>\n",
       "      <td>1</td>\n",
       "      <td>2</td>\n",
       "      <td>3</td>\n",
       "      <td>8</td>\n",
       "      <td>4</td>\n",
       "      <td>9</td>\n",
       "      <td>5</td>\n",
       "      <td>5</td>\n",
       "      <td>2</td>\n",
       "      <td>...</td>\n",
       "      <td>3</td>\n",
       "      <td>1</td>\n",
       "      <td>1</td>\n",
       "      <td>0</td>\n",
       "      <td>2</td>\n",
       "      <td>1</td>\n",
       "      <td>0</td>\n",
       "      <td>0</td>\n",
       "      <td>1</td>\n",
       "      <td>15</td>\n",
       "    </tr>\n",
       "    <tr>\n",
       "      <th>12</th>\n",
       "      <td>2</td>\n",
       "      <td>14</td>\n",
       "      <td>13</td>\n",
       "      <td>18</td>\n",
       "      <td>14</td>\n",
       "      <td>11</td>\n",
       "      <td>7</td>\n",
       "      <td>18</td>\n",
       "      <td>9</td>\n",
       "      <td>6</td>\n",
       "      <td>...</td>\n",
       "      <td>3</td>\n",
       "      <td>7</td>\n",
       "      <td>2</td>\n",
       "      <td>5</td>\n",
       "      <td>4</td>\n",
       "      <td>3</td>\n",
       "      <td>3</td>\n",
       "      <td>6</td>\n",
       "      <td>4</td>\n",
       "      <td>17</td>\n",
       "    </tr>\n",
       "    <tr>\n",
       "      <th>13</th>\n",
       "      <td>1</td>\n",
       "      <td>5</td>\n",
       "      <td>7</td>\n",
       "      <td>9</td>\n",
       "      <td>8</td>\n",
       "      <td>8</td>\n",
       "      <td>17</td>\n",
       "      <td>14</td>\n",
       "      <td>9</td>\n",
       "      <td>8</td>\n",
       "      <td>...</td>\n",
       "      <td>6</td>\n",
       "      <td>5</td>\n",
       "      <td>2</td>\n",
       "      <td>3</td>\n",
       "      <td>9</td>\n",
       "      <td>3</td>\n",
       "      <td>2</td>\n",
       "      <td>5</td>\n",
       "      <td>2</td>\n",
       "      <td>16</td>\n",
       "    </tr>\n",
       "    <tr>\n",
       "      <th>14</th>\n",
       "      <td>1</td>\n",
       "      <td>1</td>\n",
       "      <td>9</td>\n",
       "      <td>12</td>\n",
       "      <td>15</td>\n",
       "      <td>14</td>\n",
       "      <td>12</td>\n",
       "      <td>5</td>\n",
       "      <td>5</td>\n",
       "      <td>8</td>\n",
       "      <td>...</td>\n",
       "      <td>3</td>\n",
       "      <td>5</td>\n",
       "      <td>4</td>\n",
       "      <td>2</td>\n",
       "      <td>2</td>\n",
       "      <td>5</td>\n",
       "      <td>3</td>\n",
       "      <td>5</td>\n",
       "      <td>0</td>\n",
       "      <td>25</td>\n",
       "    </tr>\n",
       "    <tr>\n",
       "      <th>15</th>\n",
       "      <td>4</td>\n",
       "      <td>8</td>\n",
       "      <td>9</td>\n",
       "      <td>12</td>\n",
       "      <td>14</td>\n",
       "      <td>11</td>\n",
       "      <td>12</td>\n",
       "      <td>5</td>\n",
       "      <td>11</td>\n",
       "      <td>5</td>\n",
       "      <td>...</td>\n",
       "      <td>2</td>\n",
       "      <td>3</td>\n",
       "      <td>5</td>\n",
       "      <td>3</td>\n",
       "      <td>3</td>\n",
       "      <td>2</td>\n",
       "      <td>2</td>\n",
       "      <td>3</td>\n",
       "      <td>2</td>\n",
       "      <td>10</td>\n",
       "    </tr>\n",
       "    <tr>\n",
       "      <th>16</th>\n",
       "      <td>1</td>\n",
       "      <td>8</td>\n",
       "      <td>14</td>\n",
       "      <td>21</td>\n",
       "      <td>18</td>\n",
       "      <td>19</td>\n",
       "      <td>31</td>\n",
       "      <td>20</td>\n",
       "      <td>22</td>\n",
       "      <td>21</td>\n",
       "      <td>...</td>\n",
       "      <td>9</td>\n",
       "      <td>10</td>\n",
       "      <td>8</td>\n",
       "      <td>6</td>\n",
       "      <td>9</td>\n",
       "      <td>8</td>\n",
       "      <td>16</td>\n",
       "      <td>5</td>\n",
       "      <td>10</td>\n",
       "      <td>34</td>\n",
       "    </tr>\n",
       "    <tr>\n",
       "      <th>17</th>\n",
       "      <td>1</td>\n",
       "      <td>8</td>\n",
       "      <td>8</td>\n",
       "      <td>15</td>\n",
       "      <td>14</td>\n",
       "      <td>23</td>\n",
       "      <td>23</td>\n",
       "      <td>17</td>\n",
       "      <td>19</td>\n",
       "      <td>14</td>\n",
       "      <td>...</td>\n",
       "      <td>16</td>\n",
       "      <td>11</td>\n",
       "      <td>6</td>\n",
       "      <td>11</td>\n",
       "      <td>2</td>\n",
       "      <td>8</td>\n",
       "      <td>15</td>\n",
       "      <td>9</td>\n",
       "      <td>5</td>\n",
       "      <td>41</td>\n",
       "    </tr>\n",
       "    <tr>\n",
       "      <th>18</th>\n",
       "      <td>0</td>\n",
       "      <td>6</td>\n",
       "      <td>9</td>\n",
       "      <td>23</td>\n",
       "      <td>36</td>\n",
       "      <td>33</td>\n",
       "      <td>27</td>\n",
       "      <td>35</td>\n",
       "      <td>35</td>\n",
       "      <td>26</td>\n",
       "      <td>...</td>\n",
       "      <td>17</td>\n",
       "      <td>21</td>\n",
       "      <td>13</td>\n",
       "      <td>20</td>\n",
       "      <td>20</td>\n",
       "      <td>22</td>\n",
       "      <td>17</td>\n",
       "      <td>15</td>\n",
       "      <td>14</td>\n",
       "      <td>64</td>\n",
       "    </tr>\n",
       "    <tr>\n",
       "      <th>19</th>\n",
       "      <td>3</td>\n",
       "      <td>7</td>\n",
       "      <td>13</td>\n",
       "      <td>17</td>\n",
       "      <td>9</td>\n",
       "      <td>17</td>\n",
       "      <td>31</td>\n",
       "      <td>20</td>\n",
       "      <td>20</td>\n",
       "      <td>19</td>\n",
       "      <td>...</td>\n",
       "      <td>8</td>\n",
       "      <td>6</td>\n",
       "      <td>9</td>\n",
       "      <td>7</td>\n",
       "      <td>10</td>\n",
       "      <td>7</td>\n",
       "      <td>4</td>\n",
       "      <td>14</td>\n",
       "      <td>6</td>\n",
       "      <td>41</td>\n",
       "    </tr>\n",
       "    <tr>\n",
       "      <th>20</th>\n",
       "      <td>0</td>\n",
       "      <td>6</td>\n",
       "      <td>11</td>\n",
       "      <td>13</td>\n",
       "      <td>23</td>\n",
       "      <td>18</td>\n",
       "      <td>14</td>\n",
       "      <td>18</td>\n",
       "      <td>19</td>\n",
       "      <td>21</td>\n",
       "      <td>...</td>\n",
       "      <td>7</td>\n",
       "      <td>8</td>\n",
       "      <td>9</td>\n",
       "      <td>10</td>\n",
       "      <td>7</td>\n",
       "      <td>9</td>\n",
       "      <td>4</td>\n",
       "      <td>5</td>\n",
       "      <td>1</td>\n",
       "      <td>37</td>\n",
       "    </tr>\n",
       "    <tr>\n",
       "      <th>21</th>\n",
       "      <td>2</td>\n",
       "      <td>12</td>\n",
       "      <td>8</td>\n",
       "      <td>19</td>\n",
       "      <td>28</td>\n",
       "      <td>30</td>\n",
       "      <td>32</td>\n",
       "      <td>32</td>\n",
       "      <td>28</td>\n",
       "      <td>31</td>\n",
       "      <td>...</td>\n",
       "      <td>15</td>\n",
       "      <td>17</td>\n",
       "      <td>12</td>\n",
       "      <td>14</td>\n",
       "      <td>21</td>\n",
       "      <td>13</td>\n",
       "      <td>8</td>\n",
       "      <td>8</td>\n",
       "      <td>6</td>\n",
       "      <td>63</td>\n",
       "    </tr>\n",
       "    <tr>\n",
       "      <th>22</th>\n",
       "      <td>6</td>\n",
       "      <td>15</td>\n",
       "      <td>15</td>\n",
       "      <td>35</td>\n",
       "      <td>40</td>\n",
       "      <td>39</td>\n",
       "      <td>34</td>\n",
       "      <td>56</td>\n",
       "      <td>52</td>\n",
       "      <td>36</td>\n",
       "      <td>...</td>\n",
       "      <td>23</td>\n",
       "      <td>12</td>\n",
       "      <td>14</td>\n",
       "      <td>16</td>\n",
       "      <td>23</td>\n",
       "      <td>15</td>\n",
       "      <td>10</td>\n",
       "      <td>8</td>\n",
       "      <td>10</td>\n",
       "      <td>75</td>\n",
       "    </tr>\n",
       "  </tbody>\n",
       "</table>\n",
       "<p>22 rows × 58 columns</p>\n",
       "</div>"
      ],
      "text/plain": [
       "Upper_Age        18  19  20  21  22  23  24  25  26  27  ...  66  67  68  69  \\\n",
       "Reco_Policy_Cat                                          ...                   \n",
       "1                 0   2   7   8  10  16  12   9   6  14  ...   2   4   1   2   \n",
       "2                 8   5   5   9  11  16  11   9  10   6  ...   3   1   1   2   \n",
       "3                 0   0   4   5   5   9   4   8   2   4  ...   1   5   3   5   \n",
       "4                 0   2   3  10  12   5   9  10   8   2  ...   2   1   2   3   \n",
       "5                 0   2   0   1   1   5   6   7   3   8  ...   3   4   4   5   \n",
       "6                 0   6   5   9   6   6   8   3   4   2  ...   0   1   1   1   \n",
       "7                 0   2   0   1   6   5   3   3   5   2  ...   5   7   2   1   \n",
       "8                 0   0   5   3   9   8   4   5   5   3  ...   4   2   4   2   \n",
       "9                 0   0   3   4   5   5   6   4   4   7  ...   2   1   1   2   \n",
       "10                0   3   0   5   4   4   4   7   8   7  ...   4   1   2   0   \n",
       "11                0   1   2   3   8   4   9   5   5   2  ...   3   1   1   0   \n",
       "12                2  14  13  18  14  11   7  18   9   6  ...   3   7   2   5   \n",
       "13                1   5   7   9   8   8  17  14   9   8  ...   6   5   2   3   \n",
       "14                1   1   9  12  15  14  12   5   5   8  ...   3   5   4   2   \n",
       "15                4   8   9  12  14  11  12   5  11   5  ...   2   3   5   3   \n",
       "16                1   8  14  21  18  19  31  20  22  21  ...   9  10   8   6   \n",
       "17                1   8   8  15  14  23  23  17  19  14  ...  16  11   6  11   \n",
       "18                0   6   9  23  36  33  27  35  35  26  ...  17  21  13  20   \n",
       "19                3   7  13  17   9  17  31  20  20  19  ...   8   6   9   7   \n",
       "20                0   6  11  13  23  18  14  18  19  21  ...   7   8   9  10   \n",
       "21                2  12   8  19  28  30  32  32  28  31  ...  15  17  12  14   \n",
       "22                6  15  15  35  40  39  34  56  52  36  ...  23  12  14  16   \n",
       "\n",
       "Upper_Age        70  71  72  73  74  75  \n",
       "Reco_Policy_Cat                          \n",
       "1                 4   2   2   3   2  18  \n",
       "2                 6   1   3   1   1  16  \n",
       "3                 0   0   4   1   7  14  \n",
       "4                 1   1   0   2   1   4  \n",
       "5                 5   7   0   5   3  21  \n",
       "6                 0   4   0   2   1   8  \n",
       "7                 1   2   4   3   6  12  \n",
       "8                 3   4   0   0   2  10  \n",
       "9                 1   0   2   1   1   4  \n",
       "10                1   1   0   1   0   5  \n",
       "11                2   1   0   0   1  15  \n",
       "12                4   3   3   6   4  17  \n",
       "13                9   3   2   5   2  16  \n",
       "14                2   5   3   5   0  25  \n",
       "15                3   2   2   3   2  10  \n",
       "16                9   8  16   5  10  34  \n",
       "17                2   8  15   9   5  41  \n",
       "18               20  22  17  15  14  64  \n",
       "19               10   7   4  14   6  41  \n",
       "20                7   9   4   5   1  37  \n",
       "21               21  13   8   8   6  63  \n",
       "22               23  15  10   8  10  75  \n",
       "\n",
       "[22 rows x 58 columns]"
      ]
     },
     "execution_count": 50,
     "metadata": {},
     "output_type": "execute_result"
    }
   ],
   "source": [
    "pd.crosstab(final_df['Reco_Policy_Cat'],final_df['Upper_Age'])"
   ]
  },
  {
   "cell_type": "code",
   "execution_count": 51,
   "id": "61e55916",
   "metadata": {},
   "outputs": [
    {
     "data": {
      "text/html": [
       "<div>\n",
       "<style scoped>\n",
       "    .dataframe tbody tr th:only-of-type {\n",
       "        vertical-align: middle;\n",
       "    }\n",
       "\n",
       "    .dataframe tbody tr th {\n",
       "        vertical-align: top;\n",
       "    }\n",
       "\n",
       "    .dataframe thead th {\n",
       "        text-align: right;\n",
       "    }\n",
       "</style>\n",
       "<table border=\"1\" class=\"dataframe\">\n",
       "  <thead>\n",
       "    <tr style=\"text-align: right;\">\n",
       "      <th>Upper_Age</th>\n",
       "      <th>18</th>\n",
       "      <th>19</th>\n",
       "      <th>20</th>\n",
       "      <th>21</th>\n",
       "      <th>22</th>\n",
       "      <th>23</th>\n",
       "      <th>24</th>\n",
       "      <th>25</th>\n",
       "      <th>26</th>\n",
       "      <th>27</th>\n",
       "      <th>...</th>\n",
       "      <th>66</th>\n",
       "      <th>67</th>\n",
       "      <th>68</th>\n",
       "      <th>69</th>\n",
       "      <th>70</th>\n",
       "      <th>71</th>\n",
       "      <th>72</th>\n",
       "      <th>73</th>\n",
       "      <th>74</th>\n",
       "      <th>75</th>\n",
       "    </tr>\n",
       "    <tr>\n",
       "      <th>Response</th>\n",
       "      <th></th>\n",
       "      <th></th>\n",
       "      <th></th>\n",
       "      <th></th>\n",
       "      <th></th>\n",
       "      <th></th>\n",
       "      <th></th>\n",
       "      <th></th>\n",
       "      <th></th>\n",
       "      <th></th>\n",
       "      <th></th>\n",
       "      <th></th>\n",
       "      <th></th>\n",
       "      <th></th>\n",
       "      <th></th>\n",
       "      <th></th>\n",
       "      <th></th>\n",
       "      <th></th>\n",
       "      <th></th>\n",
       "      <th></th>\n",
       "      <th></th>\n",
       "    </tr>\n",
       "  </thead>\n",
       "  <tbody>\n",
       "    <tr>\n",
       "      <th>0</th>\n",
       "      <td>24</td>\n",
       "      <td>91</td>\n",
       "      <td>116</td>\n",
       "      <td>192</td>\n",
       "      <td>232</td>\n",
       "      <td>240</td>\n",
       "      <td>243</td>\n",
       "      <td>230</td>\n",
       "      <td>217</td>\n",
       "      <td>189</td>\n",
       "      <td>...</td>\n",
       "      <td>96</td>\n",
       "      <td>103</td>\n",
       "      <td>80</td>\n",
       "      <td>82</td>\n",
       "      <td>97</td>\n",
       "      <td>88</td>\n",
       "      <td>81</td>\n",
       "      <td>73</td>\n",
       "      <td>74</td>\n",
       "      <td>413</td>\n",
       "    </tr>\n",
       "    <tr>\n",
       "      <th>1</th>\n",
       "      <td>5</td>\n",
       "      <td>22</td>\n",
       "      <td>34</td>\n",
       "      <td>60</td>\n",
       "      <td>64</td>\n",
       "      <td>66</td>\n",
       "      <td>73</td>\n",
       "      <td>80</td>\n",
       "      <td>72</td>\n",
       "      <td>63</td>\n",
       "      <td>...</td>\n",
       "      <td>42</td>\n",
       "      <td>30</td>\n",
       "      <td>26</td>\n",
       "      <td>38</td>\n",
       "      <td>37</td>\n",
       "      <td>30</td>\n",
       "      <td>18</td>\n",
       "      <td>29</td>\n",
       "      <td>11</td>\n",
       "      <td>137</td>\n",
       "    </tr>\n",
       "  </tbody>\n",
       "</table>\n",
       "<p>2 rows × 58 columns</p>\n",
       "</div>"
      ],
      "text/plain": [
       "Upper_Age  18  19   20   21   22   23   24   25   26   27  ...  66   67  68  \\\n",
       "Response                                                   ...                \n",
       "0          24  91  116  192  232  240  243  230  217  189  ...  96  103  80   \n",
       "1           5  22   34   60   64   66   73   80   72   63  ...  42   30  26   \n",
       "\n",
       "Upper_Age  69  70  71  72  73  74   75  \n",
       "Response                                \n",
       "0          82  97  88  81  73  74  413  \n",
       "1          38  37  30  18  29  11  137  \n",
       "\n",
       "[2 rows x 58 columns]"
      ]
     },
     "execution_count": 51,
     "metadata": {},
     "output_type": "execute_result"
    }
   ],
   "source": [
    "pd.crosstab(final_df['Response'],final_df['Upper_Age'])"
   ]
  },
  {
   "cell_type": "code",
   "execution_count": 52,
   "id": "bc69d55a",
   "metadata": {},
   "outputs": [
    {
     "data": {
      "text/plain": [
       "<AxesSubplot:xlabel='Upper_Age', ylabel='count'>"
      ]
     },
     "execution_count": 52,
     "metadata": {},
     "output_type": "execute_result"
    },
    {
     "data": {
      "image/png": "[encoded data removed]",
      "text/plain": [
       "<Figure size 1440x360 with 1 Axes>"
      ]
     },
     "metadata": {
      "needs_background": "light"
     },
     "output_type": "display_data"
    }
   ],
   "source": [
    "plt.figure(figsize=(20,5))\n",
    "sns.countplot(final_df['Upper_Age'],hue=final_df['Response'])"
   ]
  },
  {
   "cell_type": "markdown",
   "id": "475fcbe3",
   "metadata": {},
   "source": [
    "#### Let's see city-wise the customers who have recommended to take the joint policy with their spouse or with other customers. Check these results with the customer's type of accommodation."
   ]
  },
  {
   "cell_type": "code",
   "execution_count": 53,
   "id": "bb4d99d7",
   "metadata": {},
   "outputs": [
    {
     "data": {
      "text/plain": [
       "C1     470\n",
       "C2     301\n",
       "C3     189\n",
       "C4     110\n",
       "C7     110\n",
       "C9      73\n",
       "C8      72\n",
       "C10     62\n",
       "C6      58\n",
       "C15     56\n",
       "C16     51\n",
       "C11     51\n",
       "C5      45\n",
       "C17     38\n",
       "C12     36\n",
       "C19     35\n",
       "C13     30\n",
       "C24     29\n",
       "C20     27\n",
       "C21     24\n",
       "C18     24\n",
       "C26     22\n",
       "C14     18\n",
       "C23     17\n",
       "C22     16\n",
       "C28     15\n",
       "C25     12\n",
       "C33     11\n",
       "C29     11\n",
       "C27      9\n",
       "C32      9\n",
       "C34      7\n",
       "C30      4\n",
       "C36      1\n",
       "C35      1\n",
       "Name: City_Code, dtype: int64"
      ]
     },
     "execution_count": 53,
     "metadata": {},
     "output_type": "execute_result"
    }
   ],
   "source": [
    "final_df[final_df['Reco_Insurance_Type']==0]['City_Code'].value_counts()"
   ]
  },
  {
   "cell_type": "code",
   "execution_count": 54,
   "id": "260a6aca",
   "metadata": {},
   "outputs": [
    {
     "data": {
      "text/html": [
       "<div>\n",
       "<style scoped>\n",
       "    .dataframe tbody tr th:only-of-type {\n",
       "        vertical-align: middle;\n",
       "    }\n",
       "\n",
       "    .dataframe tbody tr th {\n",
       "        vertical-align: top;\n",
       "    }\n",
       "\n",
       "    .dataframe thead th {\n",
       "        text-align: right;\n",
       "    }\n",
       "</style>\n",
       "<table border=\"1\" class=\"dataframe\">\n",
       "  <thead>\n",
       "    <tr style=\"text-align: right;\">\n",
       "      <th>City_Code</th>\n",
       "      <th>C1</th>\n",
       "      <th>C10</th>\n",
       "      <th>C11</th>\n",
       "      <th>C12</th>\n",
       "      <th>C13</th>\n",
       "      <th>C14</th>\n",
       "      <th>C15</th>\n",
       "      <th>C16</th>\n",
       "      <th>C17</th>\n",
       "      <th>C18</th>\n",
       "      <th>...</th>\n",
       "      <th>C33</th>\n",
       "      <th>C34</th>\n",
       "      <th>C35</th>\n",
       "      <th>C36</th>\n",
       "      <th>C4</th>\n",
       "      <th>C5</th>\n",
       "      <th>C6</th>\n",
       "      <th>C7</th>\n",
       "      <th>C8</th>\n",
       "      <th>C9</th>\n",
       "    </tr>\n",
       "    <tr>\n",
       "      <th>Response</th>\n",
       "      <th></th>\n",
       "      <th></th>\n",
       "      <th></th>\n",
       "      <th></th>\n",
       "      <th></th>\n",
       "      <th></th>\n",
       "      <th></th>\n",
       "      <th></th>\n",
       "      <th></th>\n",
       "      <th></th>\n",
       "      <th></th>\n",
       "      <th></th>\n",
       "      <th></th>\n",
       "      <th></th>\n",
       "      <th></th>\n",
       "      <th></th>\n",
       "      <th></th>\n",
       "      <th></th>\n",
       "      <th></th>\n",
       "      <th></th>\n",
       "      <th></th>\n",
       "    </tr>\n",
       "  </thead>\n",
       "  <tbody>\n",
       "    <tr>\n",
       "      <th>0</th>\n",
       "      <td>354</td>\n",
       "      <td>37</td>\n",
       "      <td>39</td>\n",
       "      <td>29</td>\n",
       "      <td>22</td>\n",
       "      <td>15</td>\n",
       "      <td>44</td>\n",
       "      <td>40</td>\n",
       "      <td>26</td>\n",
       "      <td>19</td>\n",
       "      <td>...</td>\n",
       "      <td>7</td>\n",
       "      <td>4</td>\n",
       "      <td>1</td>\n",
       "      <td>0</td>\n",
       "      <td>82</td>\n",
       "      <td>30</td>\n",
       "      <td>41</td>\n",
       "      <td>81</td>\n",
       "      <td>60</td>\n",
       "      <td>52</td>\n",
       "    </tr>\n",
       "    <tr>\n",
       "      <th>1</th>\n",
       "      <td>116</td>\n",
       "      <td>25</td>\n",
       "      <td>12</td>\n",
       "      <td>7</td>\n",
       "      <td>8</td>\n",
       "      <td>3</td>\n",
       "      <td>12</td>\n",
       "      <td>11</td>\n",
       "      <td>12</td>\n",
       "      <td>5</td>\n",
       "      <td>...</td>\n",
       "      <td>4</td>\n",
       "      <td>3</td>\n",
       "      <td>0</td>\n",
       "      <td>1</td>\n",
       "      <td>28</td>\n",
       "      <td>15</td>\n",
       "      <td>17</td>\n",
       "      <td>29</td>\n",
       "      <td>12</td>\n",
       "      <td>21</td>\n",
       "    </tr>\n",
       "  </tbody>\n",
       "</table>\n",
       "<p>2 rows × 35 columns</p>\n",
       "</div>"
      ],
      "text/plain": [
       "City_Code   C1  C10  C11  C12  C13  C14  C15  C16  C17  C18  ...  C33  C34  \\\n",
       "Response                                                     ...             \n",
       "0          354   37   39   29   22   15   44   40   26   19  ...    7    4   \n",
       "1          116   25   12    7    8    3   12   11   12    5  ...    4    3   \n",
       "\n",
       "City_Code  C35  C36  C4  C5  C6  C7  C8  C9  \n",
       "Response                                     \n",
       "0            1    0  82  30  41  81  60  52  \n",
       "1            0    1  28  15  17  29  12  21  \n",
       "\n",
       "[2 rows x 35 columns]"
      ]
     },
     "execution_count": 54,
     "metadata": {},
     "output_type": "execute_result"
    }
   ],
   "source": [
    "pd.crosstab(final_df[final_df['Reco_Insurance_Type']==0]['Response'],final_df[final_df['Reco_Insurance_Type']==0]['City_Code'])"
   ]
  },
  {
   "cell_type": "code",
   "execution_count": 55,
   "id": "0e81c0ce",
   "metadata": {},
   "outputs": [
    {
     "data": {
      "text/plain": [
       "<AxesSubplot:xlabel='City_Code'>"
      ]
     },
     "execution_count": 55,
     "metadata": {},
     "output_type": "execute_result"
    },
    {
     "data": {
      "image/png": "[encoded data removed]",
      "text/plain": [
       "<Figure size 1440x360 with 1 Axes>"
      ]
     },
     "metadata": {
      "needs_background": "light"
     },
     "output_type": "display_data"
    }
   ],
   "source": [
    "pd.crosstab(final_df[final_df['Reco_Insurance_Type']==0]['City_Code'],\n",
    "            final_df[final_df['Reco_Insurance_Type']==0]['Response']).plot(kind='bar',figsize=(20,5))"
   ]
  },
  {
   "cell_type": "code",
   "execution_count": null,
   "id": "4b919c38",
   "metadata": {},
   "outputs": [],
   "source": []
  },
  {
   "cell_type": "markdown",
   "id": "dfda5db7",
   "metadata": {},
   "source": [
    "## Observe that 26.5% datapoints belong to one class rest all belongs to other class. Clearly dataset is having high imbalance.\n",
    "\n",
    "**To Do:**\n",
    "1. Read about Oversampling and Undersampling.\n",
    "2. Perform undersampling."
   ]
  },
  {
   "cell_type": "code",
   "execution_count": 56,
   "id": "226c682d",
   "metadata": {},
   "outputs": [
    {
     "data": {
      "text/plain": [
       "0    7541\n",
       "1    2459\n",
       "Name: Response, dtype: int64"
      ]
     },
     "execution_count": 56,
     "metadata": {},
     "output_type": "execute_result"
    }
   ],
   "source": [
    "final_df['Response'].value_counts()"
   ]
  },
  {
   "cell_type": "code",
   "execution_count": 57,
   "id": "8f2f34fa",
   "metadata": {},
   "outputs": [],
   "source": [
    "from imblearn.under_sampling import RandomUnderSampler"
   ]
  },
  {
   "cell_type": "code",
   "execution_count": 58,
   "id": "c7cd0673",
   "metadata": {},
   "outputs": [],
   "source": [
    "sampler=RandomUnderSampler()"
   ]
  },
  {
   "cell_type": "code",
   "execution_count": 59,
   "id": "90f3e6ea",
   "metadata": {},
   "outputs": [],
   "source": [
    "X=final_df.drop('Response',axis=1)\n",
    "y=final_df['Response']"
   ]
  },
  {
   "cell_type": "code",
   "execution_count": 60,
   "id": "a1c962c0",
   "metadata": {},
   "outputs": [
    {
     "name": "stdout",
     "output_type": "stream",
     "text": [
      "(10000, 19) (10000,)\n"
     ]
    }
   ],
   "source": [
    "print(X.shape,y.shape)"
   ]
  },
  {
   "cell_type": "code",
   "execution_count": 61,
   "id": "3d1f69d1",
   "metadata": {},
   "outputs": [],
   "source": [
    "predictor,response=sampler.fit_resample(X,y)"
   ]
  },
  {
   "cell_type": "code",
   "execution_count": 62,
   "id": "8ac17eb5",
   "metadata": {},
   "outputs": [
    {
     "name": "stdout",
     "output_type": "stream",
     "text": [
      "(4918, 19) (4918,)\n"
     ]
    }
   ],
   "source": [
    "print(predictor.shape,response.shape) "
   ]
  },
  {
   "cell_type": "markdown",
   "id": "77cd829c",
   "metadata": {},
   "source": [
    "## Train Test Split\n",
    "\n",
    "**To Do:**\n",
    "1. Sandardise the data\n",
    "2. Perform 80-20 split"
   ]
  },
  {
   "cell_type": "code",
   "execution_count": 63,
   "id": "db869fa0",
   "metadata": {
    "scrolled": true
   },
   "outputs": [
    {
     "data": {
      "text/html": [
       "<div>\n",
       "<style scoped>\n",
       "    .dataframe tbody tr th:only-of-type {\n",
       "        vertical-align: middle;\n",
       "    }\n",
       "\n",
       "    .dataframe tbody tr th {\n",
       "        vertical-align: top;\n",
       "    }\n",
       "\n",
       "    .dataframe thead th {\n",
       "        text-align: right;\n",
       "    }\n",
       "</style>\n",
       "<table border=\"1\" class=\"dataframe\">\n",
       "  <thead>\n",
       "    <tr style=\"text-align: right;\">\n",
       "      <th></th>\n",
       "      <th>City_Code</th>\n",
       "      <th>Region_Code</th>\n",
       "      <th>Accomodation_Type</th>\n",
       "      <th>Reco_Insurance_Type</th>\n",
       "      <th>Upper_Age</th>\n",
       "      <th>Lower_Age</th>\n",
       "      <th>Is_Spouse</th>\n",
       "      <th>Holding_Policy_Duration</th>\n",
       "      <th>Holding_Policy_Type</th>\n",
       "      <th>Reco_Policy_Cat</th>\n",
       "      <th>Reco_Policy_Premium</th>\n",
       "      <th>X1</th>\n",
       "      <th>X2</th>\n",
       "      <th>X3</th>\n",
       "      <th>X4</th>\n",
       "      <th>X5</th>\n",
       "      <th>X6</th>\n",
       "      <th>X7</th>\n",
       "      <th>X8</th>\n",
       "    </tr>\n",
       "  </thead>\n",
       "  <tbody>\n",
       "    <tr>\n",
       "      <th>0</th>\n",
       "      <td>C21</td>\n",
       "      <td>5173</td>\n",
       "      <td>1</td>\n",
       "      <td>1</td>\n",
       "      <td>73</td>\n",
       "      <td>73</td>\n",
       "      <td>0</td>\n",
       "      <td>15</td>\n",
       "      <td>3.0</td>\n",
       "      <td>22</td>\n",
       "      <td>18240.0</td>\n",
       "      <td>0.0</td>\n",
       "      <td>0.0</td>\n",
       "      <td>0.0</td>\n",
       "      <td>1.0</td>\n",
       "      <td>0.0</td>\n",
       "      <td>0.0</td>\n",
       "      <td>0.0</td>\n",
       "      <td>0.0</td>\n",
       "    </tr>\n",
       "    <tr>\n",
       "      <th>1</th>\n",
       "      <td>C1</td>\n",
       "      <td>1436</td>\n",
       "      <td>1</td>\n",
       "      <td>1</td>\n",
       "      <td>75</td>\n",
       "      <td>75</td>\n",
       "      <td>0</td>\n",
       "      <td>6</td>\n",
       "      <td>2.0</td>\n",
       "      <td>17</td>\n",
       "      <td>19590.0</td>\n",
       "      <td>0.0</td>\n",
       "      <td>0.0</td>\n",
       "      <td>1.0</td>\n",
       "      <td>0.0</td>\n",
       "      <td>0.0</td>\n",
       "      <td>0.0</td>\n",
       "      <td>0.0</td>\n",
       "      <td>0.0</td>\n",
       "    </tr>\n",
       "    <tr>\n",
       "      <th>2</th>\n",
       "      <td>C2</td>\n",
       "      <td>1656</td>\n",
       "      <td>0</td>\n",
       "      <td>1</td>\n",
       "      <td>22</td>\n",
       "      <td>22</td>\n",
       "      <td>0</td>\n",
       "      <td>1</td>\n",
       "      <td>3.0</td>\n",
       "      <td>11</td>\n",
       "      <td>8736.0</td>\n",
       "      <td>1.0</td>\n",
       "      <td>0.0</td>\n",
       "      <td>0.0</td>\n",
       "      <td>0.0</td>\n",
       "      <td>0.0</td>\n",
       "      <td>0.0</td>\n",
       "      <td>0.0</td>\n",
       "      <td>0.0</td>\n",
       "    </tr>\n",
       "    <tr>\n",
       "      <th>3</th>\n",
       "      <td>C1</td>\n",
       "      <td>1084</td>\n",
       "      <td>1</td>\n",
       "      <td>1</td>\n",
       "      <td>71</td>\n",
       "      <td>71</td>\n",
       "      <td>0</td>\n",
       "      <td>15</td>\n",
       "      <td>3.0</td>\n",
       "      <td>22</td>\n",
       "      <td>17610.0</td>\n",
       "      <td>0.0</td>\n",
       "      <td>0.0</td>\n",
       "      <td>0.0</td>\n",
       "      <td>1.0</td>\n",
       "      <td>0.0</td>\n",
       "      <td>0.0</td>\n",
       "      <td>0.0</td>\n",
       "      <td>0.0</td>\n",
       "    </tr>\n",
       "    <tr>\n",
       "      <th>4</th>\n",
       "      <td>C11</td>\n",
       "      <td>1559</td>\n",
       "      <td>0</td>\n",
       "      <td>1</td>\n",
       "      <td>60</td>\n",
       "      <td>60</td>\n",
       "      <td>0</td>\n",
       "      <td>15</td>\n",
       "      <td>3.0</td>\n",
       "      <td>17</td>\n",
       "      <td>14040.0</td>\n",
       "      <td>0.0</td>\n",
       "      <td>0.0</td>\n",
       "      <td>0.0</td>\n",
       "      <td>1.0</td>\n",
       "      <td>0.0</td>\n",
       "      <td>0.0</td>\n",
       "      <td>0.0</td>\n",
       "      <td>0.0</td>\n",
       "    </tr>\n",
       "  </tbody>\n",
       "</table>\n",
       "</div>"
      ],
      "text/plain": [
       "  City_Code  Region_Code  Accomodation_Type  Reco_Insurance_Type  Upper_Age  \\\n",
       "0       C21         5173                  1                    1         73   \n",
       "1        C1         1436                  1                    1         75   \n",
       "2        C2         1656                  0                    1         22   \n",
       "3        C1         1084                  1                    1         71   \n",
       "4       C11         1559                  0                    1         60   \n",
       "\n",
       "   Lower_Age  Is_Spouse  Holding_Policy_Duration  Holding_Policy_Type  \\\n",
       "0         73          0                       15                  3.0   \n",
       "1         75          0                        6                  2.0   \n",
       "2         22          0                        1                  3.0   \n",
       "3         71          0                       15                  3.0   \n",
       "4         60          0                       15                  3.0   \n",
       "\n",
       "   Reco_Policy_Cat  Reco_Policy_Premium   X1   X2   X3   X4   X5   X6   X7  \\\n",
       "0               22              18240.0  0.0  0.0  0.0  1.0  0.0  0.0  0.0   \n",
       "1               17              19590.0  0.0  0.0  1.0  0.0  0.0  0.0  0.0   \n",
       "2               11               8736.0  1.0  0.0  0.0  0.0  0.0  0.0  0.0   \n",
       "3               22              17610.0  0.0  0.0  0.0  1.0  0.0  0.0  0.0   \n",
       "4               17              14040.0  0.0  0.0  0.0  1.0  0.0  0.0  0.0   \n",
       "\n",
       "    X8  \n",
       "0  0.0  \n",
       "1  0.0  \n",
       "2  0.0  \n",
       "3  0.0  \n",
       "4  0.0  "
      ]
     },
     "execution_count": 63,
     "metadata": {},
     "output_type": "execute_result"
    }
   ],
   "source": [
    "predictor.head()"
   ]
  },
  {
   "cell_type": "code",
   "execution_count": 64,
   "id": "07dc5ed8",
   "metadata": {},
   "outputs": [],
   "source": [
    "predictor['Holding_Policy_Type']=predictor['Holding_Policy_Type'].astype('category')\n",
    "predictor['Reco_Policy_Cat']=predictor['Reco_Policy_Cat'].astype('category')"
   ]
  },
  {
   "cell_type": "code",
   "execution_count": 65,
   "id": "f3f9e35d",
   "metadata": {},
   "outputs": [],
   "source": [
    "predictor=pd.concat([predictor,pd.get_dummies(predictor[['City_Code','Holding_Policy_Type','Reco_Policy_Cat']],drop_first=True)],axis=1)"
   ]
  },
  {
   "cell_type": "code",
   "execution_count": 66,
   "id": "455be4ec",
   "metadata": {},
   "outputs": [
    {
     "data": {
      "text/html": [
       "<div>\n",
       "<style scoped>\n",
       "    .dataframe tbody tr th:only-of-type {\n",
       "        vertical-align: middle;\n",
       "    }\n",
       "\n",
       "    .dataframe tbody tr th {\n",
       "        vertical-align: top;\n",
       "    }\n",
       "\n",
       "    .dataframe thead th {\n",
       "        text-align: right;\n",
       "    }\n",
       "</style>\n",
       "<table border=\"1\" class=\"dataframe\">\n",
       "  <thead>\n",
       "    <tr style=\"text-align: right;\">\n",
       "      <th></th>\n",
       "      <th>City_Code</th>\n",
       "      <th>Region_Code</th>\n",
       "      <th>Accomodation_Type</th>\n",
       "      <th>Reco_Insurance_Type</th>\n",
       "      <th>Upper_Age</th>\n",
       "      <th>Lower_Age</th>\n",
       "      <th>Is_Spouse</th>\n",
       "      <th>Holding_Policy_Duration</th>\n",
       "      <th>Holding_Policy_Type</th>\n",
       "      <th>Reco_Policy_Cat</th>\n",
       "      <th>...</th>\n",
       "      <th>Reco_Policy_Cat_13</th>\n",
       "      <th>Reco_Policy_Cat_14</th>\n",
       "      <th>Reco_Policy_Cat_15</th>\n",
       "      <th>Reco_Policy_Cat_16</th>\n",
       "      <th>Reco_Policy_Cat_17</th>\n",
       "      <th>Reco_Policy_Cat_18</th>\n",
       "      <th>Reco_Policy_Cat_19</th>\n",
       "      <th>Reco_Policy_Cat_20</th>\n",
       "      <th>Reco_Policy_Cat_21</th>\n",
       "      <th>Reco_Policy_Cat_22</th>\n",
       "    </tr>\n",
       "  </thead>\n",
       "  <tbody>\n",
       "    <tr>\n",
       "      <th>0</th>\n",
       "      <td>C21</td>\n",
       "      <td>5173</td>\n",
       "      <td>1</td>\n",
       "      <td>1</td>\n",
       "      <td>73</td>\n",
       "      <td>73</td>\n",
       "      <td>0</td>\n",
       "      <td>15</td>\n",
       "      <td>3.0</td>\n",
       "      <td>22</td>\n",
       "      <td>...</td>\n",
       "      <td>0</td>\n",
       "      <td>0</td>\n",
       "      <td>0</td>\n",
       "      <td>0</td>\n",
       "      <td>0</td>\n",
       "      <td>0</td>\n",
       "      <td>0</td>\n",
       "      <td>0</td>\n",
       "      <td>0</td>\n",
       "      <td>1</td>\n",
       "    </tr>\n",
       "    <tr>\n",
       "      <th>1</th>\n",
       "      <td>C1</td>\n",
       "      <td>1436</td>\n",
       "      <td>1</td>\n",
       "      <td>1</td>\n",
       "      <td>75</td>\n",
       "      <td>75</td>\n",
       "      <td>0</td>\n",
       "      <td>6</td>\n",
       "      <td>2.0</td>\n",
       "      <td>17</td>\n",
       "      <td>...</td>\n",
       "      <td>0</td>\n",
       "      <td>0</td>\n",
       "      <td>0</td>\n",
       "      <td>0</td>\n",
       "      <td>1</td>\n",
       "      <td>0</td>\n",
       "      <td>0</td>\n",
       "      <td>0</td>\n",
       "      <td>0</td>\n",
       "      <td>0</td>\n",
       "    </tr>\n",
       "    <tr>\n",
       "      <th>2</th>\n",
       "      <td>C2</td>\n",
       "      <td>1656</td>\n",
       "      <td>0</td>\n",
       "      <td>1</td>\n",
       "      <td>22</td>\n",
       "      <td>22</td>\n",
       "      <td>0</td>\n",
       "      <td>1</td>\n",
       "      <td>3.0</td>\n",
       "      <td>11</td>\n",
       "      <td>...</td>\n",
       "      <td>0</td>\n",
       "      <td>0</td>\n",
       "      <td>0</td>\n",
       "      <td>0</td>\n",
       "      <td>0</td>\n",
       "      <td>0</td>\n",
       "      <td>0</td>\n",
       "      <td>0</td>\n",
       "      <td>0</td>\n",
       "      <td>0</td>\n",
       "    </tr>\n",
       "    <tr>\n",
       "      <th>3</th>\n",
       "      <td>C1</td>\n",
       "      <td>1084</td>\n",
       "      <td>1</td>\n",
       "      <td>1</td>\n",
       "      <td>71</td>\n",
       "      <td>71</td>\n",
       "      <td>0</td>\n",
       "      <td>15</td>\n",
       "      <td>3.0</td>\n",
       "      <td>22</td>\n",
       "      <td>...</td>\n",
       "      <td>0</td>\n",
       "      <td>0</td>\n",
       "      <td>0</td>\n",
       "      <td>0</td>\n",
       "      <td>0</td>\n",
       "      <td>0</td>\n",
       "      <td>0</td>\n",
       "      <td>0</td>\n",
       "      <td>0</td>\n",
       "      <td>1</td>\n",
       "    </tr>\n",
       "    <tr>\n",
       "      <th>4</th>\n",
       "      <td>C11</td>\n",
       "      <td>1559</td>\n",
       "      <td>0</td>\n",
       "      <td>1</td>\n",
       "      <td>60</td>\n",
       "      <td>60</td>\n",
       "      <td>0</td>\n",
       "      <td>15</td>\n",
       "      <td>3.0</td>\n",
       "      <td>17</td>\n",
       "      <td>...</td>\n",
       "      <td>0</td>\n",
       "      <td>0</td>\n",
       "      <td>0</td>\n",
       "      <td>0</td>\n",
       "      <td>1</td>\n",
       "      <td>0</td>\n",
       "      <td>0</td>\n",
       "      <td>0</td>\n",
       "      <td>0</td>\n",
       "      <td>0</td>\n",
       "    </tr>\n",
       "  </tbody>\n",
       "</table>\n",
       "<p>5 rows × 78 columns</p>\n",
       "</div>"
      ],
      "text/plain": [
       "  City_Code  Region_Code  Accomodation_Type  Reco_Insurance_Type  Upper_Age  \\\n",
       "0       C21         5173                  1                    1         73   \n",
       "1        C1         1436                  1                    1         75   \n",
       "2        C2         1656                  0                    1         22   \n",
       "3        C1         1084                  1                    1         71   \n",
       "4       C11         1559                  0                    1         60   \n",
       "\n",
       "   Lower_Age  Is_Spouse  Holding_Policy_Duration Holding_Policy_Type  \\\n",
       "0         73          0                       15                 3.0   \n",
       "1         75          0                        6                 2.0   \n",
       "2         22          0                        1                 3.0   \n",
       "3         71          0                       15                 3.0   \n",
       "4         60          0                       15                 3.0   \n",
       "\n",
       "  Reco_Policy_Cat  ...  Reco_Policy_Cat_13  Reco_Policy_Cat_14  \\\n",
       "0              22  ...                   0                   0   \n",
       "1              17  ...                   0                   0   \n",
       "2              11  ...                   0                   0   \n",
       "3              22  ...                   0                   0   \n",
       "4              17  ...                   0                   0   \n",
       "\n",
       "   Reco_Policy_Cat_15  Reco_Policy_Cat_16  Reco_Policy_Cat_17  \\\n",
       "0                   0                   0                   0   \n",
       "1                   0                   0                   1   \n",
       "2                   0                   0                   0   \n",
       "3                   0                   0                   0   \n",
       "4                   0                   0                   1   \n",
       "\n",
       "   Reco_Policy_Cat_18  Reco_Policy_Cat_19  Reco_Policy_Cat_20  \\\n",
       "0                   0                   0                   0   \n",
       "1                   0                   0                   0   \n",
       "2                   0                   0                   0   \n",
       "3                   0                   0                   0   \n",
       "4                   0                   0                   0   \n",
       "\n",
       "   Reco_Policy_Cat_21  Reco_Policy_Cat_22  \n",
       "0                   0                   1  \n",
       "1                   0                   0  \n",
       "2                   0                   0  \n",
       "3                   0                   1  \n",
       "4                   0                   0  \n",
       "\n",
       "[5 rows x 78 columns]"
      ]
     },
     "execution_count": 66,
     "metadata": {},
     "output_type": "execute_result"
    }
   ],
   "source": [
    "predictor.head()"
   ]
  },
  {
   "cell_type": "code",
   "execution_count": 67,
   "id": "8bef9d6f",
   "metadata": {},
   "outputs": [],
   "source": [
    "predictor.drop(['City_Code','Region_Code','Holding_Policy_Type','Reco_Policy_Cat'],axis=1,inplace=True)"
   ]
  },
  {
   "cell_type": "code",
   "execution_count": 68,
   "id": "1d42ec11",
   "metadata": {},
   "outputs": [
    {
     "data": {
      "text/plain": [
       "(4918, 74)"
      ]
     },
     "execution_count": 68,
     "metadata": {},
     "output_type": "execute_result"
    }
   ],
   "source": [
    "predictor.shape"
   ]
  },
  {
   "cell_type": "code",
   "execution_count": 69,
   "id": "d8572204",
   "metadata": {},
   "outputs": [],
   "source": [
    "from sklearn.preprocessing import StandardScaler"
   ]
  },
  {
   "cell_type": "code",
   "execution_count": 70,
   "id": "aaa15cb4",
   "metadata": {},
   "outputs": [],
   "source": [
    "scaler=StandardScaler()"
   ]
  },
  {
   "cell_type": "code",
   "execution_count": 71,
   "id": "028ba7f7",
   "metadata": {},
   "outputs": [],
   "source": [
    "predictor['Upper_Age']=scaler.fit_transform(predictor[['Upper_Age']])\n",
    "predictor['Lower_Age']=scaler.fit_transform(predictor[['Lower_Age']])\n",
    "predictor['Holding_Policy_Duration']=scaler.fit_transform(predictor[['Holding_Policy_Duration']])\n",
    "predictor['Reco_Policy_Premium']=scaler.fit_transform(predictor[['Reco_Policy_Premium']])"
   ]
  },
  {
   "cell_type": "code",
   "execution_count": 72,
   "id": "8b2a3a63",
   "metadata": {},
   "outputs": [
    {
     "data": {
      "text/html": [
       "<div>\n",
       "<style scoped>\n",
       "    .dataframe tbody tr th:only-of-type {\n",
       "        vertical-align: middle;\n",
       "    }\n",
       "\n",
       "    .dataframe tbody tr th {\n",
       "        vertical-align: top;\n",
       "    }\n",
       "\n",
       "    .dataframe thead th {\n",
       "        text-align: right;\n",
       "    }\n",
       "</style>\n",
       "<table border=\"1\" class=\"dataframe\">\n",
       "  <thead>\n",
       "    <tr style=\"text-align: right;\">\n",
       "      <th></th>\n",
       "      <th>Accomodation_Type</th>\n",
       "      <th>Reco_Insurance_Type</th>\n",
       "      <th>Upper_Age</th>\n",
       "      <th>Lower_Age</th>\n",
       "      <th>Is_Spouse</th>\n",
       "      <th>Holding_Policy_Duration</th>\n",
       "      <th>Reco_Policy_Premium</th>\n",
       "      <th>X1</th>\n",
       "      <th>X2</th>\n",
       "      <th>X3</th>\n",
       "      <th>...</th>\n",
       "      <th>Reco_Policy_Cat_13</th>\n",
       "      <th>Reco_Policy_Cat_14</th>\n",
       "      <th>Reco_Policy_Cat_15</th>\n",
       "      <th>Reco_Policy_Cat_16</th>\n",
       "      <th>Reco_Policy_Cat_17</th>\n",
       "      <th>Reco_Policy_Cat_18</th>\n",
       "      <th>Reco_Policy_Cat_19</th>\n",
       "      <th>Reco_Policy_Cat_20</th>\n",
       "      <th>Reco_Policy_Cat_21</th>\n",
       "      <th>Reco_Policy_Cat_22</th>\n",
       "    </tr>\n",
       "  </thead>\n",
       "  <tbody>\n",
       "    <tr>\n",
       "      <th>0</th>\n",
       "      <td>1</td>\n",
       "      <td>1</td>\n",
       "      <td>1.629301</td>\n",
       "      <td>1.752505</td>\n",
       "      <td>0</td>\n",
       "      <td>0.909482</td>\n",
       "      <td>0.620342</td>\n",
       "      <td>0.0</td>\n",
       "      <td>0.0</td>\n",
       "      <td>0.0</td>\n",
       "      <td>...</td>\n",
       "      <td>0</td>\n",
       "      <td>0</td>\n",
       "      <td>0</td>\n",
       "      <td>0</td>\n",
       "      <td>0</td>\n",
       "      <td>0</td>\n",
       "      <td>0</td>\n",
       "      <td>0</td>\n",
       "      <td>0</td>\n",
       "      <td>1</td>\n",
       "    </tr>\n",
       "    <tr>\n",
       "      <th>1</th>\n",
       "      <td>1</td>\n",
       "      <td>1</td>\n",
       "      <td>1.744895</td>\n",
       "      <td>1.868158</td>\n",
       "      <td>0</td>\n",
       "      <td>-0.680827</td>\n",
       "      <td>0.826979</td>\n",
       "      <td>0.0</td>\n",
       "      <td>0.0</td>\n",
       "      <td>1.0</td>\n",
       "      <td>...</td>\n",
       "      <td>0</td>\n",
       "      <td>0</td>\n",
       "      <td>0</td>\n",
       "      <td>0</td>\n",
       "      <td>1</td>\n",
       "      <td>0</td>\n",
       "      <td>0</td>\n",
       "      <td>0</td>\n",
       "      <td>0</td>\n",
       "      <td>0</td>\n",
       "    </tr>\n",
       "    <tr>\n",
       "      <th>2</th>\n",
       "      <td>0</td>\n",
       "      <td>1</td>\n",
       "      <td>-1.318361</td>\n",
       "      <td>-1.196650</td>\n",
       "      <td>0</td>\n",
       "      <td>-1.564333</td>\n",
       "      <td>-0.834381</td>\n",
       "      <td>1.0</td>\n",
       "      <td>0.0</td>\n",
       "      <td>0.0</td>\n",
       "      <td>...</td>\n",
       "      <td>0</td>\n",
       "      <td>0</td>\n",
       "      <td>0</td>\n",
       "      <td>0</td>\n",
       "      <td>0</td>\n",
       "      <td>0</td>\n",
       "      <td>0</td>\n",
       "      <td>0</td>\n",
       "      <td>0</td>\n",
       "      <td>0</td>\n",
       "    </tr>\n",
       "    <tr>\n",
       "      <th>3</th>\n",
       "      <td>1</td>\n",
       "      <td>1</td>\n",
       "      <td>1.513706</td>\n",
       "      <td>1.636851</td>\n",
       "      <td>0</td>\n",
       "      <td>0.909482</td>\n",
       "      <td>0.523912</td>\n",
       "      <td>0.0</td>\n",
       "      <td>0.0</td>\n",
       "      <td>0.0</td>\n",
       "      <td>...</td>\n",
       "      <td>0</td>\n",
       "      <td>0</td>\n",
       "      <td>0</td>\n",
       "      <td>0</td>\n",
       "      <td>0</td>\n",
       "      <td>0</td>\n",
       "      <td>0</td>\n",
       "      <td>0</td>\n",
       "      <td>0</td>\n",
       "      <td>1</td>\n",
       "    </tr>\n",
       "    <tr>\n",
       "      <th>4</th>\n",
       "      <td>0</td>\n",
       "      <td>1</td>\n",
       "      <td>0.877936</td>\n",
       "      <td>1.000759</td>\n",
       "      <td>0</td>\n",
       "      <td>0.909482</td>\n",
       "      <td>-0.022528</td>\n",
       "      <td>0.0</td>\n",
       "      <td>0.0</td>\n",
       "      <td>0.0</td>\n",
       "      <td>...</td>\n",
       "      <td>0</td>\n",
       "      <td>0</td>\n",
       "      <td>0</td>\n",
       "      <td>0</td>\n",
       "      <td>1</td>\n",
       "      <td>0</td>\n",
       "      <td>0</td>\n",
       "      <td>0</td>\n",
       "      <td>0</td>\n",
       "      <td>0</td>\n",
       "    </tr>\n",
       "    <tr>\n",
       "      <th>...</th>\n",
       "      <td>...</td>\n",
       "      <td>...</td>\n",
       "      <td>...</td>\n",
       "      <td>...</td>\n",
       "      <td>...</td>\n",
       "      <td>...</td>\n",
       "      <td>...</td>\n",
       "      <td>...</td>\n",
       "      <td>...</td>\n",
       "      <td>...</td>\n",
       "      <td>...</td>\n",
       "      <td>...</td>\n",
       "      <td>...</td>\n",
       "      <td>...</td>\n",
       "      <td>...</td>\n",
       "      <td>...</td>\n",
       "      <td>...</td>\n",
       "      <td>...</td>\n",
       "      <td>...</td>\n",
       "      <td>...</td>\n",
       "      <td>...</td>\n",
       "    </tr>\n",
       "    <tr>\n",
       "      <th>4913</th>\n",
       "      <td>1</td>\n",
       "      <td>1</td>\n",
       "      <td>1.398112</td>\n",
       "      <td>1.521198</td>\n",
       "      <td>0</td>\n",
       "      <td>0.732781</td>\n",
       "      <td>1.341275</td>\n",
       "      <td>0.0</td>\n",
       "      <td>0.0</td>\n",
       "      <td>0.0</td>\n",
       "      <td>...</td>\n",
       "      <td>0</td>\n",
       "      <td>0</td>\n",
       "      <td>0</td>\n",
       "      <td>0</td>\n",
       "      <td>1</td>\n",
       "      <td>0</td>\n",
       "      <td>0</td>\n",
       "      <td>0</td>\n",
       "      <td>0</td>\n",
       "      <td>0</td>\n",
       "    </tr>\n",
       "    <tr>\n",
       "      <th>4914</th>\n",
       "      <td>1</td>\n",
       "      <td>1</td>\n",
       "      <td>-0.624794</td>\n",
       "      <td>-0.502731</td>\n",
       "      <td>0</td>\n",
       "      <td>-0.857528</td>\n",
       "      <td>-0.420495</td>\n",
       "      <td>1.0</td>\n",
       "      <td>0.0</td>\n",
       "      <td>0.0</td>\n",
       "      <td>...</td>\n",
       "      <td>0</td>\n",
       "      <td>0</td>\n",
       "      <td>0</td>\n",
       "      <td>0</td>\n",
       "      <td>0</td>\n",
       "      <td>0</td>\n",
       "      <td>0</td>\n",
       "      <td>0</td>\n",
       "      <td>0</td>\n",
       "      <td>1</td>\n",
       "    </tr>\n",
       "    <tr>\n",
       "      <th>4915</th>\n",
       "      <td>0</td>\n",
       "      <td>1</td>\n",
       "      <td>-1.260564</td>\n",
       "      <td>-1.138823</td>\n",
       "      <td>0</td>\n",
       "      <td>0.909482</td>\n",
       "      <td>-1.600315</td>\n",
       "      <td>0.0</td>\n",
       "      <td>1.0</td>\n",
       "      <td>0.0</td>\n",
       "      <td>...</td>\n",
       "      <td>0</td>\n",
       "      <td>0</td>\n",
       "      <td>0</td>\n",
       "      <td>0</td>\n",
       "      <td>0</td>\n",
       "      <td>1</td>\n",
       "      <td>0</td>\n",
       "      <td>0</td>\n",
       "      <td>0</td>\n",
       "      <td>0</td>\n",
       "    </tr>\n",
       "    <tr>\n",
       "      <th>4916</th>\n",
       "      <td>0</td>\n",
       "      <td>1</td>\n",
       "      <td>0.242166</td>\n",
       "      <td>0.364667</td>\n",
       "      <td>0</td>\n",
       "      <td>-0.504126</td>\n",
       "      <td>-0.066611</td>\n",
       "      <td>1.0</td>\n",
       "      <td>0.0</td>\n",
       "      <td>0.0</td>\n",
       "      <td>...</td>\n",
       "      <td>0</td>\n",
       "      <td>0</td>\n",
       "      <td>1</td>\n",
       "      <td>0</td>\n",
       "      <td>0</td>\n",
       "      <td>0</td>\n",
       "      <td>0</td>\n",
       "      <td>0</td>\n",
       "      <td>0</td>\n",
       "      <td>0</td>\n",
       "    </tr>\n",
       "    <tr>\n",
       "      <th>4917</th>\n",
       "      <td>1</td>\n",
       "      <td>0</td>\n",
       "      <td>0.126571</td>\n",
       "      <td>-0.155772</td>\n",
       "      <td>1</td>\n",
       "      <td>0.909482</td>\n",
       "      <td>2.089760</td>\n",
       "      <td>0.0</td>\n",
       "      <td>0.0</td>\n",
       "      <td>0.0</td>\n",
       "      <td>...</td>\n",
       "      <td>0</td>\n",
       "      <td>0</td>\n",
       "      <td>0</td>\n",
       "      <td>0</td>\n",
       "      <td>0</td>\n",
       "      <td>0</td>\n",
       "      <td>1</td>\n",
       "      <td>0</td>\n",
       "      <td>0</td>\n",
       "      <td>0</td>\n",
       "    </tr>\n",
       "  </tbody>\n",
       "</table>\n",
       "<p>4918 rows × 74 columns</p>\n",
       "</div>"
      ],
      "text/plain": [
       "      Accomodation_Type  Reco_Insurance_Type  Upper_Age  Lower_Age  Is_Spouse  \\\n",
       "0                     1                    1   1.629301   1.752505          0   \n",
       "1                     1                    1   1.744895   1.868158          0   \n",
       "2                     0                    1  -1.318361  -1.196650          0   \n",
       "3                     1                    1   1.513706   1.636851          0   \n",
       "4                     0                    1   0.877936   1.000759          0   \n",
       "...                 ...                  ...        ...        ...        ...   \n",
       "4913                  1                    1   1.398112   1.521198          0   \n",
       "4914                  1                    1  -0.624794  -0.502731          0   \n",
       "4915                  0                    1  -1.260564  -1.138823          0   \n",
       "4916                  0                    1   0.242166   0.364667          0   \n",
       "4917                  1                    0   0.126571  -0.155772          1   \n",
       "\n",
       "      Holding_Policy_Duration  Reco_Policy_Premium   X1   X2   X3  ...  \\\n",
       "0                    0.909482             0.620342  0.0  0.0  0.0  ...   \n",
       "1                   -0.680827             0.826979  0.0  0.0  1.0  ...   \n",
       "2                   -1.564333            -0.834381  1.0  0.0  0.0  ...   \n",
       "3                    0.909482             0.523912  0.0  0.0  0.0  ...   \n",
       "4                    0.909482            -0.022528  0.0  0.0  0.0  ...   \n",
       "...                       ...                  ...  ...  ...  ...  ...   \n",
       "4913                 0.732781             1.341275  0.0  0.0  0.0  ...   \n",
       "4914                -0.857528            -0.420495  1.0  0.0  0.0  ...   \n",
       "4915                 0.909482            -1.600315  0.0  1.0  0.0  ...   \n",
       "4916                -0.504126            -0.066611  1.0  0.0  0.0  ...   \n",
       "4917                 0.909482             2.089760  0.0  0.0  0.0  ...   \n",
       "\n",
       "      Reco_Policy_Cat_13  Reco_Policy_Cat_14  Reco_Policy_Cat_15  \\\n",
       "0                      0                   0                   0   \n",
       "1                      0                   0                   0   \n",
       "2                      0                   0                   0   \n",
       "3                      0                   0                   0   \n",
       "4                      0                   0                   0   \n",
       "...                  ...                 ...                 ...   \n",
       "4913                   0                   0                   0   \n",
       "4914                   0                   0                   0   \n",
       "4915                   0                   0                   0   \n",
       "4916                   0                   0                   1   \n",
       "4917                   0                   0                   0   \n",
       "\n",
       "      Reco_Policy_Cat_16  Reco_Policy_Cat_17  Reco_Policy_Cat_18  \\\n",
       "0                      0                   0                   0   \n",
       "1                      0                   1                   0   \n",
       "2                      0                   0                   0   \n",
       "3                      0                   0                   0   \n",
       "4                      0                   1                   0   \n",
       "...                  ...                 ...                 ...   \n",
       "4913                   0                   1                   0   \n",
       "4914                   0                   0                   0   \n",
       "4915                   0                   0                   1   \n",
       "4916                   0                   0                   0   \n",
       "4917                   0                   0                   0   \n",
       "\n",
       "      Reco_Policy_Cat_19  Reco_Policy_Cat_20  Reco_Policy_Cat_21  \\\n",
       "0                      0                   0                   0   \n",
       "1                      0                   0                   0   \n",
       "2                      0                   0                   0   \n",
       "3                      0                   0                   0   \n",
       "4                      0                   0                   0   \n",
       "...                  ...                 ...                 ...   \n",
       "4913                   0                   0                   0   \n",
       "4914                   0                   0                   0   \n",
       "4915                   0                   0                   0   \n",
       "4916                   0                   0                   0   \n",
       "4917                   1                   0                   0   \n",
       "\n",
       "      Reco_Policy_Cat_22  \n",
       "0                      1  \n",
       "1                      0  \n",
       "2                      0  \n",
       "3                      1  \n",
       "4                      0  \n",
       "...                  ...  \n",
       "4913                   0  \n",
       "4914                   1  \n",
       "4915                   0  \n",
       "4916                   0  \n",
       "4917                   0  \n",
       "\n",
       "[4918 rows x 74 columns]"
      ]
     },
     "execution_count": 72,
     "metadata": {},
     "output_type": "execute_result"
    }
   ],
   "source": [
    "predictor"
   ]
  },
  {
   "cell_type": "code",
   "execution_count": 74,
   "id": "4e285426",
   "metadata": {},
   "outputs": [],
   "source": [
    "from sklearn.model_selection import train_test_split"
   ]
  },
  {
   "cell_type": "code",
   "execution_count": 75,
   "id": "da33e666",
   "metadata": {},
   "outputs": [],
   "source": [
    "x_train,x_test,y_train,y_test=train_test_split(predictor,response,test_size=0.2)"
   ]
  },
  {
   "cell_type": "code",
   "execution_count": 81,
   "id": "3162d8eb",
   "metadata": {},
   "outputs": [
    {
     "name": "stdout",
     "output_type": "stream",
     "text": [
      "(3934,) (984,)\n"
     ]
    }
   ],
   "source": [
    "print(y_train.shape,y_test.shape)"
   ]
  },
  {
   "cell_type": "markdown",
   "id": "5f67b0a0",
   "metadata": {},
   "source": [
    "## Model Building - Logistic Regression, SVM, KNN, DT, RF, Gradient Boosting, AdaBoosting etc\n",
    "\n",
    "For all the algorithms mentioned above, perform below mentioned steps.\n",
    "\n",
    "**To Do:**\n",
    "1. Train the Model using `Accuracy` as the evaluation metric\n",
    "2. Predict\n",
    "3. Evaluate use Accuracy, Confusion Matrix, Precision & Recall, F1-score and ROC AUC to understand model performance\n",
    "4. Compare the perormance of all the models"
   ]
  },
  {
   "cell_type": "code",
   "execution_count": null,
   "id": "5c702a91",
   "metadata": {},
   "outputs": [],
   "source": []
  },
  {
   "cell_type": "markdown",
   "id": "f2df2467",
   "metadata": {},
   "source": [
    "# Logistic Regression"
   ]
  },
  {
   "cell_type": "code",
   "execution_count": 82,
   "id": "28a5a17a",
   "metadata": {},
   "outputs": [],
   "source": [
    "from sklearn.linear_model import LogisticRegression\n",
    "LR_model=LogisticRegression(max_iter=10000)"
   ]
  },
  {
   "cell_type": "code",
   "execution_count": 83,
   "id": "66152592",
   "metadata": {},
   "outputs": [
    {
     "name": "stdout",
     "output_type": "stream",
     "text": [
      "Training Accuracy :  0.6054905948144382\n"
     ]
    }
   ],
   "source": [
    "LR_model.fit(x_train,y_train)\n",
    "print('Training Accuracy : ',LR_model.score(x_train,y_train))"
   ]
  },
  {
   "cell_type": "code",
   "execution_count": 84,
   "id": "db636d2d",
   "metadata": {},
   "outputs": [
    {
     "name": "stdout",
     "output_type": "stream",
     "text": [
      "Testing Accuracy :  0.5660569105691057\n"
     ]
    }
   ],
   "source": [
    "y_pred=LR_model.predict(x_test)\n",
    "print('Testing Accuracy : ',LR_model.score(x_test,y_test))"
   ]
  },
  {
   "cell_type": "code",
   "execution_count": 85,
   "id": "f9e0dc70",
   "metadata": {},
   "outputs": [],
   "source": [
    "from sklearn.metrics import accuracy_score,confusion_matrix,classification_report,precision_score,recall_score,f1_score,roc_auc_score"
   ]
  },
  {
   "cell_type": "code",
   "execution_count": 86,
   "id": "dd96cb83",
   "metadata": {},
   "outputs": [
    {
     "data": {
      "text/plain": [
       "array([[292, 185],\n",
       "       [242, 265]], dtype=int64)"
      ]
     },
     "execution_count": 86,
     "metadata": {},
     "output_type": "execute_result"
    }
   ],
   "source": [
    "confusion_matrix(y_test,y_pred)"
   ]
  },
  {
   "cell_type": "code",
   "execution_count": 87,
   "id": "b8315ee4",
   "metadata": {},
   "outputs": [
    {
     "name": "stdout",
     "output_type": "stream",
     "text": [
      "              precision    recall  f1-score   support\n",
      "\n",
      "           0       0.55      0.61      0.58       477\n",
      "           1       0.59      0.52      0.55       507\n",
      "\n",
      "    accuracy                           0.57       984\n",
      "   macro avg       0.57      0.57      0.57       984\n",
      "weighted avg       0.57      0.57      0.57       984\n",
      "\n",
      "\n",
      "Accuracy is :  0.5660569105691057\n",
      "Precission :  0.5888888888888889\n",
      "Recall :  0.5226824457593688\n",
      "f1-score :  0.5538140020898642\n",
      "Roc Auc score :  0.567420887449915\n"
     ]
    }
   ],
   "source": [
    "print(classification_report(y_test,y_pred))\n",
    "print()\n",
    "print('Accuracy is : ',accuracy_score(y_test,y_pred))\n",
    "print('Precission : ',precision_score(y_test,y_pred))\n",
    "print('Recall : ',recall_score(y_test,y_pred))\n",
    "print('f1-score : ',f1_score(y_test,y_pred))\n",
    "print('Roc Auc score : ',roc_auc_score(y_test,y_pred))"
   ]
  },
  {
   "cell_type": "code",
   "execution_count": 88,
   "id": "8b2a0148",
   "metadata": {},
   "outputs": [],
   "source": [
    "y_pred_proba = LR_model.predict_proba(x_test)[:,1]"
   ]
  },
  {
   "cell_type": "code",
   "execution_count": 89,
   "id": "7dff909a",
   "metadata": {},
   "outputs": [
    {
     "name": "stdout",
     "output_type": "stream",
     "text": [
      "Area under the ROC curve :  0.609318596256187\n"
     ]
    }
   ],
   "source": [
    "from sklearn.metrics import roc_curve,auc\n",
    "[fpr, tpr, thr] = roc_curve(y_test, y_pred_proba)\n",
    "print('Area under the ROC curve : ',auc(fpr, tpr))"
   ]
  },
  {
   "cell_type": "code",
   "execution_count": 90,
   "id": "77e4b8e2",
   "metadata": {},
   "outputs": [
    {
     "data": {
      "image/png": "[encoded data removed]",
      "text/plain": [
       "<Figure size 432x288 with 1 Axes>"
      ]
     },
     "metadata": {
      "needs_background": "light"
     },
     "output_type": "display_data"
    }
   ],
   "source": [
    "plt.figure()\n",
    "plt.plot(fpr, tpr, color='coral', label = 'ROC Curve with Area Under Curve = '+str(auc (fpr, tpr)))\n",
    "plt.title('ROC curve for Logistic Regression',fontsize=15)\n",
    "plt.xlabel('False positive Rate (1 - specificity)')\n",
    "plt.ylabel('True Positive Rate ')\n",
    "plt.legend(loc='lower right')\n",
    "plt.show()"
   ]
  },
  {
   "cell_type": "code",
   "execution_count": 92,
   "id": "41bb5d19",
   "metadata": {},
   "outputs": [],
   "source": [
    "performance_metrics_with_default_parameters = pd.DataFrame(index=['Accuracy Score','Precision','Recall','F1 Score','AUC'])"
   ]
  },
  {
   "cell_type": "code",
   "execution_count": 93,
   "id": "87feaec6",
   "metadata": {},
   "outputs": [],
   "source": [
    "performance_metrics_with_default_parameters['Logistic Regression']=[accuracy_score(y_test,y_pred),\n",
    "                                                                    precision_score(y_test,y_pred),\n",
    "                                                                    recall_score(y_test,y_pred),\n",
    "                                                                    f1_score(y_test,y_pred),\n",
    "                                                                    auc(fpr, tpr)]"
   ]
  },
  {
   "cell_type": "code",
   "execution_count": 94,
   "id": "27dda99e",
   "metadata": {},
   "outputs": [
    {
     "data": {
      "text/html": [
       "<div>\n",
       "<style scoped>\n",
       "    .dataframe tbody tr th:only-of-type {\n",
       "        vertical-align: middle;\n",
       "    }\n",
       "\n",
       "    .dataframe tbody tr th {\n",
       "        vertical-align: top;\n",
       "    }\n",
       "\n",
       "    .dataframe thead th {\n",
       "        text-align: right;\n",
       "    }\n",
       "</style>\n",
       "<table border=\"1\" class=\"dataframe\">\n",
       "  <thead>\n",
       "    <tr style=\"text-align: right;\">\n",
       "      <th></th>\n",
       "      <th>Logistic Regression</th>\n",
       "    </tr>\n",
       "  </thead>\n",
       "  <tbody>\n",
       "    <tr>\n",
       "      <th>Accuracy Score</th>\n",
       "      <td>0.566057</td>\n",
       "    </tr>\n",
       "    <tr>\n",
       "      <th>Precision</th>\n",
       "      <td>0.588889</td>\n",
       "    </tr>\n",
       "    <tr>\n",
       "      <th>Recall</th>\n",
       "      <td>0.522682</td>\n",
       "    </tr>\n",
       "    <tr>\n",
       "      <th>F1 Score</th>\n",
       "      <td>0.553814</td>\n",
       "    </tr>\n",
       "    <tr>\n",
       "      <th>AUC</th>\n",
       "      <td>0.609319</td>\n",
       "    </tr>\n",
       "  </tbody>\n",
       "</table>\n",
       "</div>"
      ],
      "text/plain": [
       "                Logistic Regression\n",
       "Accuracy Score             0.566057\n",
       "Precision                  0.588889\n",
       "Recall                     0.522682\n",
       "F1 Score                   0.553814\n",
       "AUC                        0.609319"
      ]
     },
     "execution_count": 94,
     "metadata": {},
     "output_type": "execute_result"
    }
   ],
   "source": [
    "performance_metrics_with_default_parameters"
   ]
  },
  {
   "cell_type": "markdown",
   "id": "a1ac755a",
   "metadata": {},
   "source": [
    "# SVM"
   ]
  },
  {
   "cell_type": "code",
   "execution_count": 95,
   "id": "c4898463",
   "metadata": {},
   "outputs": [],
   "source": [
    "from sklearn.svm import SVC\n",
    "svm_model=SVC(probability=True)"
   ]
  },
  {
   "cell_type": "code",
   "execution_count": 96,
   "id": "78db4909",
   "metadata": {},
   "outputs": [
    {
     "name": "stdout",
     "output_type": "stream",
     "text": [
      "Training Accuracy :  0.6814946619217082\n"
     ]
    }
   ],
   "source": [
    "svm_model.fit(x_train,y_train)\n",
    "print('Training Accuracy : ',svm_model.score(x_train,y_train))"
   ]
  },
  {
   "cell_type": "code",
   "execution_count": 97,
   "id": "f032cdea",
   "metadata": {},
   "outputs": [
    {
     "name": "stdout",
     "output_type": "stream",
     "text": [
      "Testing Accuracy :  0.5772357723577236\n"
     ]
    }
   ],
   "source": [
    "y_pred=svm_model.predict(x_test)\n",
    "print('Testing Accuracy : ',svm_model.score(x_test,y_test))"
   ]
  },
  {
   "cell_type": "code",
   "execution_count": 98,
   "id": "a2249c6f",
   "metadata": {},
   "outputs": [
    {
     "data": {
      "text/plain": [
       "array([[280, 197],\n",
       "       [219, 288]], dtype=int64)"
      ]
     },
     "execution_count": 98,
     "metadata": {},
     "output_type": "execute_result"
    }
   ],
   "source": [
    "confusion_matrix(y_test,y_pred)"
   ]
  },
  {
   "cell_type": "code",
   "execution_count": null,
   "id": "06d578f4",
   "metadata": {},
   "outputs": [],
   "source": []
  },
  {
   "cell_type": "code",
   "execution_count": 99,
   "id": "785d2f44",
   "metadata": {},
   "outputs": [],
   "source": [
    "y_pred_proba = svm_model.predict_proba(x_test)[:,1]"
   ]
  },
  {
   "cell_type": "code",
   "execution_count": 100,
   "id": "9aabab47",
   "metadata": {},
   "outputs": [
    {
     "name": "stdout",
     "output_type": "stream",
     "text": [
      "Area under the ROC curve :  0.6069037665554357\n"
     ]
    }
   ],
   "source": [
    "[fpr, tpr, thr] = roc_curve(y_test, y_pred_proba)\n",
    "print('Area under the ROC curve : ',auc(fpr, tpr))"
   ]
  },
  {
   "cell_type": "code",
   "execution_count": 101,
   "id": "11b420f6",
   "metadata": {},
   "outputs": [
    {
     "data": {
      "image/png": "[encoded data removed]",
      "text/plain": [
       "<Figure size 432x288 with 1 Axes>"
      ]
     },
     "metadata": {
      "needs_background": "light"
     },
     "output_type": "display_data"
    }
   ],
   "source": [
    "plt.figure()\n",
    "plt.plot(fpr, tpr, color='coral', label = 'ROC Curve with Area Under Curve = '+str(auc (fpr, tpr)))\n",
    "plt.title('ROC curve for SVM ',fontsize=15)\n",
    "plt.xlabel('False positive Rate (1 - specificity)')\n",
    "plt.ylabel('True Positive Rate ')\n",
    "plt.legend(loc='lower right')\n",
    "plt.show()"
   ]
  },
  {
   "cell_type": "code",
   "execution_count": 102,
   "id": "a374c157",
   "metadata": {},
   "outputs": [],
   "source": [
    "performance_metrics_with_default_parameters['SVM']=[accuracy_score(y_test,y_pred),\n",
    "                                                                    precision_score(y_test,y_pred),\n",
    "                                                                    recall_score(y_test,y_pred),\n",
    "                                                                    f1_score(y_test,y_pred),\n",
    "                                                                    auc(fpr, tpr)]"
   ]
  },
  {
   "cell_type": "code",
   "execution_count": null,
   "id": "c1add373",
   "metadata": {},
   "outputs": [],
   "source": []
  },
  {
   "cell_type": "markdown",
   "id": "8554d2ac",
   "metadata": {},
   "source": [
    "# KNN "
   ]
  },
  {
   "cell_type": "code",
   "execution_count": 103,
   "id": "7d2b812c",
   "metadata": {},
   "outputs": [],
   "source": [
    "from sklearn.neighbors import KNeighborsClassifier\n",
    "knn_model=KNeighborsClassifier()"
   ]
  },
  {
   "cell_type": "code",
   "execution_count": 104,
   "id": "0ce8a799",
   "metadata": {},
   "outputs": [
    {
     "name": "stdout",
     "output_type": "stream",
     "text": [
      "Training Accuracy :  0.7186070157600407\n"
     ]
    }
   ],
   "source": [
    "knn_model.fit(x_train,y_train)\n",
    "print('Training Accuracy : ',knn_model.score(x_train,y_train))"
   ]
  },
  {
   "cell_type": "code",
   "execution_count": 105,
   "id": "38d5dcf6",
   "metadata": {},
   "outputs": [
    {
     "name": "stdout",
     "output_type": "stream",
     "text": [
      "Testing Accuracy :  0.5193089430894309\n"
     ]
    }
   ],
   "source": [
    "y_pred=knn_model.predict(x_test)\n",
    "print('Testing Accuracy : ',knn_model.score(x_test,y_test))"
   ]
  },
  {
   "cell_type": "code",
   "execution_count": 106,
   "id": "5c9e1276",
   "metadata": {},
   "outputs": [
    {
     "data": {
      "text/plain": [
       "array([[246, 231],\n",
       "       [242, 265]], dtype=int64)"
      ]
     },
     "execution_count": 106,
     "metadata": {},
     "output_type": "execute_result"
    }
   ],
   "source": [
    "confusion_matrix(y_test,y_pred)"
   ]
  },
  {
   "cell_type": "code",
   "execution_count": 107,
   "id": "79868bcb",
   "metadata": {},
   "outputs": [
    {
     "name": "stdout",
     "output_type": "stream",
     "text": [
      "              precision    recall  f1-score   support\n",
      "\n",
      "           0       0.50      0.52      0.51       477\n",
      "           1       0.53      0.52      0.53       507\n",
      "\n",
      "    accuracy                           0.52       984\n",
      "   macro avg       0.52      0.52      0.52       984\n",
      "weighted avg       0.52      0.52      0.52       984\n",
      "\n",
      "\n",
      "Accuracy is :  0.5193089430894309\n",
      "Precission :  0.5342741935483871\n",
      "Recall :  0.5226824457593688\n",
      "f1-score :  0.5284147557328016\n",
      "Roc Auc score :  0.5192028580998103\n"
     ]
    }
   ],
   "source": [
    "print(classification_report(y_test,y_pred))\n",
    "print()\n",
    "print('Accuracy is : ',accuracy_score(y_test,y_pred))\n",
    "print('Precission : ',precision_score(y_test,y_pred))\n",
    "print('Recall : ',recall_score(y_test,y_pred))\n",
    "print('f1-score : ',f1_score(y_test,y_pred))\n",
    "print('Roc Auc score : ',roc_auc_score(y_test,y_pred))"
   ]
  },
  {
   "cell_type": "code",
   "execution_count": 108,
   "id": "8de90b6c",
   "metadata": {},
   "outputs": [],
   "source": [
    "y_pred_proba = knn_model.predict_proba(x_test)[:,1]"
   ]
  },
  {
   "cell_type": "code",
   "execution_count": 109,
   "id": "1853844e",
   "metadata": {},
   "outputs": [
    {
     "name": "stdout",
     "output_type": "stream",
     "text": [
      "Area under the ROC curve :  0.5290048337943838\n"
     ]
    }
   ],
   "source": [
    "[fpr, tpr, thr] = roc_curve(y_test, y_pred_proba)\n",
    "print('Area under the ROC curve : ',auc(fpr, tpr))"
   ]
  },
  {
   "cell_type": "code",
   "execution_count": 110,
   "id": "ca914809",
   "metadata": {},
   "outputs": [
    {
     "data": {
      "image/png": "[encoded data removed]",
      "text/plain": [
       "<Figure size 432x288 with 1 Axes>"
      ]
     },
     "metadata": {
      "needs_background": "light"
     },
     "output_type": "display_data"
    }
   ],
   "source": [
    "plt.figure()\n",
    "plt.plot(fpr, tpr, color='coral', label = 'ROC Curve with Area Under Curve = '+str(auc (fpr, tpr)))\n",
    "plt.title('ROC curve for KNN',fontsize=15)\n",
    "plt.xlabel('False positive Rate (1 - specificity)')\n",
    "plt.ylabel('True Positive Rate ')\n",
    "plt.legend(loc='lower right')\n",
    "plt.show()"
   ]
  },
  {
   "cell_type": "code",
   "execution_count": 111,
   "id": "97949be3",
   "metadata": {},
   "outputs": [],
   "source": [
    "performance_metrics_with_default_parameters['KNN']=[accuracy_score(y_test,y_pred),\n",
    "                                                                    precision_score(y_test,y_pred),\n",
    "                                                                    recall_score(y_test,y_pred),\n",
    "                                                                    f1_score(y_test,y_pred),\n",
    "                                                                    auc(fpr, tpr)]"
   ]
  },
  {
   "cell_type": "code",
   "execution_count": null,
   "id": "93e04527",
   "metadata": {},
   "outputs": [],
   "source": []
  },
  {
   "cell_type": "markdown",
   "id": "c490c2f2",
   "metadata": {},
   "source": [
    "# Decision Tree"
   ]
  },
  {
   "cell_type": "code",
   "execution_count": 112,
   "id": "9408fc61",
   "metadata": {},
   "outputs": [],
   "source": [
    "from sklearn.tree import DecisionTreeClassifier\n",
    "dt_model=DecisionTreeClassifier()"
   ]
  },
  {
   "cell_type": "code",
   "execution_count": 113,
   "id": "f0cbf74d",
   "metadata": {},
   "outputs": [
    {
     "name": "stdout",
     "output_type": "stream",
     "text": [
      "Training Accuracy :  1.0\n"
     ]
    }
   ],
   "source": [
    "dt_model.fit(x_train,y_train)\n",
    "print('Training Accuracy : ',dt_model.score(x_train,y_train))"
   ]
  },
  {
   "cell_type": "code",
   "execution_count": 114,
   "id": "9f10e95e",
   "metadata": {},
   "outputs": [
    {
     "name": "stdout",
     "output_type": "stream",
     "text": [
      "Testing Accuracy :  0.5254065040650406\n"
     ]
    }
   ],
   "source": [
    "y_pred=dt_model.predict(x_test)\n",
    "print('Testing Accuracy : ',dt_model.score(x_test,y_test))"
   ]
  },
  {
   "cell_type": "code",
   "execution_count": 115,
   "id": "10944252",
   "metadata": {},
   "outputs": [
    {
     "data": {
      "text/plain": [
       "array([[256, 221],\n",
       "       [246, 261]], dtype=int64)"
      ]
     },
     "execution_count": 115,
     "metadata": {},
     "output_type": "execute_result"
    }
   ],
   "source": [
    "confusion_matrix(y_test,y_pred)"
   ]
  },
  {
   "cell_type": "code",
   "execution_count": 116,
   "id": "31912451",
   "metadata": {},
   "outputs": [
    {
     "name": "stdout",
     "output_type": "stream",
     "text": [
      "              precision    recall  f1-score   support\n",
      "\n",
      "           0       0.51      0.54      0.52       477\n",
      "           1       0.54      0.51      0.53       507\n",
      "\n",
      "    accuracy                           0.53       984\n",
      "   macro avg       0.53      0.53      0.53       984\n",
      "weighted avg       0.53      0.53      0.53       984\n",
      "\n",
      "\n",
      "Accuracy is :  0.5254065040650406\n",
      "Precission :  0.5414937759336099\n",
      "Recall :  0.514792899408284\n",
      "f1-score :  0.5278058645096055\n",
      "Roc Auc score :  0.5257402652177688\n"
     ]
    }
   ],
   "source": [
    "print(classification_report(y_test,y_pred))\n",
    "print()\n",
    "print('Accuracy is : ',accuracy_score(y_test,y_pred))\n",
    "print('Precission : ',precision_score(y_test,y_pred))\n",
    "print('Recall : ',recall_score(y_test,y_pred))\n",
    "print('f1-score : ',f1_score(y_test,y_pred))\n",
    "print('Roc Auc score : ',roc_auc_score(y_test,y_pred))"
   ]
  },
  {
   "cell_type": "code",
   "execution_count": 117,
   "id": "07a171b7",
   "metadata": {},
   "outputs": [],
   "source": [
    "y_pred_proba = dt_model.predict_proba(x_test)[:,1]"
   ]
  },
  {
   "cell_type": "code",
   "execution_count": 118,
   "id": "41202936",
   "metadata": {},
   "outputs": [
    {
     "name": "stdout",
     "output_type": "stream",
     "text": [
      "Area under the ROC curve :  0.5257402652177688\n"
     ]
    }
   ],
   "source": [
    "[fpr, tpr, thr] = roc_curve(y_test, y_pred_proba)\n",
    "print('Area under the ROC curve : ',auc(fpr, tpr))"
   ]
  },
  {
   "cell_type": "code",
   "execution_count": 119,
   "id": "80076642",
   "metadata": {},
   "outputs": [
    {
     "data": {
      "image/png": "[encoded data removed]",
      "text/plain": [
       "<Figure size 432x288 with 1 Axes>"
      ]
     },
     "metadata": {
      "needs_background": "light"
     },
     "output_type": "display_data"
    }
   ],
   "source": [
    "plt.figure()\n",
    "plt.plot(fpr, tpr, color='coral', label = 'ROC Curve with Area Under Curve = '+str(auc (fpr, tpr)))\n",
    "plt.title('ROC curve for Decision Tree',fontsize=15)\n",
    "plt.xlabel('False positive Rate (1 - specificity)')\n",
    "plt.ylabel('True Positive Rate ')\n",
    "plt.legend(loc='lower right')\n",
    "plt.show()"
   ]
  },
  {
   "cell_type": "code",
   "execution_count": 120,
   "id": "a56f2c5b",
   "metadata": {},
   "outputs": [],
   "source": [
    "performance_metrics_with_default_parameters['Decision Tree']=[accuracy_score(y_test,y_pred),\n",
    "                                                                    precision_score(y_test,y_pred),\n",
    "                                                                    recall_score(y_test,y_pred),\n",
    "                                                                    f1_score(y_test,y_pred),\n",
    "                                                                    auc(fpr, tpr)]"
   ]
  },
  {
   "cell_type": "code",
   "execution_count": null,
   "id": "bb7e3efe",
   "metadata": {},
   "outputs": [],
   "source": []
  },
  {
   "cell_type": "markdown",
   "id": "cb5a257e",
   "metadata": {},
   "source": [
    "# Random Forest"
   ]
  },
  {
   "cell_type": "code",
   "execution_count": 121,
   "id": "58f49a74",
   "metadata": {},
   "outputs": [],
   "source": [
    "from sklearn.ensemble import RandomForestClassifier\n",
    "rf_model=RandomForestClassifier()"
   ]
  },
  {
   "cell_type": "code",
   "execution_count": 122,
   "id": "78857653",
   "metadata": {},
   "outputs": [
    {
     "name": "stdout",
     "output_type": "stream",
     "text": [
      "Training Accuracy :  1.0\n"
     ]
    }
   ],
   "source": [
    "rf_model.fit(x_train,y_train)\n",
    "print('Training Accuracy : ',rf_model.score(x_train,y_train))"
   ]
  },
  {
   "cell_type": "code",
   "execution_count": 123,
   "id": "4393a6b5",
   "metadata": {},
   "outputs": [
    {
     "name": "stdout",
     "output_type": "stream",
     "text": [
      "Testing Accuracy :  0.5752032520325203\n"
     ]
    }
   ],
   "source": [
    "y_pred=rf_model.predict(x_test)\n",
    "print('Testing Accuracy : ',rf_model.score(x_test,y_test))"
   ]
  },
  {
   "cell_type": "code",
   "execution_count": 124,
   "id": "8222bd92",
   "metadata": {},
   "outputs": [
    {
     "data": {
      "text/plain": [
       "array([[299, 178],\n",
       "       [240, 267]], dtype=int64)"
      ]
     },
     "execution_count": 124,
     "metadata": {},
     "output_type": "execute_result"
    }
   ],
   "source": [
    "confusion_matrix(y_test,y_pred)"
   ]
  },
  {
   "cell_type": "code",
   "execution_count": 125,
   "id": "45384402",
   "metadata": {},
   "outputs": [
    {
     "name": "stdout",
     "output_type": "stream",
     "text": [
      "              precision    recall  f1-score   support\n",
      "\n",
      "           0       0.55      0.63      0.59       477\n",
      "           1       0.60      0.53      0.56       507\n",
      "\n",
      "    accuracy                           0.58       984\n",
      "   macro avg       0.58      0.58      0.57       984\n",
      "weighted avg       0.58      0.58      0.57       984\n",
      "\n",
      "\n",
      "Accuracy is :  0.5752032520325203\n",
      "Precission :  0.6\n",
      "Recall :  0.5266272189349113\n",
      "f1-score :  0.5609243697478993\n",
      "Roc Auc score :  0.5767308002431369\n"
     ]
    }
   ],
   "source": [
    "print(classification_report(y_test,y_pred))\n",
    "print()\n",
    "print('Accuracy is : ',accuracy_score(y_test,y_pred))\n",
    "print('Precission : ',precision_score(y_test,y_pred))\n",
    "print('Recall : ',recall_score(y_test,y_pred))\n",
    "print('f1-score : ',f1_score(y_test,y_pred))\n",
    "print('Roc Auc score : ',roc_auc_score(y_test,y_pred))"
   ]
  },
  {
   "cell_type": "code",
   "execution_count": 126,
   "id": "c1362933",
   "metadata": {},
   "outputs": [],
   "source": [
    "y_pred_proba = rf_model.predict_proba(x_test)[:,1]"
   ]
  },
  {
   "cell_type": "code",
   "execution_count": 127,
   "id": "8ea7f98e",
   "metadata": {},
   "outputs": [
    {
     "name": "stdout",
     "output_type": "stream",
     "text": [
      "Area under the ROC curve :  0.5829498137190444\n"
     ]
    }
   ],
   "source": [
    "[fpr, tpr, thr] = roc_curve(y_test, y_pred_proba)\n",
    "print('Area under the ROC curve : ',auc(fpr, tpr))"
   ]
  },
  {
   "cell_type": "code",
   "execution_count": 128,
   "id": "1ec998dc",
   "metadata": {},
   "outputs": [
    {
     "data": {
      "image/png": "[encoded data removed]",
      "text/plain": [
       "<Figure size 432x288 with 1 Axes>"
      ]
     },
     "metadata": {
      "needs_background": "light"
     },
     "output_type": "display_data"
    }
   ],
   "source": [
    "plt.figure()\n",
    "plt.plot(fpr, tpr, color='coral', label = 'ROC Curve with Area Under Curve = '+str(auc (fpr, tpr)))\n",
    "plt.title('ROC curve for Random forest',fontsize=15)\n",
    "plt.xlabel('False positive Rate (1 - specificity)')\n",
    "plt.ylabel('True Positive Rate ')\n",
    "plt.legend(loc='lower right')\n",
    "plt.show()"
   ]
  },
  {
   "cell_type": "code",
   "execution_count": 129,
   "id": "30c056b3",
   "metadata": {},
   "outputs": [],
   "source": [
    "performance_metrics_with_default_parameters['Random Forest']=[accuracy_score(y_test,y_pred),\n",
    "                                                                    precision_score(y_test,y_pred),\n",
    "                                                                    recall_score(y_test,y_pred),\n",
    "                                                                    f1_score(y_test,y_pred),\n",
    "                                                                    auc(fpr, tpr)]"
   ]
  },
  {
   "cell_type": "code",
   "execution_count": null,
   "id": "2552ef3e",
   "metadata": {},
   "outputs": [],
   "source": []
  },
  {
   "cell_type": "markdown",
   "id": "7ecf059e",
   "metadata": {},
   "source": [
    "# Adaboosting"
   ]
  },
  {
   "cell_type": "code",
   "execution_count": 130,
   "id": "3d488215",
   "metadata": {},
   "outputs": [],
   "source": [
    "from sklearn.ensemble import AdaBoostClassifier\n",
    "adaboost=AdaBoostClassifier()"
   ]
  },
  {
   "cell_type": "code",
   "execution_count": 131,
   "id": "5b436a39",
   "metadata": {},
   "outputs": [
    {
     "name": "stdout",
     "output_type": "stream",
     "text": [
      "Training Accuracy :  0.6093035078800203\n"
     ]
    }
   ],
   "source": [
    "adaboost.fit(x_train,y_train)\n",
    "print('Training Accuracy : ',adaboost.score(x_train,y_train))"
   ]
  },
  {
   "cell_type": "code",
   "execution_count": 132,
   "id": "9516d96c",
   "metadata": {},
   "outputs": [
    {
     "name": "stdout",
     "output_type": "stream",
     "text": [
      "Testing Accuracy :  0.568089430894309\n"
     ]
    }
   ],
   "source": [
    "y_pred=adaboost.predict(x_test)\n",
    "print('Testing Accuracy : ',adaboost.score(x_test,y_test))"
   ]
  },
  {
   "cell_type": "code",
   "execution_count": 133,
   "id": "1242b969",
   "metadata": {},
   "outputs": [
    {
     "data": {
      "text/plain": [
       "array([[299, 178],\n",
       "       [247, 260]], dtype=int64)"
      ]
     },
     "execution_count": 133,
     "metadata": {},
     "output_type": "execute_result"
    }
   ],
   "source": [
    "confusion_matrix(y_test,y_pred)"
   ]
  },
  {
   "cell_type": "code",
   "execution_count": 134,
   "id": "61034bfa",
   "metadata": {},
   "outputs": [
    {
     "name": "stdout",
     "output_type": "stream",
     "text": [
      "              precision    recall  f1-score   support\n",
      "\n",
      "           0       0.55      0.63      0.58       477\n",
      "           1       0.59      0.51      0.55       507\n",
      "\n",
      "    accuracy                           0.57       984\n",
      "   macro avg       0.57      0.57      0.57       984\n",
      "weighted avg       0.57      0.57      0.57       984\n",
      "\n",
      "\n",
      "Accuracy is :  0.568089430894309\n",
      "Precission :  0.593607305936073\n",
      "Recall :  0.5128205128205128\n",
      "f1-score :  0.5502645502645503\n",
      "Roc Auc score :  0.5698274471859377\n"
     ]
    }
   ],
   "source": [
    "print(classification_report(y_test,y_pred))\n",
    "print()\n",
    "print('Accuracy is : ',accuracy_score(y_test,y_pred))\n",
    "print('Precission : ',precision_score(y_test,y_pred))\n",
    "print('Recall : ',recall_score(y_test,y_pred))\n",
    "print('f1-score : ',f1_score(y_test,y_pred))\n",
    "print('Roc Auc score : ',roc_auc_score(y_test,y_pred))"
   ]
  },
  {
   "cell_type": "code",
   "execution_count": 135,
   "id": "fe9160fd",
   "metadata": {},
   "outputs": [],
   "source": [
    "y_pred_proba = adaboost.predict_proba(x_test)[:,1]"
   ]
  },
  {
   "cell_type": "code",
   "execution_count": 136,
   "id": "434211dc",
   "metadata": {},
   "outputs": [
    {
     "name": "stdout",
     "output_type": "stream",
     "text": [
      "Area under the ROC curve :  0.5876285462642502\n"
     ]
    }
   ],
   "source": [
    "[fpr, tpr, thr] = roc_curve(y_test, y_pred_proba)\n",
    "print('Area under the ROC curve : ',auc(fpr, tpr))"
   ]
  },
  {
   "cell_type": "code",
   "execution_count": 137,
   "id": "05f5c50b",
   "metadata": {},
   "outputs": [
    {
     "data": {
      "image/png": "[encoded data removed]",
      "text/plain": [
       "<Figure size 432x288 with 1 Axes>"
      ]
     },
     "metadata": {
      "needs_background": "light"
     },
     "output_type": "display_data"
    }
   ],
   "source": [
    "plt.figure()\n",
    "plt.plot(fpr, tpr, color='coral', label = 'ROC Curve with Area Under Curve = '+str(auc (fpr, tpr)))\n",
    "plt.title('ROC curve for Adaboost',fontsize=15)\n",
    "plt.xlabel('False positive Rate (1 - specificity)')\n",
    "plt.ylabel('True Positive Rate ')\n",
    "plt.legend(loc='lower right')\n",
    "plt.show()"
   ]
  },
  {
   "cell_type": "code",
   "execution_count": 138,
   "id": "b4cf39f4",
   "metadata": {},
   "outputs": [],
   "source": [
    "performance_metrics_with_default_parameters['Adaboosting']=[accuracy_score(y_test,y_pred),\n",
    "                                                                    precision_score(y_test,y_pred),\n",
    "                                                                    recall_score(y_test,y_pred),\n",
    "                                                                    f1_score(y_test,y_pred),\n",
    "                                                                    auc(fpr, tpr)]"
   ]
  },
  {
   "cell_type": "code",
   "execution_count": null,
   "id": "2ed84147",
   "metadata": {},
   "outputs": [],
   "source": []
  },
  {
   "cell_type": "markdown",
   "id": "681f32c8",
   "metadata": {},
   "source": [
    "# Gradient Boosting"
   ]
  },
  {
   "cell_type": "code",
   "execution_count": 139,
   "id": "bb5c6129",
   "metadata": {},
   "outputs": [],
   "source": [
    "from sklearn.ensemble import GradientBoostingClassifier\n",
    "gb_model=GradientBoostingClassifier()"
   ]
  },
  {
   "cell_type": "code",
   "execution_count": 140,
   "id": "6dc0fc24",
   "metadata": {},
   "outputs": [
    {
     "name": "stdout",
     "output_type": "stream",
     "text": [
      "Training Accuracy :  0.6629384850025419\n"
     ]
    }
   ],
   "source": [
    "gb_model.fit(x_train,y_train)\n",
    "print('Training Accuracy : ',gb_model.score(x_train,y_train))"
   ]
  },
  {
   "cell_type": "code",
   "execution_count": 141,
   "id": "56926872",
   "metadata": {},
   "outputs": [
    {
     "name": "stdout",
     "output_type": "stream",
     "text": [
      "Testing Accuracy :  0.584349593495935\n"
     ]
    }
   ],
   "source": [
    "y_pred=gb_model.predict(x_test)\n",
    "print('Testing Accuracy : ',gb_model.score(x_test,y_test))"
   ]
  },
  {
   "cell_type": "code",
   "execution_count": 142,
   "id": "6da0f900",
   "metadata": {},
   "outputs": [
    {
     "data": {
      "text/plain": [
       "array([[324, 153],\n",
       "       [256, 251]], dtype=int64)"
      ]
     },
     "execution_count": 142,
     "metadata": {},
     "output_type": "execute_result"
    }
   ],
   "source": [
    "confusion_matrix(y_test,y_pred)"
   ]
  },
  {
   "cell_type": "code",
   "execution_count": 143,
   "id": "28dce8ef",
   "metadata": {},
   "outputs": [
    {
     "name": "stdout",
     "output_type": "stream",
     "text": [
      "              precision    recall  f1-score   support\n",
      "\n",
      "           0       0.56      0.68      0.61       477\n",
      "           1       0.62      0.50      0.55       507\n",
      "\n",
      "    accuracy                           0.58       984\n",
      "   macro avg       0.59      0.59      0.58       984\n",
      "weighted avg       0.59      0.58      0.58       984\n",
      "\n",
      "\n",
      "Accuracy is :  0.584349593495935\n",
      "Precission :  0.6212871287128713\n",
      "Recall :  0.49506903353057197\n",
      "f1-score :  0.5510428100987925\n",
      "Roc Auc score :  0.5871571582747199\n"
     ]
    }
   ],
   "source": [
    "print(classification_report(y_test,y_pred))\n",
    "print()\n",
    "print('Accuracy is : ',accuracy_score(y_test,y_pred))\n",
    "print('Precission : ',precision_score(y_test,y_pred))\n",
    "print('Recall : ',recall_score(y_test,y_pred))\n",
    "print('f1-score : ',f1_score(y_test,y_pred))\n",
    "print('Roc Auc score : ',roc_auc_score(y_test,y_pred))"
   ]
  },
  {
   "cell_type": "code",
   "execution_count": 144,
   "id": "c8ff3956",
   "metadata": {},
   "outputs": [],
   "source": [
    "y_pred_proba = gb_model.predict_proba(x_test)[:,1]"
   ]
  },
  {
   "cell_type": "code",
   "execution_count": 145,
   "id": "230d6c45",
   "metadata": {},
   "outputs": [
    {
     "name": "stdout",
     "output_type": "stream",
     "text": [
      "Area under the ROC curve :  0.6142061454107898\n"
     ]
    }
   ],
   "source": [
    "[fpr, tpr, thr] = roc_curve(y_test, y_pred_proba)\n",
    "print('Area under the ROC curve : ',auc(fpr, tpr))"
   ]
  },
  {
   "cell_type": "code",
   "execution_count": 146,
   "id": "7219b923",
   "metadata": {},
   "outputs": [
    {
     "data": {
      "image/png": "[encoded data removed]",
      "text/plain": [
       "<Figure size 432x288 with 1 Axes>"
      ]
     },
     "metadata": {
      "needs_background": "light"
     },
     "output_type": "display_data"
    }
   ],
   "source": [
    "plt.figure()\n",
    "plt.plot(fpr, tpr, color='coral', label = 'ROC Curve with Area Under Curve = '+str(auc (fpr, tpr)))\n",
    "plt.title('ROC curve for Gradient Boosting',fontsize=15)\n",
    "plt.xlabel('False positive Rate (1 - specificity)')\n",
    "plt.ylabel('True Positive Rate ')\n",
    "plt.legend(loc='lower right')\n",
    "plt.show()"
   ]
  },
  {
   "cell_type": "code",
   "execution_count": 147,
   "id": "0d95f43b",
   "metadata": {},
   "outputs": [],
   "source": [
    "performance_metrics_with_default_parameters['Gradient Boosting']=[accuracy_score(y_test,y_pred),\n",
    "                                                                    precision_score(y_test,y_pred),\n",
    "                                                                    recall_score(y_test,y_pred),\n",
    "                                                                    f1_score(y_test,y_pred),\n",
    "                                                                    auc(fpr, tpr)]"
   ]
  },
  {
   "cell_type": "code",
   "execution_count": null,
   "id": "1b8e9a15",
   "metadata": {},
   "outputs": [],
   "source": []
  },
  {
   "cell_type": "markdown",
   "id": "6de97d97",
   "metadata": {},
   "source": [
    "# Comparing performance of all models"
   ]
  },
  {
   "cell_type": "code",
   "execution_count": 148,
   "id": "d4d38f32",
   "metadata": {
    "scrolled": true
   },
   "outputs": [
    {
     "data": {
      "text/html": [
       "<div>\n",
       "<style scoped>\n",
       "    .dataframe tbody tr th:only-of-type {\n",
       "        vertical-align: middle;\n",
       "    }\n",
       "\n",
       "    .dataframe tbody tr th {\n",
       "        vertical-align: top;\n",
       "    }\n",
       "\n",
       "    .dataframe thead th {\n",
       "        text-align: right;\n",
       "    }\n",
       "</style>\n",
       "<table border=\"1\" class=\"dataframe\">\n",
       "  <thead>\n",
       "    <tr style=\"text-align: right;\">\n",
       "      <th></th>\n",
       "      <th>Logistic Regression</th>\n",
       "      <th>SVM</th>\n",
       "      <th>KNN</th>\n",
       "      <th>Decision Tree</th>\n",
       "      <th>Random Forest</th>\n",
       "      <th>Adaboosting</th>\n",
       "      <th>Gradient Boosting</th>\n",
       "    </tr>\n",
       "  </thead>\n",
       "  <tbody>\n",
       "    <tr>\n",
       "      <th>Accuracy Score</th>\n",
       "      <td>0.566057</td>\n",
       "      <td>0.577236</td>\n",
       "      <td>0.519309</td>\n",
       "      <td>0.525407</td>\n",
       "      <td>0.575203</td>\n",
       "      <td>0.568089</td>\n",
       "      <td>0.584350</td>\n",
       "    </tr>\n",
       "    <tr>\n",
       "      <th>Precision</th>\n",
       "      <td>0.588889</td>\n",
       "      <td>0.593814</td>\n",
       "      <td>0.534274</td>\n",
       "      <td>0.541494</td>\n",
       "      <td>0.600000</td>\n",
       "      <td>0.593607</td>\n",
       "      <td>0.621287</td>\n",
       "    </tr>\n",
       "    <tr>\n",
       "      <th>Recall</th>\n",
       "      <td>0.522682</td>\n",
       "      <td>0.568047</td>\n",
       "      <td>0.522682</td>\n",
       "      <td>0.514793</td>\n",
       "      <td>0.526627</td>\n",
       "      <td>0.512821</td>\n",
       "      <td>0.495069</td>\n",
       "    </tr>\n",
       "    <tr>\n",
       "      <th>F1 Score</th>\n",
       "      <td>0.553814</td>\n",
       "      <td>0.580645</td>\n",
       "      <td>0.528415</td>\n",
       "      <td>0.527806</td>\n",
       "      <td>0.560924</td>\n",
       "      <td>0.550265</td>\n",
       "      <td>0.551043</td>\n",
       "    </tr>\n",
       "    <tr>\n",
       "      <th>AUC</th>\n",
       "      <td>0.609319</td>\n",
       "      <td>0.606904</td>\n",
       "      <td>0.529005</td>\n",
       "      <td>0.525740</td>\n",
       "      <td>0.582950</td>\n",
       "      <td>0.587629</td>\n",
       "      <td>0.614206</td>\n",
       "    </tr>\n",
       "  </tbody>\n",
       "</table>\n",
       "</div>"
      ],
      "text/plain": [
       "                Logistic Regression       SVM       KNN  Decision Tree  \\\n",
       "Accuracy Score             0.566057  0.577236  0.519309       0.525407   \n",
       "Precision                  0.588889  0.593814  0.534274       0.541494   \n",
       "Recall                     0.522682  0.568047  0.522682       0.514793   \n",
       "F1 Score                   0.553814  0.580645  0.528415       0.527806   \n",
       "AUC                        0.609319  0.606904  0.529005       0.525740   \n",
       "\n",
       "                Random Forest  Adaboosting  Gradient Boosting  \n",
       "Accuracy Score       0.575203     0.568089           0.584350  \n",
       "Precision            0.600000     0.593607           0.621287  \n",
       "Recall               0.526627     0.512821           0.495069  \n",
       "F1 Score             0.560924     0.550265           0.551043  \n",
       "AUC                  0.582950     0.587629           0.614206  "
      ]
     },
     "execution_count": 148,
     "metadata": {},
     "output_type": "execute_result"
    }
   ],
   "source": [
    "performance_metrics_with_default_parameters"
   ]
  },
  {
   "cell_type": "code",
   "execution_count": null,
   "id": "683ac774",
   "metadata": {},
   "outputs": [],
   "source": []
  },
  {
   "cell_type": "code",
   "execution_count": null,
   "id": "173ae937",
   "metadata": {},
   "outputs": [],
   "source": []
  },
  {
   "cell_type": "code",
   "execution_count": null,
   "id": "ebabd82d",
   "metadata": {},
   "outputs": [],
   "source": []
  }
 ],
 "metadata": {
  "kernelspec": {
   "display_name": "Python 3 (ipykernel)",
   "language": "python",
   "name": "python3"
  },
  "language_info": {
   "codemirror_mode": {
    "name": "ipython",
    "version": 3
   },
   "file_extension": ".py",
   "mimetype": "text/x-python",
   "name": "python",
   "nbconvert_exporter": "python",
   "pygments_lexer": "ipython3",
   "version": "3.8.12"
  }
 },
 "nbformat": 4,
 "nbformat_minor": 5
}
