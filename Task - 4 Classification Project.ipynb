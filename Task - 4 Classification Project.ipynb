{
 "cells": [
  {
   "cell_type": "markdown",
   "id": "031ba227",
   "metadata": {},
   "source": [
    "# Task - 4"
   ]
  },
  {
   "cell_type": "markdown",
   "id": "2464490c",
   "metadata": {},
   "source": [
    "## 1. Basic Pandas Operations"
   ]
  },
  {
   "cell_type": "code",
   "execution_count": 1,
   "id": "89903080",
   "metadata": {},
   "outputs": [],
   "source": [
    "# Import all the required Libraries\n",
    "\n",
    "import pandas as pd\n",
    "import numpy as np\n",
    "\n",
    "import seaborn as sns\n",
    "import matplotlib.pyplot as plt\n",
    "import warnings\n",
    "warnings.filterwarnings('ignore')"
   ]
  },
  {
   "cell_type": "code",
   "execution_count": 2,
   "id": "00c0a103",
   "metadata": {},
   "outputs": [
    {
     "data": {
      "text/html": [
       "<div>\n",
       "<style scoped>\n",
       "    .dataframe tbody tr th:only-of-type {\n",
       "        vertical-align: middle;\n",
       "    }\n",
       "\n",
       "    .dataframe tbody tr th {\n",
       "        vertical-align: top;\n",
       "    }\n",
       "\n",
       "    .dataframe thead th {\n",
       "        text-align: right;\n",
       "    }\n",
       "</style>\n",
       "<table border=\"1\" class=\"dataframe\">\n",
       "  <thead>\n",
       "    <tr style=\"text-align: right;\">\n",
       "      <th></th>\n",
       "      <th>Unnamed: 0</th>\n",
       "      <th>ID</th>\n",
       "      <th>City_Code</th>\n",
       "      <th>Region_Code</th>\n",
       "      <th>Accomodation_Type</th>\n",
       "      <th>Reco_Insurance_Type</th>\n",
       "      <th>Upper_Age</th>\n",
       "      <th>Lower_Age</th>\n",
       "      <th>Is_Spouse</th>\n",
       "      <th>Health Indicator</th>\n",
       "      <th>Holding_Policy_Duration</th>\n",
       "      <th>Holding_Policy_Type</th>\n",
       "      <th>Reco_Policy_Cat</th>\n",
       "      <th>Reco_Policy_Premium</th>\n",
       "      <th>Response</th>\n",
       "    </tr>\n",
       "  </thead>\n",
       "  <tbody>\n",
       "    <tr>\n",
       "      <th>0</th>\n",
       "      <td>27385</td>\n",
       "      <td>27386</td>\n",
       "      <td>C3</td>\n",
       "      <td>64</td>\n",
       "      <td>Owned</td>\n",
       "      <td>Individual</td>\n",
       "      <td>36</td>\n",
       "      <td>36</td>\n",
       "      <td>No</td>\n",
       "      <td>X1</td>\n",
       "      <td>14+</td>\n",
       "      <td>2.0</td>\n",
       "      <td>16</td>\n",
       "      <td>13320.0</td>\n",
       "      <td>0</td>\n",
       "    </tr>\n",
       "    <tr>\n",
       "      <th>1</th>\n",
       "      <td>33499</td>\n",
       "      <td>33500</td>\n",
       "      <td>C3</td>\n",
       "      <td>2955</td>\n",
       "      <td>Owned</td>\n",
       "      <td>Individual</td>\n",
       "      <td>66</td>\n",
       "      <td>66</td>\n",
       "      <td>No</td>\n",
       "      <td>X6</td>\n",
       "      <td>10</td>\n",
       "      <td>1.0</td>\n",
       "      <td>19</td>\n",
       "      <td>16152.0</td>\n",
       "      <td>0</td>\n",
       "    </tr>\n",
       "    <tr>\n",
       "      <th>2</th>\n",
       "      <td>7997</td>\n",
       "      <td>7998</td>\n",
       "      <td>C1</td>\n",
       "      <td>1542</td>\n",
       "      <td>Rented</td>\n",
       "      <td>Individual</td>\n",
       "      <td>24</td>\n",
       "      <td>24</td>\n",
       "      <td>No</td>\n",
       "      <td>NaN</td>\n",
       "      <td>3</td>\n",
       "      <td>1.0</td>\n",
       "      <td>16</td>\n",
       "      <td>7310.0</td>\n",
       "      <td>0</td>\n",
       "    </tr>\n",
       "    <tr>\n",
       "      <th>3</th>\n",
       "      <td>33032</td>\n",
       "      <td>33033</td>\n",
       "      <td>C26</td>\n",
       "      <td>772</td>\n",
       "      <td>Rented</td>\n",
       "      <td>Individual</td>\n",
       "      <td>75</td>\n",
       "      <td>75</td>\n",
       "      <td>No</td>\n",
       "      <td>X1</td>\n",
       "      <td>1</td>\n",
       "      <td>3.0</td>\n",
       "      <td>16</td>\n",
       "      <td>15792.0</td>\n",
       "      <td>0</td>\n",
       "    </tr>\n",
       "    <tr>\n",
       "      <th>4</th>\n",
       "      <td>30516</td>\n",
       "      <td>30517</td>\n",
       "      <td>C2</td>\n",
       "      <td>1510</td>\n",
       "      <td>Owned</td>\n",
       "      <td>Joint</td>\n",
       "      <td>59</td>\n",
       "      <td>58</td>\n",
       "      <td>Yes</td>\n",
       "      <td>X1</td>\n",
       "      <td>14+</td>\n",
       "      <td>4.0</td>\n",
       "      <td>17</td>\n",
       "      <td>23673.0</td>\n",
       "      <td>0</td>\n",
       "    </tr>\n",
       "  </tbody>\n",
       "</table>\n",
       "</div>"
      ],
      "text/plain": [
       "   Unnamed: 0     ID City_Code  Region_Code Accomodation_Type  \\\n",
       "0       27385  27386        C3           64             Owned   \n",
       "1       33499  33500        C3         2955             Owned   \n",
       "2        7997   7998        C1         1542            Rented   \n",
       "3       33032  33033       C26          772            Rented   \n",
       "4       30516  30517        C2         1510             Owned   \n",
       "\n",
       "  Reco_Insurance_Type  Upper_Age  Lower_Age Is_Spouse Health Indicator  \\\n",
       "0          Individual         36         36        No               X1   \n",
       "1          Individual         66         66        No               X6   \n",
       "2          Individual         24         24        No              NaN   \n",
       "3          Individual         75         75        No               X1   \n",
       "4               Joint         59         58       Yes               X1   \n",
       "\n",
       "  Holding_Policy_Duration  Holding_Policy_Type  Reco_Policy_Cat  \\\n",
       "0                     14+                  2.0               16   \n",
       "1                      10                  1.0               19   \n",
       "2                       3                  1.0               16   \n",
       "3                       1                  3.0               16   \n",
       "4                     14+                  4.0               17   \n",
       "\n",
       "   Reco_Policy_Premium  Response  \n",
       "0              13320.0         0  \n",
       "1              16152.0         0  \n",
       "2               7310.0         0  \n",
       "3              15792.0         0  \n",
       "4              23673.0         0  "
      ]
     },
     "execution_count": 2,
     "metadata": {},
     "output_type": "execute_result"
    }
   ],
   "source": [
    "# Read the dataset and display the head. You will get the output as mentioned below\n",
    "\n",
    "df=pd.read_csv('train.csv')\n",
    "df.head()"
   ]
  },
  {
   "cell_type": "code",
   "execution_count": 3,
   "id": "224eee8b",
   "metadata": {},
   "outputs": [
    {
     "data": {
      "text/plain": [
       "(10000, 15)"
      ]
     },
     "execution_count": 3,
     "metadata": {},
     "output_type": "execute_result"
    }
   ],
   "source": [
    "# Check the shape of the dataframe\n",
    "\n",
    "df.shape"
   ]
  },
  {
   "cell_type": "code",
   "execution_count": 4,
   "id": "b0089a5d",
   "metadata": {},
   "outputs": [
    {
     "name": "stdout",
     "output_type": "stream",
     "text": [
      "<class 'pandas.core.frame.DataFrame'>\n",
      "RangeIndex: 10000 entries, 0 to 9999\n",
      "Data columns (total 15 columns):\n",
      " #   Column                   Non-Null Count  Dtype  \n",
      "---  ------                   --------------  -----  \n",
      " 0   Unnamed: 0               10000 non-null  int64  \n",
      " 1   ID                       10000 non-null  int64  \n",
      " 2   City_Code                10000 non-null  object \n",
      " 3   Region_Code              10000 non-null  int64  \n",
      " 4   Accomodation_Type        10000 non-null  object \n",
      " 5   Reco_Insurance_Type      10000 non-null  object \n",
      " 6   Upper_Age                10000 non-null  int64  \n",
      " 7   Lower_Age                10000 non-null  int64  \n",
      " 8   Is_Spouse                10000 non-null  object \n",
      " 9   Health Indicator         7671 non-null   object \n",
      " 10  Holding_Policy_Duration  5946 non-null   object \n",
      " 11  Holding_Policy_Type      5946 non-null   float64\n",
      " 12  Reco_Policy_Cat          10000 non-null  int64  \n",
      " 13  Reco_Policy_Premium      10000 non-null  float64\n",
      " 14  Response                 10000 non-null  int64  \n",
      "dtypes: float64(2), int64(7), object(6)\n",
      "memory usage: 1.1+ MB\n"
     ]
    }
   ],
   "source": [
    "# On the dataframe apply info() function and observe the Dtypes and Missing Values\n",
    "\n",
    "df.info()"
   ]
  },
  {
   "cell_type": "markdown",
   "id": "96650507",
   "metadata": {},
   "source": [
    "## 2. Cleaning the Data"
   ]
  },
  {
   "cell_type": "code",
   "execution_count": 5,
   "id": "02825c4e",
   "metadata": {},
   "outputs": [],
   "source": [
    "# Impute the Null values in Health Indicator, Holding_Policy_Duration and Holding_Policy_Type\n",
    "\n",
    "df['Health Indicator'].fillna(df['Health Indicator'].mode()[0],axis=0,inplace=True)\n",
    "df['Holding_Policy_Duration'].fillna(df['Holding_Policy_Duration'].mode()[0],axis=0,inplace=True)\n",
    "df['Holding_Policy_Type'].fillna(df['Holding_Policy_Type'].mode()[0],axis=0,inplace=True)"
   ]
  },
  {
   "cell_type": "code",
   "execution_count": 6,
   "id": "7785ee03",
   "metadata": {},
   "outputs": [
    {
     "data": {
      "text/plain": [
       "dtype('int64')"
      ]
     },
     "execution_count": 6,
     "metadata": {},
     "output_type": "execute_result"
    }
   ],
   "source": [
    "# Check again Holding_Policy_Duration is in object column convert that into int\n",
    "\n",
    "df['Holding_Policy_Duration']=df['Holding_Policy_Duration'].apply(lambda x: str(15) if x=='14+' else x)\n",
    "df['Holding_Policy_Duration']=pd.to_numeric(df['Holding_Policy_Duration'])\n",
    "df['Holding_Policy_Duration'].dtype"
   ]
  },
  {
   "cell_type": "code",
   "execution_count": 7,
   "id": "31e192a0",
   "metadata": {},
   "outputs": [
    {
     "data": {
      "text/plain": [
       "Accomodation_Type      2\n",
       "Reco_Insurance_Type    2\n",
       "Is_Spouse              2\n",
       "dtype: int64"
      ]
     },
     "execution_count": 7,
     "metadata": {},
     "output_type": "execute_result"
    }
   ],
   "source": [
    "# Observe that ['Accomodation_Type','Reco_Insurance_Type','Is_Spouse'] \n",
    "# above these Object columns have two values - Yes and No\n",
    "\n",
    "\n",
    "df[['Accomodation_Type','Reco_Insurance_Type','Is_Spouse']].nunique()"
   ]
  },
  {
   "cell_type": "code",
   "execution_count": 8,
   "id": "fd30ca82",
   "metadata": {},
   "outputs": [],
   "source": [
    "# Converting all the Yes to 1 and No to 0. \n",
    "# Write a for loop to iterate over the list given above\n",
    "# For each feature use pandas 'apply()' to convert all the 'Yes' to 1 and 'No' to 0\n",
    "\n",
    "\n",
    "df['Accomodation_Type']=df['Accomodation_Type'].apply(lambda x:1 if x=='Owned' else 0)\n",
    "df['Reco_Insurance_Type']=df['Reco_Insurance_Type'].apply(lambda x:1 if x=='Individual' else 0)\n",
    "df['Is_Spouse']=df['Is_Spouse'].apply(lambda x:1 if x=='Yes' else 0)"
   ]
  },
  {
   "cell_type": "code",
   "execution_count": 9,
   "id": "63be35de",
   "metadata": {},
   "outputs": [
    {
     "name": "stdout",
     "output_type": "stream",
     "text": [
      "<class 'pandas.core.frame.DataFrame'>\n",
      "RangeIndex: 10000 entries, 0 to 9999\n",
      "Data columns (total 15 columns):\n",
      " #   Column                   Non-Null Count  Dtype  \n",
      "---  ------                   --------------  -----  \n",
      " 0   Unnamed: 0               10000 non-null  int64  \n",
      " 1   ID                       10000 non-null  int64  \n",
      " 2   City_Code                10000 non-null  object \n",
      " 3   Region_Code              10000 non-null  int64  \n",
      " 4   Accomodation_Type        10000 non-null  int64  \n",
      " 5   Reco_Insurance_Type      10000 non-null  int64  \n",
      " 6   Upper_Age                10000 non-null  int64  \n",
      " 7   Lower_Age                10000 non-null  int64  \n",
      " 8   Is_Spouse                10000 non-null  int64  \n",
      " 9   Health Indicator         10000 non-null  object \n",
      " 10  Holding_Policy_Duration  10000 non-null  int64  \n",
      " 11  Holding_Policy_Type      10000 non-null  float64\n",
      " 12  Reco_Policy_Cat          10000 non-null  int64  \n",
      " 13  Reco_Policy_Premium      10000 non-null  float64\n",
      " 14  Response                 10000 non-null  int64  \n",
      "dtypes: float64(2), int64(11), object(2)\n",
      "memory usage: 1.1+ MB\n"
     ]
    }
   ],
   "source": [
    "# Now again having a look at all those columns to see if everything went well\n",
    "\n",
    "# Observe that all those columns are now converted from Object to Int64\n",
    "\n",
    "df.info()"
   ]
  },
  {
   "cell_type": "code",
   "execution_count": 10,
   "id": "4591d943",
   "metadata": {},
   "outputs": [
    {
     "data": {
      "text/plain": [
       "City_Code           36\n",
       "Health Indicator     9\n",
       "dtype: int64"
      ]
     },
     "execution_count": 10,
     "metadata": {},
     "output_type": "execute_result"
    }
   ],
   "source": [
    "# Checking all the Object Dtypes - Here, these columns have more than 2 categories\n",
    "\n",
    "df[['City_Code','Health Indicator']].nunique()"
   ]
  },
  {
   "cell_type": "code",
   "execution_count": 11,
   "id": "7853bef4",
   "metadata": {},
   "outputs": [
    {
     "data": {
      "text/plain": [
       "0       0\n",
       "1       0\n",
       "2       0\n",
       "3       0\n",
       "4       0\n",
       "       ..\n",
       "9995    1\n",
       "9996    0\n",
       "9997    0\n",
       "9998    0\n",
       "9999    0\n",
       "Name: Response, Length: 10000, dtype: int64"
      ]
     },
     "execution_count": 11,
     "metadata": {},
     "output_type": "execute_result"
    }
   ],
   "source": [
    "# Lets just try to see what is happening Response. Check the output.\n",
    "\n",
    "df['Response']"
   ]
  },
  {
   "cell_type": "code",
   "execution_count": 12,
   "id": "6cc3120e",
   "metadata": {},
   "outputs": [
    {
     "data": {
      "text/plain": [
       "(10000, 14)"
      ]
     },
     "execution_count": 12,
     "metadata": {},
     "output_type": "execute_result"
    }
   ],
   "source": [
    "# Dropping unknown column\n",
    "\n",
    "# Write the code here to drop unknown column and check dataframe shape\n",
    "\n",
    "\n",
    "df.drop('Unnamed: 0',axis=1,inplace=True)\n",
    "\n",
    "df.shape"
   ]
  },
  {
   "cell_type": "code",
   "execution_count": 13,
   "id": "4a92f68e",
   "metadata": {},
   "outputs": [
    {
     "data": {
      "text/plain": [
       "Index(['City_Code', 'Health Indicator'], dtype='object')"
      ]
     },
     "execution_count": 13,
     "metadata": {},
     "output_type": "execute_result"
    }
   ],
   "source": [
    "# Getting all the Object Dtypes\n",
    "\n",
    "df.select_dtypes(include='object').columns"
   ]
  },
  {
   "cell_type": "code",
   "execution_count": 14,
   "id": "dac84efd",
   "metadata": {},
   "outputs": [],
   "source": [
    "# Encoding the categorical features\n",
    "\n",
    "\n",
    "\n",
    "# column names are (annoyingly) lost after OneHotEncoding\n",
    "# (i.e. the dataframe is converted to a numpy ndarray)\n",
    "\n",
    "# Write the code here to use 'encoder' to convert all the categorical columns to numerical representations\n",
    "# Take extra care to convert encoded numpy array to dataframe and call that data fram 'df_encoded'\n",
    "\n",
    "from sklearn.preprocessing import OneHotEncoder\n",
    "\n",
    "OHE=OneHotEncoder(handle_unknown='ignore')\n",
    "one_hot_encoded=OHE.fit_transform(df[['Health Indicator']])\n",
    "\n",
    "df_encoded=pd.DataFrame(one_hot_encoded.toarray(),columns=sorted(df['Health Indicator'].unique().tolist()))"
   ]
  },
  {
   "cell_type": "code",
   "execution_count": 15,
   "id": "9874d524",
   "metadata": {},
   "outputs": [],
   "source": [
    "# Concatinating the original data frame and onehot encoded dataframe\n",
    "\n",
    "final_df=df.join(df_encoded)"
   ]
  },
  {
   "cell_type": "code",
   "execution_count": 16,
   "id": "c89f9683",
   "metadata": {},
   "outputs": [],
   "source": [
    "# Drop all the unwanted columns.\n",
    "\n",
    "\n",
    "# Because we have already encoded them and added to main dataframe\n",
    "\n",
    "\n",
    "final_df.drop(['ID','Health Indicator','X9'],axis=1,inplace=True)"
   ]
  },
  {
   "cell_type": "code",
   "execution_count": 17,
   "id": "a06e85a4",
   "metadata": {},
   "outputs": [
    {
     "data": {
      "text/html": [
       "<div>\n",
       "<style scoped>\n",
       "    .dataframe tbody tr th:only-of-type {\n",
       "        vertical-align: middle;\n",
       "    }\n",
       "\n",
       "    .dataframe tbody tr th {\n",
       "        vertical-align: top;\n",
       "    }\n",
       "\n",
       "    .dataframe thead th {\n",
       "        text-align: right;\n",
       "    }\n",
       "</style>\n",
       "<table border=\"1\" class=\"dataframe\">\n",
       "  <thead>\n",
       "    <tr style=\"text-align: right;\">\n",
       "      <th></th>\n",
       "      <th>City_Code</th>\n",
       "      <th>Region_Code</th>\n",
       "      <th>Accomodation_Type</th>\n",
       "      <th>Reco_Insurance_Type</th>\n",
       "      <th>Upper_Age</th>\n",
       "      <th>Lower_Age</th>\n",
       "      <th>Is_Spouse</th>\n",
       "      <th>Holding_Policy_Duration</th>\n",
       "      <th>Holding_Policy_Type</th>\n",
       "      <th>Reco_Policy_Cat</th>\n",
       "      <th>Reco_Policy_Premium</th>\n",
       "      <th>Response</th>\n",
       "      <th>X1</th>\n",
       "      <th>X2</th>\n",
       "      <th>X3</th>\n",
       "      <th>X4</th>\n",
       "      <th>X5</th>\n",
       "      <th>X6</th>\n",
       "      <th>X7</th>\n",
       "      <th>X8</th>\n",
       "    </tr>\n",
       "  </thead>\n",
       "  <tbody>\n",
       "    <tr>\n",
       "      <th>0</th>\n",
       "      <td>C3</td>\n",
       "      <td>64</td>\n",
       "      <td>1</td>\n",
       "      <td>1</td>\n",
       "      <td>36</td>\n",
       "      <td>36</td>\n",
       "      <td>0</td>\n",
       "      <td>15</td>\n",
       "      <td>2.0</td>\n",
       "      <td>16</td>\n",
       "      <td>13320.0</td>\n",
       "      <td>0</td>\n",
       "      <td>1.0</td>\n",
       "      <td>0.0</td>\n",
       "      <td>0.0</td>\n",
       "      <td>0.0</td>\n",
       "      <td>0.0</td>\n",
       "      <td>0.0</td>\n",
       "      <td>0.0</td>\n",
       "      <td>0.0</td>\n",
       "    </tr>\n",
       "    <tr>\n",
       "      <th>1</th>\n",
       "      <td>C3</td>\n",
       "      <td>2955</td>\n",
       "      <td>1</td>\n",
       "      <td>1</td>\n",
       "      <td>66</td>\n",
       "      <td>66</td>\n",
       "      <td>0</td>\n",
       "      <td>10</td>\n",
       "      <td>1.0</td>\n",
       "      <td>19</td>\n",
       "      <td>16152.0</td>\n",
       "      <td>0</td>\n",
       "      <td>0.0</td>\n",
       "      <td>0.0</td>\n",
       "      <td>0.0</td>\n",
       "      <td>0.0</td>\n",
       "      <td>0.0</td>\n",
       "      <td>1.0</td>\n",
       "      <td>0.0</td>\n",
       "      <td>0.0</td>\n",
       "    </tr>\n",
       "    <tr>\n",
       "      <th>2</th>\n",
       "      <td>C1</td>\n",
       "      <td>1542</td>\n",
       "      <td>0</td>\n",
       "      <td>1</td>\n",
       "      <td>24</td>\n",
       "      <td>24</td>\n",
       "      <td>0</td>\n",
       "      <td>3</td>\n",
       "      <td>1.0</td>\n",
       "      <td>16</td>\n",
       "      <td>7310.0</td>\n",
       "      <td>0</td>\n",
       "      <td>1.0</td>\n",
       "      <td>0.0</td>\n",
       "      <td>0.0</td>\n",
       "      <td>0.0</td>\n",
       "      <td>0.0</td>\n",
       "      <td>0.0</td>\n",
       "      <td>0.0</td>\n",
       "      <td>0.0</td>\n",
       "    </tr>\n",
       "    <tr>\n",
       "      <th>3</th>\n",
       "      <td>C26</td>\n",
       "      <td>772</td>\n",
       "      <td>0</td>\n",
       "      <td>1</td>\n",
       "      <td>75</td>\n",
       "      <td>75</td>\n",
       "      <td>0</td>\n",
       "      <td>1</td>\n",
       "      <td>3.0</td>\n",
       "      <td>16</td>\n",
       "      <td>15792.0</td>\n",
       "      <td>0</td>\n",
       "      <td>1.0</td>\n",
       "      <td>0.0</td>\n",
       "      <td>0.0</td>\n",
       "      <td>0.0</td>\n",
       "      <td>0.0</td>\n",
       "      <td>0.0</td>\n",
       "      <td>0.0</td>\n",
       "      <td>0.0</td>\n",
       "    </tr>\n",
       "    <tr>\n",
       "      <th>4</th>\n",
       "      <td>C2</td>\n",
       "      <td>1510</td>\n",
       "      <td>1</td>\n",
       "      <td>0</td>\n",
       "      <td>59</td>\n",
       "      <td>58</td>\n",
       "      <td>1</td>\n",
       "      <td>15</td>\n",
       "      <td>4.0</td>\n",
       "      <td>17</td>\n",
       "      <td>23673.0</td>\n",
       "      <td>0</td>\n",
       "      <td>1.0</td>\n",
       "      <td>0.0</td>\n",
       "      <td>0.0</td>\n",
       "      <td>0.0</td>\n",
       "      <td>0.0</td>\n",
       "      <td>0.0</td>\n",
       "      <td>0.0</td>\n",
       "      <td>0.0</td>\n",
       "    </tr>\n",
       "    <tr>\n",
       "      <th>...</th>\n",
       "      <td>...</td>\n",
       "      <td>...</td>\n",
       "      <td>...</td>\n",
       "      <td>...</td>\n",
       "      <td>...</td>\n",
       "      <td>...</td>\n",
       "      <td>...</td>\n",
       "      <td>...</td>\n",
       "      <td>...</td>\n",
       "      <td>...</td>\n",
       "      <td>...</td>\n",
       "      <td>...</td>\n",
       "      <td>...</td>\n",
       "      <td>...</td>\n",
       "      <td>...</td>\n",
       "      <td>...</td>\n",
       "      <td>...</td>\n",
       "      <td>...</td>\n",
       "      <td>...</td>\n",
       "      <td>...</td>\n",
       "    </tr>\n",
       "    <tr>\n",
       "      <th>9995</th>\n",
       "      <td>C3</td>\n",
       "      <td>13</td>\n",
       "      <td>1</td>\n",
       "      <td>0</td>\n",
       "      <td>47</td>\n",
       "      <td>40</td>\n",
       "      <td>1</td>\n",
       "      <td>15</td>\n",
       "      <td>3.0</td>\n",
       "      <td>19</td>\n",
       "      <td>27840.0</td>\n",
       "      <td>1</td>\n",
       "      <td>0.0</td>\n",
       "      <td>0.0</td>\n",
       "      <td>0.0</td>\n",
       "      <td>0.0</td>\n",
       "      <td>1.0</td>\n",
       "      <td>0.0</td>\n",
       "      <td>0.0</td>\n",
       "      <td>0.0</td>\n",
       "    </tr>\n",
       "    <tr>\n",
       "      <th>9996</th>\n",
       "      <td>C5</td>\n",
       "      <td>1477</td>\n",
       "      <td>0</td>\n",
       "      <td>1</td>\n",
       "      <td>34</td>\n",
       "      <td>34</td>\n",
       "      <td>0</td>\n",
       "      <td>6</td>\n",
       "      <td>1.0</td>\n",
       "      <td>4</td>\n",
       "      <td>10560.0</td>\n",
       "      <td>0</td>\n",
       "      <td>1.0</td>\n",
       "      <td>0.0</td>\n",
       "      <td>0.0</td>\n",
       "      <td>0.0</td>\n",
       "      <td>0.0</td>\n",
       "      <td>0.0</td>\n",
       "      <td>0.0</td>\n",
       "      <td>0.0</td>\n",
       "    </tr>\n",
       "    <tr>\n",
       "      <th>9997</th>\n",
       "      <td>C1</td>\n",
       "      <td>2357</td>\n",
       "      <td>1</td>\n",
       "      <td>1</td>\n",
       "      <td>64</td>\n",
       "      <td>64</td>\n",
       "      <td>0</td>\n",
       "      <td>8</td>\n",
       "      <td>2.0</td>\n",
       "      <td>19</td>\n",
       "      <td>14716.0</td>\n",
       "      <td>0</td>\n",
       "      <td>1.0</td>\n",
       "      <td>0.0</td>\n",
       "      <td>0.0</td>\n",
       "      <td>0.0</td>\n",
       "      <td>0.0</td>\n",
       "      <td>0.0</td>\n",
       "      <td>0.0</td>\n",
       "      <td>0.0</td>\n",
       "    </tr>\n",
       "    <tr>\n",
       "      <th>9998</th>\n",
       "      <td>C1</td>\n",
       "      <td>1443</td>\n",
       "      <td>0</td>\n",
       "      <td>1</td>\n",
       "      <td>53</td>\n",
       "      <td>53</td>\n",
       "      <td>0</td>\n",
       "      <td>15</td>\n",
       "      <td>3.0</td>\n",
       "      <td>13</td>\n",
       "      <td>11664.0</td>\n",
       "      <td>0</td>\n",
       "      <td>0.0</td>\n",
       "      <td>0.0</td>\n",
       "      <td>0.0</td>\n",
       "      <td>0.0</td>\n",
       "      <td>1.0</td>\n",
       "      <td>0.0</td>\n",
       "      <td>0.0</td>\n",
       "      <td>0.0</td>\n",
       "    </tr>\n",
       "    <tr>\n",
       "      <th>9999</th>\n",
       "      <td>C7</td>\n",
       "      <td>1476</td>\n",
       "      <td>1</td>\n",
       "      <td>0</td>\n",
       "      <td>56</td>\n",
       "      <td>47</td>\n",
       "      <td>1</td>\n",
       "      <td>15</td>\n",
       "      <td>3.0</td>\n",
       "      <td>10</td>\n",
       "      <td>28752.0</td>\n",
       "      <td>0</td>\n",
       "      <td>0.0</td>\n",
       "      <td>1.0</td>\n",
       "      <td>0.0</td>\n",
       "      <td>0.0</td>\n",
       "      <td>0.0</td>\n",
       "      <td>0.0</td>\n",
       "      <td>0.0</td>\n",
       "      <td>0.0</td>\n",
       "    </tr>\n",
       "  </tbody>\n",
       "</table>\n",
       "<p>10000 rows × 20 columns</p>\n",
       "</div>"
      ],
      "text/plain": [
       "     City_Code  Region_Code  Accomodation_Type  Reco_Insurance_Type  \\\n",
       "0           C3           64                  1                    1   \n",
       "1           C3         2955                  1                    1   \n",
       "2           C1         1542                  0                    1   \n",
       "3          C26          772                  0                    1   \n",
       "4           C2         1510                  1                    0   \n",
       "...        ...          ...                ...                  ...   \n",
       "9995        C3           13                  1                    0   \n",
       "9996        C5         1477                  0                    1   \n",
       "9997        C1         2357                  1                    1   \n",
       "9998        C1         1443                  0                    1   \n",
       "9999        C7         1476                  1                    0   \n",
       "\n",
       "      Upper_Age  Lower_Age  Is_Spouse  Holding_Policy_Duration  \\\n",
       "0            36         36          0                       15   \n",
       "1            66         66          0                       10   \n",
       "2            24         24          0                        3   \n",
       "3            75         75          0                        1   \n",
       "4            59         58          1                       15   \n",
       "...         ...        ...        ...                      ...   \n",
       "9995         47         40          1                       15   \n",
       "9996         34         34          0                        6   \n",
       "9997         64         64          0                        8   \n",
       "9998         53         53          0                       15   \n",
       "9999         56         47          1                       15   \n",
       "\n",
       "      Holding_Policy_Type  Reco_Policy_Cat  Reco_Policy_Premium  Response  \\\n",
       "0                     2.0               16              13320.0         0   \n",
       "1                     1.0               19              16152.0         0   \n",
       "2                     1.0               16               7310.0         0   \n",
       "3                     3.0               16              15792.0         0   \n",
       "4                     4.0               17              23673.0         0   \n",
       "...                   ...              ...                  ...       ...   \n",
       "9995                  3.0               19              27840.0         1   \n",
       "9996                  1.0                4              10560.0         0   \n",
       "9997                  2.0               19              14716.0         0   \n",
       "9998                  3.0               13              11664.0         0   \n",
       "9999                  3.0               10              28752.0         0   \n",
       "\n",
       "       X1   X2   X3   X4   X5   X6   X7   X8  \n",
       "0     1.0  0.0  0.0  0.0  0.0  0.0  0.0  0.0  \n",
       "1     0.0  0.0  0.0  0.0  0.0  1.0  0.0  0.0  \n",
       "2     1.0  0.0  0.0  0.0  0.0  0.0  0.0  0.0  \n",
       "3     1.0  0.0  0.0  0.0  0.0  0.0  0.0  0.0  \n",
       "4     1.0  0.0  0.0  0.0  0.0  0.0  0.0  0.0  \n",
       "...   ...  ...  ...  ...  ...  ...  ...  ...  \n",
       "9995  0.0  0.0  0.0  0.0  1.0  0.0  0.0  0.0  \n",
       "9996  1.0  0.0  0.0  0.0  0.0  0.0  0.0  0.0  \n",
       "9997  1.0  0.0  0.0  0.0  0.0  0.0  0.0  0.0  \n",
       "9998  0.0  0.0  0.0  0.0  1.0  0.0  0.0  0.0  \n",
       "9999  0.0  1.0  0.0  0.0  0.0  0.0  0.0  0.0  \n",
       "\n",
       "[10000 rows x 20 columns]"
      ]
     },
     "execution_count": 17,
     "metadata": {},
     "output_type": "execute_result"
    }
   ],
   "source": [
    "final_df"
   ]
  },
  {
   "cell_type": "code",
   "execution_count": null,
   "id": "c788fc63",
   "metadata": {},
   "outputs": [],
   "source": []
  },
  {
   "cell_type": "markdown",
   "id": "866eca7b",
   "metadata": {},
   "source": [
    "## Perform Exploratory Data Analysis\n",
    "\n",
    "**To Do:**\n",
    "1. Perform Univaraite Analysis (Basic pandas statistical description)\n",
    "2. Perform Bivaraite Analysis (Pandas Cross Tabs)\n",
    "3. Visualisations - \n",
    "    * Univariate - Histograms, boxplot, PDFs, countplot, etc\n",
    "    * Bivariate - Scatterplot, Boxplots, Pairplot, etc\n",
    "4. Write proper observations after each plot\n",
    "5. At the end of the notebook, summarize it with all the best observations you got."
   ]
  },
  {
   "cell_type": "markdown",
   "id": "284643f9",
   "metadata": {},
   "source": [
    "### City Code\n",
    "#### Lets see the number of cities and see how many customers are there"
   ]
  },
  {
   "cell_type": "code",
   "execution_count": 18,
   "id": "5dbfc055",
   "metadata": {},
   "outputs": [
    {
     "name": "stdout",
     "output_type": "stream",
     "text": [
      "no of cities in the dataframe :  36\n",
      "\n"
     ]
    },
    {
     "data": {
      "text/plain": [
       "C1     1796\n",
       "C2     1505\n",
       "C3      966\n",
       "C4      727\n",
       "C9      428\n",
       "C7      390\n",
       "C8      371\n",
       "C6      361\n",
       "C10     335\n",
       "C5      264\n",
       "C15     239\n",
       "C11     231\n",
       "C16     219\n",
       "C17     211\n",
       "C13     193\n",
       "C20     179\n",
       "C12     168\n",
       "C19     168\n",
       "C14     153\n",
       "C21     136\n",
       "C24     129\n",
       "C18     127\n",
       "C23     123\n",
       "C22     102\n",
       "C26      89\n",
       "C29      71\n",
       "C25      66\n",
       "C27      57\n",
       "C33      54\n",
       "C28      47\n",
       "C32      39\n",
       "C34      25\n",
       "C36      12\n",
       "C30      12\n",
       "C31       4\n",
       "C35       3\n",
       "Name: City_Code, dtype: int64"
      ]
     },
     "execution_count": 18,
     "metadata": {},
     "output_type": "execute_result"
    }
   ],
   "source": [
    "print('no of cities in the dataframe : ',final_df['City_Code'].nunique())\n",
    "print()\n",
    "final_df['City_Code'].value_counts()"
   ]
  },
  {
   "cell_type": "code",
   "execution_count": 19,
   "id": "3eb9f8e8",
   "metadata": {},
   "outputs": [
    {
     "data": {
      "image/png": "[encoded data removed]",
      "text/plain": [
       "<Figure size 1440x360 with 1 Axes>"
      ]
     },
     "metadata": {
      "needs_background": "light"
     },
     "output_type": "display_data"
    }
   ],
   "source": [
    "plt.figure(figsize=(20,5))\n",
    "sns.countplot(final_df['City_Code'])\n",
    "plt.show()"
   ]
  },
  {
   "cell_type": "markdown",
   "id": "9a1b8808",
   "metadata": {},
   "source": [
    "#### Let's see city-wise customers interests in recommended policy"
   ]
  },
  {
   "cell_type": "code",
   "execution_count": 20,
   "id": "cd6a4896",
   "metadata": {},
   "outputs": [
    {
     "data": {
      "image/png": "[encoded data removed]",
      "text/plain": [
       "<Figure size 1440x360 with 1 Axes>"
      ]
     },
     "metadata": {
      "needs_background": "light"
     },
     "output_type": "display_data"
    }
   ],
   "source": [
    "plt.figure(figsize=(20,5))\n",
    "sns.countplot(final_df['City_Code'],hue=final_df['Response'])\n",
    "plt.show()"
   ]
  },
  {
   "cell_type": "markdown",
   "id": "7207ff0c",
   "metadata": {},
   "source": [
    "### Region Code\n",
    "#### Let's see the number of regions and region-wise customer interests in recommended policy."
   ]
  },
  {
   "cell_type": "code",
   "execution_count": 21,
   "id": "c1c13f51",
   "metadata": {},
   "outputs": [
    {
     "name": "stdout",
     "output_type": "stream",
     "text": [
      "no of Regions in the dataframe :  3726\n",
      "\n"
     ]
    },
    {
     "data": {
      "text/plain": [
       "1       23\n",
       "6       18\n",
       "4       18\n",
       "7       17\n",
       "30      15\n",
       "        ..\n",
       "3233     1\n",
       "2765     1\n",
       "2151     1\n",
       "5170     1\n",
       "714      1\n",
       "Name: Region_Code, Length: 3726, dtype: int64"
      ]
     },
     "execution_count": 21,
     "metadata": {},
     "output_type": "execute_result"
    }
   ],
   "source": [
    "print('no of Regions in the dataframe : ',final_df['Region_Code'].nunique())\n",
    "print()\n",
    "final_df['Region_Code'].value_counts()"
   ]
  },
  {
   "cell_type": "markdown",
   "id": "15c188e1",
   "metadata": {},
   "source": [
    "### Accomodation Type\n",
    "#### Let's see how many customers are living in their own house or rented houseand see how their interests vary in recommended policy."
   ]
  },
  {
   "cell_type": "code",
   "execution_count": 22,
   "id": "d3b046fd",
   "metadata": {},
   "outputs": [
    {
     "data": {
      "text/plain": [
       "1    5509\n",
       "0    4491\n",
       "Name: Accomodation_Type, dtype: int64"
      ]
     },
     "execution_count": 22,
     "metadata": {},
     "output_type": "execute_result"
    }
   ],
   "source": [
    "final_df['Accomodation_Type'].value_counts()   # here 1 means Owned house and 0 means Rented House"
   ]
  },
  {
   "cell_type": "code",
   "execution_count": 23,
   "id": "7aebb625",
   "metadata": {},
   "outputs": [
    {
     "data": {
      "text/plain": [
       "<AxesSubplot:xlabel='Accomodation_Type', ylabel='count'>"
      ]
     },
     "execution_count": 23,
     "metadata": {},
     "output_type": "execute_result"
    },
    {
     "data": {
      "image/png": "[encoded data removed]",
      "text/plain": [
       "<Figure size 432x288 with 1 Axes>"
      ]
     },
     "metadata": {
      "needs_background": "light"
     },
     "output_type": "display_data"
    }
   ],
   "source": [
    "sns.countplot(final_df['Accomodation_Type'])"
   ]
  },
  {
   "cell_type": "code",
   "execution_count": 24,
   "id": "44cd0d04",
   "metadata": {},
   "outputs": [
    {
     "data": {
      "text/html": [
       "<div>\n",
       "<style scoped>\n",
       "    .dataframe tbody tr th:only-of-type {\n",
       "        vertical-align: middle;\n",
       "    }\n",
       "\n",
       "    .dataframe tbody tr th {\n",
       "        vertical-align: top;\n",
       "    }\n",
       "\n",
       "    .dataframe thead th {\n",
       "        text-align: right;\n",
       "    }\n",
       "</style>\n",
       "<table border=\"1\" class=\"dataframe\">\n",
       "  <thead>\n",
       "    <tr style=\"text-align: right;\">\n",
       "      <th>Response</th>\n",
       "      <th>0</th>\n",
       "      <th>1</th>\n",
       "    </tr>\n",
       "    <tr>\n",
       "      <th>Accomodation_Type</th>\n",
       "      <th></th>\n",
       "      <th></th>\n",
       "    </tr>\n",
       "  </thead>\n",
       "  <tbody>\n",
       "    <tr>\n",
       "      <th>0</th>\n",
       "      <td>3423</td>\n",
       "      <td>1068</td>\n",
       "    </tr>\n",
       "    <tr>\n",
       "      <th>1</th>\n",
       "      <td>4118</td>\n",
       "      <td>1391</td>\n",
       "    </tr>\n",
       "  </tbody>\n",
       "</table>\n",
       "</div>"
      ],
      "text/plain": [
       "Response              0     1\n",
       "Accomodation_Type            \n",
       "0                  3423  1068\n",
       "1                  4118  1391"
      ]
     },
     "execution_count": 24,
     "metadata": {},
     "output_type": "execute_result"
    }
   ],
   "source": [
    "pd.crosstab(final_df['Accomodation_Type'],final_df['Response'])"
   ]
  },
  {
   "cell_type": "code",
   "execution_count": 25,
   "id": "c02660fb",
   "metadata": {
    "scrolled": false
   },
   "outputs": [
    {
     "data": {
      "text/plain": [
       "<AxesSubplot:xlabel='Accomodation_Type', ylabel='count'>"
      ]
     },
     "execution_count": 25,
     "metadata": {},
     "output_type": "execute_result"
    },
    {
     "data": {
      "image/png": "[encoded data removed]",
      "text/plain": [
       "<Figure size 432x288 with 1 Axes>"
      ]
     },
     "metadata": {
      "needs_background": "light"
     },
     "output_type": "display_data"
    }
   ],
   "source": [
    "sns.countplot(final_df['Accomodation_Type'],hue=final_df['Response'])"
   ]
  },
  {
   "cell_type": "markdown",
   "id": "28c32d27",
   "metadata": {},
   "source": [
    "#### Let's see the city-wise accomodation type and customer response"
   ]
  },
  {
   "cell_type": "code",
   "execution_count": 26,
   "id": "d324621a",
   "metadata": {},
   "outputs": [
    {
     "data": {
      "text/html": [
       "<div>\n",
       "<style scoped>\n",
       "    .dataframe tbody tr th:only-of-type {\n",
       "        vertical-align: middle;\n",
       "    }\n",
       "\n",
       "    .dataframe tbody tr th {\n",
       "        vertical-align: top;\n",
       "    }\n",
       "\n",
       "    .dataframe thead th {\n",
       "        text-align: right;\n",
       "    }\n",
       "</style>\n",
       "<table border=\"1\" class=\"dataframe\">\n",
       "  <thead>\n",
       "    <tr style=\"text-align: right;\">\n",
       "      <th></th>\n",
       "      <th>Response</th>\n",
       "      <th>0</th>\n",
       "      <th>1</th>\n",
       "    </tr>\n",
       "    <tr>\n",
       "      <th>City_Code</th>\n",
       "      <th>Accomodation_Type</th>\n",
       "      <th></th>\n",
       "      <th></th>\n",
       "    </tr>\n",
       "  </thead>\n",
       "  <tbody>\n",
       "    <tr>\n",
       "      <th rowspan=\"2\" valign=\"top\">C1</th>\n",
       "      <th>0</th>\n",
       "      <td>442</td>\n",
       "      <td>141</td>\n",
       "    </tr>\n",
       "    <tr>\n",
       "      <th>1</th>\n",
       "      <td>908</td>\n",
       "      <td>305</td>\n",
       "    </tr>\n",
       "    <tr>\n",
       "      <th rowspan=\"2\" valign=\"top\">C10</th>\n",
       "      <th>0</th>\n",
       "      <td>151</td>\n",
       "      <td>48</td>\n",
       "    </tr>\n",
       "    <tr>\n",
       "      <th>1</th>\n",
       "      <td>107</td>\n",
       "      <td>29</td>\n",
       "    </tr>\n",
       "    <tr>\n",
       "      <th>C11</th>\n",
       "      <th>0</th>\n",
       "      <td>81</td>\n",
       "      <td>31</td>\n",
       "    </tr>\n",
       "    <tr>\n",
       "      <th>...</th>\n",
       "      <th>...</th>\n",
       "      <td>...</td>\n",
       "      <td>...</td>\n",
       "    </tr>\n",
       "    <tr>\n",
       "      <th>C7</th>\n",
       "      <th>1</th>\n",
       "      <td>214</td>\n",
       "      <td>66</td>\n",
       "    </tr>\n",
       "    <tr>\n",
       "      <th rowspan=\"2\" valign=\"top\">C8</th>\n",
       "      <th>0</th>\n",
       "      <td>138</td>\n",
       "      <td>45</td>\n",
       "    </tr>\n",
       "    <tr>\n",
       "      <th>1</th>\n",
       "      <td>147</td>\n",
       "      <td>41</td>\n",
       "    </tr>\n",
       "    <tr>\n",
       "      <th rowspan=\"2\" valign=\"top\">C9</th>\n",
       "      <th>0</th>\n",
       "      <td>162</td>\n",
       "      <td>55</td>\n",
       "    </tr>\n",
       "    <tr>\n",
       "      <th>1</th>\n",
       "      <td>156</td>\n",
       "      <td>55</td>\n",
       "    </tr>\n",
       "  </tbody>\n",
       "</table>\n",
       "<p>72 rows × 2 columns</p>\n",
       "</div>"
      ],
      "text/plain": [
       "Response                       0    1\n",
       "City_Code Accomodation_Type          \n",
       "C1        0                  442  141\n",
       "          1                  908  305\n",
       "C10       0                  151   48\n",
       "          1                  107   29\n",
       "C11       0                   81   31\n",
       "...                          ...  ...\n",
       "C7        1                  214   66\n",
       "C8        0                  138   45\n",
       "          1                  147   41\n",
       "C9        0                  162   55\n",
       "          1                  156   55\n",
       "\n",
       "[72 rows x 2 columns]"
      ]
     },
     "execution_count": 26,
     "metadata": {},
     "output_type": "execute_result"
    }
   ],
   "source": [
    "pd.crosstab(final_df['Response'],columns=[final_df['City_Code'],final_df['Accomodation_Type']]).T"
   ]
  },
  {
   "cell_type": "code",
   "execution_count": 27,
   "id": "c0af2c9b",
   "metadata": {},
   "outputs": [
    {
     "data": {
      "text/plain": [
       "<AxesSubplot:xlabel='City_Code,Accomodation_Type'>"
      ]
     },
     "execution_count": 27,
     "metadata": {},
     "output_type": "execute_result"
    },
    {
     "data": {
      "image/png": "[encoded data removed]",
      "text/plain": [
       "<Figure size 1440x360 with 1 Axes>"
      ]
     },
     "metadata": {
      "needs_background": "light"
     },
     "output_type": "display_data"
    }
   ],
   "source": [
    "pd.crosstab(final_df['Response'],columns=[final_df['City_Code'],final_df['Accomodation_Type']]).T.plot(kind='bar',figsize=(20,5))"
   ]
  },
  {
   "cell_type": "markdown",
   "id": "eab28be4",
   "metadata": {},
   "source": [
    "### Reco Insurance Type\n",
    "#### Let's see the various recommended insurance types and customer response to them."
   ]
  },
  {
   "cell_type": "code",
   "execution_count": 28,
   "id": "94f64a74",
   "metadata": {},
   "outputs": [
    {
     "data": {
      "text/html": [
       "<div>\n",
       "<style scoped>\n",
       "    .dataframe tbody tr th:only-of-type {\n",
       "        vertical-align: middle;\n",
       "    }\n",
       "\n",
       "    .dataframe tbody tr th {\n",
       "        vertical-align: top;\n",
       "    }\n",
       "\n",
       "    .dataframe thead th {\n",
       "        text-align: right;\n",
       "    }\n",
       "</style>\n",
       "<table border=\"1\" class=\"dataframe\">\n",
       "  <thead>\n",
       "    <tr style=\"text-align: right;\">\n",
       "      <th>Response</th>\n",
       "      <th>0</th>\n",
       "      <th>1</th>\n",
       "    </tr>\n",
       "    <tr>\n",
       "      <th>Reco_Insurance_Type</th>\n",
       "      <th></th>\n",
       "      <th></th>\n",
       "    </tr>\n",
       "  </thead>\n",
       "  <tbody>\n",
       "    <tr>\n",
       "      <th>0</th>\n",
       "      <td>1509</td>\n",
       "      <td>535</td>\n",
       "    </tr>\n",
       "    <tr>\n",
       "      <th>1</th>\n",
       "      <td>6032</td>\n",
       "      <td>1924</td>\n",
       "    </tr>\n",
       "  </tbody>\n",
       "</table>\n",
       "</div>"
      ],
      "text/plain": [
       "Response                0     1\n",
       "Reco_Insurance_Type            \n",
       "0                    1509   535\n",
       "1                    6032  1924"
      ]
     },
     "execution_count": 28,
     "metadata": {},
     "output_type": "execute_result"
    }
   ],
   "source": [
    "pd.crosstab(final_df['Reco_Insurance_Type'],final_df['Response'])"
   ]
  },
  {
   "cell_type": "code",
   "execution_count": 29,
   "id": "2ea4254f",
   "metadata": {},
   "outputs": [
    {
     "data": {
      "text/plain": [
       "<AxesSubplot:xlabel='Reco_Insurance_Type', ylabel='count'>"
      ]
     },
     "execution_count": 29,
     "metadata": {},
     "output_type": "execute_result"
    },
    {
     "data": {
      "image/png": "[encoded data removed]",
      "text/plain": [
       "<Figure size 432x288 with 1 Axes>"
      ]
     },
     "metadata": {
      "needs_background": "light"
     },
     "output_type": "display_data"
    }
   ],
   "source": [
    "sns.countplot(final_df['Reco_Insurance_Type'],hue=final_df['Response'])"
   ]
  },
  {
   "cell_type": "markdown",
   "id": "9034cfd4",
   "metadata": {},
   "source": [
    "#### Let's see customers accommodation, recommended insurance type and customer responses."
   ]
  },
  {
   "cell_type": "code",
   "execution_count": 30,
   "id": "0475c688",
   "metadata": {},
   "outputs": [
    {
     "data": {
      "text/html": [
       "<div>\n",
       "<style scoped>\n",
       "    .dataframe tbody tr th:only-of-type {\n",
       "        vertical-align: middle;\n",
       "    }\n",
       "\n",
       "    .dataframe tbody tr th {\n",
       "        vertical-align: top;\n",
       "    }\n",
       "\n",
       "    .dataframe thead th {\n",
       "        text-align: right;\n",
       "    }\n",
       "</style>\n",
       "<table border=\"1\" class=\"dataframe\">\n",
       "  <thead>\n",
       "    <tr style=\"text-align: right;\">\n",
       "      <th></th>\n",
       "      <th>Response</th>\n",
       "      <th>0</th>\n",
       "      <th>1</th>\n",
       "    </tr>\n",
       "    <tr>\n",
       "      <th>Accomodation_Type</th>\n",
       "      <th>Reco_Insurance_Type</th>\n",
       "      <th></th>\n",
       "      <th></th>\n",
       "    </tr>\n",
       "  </thead>\n",
       "  <tbody>\n",
       "    <tr>\n",
       "      <th rowspan=\"2\" valign=\"top\">0</th>\n",
       "      <th>0</th>\n",
       "      <td>380</td>\n",
       "      <td>139</td>\n",
       "    </tr>\n",
       "    <tr>\n",
       "      <th>1</th>\n",
       "      <td>3043</td>\n",
       "      <td>929</td>\n",
       "    </tr>\n",
       "    <tr>\n",
       "      <th rowspan=\"2\" valign=\"top\">1</th>\n",
       "      <th>0</th>\n",
       "      <td>1129</td>\n",
       "      <td>396</td>\n",
       "    </tr>\n",
       "    <tr>\n",
       "      <th>1</th>\n",
       "      <td>2989</td>\n",
       "      <td>995</td>\n",
       "    </tr>\n",
       "  </tbody>\n",
       "</table>\n",
       "</div>"
      ],
      "text/plain": [
       "Response                                  0    1\n",
       "Accomodation_Type Reco_Insurance_Type           \n",
       "0                 0                     380  139\n",
       "                  1                    3043  929\n",
       "1                 0                    1129  396\n",
       "                  1                    2989  995"
      ]
     },
     "execution_count": 30,
     "metadata": {},
     "output_type": "execute_result"
    }
   ],
   "source": [
    "pd.crosstab(index=[final_df['Accomodation_Type'],final_df['Reco_Insurance_Type']],columns=final_df['Response'])"
   ]
  },
  {
   "cell_type": "code",
   "execution_count": 31,
   "id": "0636188c",
   "metadata": {},
   "outputs": [
    {
     "data": {
      "text/plain": [
       "<AxesSubplot:xlabel='Accomodation_Type,Reco_Insurance_Type'>"
      ]
     },
     "execution_count": 31,
     "metadata": {},
     "output_type": "execute_result"
    },
    {
     "data": {
      "image/png": "[encoded data removed]",
      "text/plain": [
       "<Figure size 432x288 with 1 Axes>"
      ]
     },
     "metadata": {
      "needs_background": "light"
     },
     "output_type": "display_data"
    }
   ],
   "source": [
    "pd.crosstab(index=[final_df['Accomodation_Type'],final_df['Reco_Insurance_Type']],columns=final_df['Response']).plot(kind='bar')"
   ]
  },
  {
   "cell_type": "markdown",
   "id": "9512a81e",
   "metadata": {},
   "source": [
    "### Recommended Policy Category\n",
    "#### Let's see how many categories under the type of recommended policies."
   ]
  },
  {
   "cell_type": "code",
   "execution_count": 32,
   "id": "eb223ac1",
   "metadata": {},
   "outputs": [
    {
     "name": "stdout",
     "output_type": "stream",
     "text": [
      "Number of Recommended Policy Categories :  22\n"
     ]
    }
   ],
   "source": [
    "print('Number of Recommended Policy Categories : ',final_df['Reco_Policy_Cat'].nunique())"
   ]
  },
  {
   "cell_type": "code",
   "execution_count": 33,
   "id": "0062b91a",
   "metadata": {},
   "outputs": [
    {
     "data": {
      "text/plain": [
       "array([16, 19, 17, 21,  9, 18, 13, 15, 14, 22, 20,  5, 12,  6,  4,  1,  3,\n",
       "       11,  8,  2,  7, 10], dtype=int64)"
      ]
     },
     "execution_count": 33,
     "metadata": {},
     "output_type": "execute_result"
    }
   ],
   "source": [
    "final_df['Reco_Policy_Cat'].unique()"
   ]
  },
  {
   "cell_type": "code",
   "execution_count": 34,
   "id": "0721b59e",
   "metadata": {},
   "outputs": [
    {
     "data": {
      "text/plain": [
       "<AxesSubplot:xlabel='Reco_Policy_Cat', ylabel='count'>"
      ]
     },
     "execution_count": 34,
     "metadata": {},
     "output_type": "execute_result"
    },
    {
     "data": {
      "image/png": "[encoded data removed]",
      "text/plain": [
       "<Figure size 1080x360 with 1 Axes>"
      ]
     },
     "metadata": {
      "needs_background": "light"
     },
     "output_type": "display_data"
    }
   ],
   "source": [
    "plt.figure(figsize=(15,5))\n",
    "sns.countplot(final_df['Reco_Policy_Cat'])"
   ]
  },
  {
   "cell_type": "markdown",
   "id": "f61559c7",
   "metadata": {},
   "source": [
    "### Recommended Policy Premium\n",
    "#### Let's see if there is a relationship between the recommended policy premium and recommended policy category.Analyse results with customer's holding policy type and their response to recommended policy."
   ]
  },
  {
   "cell_type": "code",
   "execution_count": 35,
   "id": "c0b72938",
   "metadata": {},
   "outputs": [
    {
     "data": {
      "text/html": [
       "<div>\n",
       "<style scoped>\n",
       "    .dataframe tbody tr th:only-of-type {\n",
       "        vertical-align: middle;\n",
       "    }\n",
       "\n",
       "    .dataframe tbody tr th {\n",
       "        vertical-align: top;\n",
       "    }\n",
       "\n",
       "    .dataframe thead th {\n",
       "        text-align: right;\n",
       "    }\n",
       "</style>\n",
       "<table border=\"1\" class=\"dataframe\">\n",
       "  <thead>\n",
       "    <tr style=\"text-align: right;\">\n",
       "      <th></th>\n",
       "      <th>Reco_Policy_Premium</th>\n",
       "    </tr>\n",
       "    <tr>\n",
       "      <th>Reco_Policy_Cat</th>\n",
       "      <th></th>\n",
       "    </tr>\n",
       "  </thead>\n",
       "  <tbody>\n",
       "    <tr>\n",
       "      <th>1</th>\n",
       "      <td>12915.944357</td>\n",
       "    </tr>\n",
       "    <tr>\n",
       "      <th>2</th>\n",
       "      <td>13231.982306</td>\n",
       "    </tr>\n",
       "    <tr>\n",
       "      <th>3</th>\n",
       "      <td>15390.644240</td>\n",
       "    </tr>\n",
       "    <tr>\n",
       "      <th>4</th>\n",
       "      <td>12157.566000</td>\n",
       "    </tr>\n",
       "    <tr>\n",
       "      <th>5</th>\n",
       "      <td>16142.542157</td>\n",
       "    </tr>\n",
       "    <tr>\n",
       "      <th>6</th>\n",
       "      <td>13193.164444</td>\n",
       "    </tr>\n",
       "    <tr>\n",
       "      <th>7</th>\n",
       "      <td>15231.881046</td>\n",
       "    </tr>\n",
       "    <tr>\n",
       "      <th>8</th>\n",
       "      <td>14319.471765</td>\n",
       "    </tr>\n",
       "    <tr>\n",
       "      <th>9</th>\n",
       "      <td>13699.385333</td>\n",
       "    </tr>\n",
       "    <tr>\n",
       "      <th>10</th>\n",
       "      <td>13265.102041</td>\n",
       "    </tr>\n",
       "    <tr>\n",
       "      <th>11</th>\n",
       "      <td>13789.516129</td>\n",
       "    </tr>\n",
       "    <tr>\n",
       "      <th>12</th>\n",
       "      <td>12596.450116</td>\n",
       "    </tr>\n",
       "    <tr>\n",
       "      <th>13</th>\n",
       "      <td>13575.699425</td>\n",
       "    </tr>\n",
       "    <tr>\n",
       "      <th>14</th>\n",
       "      <td>13355.313095</td>\n",
       "    </tr>\n",
       "    <tr>\n",
       "      <th>15</th>\n",
       "      <td>12939.012384</td>\n",
       "    </tr>\n",
       "    <tr>\n",
       "      <th>16</th>\n",
       "      <td>14246.226463</td>\n",
       "    </tr>\n",
       "    <tr>\n",
       "      <th>17</th>\n",
       "      <td>14879.984438</td>\n",
       "    </tr>\n",
       "    <tr>\n",
       "      <th>18</th>\n",
       "      <td>14789.379129</td>\n",
       "    </tr>\n",
       "    <tr>\n",
       "      <th>19</th>\n",
       "      <td>14779.668063</td>\n",
       "    </tr>\n",
       "    <tr>\n",
       "      <th>20</th>\n",
       "      <td>14158.377124</td>\n",
       "    </tr>\n",
       "    <tr>\n",
       "      <th>21</th>\n",
       "      <td>14498.437474</td>\n",
       "    </tr>\n",
       "    <tr>\n",
       "      <th>22</th>\n",
       "      <td>14541.143731</td>\n",
       "    </tr>\n",
       "  </tbody>\n",
       "</table>\n",
       "</div>"
      ],
      "text/plain": [
       "                 Reco_Policy_Premium\n",
       "Reco_Policy_Cat                     \n",
       "1                       12915.944357\n",
       "2                       13231.982306\n",
       "3                       15390.644240\n",
       "4                       12157.566000\n",
       "5                       16142.542157\n",
       "6                       13193.164444\n",
       "7                       15231.881046\n",
       "8                       14319.471765\n",
       "9                       13699.385333\n",
       "10                      13265.102041\n",
       "11                      13789.516129\n",
       "12                      12596.450116\n",
       "13                      13575.699425\n",
       "14                      13355.313095\n",
       "15                      12939.012384\n",
       "16                      14246.226463\n",
       "17                      14879.984438\n",
       "18                      14789.379129\n",
       "19                      14779.668063\n",
       "20                      14158.377124\n",
       "21                      14498.437474\n",
       "22                      14541.143731"
      ]
     },
     "execution_count": 35,
     "metadata": {},
     "output_type": "execute_result"
    }
   ],
   "source": [
    "avg_premium=final_df.groupby(final_df['Reco_Policy_Cat'])[['Reco_Policy_Premium']].mean()\n",
    "avg_premium"
   ]
  },
  {
   "cell_type": "code",
   "execution_count": 36,
   "id": "40f795f7",
   "metadata": {},
   "outputs": [
    {
     "data": {
      "text/plain": [
       "<AxesSubplot:xlabel='Reco_Policy_Cat'>"
      ]
     },
     "execution_count": 36,
     "metadata": {},
     "output_type": "execute_result"
    },
    {
     "data": {
      "image/png": "[encoded data removed]",
      "text/plain": [
       "<Figure size 432x288 with 1 Axes>"
      ]
     },
     "metadata": {
      "needs_background": "light"
     },
     "output_type": "display_data"
    }
   ],
   "source": [
    "avg_premium.plot(kind='bar')"
   ]
  },
  {
   "cell_type": "code",
   "execution_count": 37,
   "id": "6ce11cfe",
   "metadata": {},
   "outputs": [
    {
     "data": {
      "text/plain": [
       "Text(0, 0.5, 'Average Recommended plocy premium')"
      ]
     },
     "execution_count": 37,
     "metadata": {},
     "output_type": "execute_result"
    },
    {
     "data": {
      "image/png": "[encoded data removed]",
      "text/plain": [
       "<Figure size 432x288 with 1 Axes>"
      ]
     },
     "metadata": {
      "needs_background": "light"
     },
     "output_type": "display_data"
    }
   ],
   "source": [
    "plt.scatter(avg_premium.index,avg_premium.values)\n",
    "plt.xlabel('Recommended policy category')\n",
    "plt.ylabel('Average Recommended plocy premium')"
   ]
  },
  {
   "cell_type": "code",
   "execution_count": 38,
   "id": "11bd667a",
   "metadata": {},
   "outputs": [
    {
     "data": {
      "text/plain": [
       "<AxesSubplot:xlabel='Reco_Policy_Cat'>"
      ]
     },
     "execution_count": 38,
     "metadata": {},
     "output_type": "execute_result"
    },
    {
     "data": {
      "image/png": "[encoded data removed]",
      "text/plain": [
       "<Figure size 432x288 with 1 Axes>"
      ]
     },
     "metadata": {
      "needs_background": "light"
     },
     "output_type": "display_data"
    }
   ],
   "source": [
    "avg_premium.plot(kind='line')"
   ]
  },
  {
   "cell_type": "code",
   "execution_count": 39,
   "id": "67dfe44a",
   "metadata": {},
   "outputs": [
    {
     "data": {
      "text/html": [
       "<div>\n",
       "<style scoped>\n",
       "    .dataframe tbody tr th:only-of-type {\n",
       "        vertical-align: middle;\n",
       "    }\n",
       "\n",
       "    .dataframe tbody tr th {\n",
       "        vertical-align: top;\n",
       "    }\n",
       "\n",
       "    .dataframe thead th {\n",
       "        text-align: right;\n",
       "    }\n",
       "</style>\n",
       "<table border=\"1\" class=\"dataframe\">\n",
       "  <thead>\n",
       "    <tr style=\"text-align: right;\">\n",
       "      <th>Response</th>\n",
       "      <th>0</th>\n",
       "      <th>1</th>\n",
       "    </tr>\n",
       "    <tr>\n",
       "      <th>Holding_Policy_Type</th>\n",
       "      <th></th>\n",
       "      <th></th>\n",
       "    </tr>\n",
       "  </thead>\n",
       "  <tbody>\n",
       "    <tr>\n",
       "      <th>1.0</th>\n",
       "      <td>1212</td>\n",
       "      <td>390</td>\n",
       "    </tr>\n",
       "    <tr>\n",
       "      <th>2.0</th>\n",
       "      <td>730</td>\n",
       "      <td>243</td>\n",
       "    </tr>\n",
       "    <tr>\n",
       "      <th>3.0</th>\n",
       "      <td>5037</td>\n",
       "      <td>1590</td>\n",
       "    </tr>\n",
       "    <tr>\n",
       "      <th>4.0</th>\n",
       "      <td>562</td>\n",
       "      <td>236</td>\n",
       "    </tr>\n",
       "  </tbody>\n",
       "</table>\n",
       "</div>"
      ],
      "text/plain": [
       "Response                0     1\n",
       "Holding_Policy_Type            \n",
       "1.0                  1212   390\n",
       "2.0                   730   243\n",
       "3.0                  5037  1590\n",
       "4.0                   562   236"
      ]
     },
     "execution_count": 39,
     "metadata": {},
     "output_type": "execute_result"
    }
   ],
   "source": [
    "pd.crosstab(final_df['Holding_Policy_Type'],final_df['Response'])"
   ]
  },
  {
   "cell_type": "code",
   "execution_count": 40,
   "id": "52129f69",
   "metadata": {},
   "outputs": [
    {
     "data": {
      "text/plain": [
       "<AxesSubplot:xlabel='Holding_Policy_Type'>"
      ]
     },
     "execution_count": 40,
     "metadata": {},
     "output_type": "execute_result"
    },
    {
     "data": {
      "image/png": "[encoded data removed]",
      "text/plain": [
       "<Figure size 432x288 with 1 Axes>"
      ]
     },
     "metadata": {
      "needs_background": "light"
     },
     "output_type": "display_data"
    }
   ],
   "source": [
    "pd.crosstab(final_df['Holding_Policy_Type'],final_df['Response']).plot(kind='bar')"
   ]
  },
  {
   "cell_type": "markdown",
   "id": "e4d30075",
   "metadata": {},
   "source": [
    "#### Let's see which type of recommnded policy has more number of customers"
   ]
  },
  {
   "cell_type": "code",
   "execution_count": 41,
   "id": "fb6e4f01",
   "metadata": {},
   "outputs": [
    {
     "data": {
      "text/plain": [
       "22    1308\n",
       "18    1102\n",
       "21     966\n",
       "16     786\n",
       "19     764\n",
       "17     694\n",
       "20     612\n",
       "12     431\n",
       "1      381\n",
       "2      373\n",
       "13     348\n",
       "14     336\n",
       "15     323\n",
       "3      217\n",
       "5      204\n",
       "4      200\n",
       "6      180\n",
       "8      170\n",
       "11     155\n",
       "7      153\n",
       "9      150\n",
       "10     147\n",
       "Name: Reco_Policy_Cat, dtype: int64"
      ]
     },
     "execution_count": 41,
     "metadata": {},
     "output_type": "execute_result"
    }
   ],
   "source": [
    "final_df['Reco_Policy_Cat'].value_counts()"
   ]
  },
  {
   "cell_type": "code",
   "execution_count": 42,
   "id": "3a767bcc",
   "metadata": {},
   "outputs": [
    {
     "name": "stdout",
     "output_type": "stream",
     "text": [
      "Recommended policy category 22 has more number of customers with 1308\n"
     ]
    }
   ],
   "source": [
    "print('Recommended policy category {} has more number of customers with {}'.format(final_df['Reco_Policy_Cat'].value_counts().idxmax(),final_df['Reco_Policy_Cat'].value_counts().max()))"
   ]
  },
  {
   "cell_type": "code",
   "execution_count": 43,
   "id": "a259e4cf",
   "metadata": {},
   "outputs": [
    {
     "data": {
      "text/html": [
       "<div>\n",
       "<style scoped>\n",
       "    .dataframe tbody tr th:only-of-type {\n",
       "        vertical-align: middle;\n",
       "    }\n",
       "\n",
       "    .dataframe tbody tr th {\n",
       "        vertical-align: top;\n",
       "    }\n",
       "\n",
       "    .dataframe thead th {\n",
       "        text-align: right;\n",
       "    }\n",
       "</style>\n",
       "<table border=\"1\" class=\"dataframe\">\n",
       "  <thead>\n",
       "    <tr style=\"text-align: right;\">\n",
       "      <th>Response</th>\n",
       "      <th>0</th>\n",
       "      <th>1</th>\n",
       "    </tr>\n",
       "    <tr>\n",
       "      <th>Reco_Policy_Cat</th>\n",
       "      <th></th>\n",
       "      <th></th>\n",
       "    </tr>\n",
       "  </thead>\n",
       "  <tbody>\n",
       "    <tr>\n",
       "      <th>1</th>\n",
       "      <td>378</td>\n",
       "      <td>3</td>\n",
       "    </tr>\n",
       "    <tr>\n",
       "      <th>2</th>\n",
       "      <td>324</td>\n",
       "      <td>49</td>\n",
       "    </tr>\n",
       "    <tr>\n",
       "      <th>3</th>\n",
       "      <td>173</td>\n",
       "      <td>44</td>\n",
       "    </tr>\n",
       "    <tr>\n",
       "      <th>4</th>\n",
       "      <td>182</td>\n",
       "      <td>18</td>\n",
       "    </tr>\n",
       "    <tr>\n",
       "      <th>5</th>\n",
       "      <td>150</td>\n",
       "      <td>54</td>\n",
       "    </tr>\n",
       "    <tr>\n",
       "      <th>6</th>\n",
       "      <td>154</td>\n",
       "      <td>26</td>\n",
       "    </tr>\n",
       "    <tr>\n",
       "      <th>7</th>\n",
       "      <td>123</td>\n",
       "      <td>30</td>\n",
       "    </tr>\n",
       "    <tr>\n",
       "      <th>8</th>\n",
       "      <td>137</td>\n",
       "      <td>33</td>\n",
       "    </tr>\n",
       "    <tr>\n",
       "      <th>9</th>\n",
       "      <td>123</td>\n",
       "      <td>27</td>\n",
       "    </tr>\n",
       "    <tr>\n",
       "      <th>10</th>\n",
       "      <td>121</td>\n",
       "      <td>26</td>\n",
       "    </tr>\n",
       "    <tr>\n",
       "      <th>11</th>\n",
       "      <td>123</td>\n",
       "      <td>32</td>\n",
       "    </tr>\n",
       "    <tr>\n",
       "      <th>12</th>\n",
       "      <td>287</td>\n",
       "      <td>144</td>\n",
       "    </tr>\n",
       "    <tr>\n",
       "      <th>13</th>\n",
       "      <td>262</td>\n",
       "      <td>86</td>\n",
       "    </tr>\n",
       "    <tr>\n",
       "      <th>14</th>\n",
       "      <td>244</td>\n",
       "      <td>92</td>\n",
       "    </tr>\n",
       "    <tr>\n",
       "      <th>15</th>\n",
       "      <td>173</td>\n",
       "      <td>150</td>\n",
       "    </tr>\n",
       "    <tr>\n",
       "      <th>16</th>\n",
       "      <td>615</td>\n",
       "      <td>171</td>\n",
       "    </tr>\n",
       "    <tr>\n",
       "      <th>17</th>\n",
       "      <td>471</td>\n",
       "      <td>223</td>\n",
       "    </tr>\n",
       "    <tr>\n",
       "      <th>18</th>\n",
       "      <td>861</td>\n",
       "      <td>241</td>\n",
       "    </tr>\n",
       "    <tr>\n",
       "      <th>19</th>\n",
       "      <td>554</td>\n",
       "      <td>210</td>\n",
       "    </tr>\n",
       "    <tr>\n",
       "      <th>20</th>\n",
       "      <td>452</td>\n",
       "      <td>160</td>\n",
       "    </tr>\n",
       "    <tr>\n",
       "      <th>21</th>\n",
       "      <td>766</td>\n",
       "      <td>200</td>\n",
       "    </tr>\n",
       "    <tr>\n",
       "      <th>22</th>\n",
       "      <td>868</td>\n",
       "      <td>440</td>\n",
       "    </tr>\n",
       "  </tbody>\n",
       "</table>\n",
       "</div>"
      ],
      "text/plain": [
       "Response           0    1\n",
       "Reco_Policy_Cat          \n",
       "1                378    3\n",
       "2                324   49\n",
       "3                173   44\n",
       "4                182   18\n",
       "5                150   54\n",
       "6                154   26\n",
       "7                123   30\n",
       "8                137   33\n",
       "9                123   27\n",
       "10               121   26\n",
       "11               123   32\n",
       "12               287  144\n",
       "13               262   86\n",
       "14               244   92\n",
       "15               173  150\n",
       "16               615  171\n",
       "17               471  223\n",
       "18               861  241\n",
       "19               554  210\n",
       "20               452  160\n",
       "21               766  200\n",
       "22               868  440"
      ]
     },
     "execution_count": 43,
     "metadata": {},
     "output_type": "execute_result"
    }
   ],
   "source": [
    "pd.crosstab(final_df['Reco_Policy_Cat'],final_df['Response'])"
   ]
  },
  {
   "cell_type": "code",
   "execution_count": 44,
   "id": "4a928d04",
   "metadata": {},
   "outputs": [
    {
     "data": {
      "text/plain": [
       "<AxesSubplot:xlabel='Reco_Policy_Cat'>"
      ]
     },
     "execution_count": 44,
     "metadata": {},
     "output_type": "execute_result"
    },
    {
     "data": {
      "image/png": "[encoded data removed]",
      "text/plain": [
       "<Figure size 1080x360 with 1 Axes>"
      ]
     },
     "metadata": {
      "needs_background": "light"
     },
     "output_type": "display_data"
    }
   ],
   "source": [
    "pd.crosstab(final_df['Reco_Policy_Cat'],final_df['Response']).plot(kind='bar',figsize=(15,5))"
   ]
  },
  {
   "cell_type": "markdown",
   "id": "11e1784c",
   "metadata": {},
   "source": [
    "#### Let's see city-wise recommended insurance types to customers and theirresponses to recommended policy."
   ]
  },
  {
   "cell_type": "code",
   "execution_count": 45,
   "id": "b2f16195",
   "metadata": {},
   "outputs": [
    {
     "data": {
      "text/html": [
       "<div>\n",
       "<style scoped>\n",
       "    .dataframe tbody tr th:only-of-type {\n",
       "        vertical-align: middle;\n",
       "    }\n",
       "\n",
       "    .dataframe tbody tr th {\n",
       "        vertical-align: top;\n",
       "    }\n",
       "\n",
       "    .dataframe thead th {\n",
       "        text-align: right;\n",
       "    }\n",
       "</style>\n",
       "<table border=\"1\" class=\"dataframe\">\n",
       "  <thead>\n",
       "    <tr style=\"text-align: right;\">\n",
       "      <th></th>\n",
       "      <th>Response</th>\n",
       "      <th>0</th>\n",
       "      <th>1</th>\n",
       "    </tr>\n",
       "    <tr>\n",
       "      <th>City_Code</th>\n",
       "      <th>Reco_Insurance_Type</th>\n",
       "      <th></th>\n",
       "      <th></th>\n",
       "    </tr>\n",
       "  </thead>\n",
       "  <tbody>\n",
       "    <tr>\n",
       "      <th rowspan=\"2\" valign=\"top\">C1</th>\n",
       "      <th>0</th>\n",
       "      <td>354</td>\n",
       "      <td>116</td>\n",
       "    </tr>\n",
       "    <tr>\n",
       "      <th>1</th>\n",
       "      <td>996</td>\n",
       "      <td>330</td>\n",
       "    </tr>\n",
       "    <tr>\n",
       "      <th rowspan=\"2\" valign=\"top\">C10</th>\n",
       "      <th>0</th>\n",
       "      <td>37</td>\n",
       "      <td>25</td>\n",
       "    </tr>\n",
       "    <tr>\n",
       "      <th>1</th>\n",
       "      <td>221</td>\n",
       "      <td>52</td>\n",
       "    </tr>\n",
       "    <tr>\n",
       "      <th>C11</th>\n",
       "      <th>0</th>\n",
       "      <td>39</td>\n",
       "      <td>12</td>\n",
       "    </tr>\n",
       "    <tr>\n",
       "      <th>...</th>\n",
       "      <th>...</th>\n",
       "      <td>...</td>\n",
       "      <td>...</td>\n",
       "    </tr>\n",
       "    <tr>\n",
       "      <th>C7</th>\n",
       "      <th>1</th>\n",
       "      <td>220</td>\n",
       "      <td>60</td>\n",
       "    </tr>\n",
       "    <tr>\n",
       "      <th rowspan=\"2\" valign=\"top\">C8</th>\n",
       "      <th>0</th>\n",
       "      <td>60</td>\n",
       "      <td>12</td>\n",
       "    </tr>\n",
       "    <tr>\n",
       "      <th>1</th>\n",
       "      <td>225</td>\n",
       "      <td>74</td>\n",
       "    </tr>\n",
       "    <tr>\n",
       "      <th rowspan=\"2\" valign=\"top\">C9</th>\n",
       "      <th>0</th>\n",
       "      <td>52</td>\n",
       "      <td>21</td>\n",
       "    </tr>\n",
       "    <tr>\n",
       "      <th>1</th>\n",
       "      <td>266</td>\n",
       "      <td>89</td>\n",
       "    </tr>\n",
       "  </tbody>\n",
       "</table>\n",
       "<p>71 rows × 2 columns</p>\n",
       "</div>"
      ],
      "text/plain": [
       "Response                         0    1\n",
       "City_Code Reco_Insurance_Type          \n",
       "C1        0                    354  116\n",
       "          1                    996  330\n",
       "C10       0                     37   25\n",
       "          1                    221   52\n",
       "C11       0                     39   12\n",
       "...                            ...  ...\n",
       "C7        1                    220   60\n",
       "C8        0                     60   12\n",
       "          1                    225   74\n",
       "C9        0                     52   21\n",
       "          1                    266   89\n",
       "\n",
       "[71 rows x 2 columns]"
      ]
     },
     "execution_count": 45,
     "metadata": {},
     "output_type": "execute_result"
    }
   ],
   "source": [
    "pd.crosstab(index=[final_df['City_Code'],final_df['Reco_Insurance_Type']],columns=final_df['Response'])"
   ]
  },
  {
   "cell_type": "code",
   "execution_count": 46,
   "id": "a3fa07df",
   "metadata": {},
   "outputs": [
    {
     "data": {
      "text/plain": [
       "<AxesSubplot:xlabel='City_Code,Reco_Insurance_Type'>"
      ]
     },
     "execution_count": 46,
     "metadata": {},
     "output_type": "execute_result"
    },
    {
     "data": {
      "image/png": "[encoded data removed]",
      "text/plain": [
       "<Figure size 1440x360 with 1 Axes>"
      ]
     },
     "metadata": {
      "needs_background": "light"
     },
     "output_type": "display_data"
    }
   ],
   "source": [
    "pd.crosstab(columns=final_df['Response'],index=[final_df['City_Code'],final_df['Reco_Insurance_Type']]).plot(kind='bar',figsize=(20,5))"
   ]
  },
  {
   "cell_type": "markdown",
   "id": "2f723e4a",
   "metadata": {},
   "source": [
    "#### Let's analyze the customer's upper age with their type of accommodation and recommended policy types to them and also their interest in the recommended policy.\n"
   ]
  },
  {
   "cell_type": "code",
   "execution_count": 47,
   "id": "5207cd0f",
   "metadata": {},
   "outputs": [
    {
     "data": {
      "text/html": [
       "<div>\n",
       "<style scoped>\n",
       "    .dataframe tbody tr th:only-of-type {\n",
       "        vertical-align: middle;\n",
       "    }\n",
       "\n",
       "    .dataframe tbody tr th {\n",
       "        vertical-align: top;\n",
       "    }\n",
       "\n",
       "    .dataframe thead th {\n",
       "        text-align: right;\n",
       "    }\n",
       "</style>\n",
       "<table border=\"1\" class=\"dataframe\">\n",
       "  <thead>\n",
       "    <tr style=\"text-align: right;\">\n",
       "      <th>Upper_Age</th>\n",
       "      <th>18</th>\n",
       "      <th>19</th>\n",
       "      <th>20</th>\n",
       "      <th>21</th>\n",
       "      <th>22</th>\n",
       "      <th>23</th>\n",
       "      <th>24</th>\n",
       "      <th>25</th>\n",
       "      <th>26</th>\n",
       "      <th>27</th>\n",
       "      <th>...</th>\n",
       "      <th>66</th>\n",
       "      <th>67</th>\n",
       "      <th>68</th>\n",
       "      <th>69</th>\n",
       "      <th>70</th>\n",
       "      <th>71</th>\n",
       "      <th>72</th>\n",
       "      <th>73</th>\n",
       "      <th>74</th>\n",
       "      <th>75</th>\n",
       "    </tr>\n",
       "    <tr>\n",
       "      <th>Accomodation_Type</th>\n",
       "      <th></th>\n",
       "      <th></th>\n",
       "      <th></th>\n",
       "      <th></th>\n",
       "      <th></th>\n",
       "      <th></th>\n",
       "      <th></th>\n",
       "      <th></th>\n",
       "      <th></th>\n",
       "      <th></th>\n",
       "      <th></th>\n",
       "      <th></th>\n",
       "      <th></th>\n",
       "      <th></th>\n",
       "      <th></th>\n",
       "      <th></th>\n",
       "      <th></th>\n",
       "      <th></th>\n",
       "      <th></th>\n",
       "      <th></th>\n",
       "      <th></th>\n",
       "    </tr>\n",
       "  </thead>\n",
       "  <tbody>\n",
       "    <tr>\n",
       "      <th>0</th>\n",
       "      <td>24</td>\n",
       "      <td>101</td>\n",
       "      <td>129</td>\n",
       "      <td>221</td>\n",
       "      <td>240</td>\n",
       "      <td>247</td>\n",
       "      <td>252</td>\n",
       "      <td>240</td>\n",
       "      <td>201</td>\n",
       "      <td>173</td>\n",
       "      <td>...</td>\n",
       "      <td>32</td>\n",
       "      <td>24</td>\n",
       "      <td>26</td>\n",
       "      <td>23</td>\n",
       "      <td>28</td>\n",
       "      <td>16</td>\n",
       "      <td>25</td>\n",
       "      <td>17</td>\n",
       "      <td>15</td>\n",
       "      <td>109</td>\n",
       "    </tr>\n",
       "    <tr>\n",
       "      <th>1</th>\n",
       "      <td>5</td>\n",
       "      <td>12</td>\n",
       "      <td>21</td>\n",
       "      <td>31</td>\n",
       "      <td>56</td>\n",
       "      <td>59</td>\n",
       "      <td>64</td>\n",
       "      <td>70</td>\n",
       "      <td>88</td>\n",
       "      <td>79</td>\n",
       "      <td>...</td>\n",
       "      <td>106</td>\n",
       "      <td>109</td>\n",
       "      <td>80</td>\n",
       "      <td>97</td>\n",
       "      <td>106</td>\n",
       "      <td>102</td>\n",
       "      <td>74</td>\n",
       "      <td>85</td>\n",
       "      <td>70</td>\n",
       "      <td>441</td>\n",
       "    </tr>\n",
       "  </tbody>\n",
       "</table>\n",
       "<p>2 rows × 58 columns</p>\n",
       "</div>"
      ],
      "text/plain": [
       "Upper_Age          18   19   20   21   22   23   24   25   26   27  ...   66  \\\n",
       "Accomodation_Type                                                   ...        \n",
       "0                  24  101  129  221  240  247  252  240  201  173  ...   32   \n",
       "1                   5   12   21   31   56   59   64   70   88   79  ...  106   \n",
       "\n",
       "Upper_Age           67  68  69   70   71  72  73  74   75  \n",
       "Accomodation_Type                                          \n",
       "0                   24  26  23   28   16  25  17  15  109  \n",
       "1                  109  80  97  106  102  74  85  70  441  \n",
       "\n",
       "[2 rows x 58 columns]"
      ]
     },
     "execution_count": 47,
     "metadata": {},
     "output_type": "execute_result"
    }
   ],
   "source": [
    "pd.crosstab(final_df['Accomodation_Type'],final_df['Upper_Age'])"
   ]
  },
  {
   "cell_type": "code",
   "execution_count": 48,
   "id": "88fd82b8",
   "metadata": {},
   "outputs": [
    {
     "data": {
      "text/plain": [
       "<AxesSubplot:xlabel='Upper_Age', ylabel='count'>"
      ]
     },
     "execution_count": 48,
     "metadata": {},
     "output_type": "execute_result"
    },
    {
     "data": {
      "image/png": "[encoded data removed]",
      "text/plain": [
       "<Figure size 1440x360 with 1 Axes>"
      ]
     },
     "metadata": {
      "needs_background": "light"
     },
     "output_type": "display_data"
    }
   ],
   "source": [
    "plt.figure(figsize=(20,5))\n",
    "sns.countplot(final_df['Upper_Age'],hue=final_df['Accomodation_Type'])"
   ]
  },
  {
   "cell_type": "code",
   "execution_count": 49,
   "id": "bdab76d4",
   "metadata": {},
   "outputs": [
    {
     "data": {
      "text/html": [
       "<div>\n",
       "<style scoped>\n",
       "    .dataframe tbody tr th:only-of-type {\n",
       "        vertical-align: middle;\n",
       "    }\n",
       "\n",
       "    .dataframe tbody tr th {\n",
       "        vertical-align: top;\n",
       "    }\n",
       "\n",
       "    .dataframe thead th {\n",
       "        text-align: right;\n",
       "    }\n",
       "</style>\n",
       "<table border=\"1\" class=\"dataframe\">\n",
       "  <thead>\n",
       "    <tr style=\"text-align: right;\">\n",
       "      <th>Upper_Age</th>\n",
       "      <th>18</th>\n",
       "      <th>19</th>\n",
       "      <th>20</th>\n",
       "      <th>21</th>\n",
       "      <th>22</th>\n",
       "      <th>23</th>\n",
       "      <th>24</th>\n",
       "      <th>25</th>\n",
       "      <th>26</th>\n",
       "      <th>27</th>\n",
       "      <th>...</th>\n",
       "      <th>66</th>\n",
       "      <th>67</th>\n",
       "      <th>68</th>\n",
       "      <th>69</th>\n",
       "      <th>70</th>\n",
       "      <th>71</th>\n",
       "      <th>72</th>\n",
       "      <th>73</th>\n",
       "      <th>74</th>\n",
       "      <th>75</th>\n",
       "    </tr>\n",
       "    <tr>\n",
       "      <th>Reco_Policy_Cat</th>\n",
       "      <th></th>\n",
       "      <th></th>\n",
       "      <th></th>\n",
       "      <th></th>\n",
       "      <th></th>\n",
       "      <th></th>\n",
       "      <th></th>\n",
       "      <th></th>\n",
       "      <th></th>\n",
       "      <th></th>\n",
       "      <th></th>\n",
       "      <th></th>\n",
       "      <th></th>\n",
       "      <th></th>\n",
       "      <th></th>\n",
       "      <th></th>\n",
       "      <th></th>\n",
       "      <th></th>\n",
       "      <th></th>\n",
       "      <th></th>\n",
       "      <th></th>\n",
       "    </tr>\n",
       "  </thead>\n",
       "  <tbody>\n",
       "    <tr>\n",
       "      <th>1</th>\n",
       "      <td>0</td>\n",
       "      <td>2</td>\n",
       "      <td>7</td>\n",
       "      <td>8</td>\n",
       "      <td>10</td>\n",
       "      <td>16</td>\n",
       "      <td>12</td>\n",
       "      <td>9</td>\n",
       "      <td>6</td>\n",
       "      <td>14</td>\n",
       "      <td>...</td>\n",
       "      <td>2</td>\n",
       "      <td>4</td>\n",
       "      <td>1</td>\n",
       "      <td>2</td>\n",
       "      <td>4</td>\n",
       "      <td>2</td>\n",
       "      <td>2</td>\n",
       "      <td>3</td>\n",
       "      <td>2</td>\n",
       "      <td>18</td>\n",
       "    </tr>\n",
       "    <tr>\n",
       "      <th>2</th>\n",
       "      <td>8</td>\n",
       "      <td>5</td>\n",
       "      <td>5</td>\n",
       "      <td>9</td>\n",
       "      <td>11</td>\n",
       "      <td>16</td>\n",
       "      <td>11</td>\n",
       "      <td>9</td>\n",
       "      <td>10</td>\n",
       "      <td>6</td>\n",
       "      <td>...</td>\n",
       "      <td>3</td>\n",
       "      <td>1</td>\n",
       "      <td>1</td>\n",
       "      <td>2</td>\n",
       "      <td>6</td>\n",
       "      <td>1</td>\n",
       "      <td>3</td>\n",
       "      <td>1</td>\n",
       "      <td>1</td>\n",
       "      <td>16</td>\n",
       "    </tr>\n",
       "    <tr>\n",
       "      <th>3</th>\n",
       "      <td>0</td>\n",
       "      <td>0</td>\n",
       "      <td>4</td>\n",
       "      <td>5</td>\n",
       "      <td>5</td>\n",
       "      <td>9</td>\n",
       "      <td>4</td>\n",
       "      <td>8</td>\n",
       "      <td>2</td>\n",
       "      <td>4</td>\n",
       "      <td>...</td>\n",
       "      <td>1</td>\n",
       "      <td>5</td>\n",
       "      <td>3</td>\n",
       "      <td>5</td>\n",
       "      <td>0</td>\n",
       "      <td>0</td>\n",
       "      <td>4</td>\n",
       "      <td>1</td>\n",
       "      <td>7</td>\n",
       "      <td>14</td>\n",
       "    </tr>\n",
       "    <tr>\n",
       "      <th>4</th>\n",
       "      <td>0</td>\n",
       "      <td>2</td>\n",
       "      <td>3</td>\n",
       "      <td>10</td>\n",
       "      <td>12</td>\n",
       "      <td>5</td>\n",
       "      <td>9</td>\n",
       "      <td>10</td>\n",
       "      <td>8</td>\n",
       "      <td>2</td>\n",
       "      <td>...</td>\n",
       "      <td>2</td>\n",
       "      <td>1</td>\n",
       "      <td>2</td>\n",
       "      <td>3</td>\n",
       "      <td>1</td>\n",
       "      <td>1</td>\n",
       "      <td>0</td>\n",
       "      <td>2</td>\n",
       "      <td>1</td>\n",
       "      <td>4</td>\n",
       "    </tr>\n",
       "    <tr>\n",
       "      <th>5</th>\n",
       "      <td>0</td>\n",
       "      <td>2</td>\n",
       "      <td>0</td>\n",
       "      <td>1</td>\n",
       "      <td>1</td>\n",
       "      <td>5</td>\n",
       "      <td>6</td>\n",
       "      <td>7</td>\n",
       "      <td>3</td>\n",
       "      <td>8</td>\n",
       "      <td>...</td>\n",
       "      <td>3</td>\n",
       "      <td>4</td>\n",
       "      <td>4</td>\n",
       "      <td>5</td>\n",
       "      <td>5</td>\n",
       "      <td>7</td>\n",
       "      <td>0</td>\n",
       "      <td>5</td>\n",
       "      <td>3</td>\n",
       "      <td>21</td>\n",
       "    </tr>\n",
       "    <tr>\n",
       "      <th>6</th>\n",
       "      <td>0</td>\n",
       "      <td>6</td>\n",
       "      <td>5</td>\n",
       "      <td>9</td>\n",
       "      <td>6</td>\n",
       "      <td>6</td>\n",
       "      <td>8</td>\n",
       "      <td>3</td>\n",
       "      <td>4</td>\n",
       "      <td>2</td>\n",
       "      <td>...</td>\n",
       "      <td>0</td>\n",
       "      <td>1</td>\n",
       "      <td>1</td>\n",
       "      <td>1</td>\n",
       "      <td>0</td>\n",
       "      <td>4</td>\n",
       "      <td>0</td>\n",
       "      <td>2</td>\n",
       "      <td>1</td>\n",
       "      <td>8</td>\n",
       "    </tr>\n",
       "    <tr>\n",
       "      <th>7</th>\n",
       "      <td>0</td>\n",
       "      <td>2</td>\n",
       "      <td>0</td>\n",
       "      <td>1</td>\n",
       "      <td>6</td>\n",
       "      <td>5</td>\n",
       "      <td>3</td>\n",
       "      <td>3</td>\n",
       "      <td>5</td>\n",
       "      <td>2</td>\n",
       "      <td>...</td>\n",
       "      <td>5</td>\n",
       "      <td>7</td>\n",
       "      <td>2</td>\n",
       "      <td>1</td>\n",
       "      <td>1</td>\n",
       "      <td>2</td>\n",
       "      <td>4</td>\n",
       "      <td>3</td>\n",
       "      <td>6</td>\n",
       "      <td>12</td>\n",
       "    </tr>\n",
       "    <tr>\n",
       "      <th>8</th>\n",
       "      <td>0</td>\n",
       "      <td>0</td>\n",
       "      <td>5</td>\n",
       "      <td>3</td>\n",
       "      <td>9</td>\n",
       "      <td>8</td>\n",
       "      <td>4</td>\n",
       "      <td>5</td>\n",
       "      <td>5</td>\n",
       "      <td>3</td>\n",
       "      <td>...</td>\n",
       "      <td>4</td>\n",
       "      <td>2</td>\n",
       "      <td>4</td>\n",
       "      <td>2</td>\n",
       "      <td>3</td>\n",
       "      <td>4</td>\n",
       "      <td>0</td>\n",
       "      <td>0</td>\n",
       "      <td>2</td>\n",
       "      <td>10</td>\n",
       "    </tr>\n",
       "    <tr>\n",
       "      <th>9</th>\n",
       "      <td>0</td>\n",
       "      <td>0</td>\n",
       "      <td>3</td>\n",
       "      <td>4</td>\n",
       "      <td>5</td>\n",
       "      <td>5</td>\n",
       "      <td>6</td>\n",
       "      <td>4</td>\n",
       "      <td>4</td>\n",
       "      <td>7</td>\n",
       "      <td>...</td>\n",
       "      <td>2</td>\n",
       "      <td>1</td>\n",
       "      <td>1</td>\n",
       "      <td>2</td>\n",
       "      <td>1</td>\n",
       "      <td>0</td>\n",
       "      <td>2</td>\n",
       "      <td>1</td>\n",
       "      <td>1</td>\n",
       "      <td>4</td>\n",
       "    </tr>\n",
       "    <tr>\n",
       "      <th>10</th>\n",
       "      <td>0</td>\n",
       "      <td>3</td>\n",
       "      <td>0</td>\n",
       "      <td>5</td>\n",
       "      <td>4</td>\n",
       "      <td>4</td>\n",
       "      <td>4</td>\n",
       "      <td>7</td>\n",
       "      <td>8</td>\n",
       "      <td>7</td>\n",
       "      <td>...</td>\n",
       "      <td>4</td>\n",
       "      <td>1</td>\n",
       "      <td>2</td>\n",
       "      <td>0</td>\n",
       "      <td>1</td>\n",
       "      <td>1</td>\n",
       "      <td>0</td>\n",
       "      <td>1</td>\n",
       "      <td>0</td>\n",
       "      <td>5</td>\n",
       "    </tr>\n",
       "    <tr>\n",
       "      <th>11</th>\n",
       "      <td>0</td>\n",
       "      <td>1</td>\n",
       "      <td>2</td>\n",
       "      <td>3</td>\n",
       "      <td>8</td>\n",
       "      <td>4</td>\n",
       "      <td>9</td>\n",
       "      <td>5</td>\n",
       "      <td>5</td>\n",
       "      <td>2</td>\n",
       "      <td>...</td>\n",
       "      <td>3</td>\n",
       "      <td>1</td>\n",
       "      <td>1</td>\n",
       "      <td>0</td>\n",
       "      <td>2</td>\n",
       "      <td>1</td>\n",
       "      <td>0</td>\n",
       "      <td>0</td>\n",
       "      <td>1</td>\n",
       "      <td>15</td>\n",
       "    </tr>\n",
       "    <tr>\n",
       "      <th>12</th>\n",
       "      <td>2</td>\n",
       "      <td>14</td>\n",
       "      <td>13</td>\n",
       "      <td>18</td>\n",
       "      <td>14</td>\n",
       "      <td>11</td>\n",
       "      <td>7</td>\n",
       "      <td>18</td>\n",
       "      <td>9</td>\n",
       "      <td>6</td>\n",
       "      <td>...</td>\n",
       "      <td>3</td>\n",
       "      <td>7</td>\n",
       "      <td>2</td>\n",
       "      <td>5</td>\n",
       "      <td>4</td>\n",
       "      <td>3</td>\n",
       "      <td>3</td>\n",
       "      <td>6</td>\n",
       "      <td>4</td>\n",
       "      <td>17</td>\n",
       "    </tr>\n",
       "    <tr>\n",
       "      <th>13</th>\n",
       "      <td>1</td>\n",
       "      <td>5</td>\n",
       "      <td>7</td>\n",
       "      <td>9</td>\n",
       "      <td>8</td>\n",
       "      <td>8</td>\n",
       "      <td>17</td>\n",
       "      <td>14</td>\n",
       "      <td>9</td>\n",
       "      <td>8</td>\n",
       "      <td>...</td>\n",
       "      <td>6</td>\n",
       "      <td>5</td>\n",
       "      <td>2</td>\n",
       "      <td>3</td>\n",
       "      <td>9</td>\n",
       "      <td>3</td>\n",
       "      <td>2</td>\n",
       "      <td>5</td>\n",
       "      <td>2</td>\n",
       "      <td>16</td>\n",
       "    </tr>\n",
       "    <tr>\n",
       "      <th>14</th>\n",
       "      <td>1</td>\n",
       "      <td>1</td>\n",
       "      <td>9</td>\n",
       "      <td>12</td>\n",
       "      <td>15</td>\n",
       "      <td>14</td>\n",
       "      <td>12</td>\n",
       "      <td>5</td>\n",
       "      <td>5</td>\n",
       "      <td>8</td>\n",
       "      <td>...</td>\n",
       "      <td>3</td>\n",
       "      <td>5</td>\n",
       "      <td>4</td>\n",
       "      <td>2</td>\n",
       "      <td>2</td>\n",
       "      <td>5</td>\n",
       "      <td>3</td>\n",
       "      <td>5</td>\n",
       "      <td>0</td>\n",
       "      <td>25</td>\n",
       "    </tr>\n",
       "    <tr>\n",
       "      <th>15</th>\n",
       "      <td>4</td>\n",
       "      <td>8</td>\n",
       "      <td>9</td>\n",
       "      <td>12</td>\n",
       "      <td>14</td>\n",
       "      <td>11</td>\n",
       "      <td>12</td>\n",
       "      <td>5</td>\n",
       "      <td>11</td>\n",
       "      <td>5</td>\n",
       "      <td>...</td>\n",
       "      <td>2</td>\n",
       "      <td>3</td>\n",
       "      <td>5</td>\n",
       "      <td>3</td>\n",
       "      <td>3</td>\n",
       "      <td>2</td>\n",
       "      <td>2</td>\n",
       "      <td>3</td>\n",
       "      <td>2</td>\n",
       "      <td>10</td>\n",
       "    </tr>\n",
       "    <tr>\n",
       "      <th>16</th>\n",
       "      <td>1</td>\n",
       "      <td>8</td>\n",
       "      <td>14</td>\n",
       "      <td>21</td>\n",
       "      <td>18</td>\n",
       "      <td>19</td>\n",
       "      <td>31</td>\n",
       "      <td>20</td>\n",
       "      <td>22</td>\n",
       "      <td>21</td>\n",
       "      <td>...</td>\n",
       "      <td>9</td>\n",
       "      <td>10</td>\n",
       "      <td>8</td>\n",
       "      <td>6</td>\n",
       "      <td>9</td>\n",
       "      <td>8</td>\n",
       "      <td>16</td>\n",
       "      <td>5</td>\n",
       "      <td>10</td>\n",
       "      <td>34</td>\n",
       "    </tr>\n",
       "    <tr>\n",
       "      <th>17</th>\n",
       "      <td>1</td>\n",
       "      <td>8</td>\n",
       "      <td>8</td>\n",
       "      <td>15</td>\n",
       "      <td>14</td>\n",
       "      <td>23</td>\n",
       "      <td>23</td>\n",
       "      <td>17</td>\n",
       "      <td>19</td>\n",
       "      <td>14</td>\n",
       "      <td>...</td>\n",
       "      <td>16</td>\n",
       "      <td>11</td>\n",
       "      <td>6</td>\n",
       "      <td>11</td>\n",
       "      <td>2</td>\n",
       "      <td>8</td>\n",
       "      <td>15</td>\n",
       "      <td>9</td>\n",
       "      <td>5</td>\n",
       "      <td>41</td>\n",
       "    </tr>\n",
       "    <tr>\n",
       "      <th>18</th>\n",
       "      <td>0</td>\n",
       "      <td>6</td>\n",
       "      <td>9</td>\n",
       "      <td>23</td>\n",
       "      <td>36</td>\n",
       "      <td>33</td>\n",
       "      <td>27</td>\n",
       "      <td>35</td>\n",
       "      <td>35</td>\n",
       "      <td>26</td>\n",
       "      <td>...</td>\n",
       "      <td>17</td>\n",
       "      <td>21</td>\n",
       "      <td>13</td>\n",
       "      <td>20</td>\n",
       "      <td>20</td>\n",
       "      <td>22</td>\n",
       "      <td>17</td>\n",
       "      <td>15</td>\n",
       "      <td>14</td>\n",
       "      <td>64</td>\n",
       "    </tr>\n",
       "    <tr>\n",
       "      <th>19</th>\n",
       "      <td>3</td>\n",
       "      <td>7</td>\n",
       "      <td>13</td>\n",
       "      <td>17</td>\n",
       "      <td>9</td>\n",
       "      <td>17</td>\n",
       "      <td>31</td>\n",
       "      <td>20</td>\n",
       "      <td>20</td>\n",
       "      <td>19</td>\n",
       "      <td>...</td>\n",
       "      <td>8</td>\n",
       "      <td>6</td>\n",
       "      <td>9</td>\n",
       "      <td>7</td>\n",
       "      <td>10</td>\n",
       "      <td>7</td>\n",
       "      <td>4</td>\n",
       "      <td>14</td>\n",
       "      <td>6</td>\n",
       "      <td>41</td>\n",
       "    </tr>\n",
       "    <tr>\n",
       "      <th>20</th>\n",
       "      <td>0</td>\n",
       "      <td>6</td>\n",
       "      <td>11</td>\n",
       "      <td>13</td>\n",
       "      <td>23</td>\n",
       "      <td>18</td>\n",
       "      <td>14</td>\n",
       "      <td>18</td>\n",
       "      <td>19</td>\n",
       "      <td>21</td>\n",
       "      <td>...</td>\n",
       "      <td>7</td>\n",
       "      <td>8</td>\n",
       "      <td>9</td>\n",
       "      <td>10</td>\n",
       "      <td>7</td>\n",
       "      <td>9</td>\n",
       "      <td>4</td>\n",
       "      <td>5</td>\n",
       "      <td>1</td>\n",
       "      <td>37</td>\n",
       "    </tr>\n",
       "    <tr>\n",
       "      <th>21</th>\n",
       "      <td>2</td>\n",
       "      <td>12</td>\n",
       "      <td>8</td>\n",
       "      <td>19</td>\n",
       "      <td>28</td>\n",
       "      <td>30</td>\n",
       "      <td>32</td>\n",
       "      <td>32</td>\n",
       "      <td>28</td>\n",
       "      <td>31</td>\n",
       "      <td>...</td>\n",
       "      <td>15</td>\n",
       "      <td>17</td>\n",
       "      <td>12</td>\n",
       "      <td>14</td>\n",
       "      <td>21</td>\n",
       "      <td>13</td>\n",
       "      <td>8</td>\n",
       "      <td>8</td>\n",
       "      <td>6</td>\n",
       "      <td>63</td>\n",
       "    </tr>\n",
       "    <tr>\n",
       "      <th>22</th>\n",
       "      <td>6</td>\n",
       "      <td>15</td>\n",
       "      <td>15</td>\n",
       "      <td>35</td>\n",
       "      <td>40</td>\n",
       "      <td>39</td>\n",
       "      <td>34</td>\n",
       "      <td>56</td>\n",
       "      <td>52</td>\n",
       "      <td>36</td>\n",
       "      <td>...</td>\n",
       "      <td>23</td>\n",
       "      <td>12</td>\n",
       "      <td>14</td>\n",
       "      <td>16</td>\n",
       "      <td>23</td>\n",
       "      <td>15</td>\n",
       "      <td>10</td>\n",
       "      <td>8</td>\n",
       "      <td>10</td>\n",
       "      <td>75</td>\n",
       "    </tr>\n",
       "  </tbody>\n",
       "</table>\n",
       "<p>22 rows × 58 columns</p>\n",
       "</div>"
      ],
      "text/plain": [
       "Upper_Age        18  19  20  21  22  23  24  25  26  27  ...  66  67  68  69  \\\n",
       "Reco_Policy_Cat                                          ...                   \n",
       "1                 0   2   7   8  10  16  12   9   6  14  ...   2   4   1   2   \n",
       "2                 8   5   5   9  11  16  11   9  10   6  ...   3   1   1   2   \n",
       "3                 0   0   4   5   5   9   4   8   2   4  ...   1   5   3   5   \n",
       "4                 0   2   3  10  12   5   9  10   8   2  ...   2   1   2   3   \n",
       "5                 0   2   0   1   1   5   6   7   3   8  ...   3   4   4   5   \n",
       "6                 0   6   5   9   6   6   8   3   4   2  ...   0   1   1   1   \n",
       "7                 0   2   0   1   6   5   3   3   5   2  ...   5   7   2   1   \n",
       "8                 0   0   5   3   9   8   4   5   5   3  ...   4   2   4   2   \n",
       "9                 0   0   3   4   5   5   6   4   4   7  ...   2   1   1   2   \n",
       "10                0   3   0   5   4   4   4   7   8   7  ...   4   1   2   0   \n",
       "11                0   1   2   3   8   4   9   5   5   2  ...   3   1   1   0   \n",
       "12                2  14  13  18  14  11   7  18   9   6  ...   3   7   2   5   \n",
       "13                1   5   7   9   8   8  17  14   9   8  ...   6   5   2   3   \n",
       "14                1   1   9  12  15  14  12   5   5   8  ...   3   5   4   2   \n",
       "15                4   8   9  12  14  11  12   5  11   5  ...   2   3   5   3   \n",
       "16                1   8  14  21  18  19  31  20  22  21  ...   9  10   8   6   \n",
       "17                1   8   8  15  14  23  23  17  19  14  ...  16  11   6  11   \n",
       "18                0   6   9  23  36  33  27  35  35  26  ...  17  21  13  20   \n",
       "19                3   7  13  17   9  17  31  20  20  19  ...   8   6   9   7   \n",
       "20                0   6  11  13  23  18  14  18  19  21  ...   7   8   9  10   \n",
       "21                2  12   8  19  28  30  32  32  28  31  ...  15  17  12  14   \n",
       "22                6  15  15  35  40  39  34  56  52  36  ...  23  12  14  16   \n",
       "\n",
       "Upper_Age        70  71  72  73  74  75  \n",
       "Reco_Policy_Cat                          \n",
       "1                 4   2   2   3   2  18  \n",
       "2                 6   1   3   1   1  16  \n",
       "3                 0   0   4   1   7  14  \n",
       "4                 1   1   0   2   1   4  \n",
       "5                 5   7   0   5   3  21  \n",
       "6                 0   4   0   2   1   8  \n",
       "7                 1   2   4   3   6  12  \n",
       "8                 3   4   0   0   2  10  \n",
       "9                 1   0   2   1   1   4  \n",
       "10                1   1   0   1   0   5  \n",
       "11                2   1   0   0   1  15  \n",
       "12                4   3   3   6   4  17  \n",
       "13                9   3   2   5   2  16  \n",
       "14                2   5   3   5   0  25  \n",
       "15                3   2   2   3   2  10  \n",
       "16                9   8  16   5  10  34  \n",
       "17                2   8  15   9   5  41  \n",
       "18               20  22  17  15  14  64  \n",
       "19               10   7   4  14   6  41  \n",
       "20                7   9   4   5   1  37  \n",
       "21               21  13   8   8   6  63  \n",
       "22               23  15  10   8  10  75  \n",
       "\n",
       "[22 rows x 58 columns]"
      ]
     },
     "execution_count": 49,
     "metadata": {},
     "output_type": "execute_result"
    }
   ],
   "source": [
    "pd.crosstab(final_df['Reco_Policy_Cat'],final_df['Upper_Age'])"
   ]
  },
  {
   "cell_type": "code",
   "execution_count": 50,
   "id": "d4ac4c2b",
   "metadata": {},
   "outputs": [
    {
     "data": {
      "text/html": [
       "<div>\n",
       "<style scoped>\n",
       "    .dataframe tbody tr th:only-of-type {\n",
       "        vertical-align: middle;\n",
       "    }\n",
       "\n",
       "    .dataframe tbody tr th {\n",
       "        vertical-align: top;\n",
       "    }\n",
       "\n",
       "    .dataframe thead th {\n",
       "        text-align: right;\n",
       "    }\n",
       "</style>\n",
       "<table border=\"1\" class=\"dataframe\">\n",
       "  <thead>\n",
       "    <tr style=\"text-align: right;\">\n",
       "      <th>Upper_Age</th>\n",
       "      <th>18</th>\n",
       "      <th>19</th>\n",
       "      <th>20</th>\n",
       "      <th>21</th>\n",
       "      <th>22</th>\n",
       "      <th>23</th>\n",
       "      <th>24</th>\n",
       "      <th>25</th>\n",
       "      <th>26</th>\n",
       "      <th>27</th>\n",
       "      <th>...</th>\n",
       "      <th>66</th>\n",
       "      <th>67</th>\n",
       "      <th>68</th>\n",
       "      <th>69</th>\n",
       "      <th>70</th>\n",
       "      <th>71</th>\n",
       "      <th>72</th>\n",
       "      <th>73</th>\n",
       "      <th>74</th>\n",
       "      <th>75</th>\n",
       "    </tr>\n",
       "    <tr>\n",
       "      <th>Response</th>\n",
       "      <th></th>\n",
       "      <th></th>\n",
       "      <th></th>\n",
       "      <th></th>\n",
       "      <th></th>\n",
       "      <th></th>\n",
       "      <th></th>\n",
       "      <th></th>\n",
       "      <th></th>\n",
       "      <th></th>\n",
       "      <th></th>\n",
       "      <th></th>\n",
       "      <th></th>\n",
       "      <th></th>\n",
       "      <th></th>\n",
       "      <th></th>\n",
       "      <th></th>\n",
       "      <th></th>\n",
       "      <th></th>\n",
       "      <th></th>\n",
       "      <th></th>\n",
       "    </tr>\n",
       "  </thead>\n",
       "  <tbody>\n",
       "    <tr>\n",
       "      <th>0</th>\n",
       "      <td>24</td>\n",
       "      <td>91</td>\n",
       "      <td>116</td>\n",
       "      <td>192</td>\n",
       "      <td>232</td>\n",
       "      <td>240</td>\n",
       "      <td>243</td>\n",
       "      <td>230</td>\n",
       "      <td>217</td>\n",
       "      <td>189</td>\n",
       "      <td>...</td>\n",
       "      <td>96</td>\n",
       "      <td>103</td>\n",
       "      <td>80</td>\n",
       "      <td>82</td>\n",
       "      <td>97</td>\n",
       "      <td>88</td>\n",
       "      <td>81</td>\n",
       "      <td>73</td>\n",
       "      <td>74</td>\n",
       "      <td>413</td>\n",
       "    </tr>\n",
       "    <tr>\n",
       "      <th>1</th>\n",
       "      <td>5</td>\n",
       "      <td>22</td>\n",
       "      <td>34</td>\n",
       "      <td>60</td>\n",
       "      <td>64</td>\n",
       "      <td>66</td>\n",
       "      <td>73</td>\n",
       "      <td>80</td>\n",
       "      <td>72</td>\n",
       "      <td>63</td>\n",
       "      <td>...</td>\n",
       "      <td>42</td>\n",
       "      <td>30</td>\n",
       "      <td>26</td>\n",
       "      <td>38</td>\n",
       "      <td>37</td>\n",
       "      <td>30</td>\n",
       "      <td>18</td>\n",
       "      <td>29</td>\n",
       "      <td>11</td>\n",
       "      <td>137</td>\n",
       "    </tr>\n",
       "  </tbody>\n",
       "</table>\n",
       "<p>2 rows × 58 columns</p>\n",
       "</div>"
      ],
      "text/plain": [
       "Upper_Age  18  19   20   21   22   23   24   25   26   27  ...  66   67  68  \\\n",
       "Response                                                   ...                \n",
       "0          24  91  116  192  232  240  243  230  217  189  ...  96  103  80   \n",
       "1           5  22   34   60   64   66   73   80   72   63  ...  42   30  26   \n",
       "\n",
       "Upper_Age  69  70  71  72  73  74   75  \n",
       "Response                                \n",
       "0          82  97  88  81  73  74  413  \n",
       "1          38  37  30  18  29  11  137  \n",
       "\n",
       "[2 rows x 58 columns]"
      ]
     },
     "execution_count": 50,
     "metadata": {},
     "output_type": "execute_result"
    }
   ],
   "source": [
    "pd.crosstab(final_df['Response'],final_df['Upper_Age'])"
   ]
  },
  {
   "cell_type": "code",
   "execution_count": 51,
   "id": "6813337b",
   "metadata": {},
   "outputs": [
    {
     "data": {
      "text/plain": [
       "<AxesSubplot:xlabel='Upper_Age', ylabel='count'>"
      ]
     },
     "execution_count": 51,
     "metadata": {},
     "output_type": "execute_result"
    },
    {
     "data": {
      "image/png": "[encoded data removed]",
      "text/plain": [
       "<Figure size 1440x360 with 1 Axes>"
      ]
     },
     "metadata": {
      "needs_background": "light"
     },
     "output_type": "display_data"
    }
   ],
   "source": [
    "plt.figure(figsize=(20,5))\n",
    "sns.countplot(final_df['Upper_Age'],hue=final_df['Response'])"
   ]
  },
  {
   "cell_type": "markdown",
   "id": "27786e2f",
   "metadata": {},
   "source": [
    "#### Let's see city-wise the customers who have recommended to take the joint policy with their spouse or with other customers. Check these results with the customer's type of accommodation."
   ]
  },
  {
   "cell_type": "code",
   "execution_count": 52,
   "id": "e8a3403e",
   "metadata": {},
   "outputs": [
    {
     "data": {
      "text/plain": [
       "C1     470\n",
       "C2     301\n",
       "C3     189\n",
       "C4     110\n",
       "C7     110\n",
       "C9      73\n",
       "C8      72\n",
       "C10     62\n",
       "C6      58\n",
       "C15     56\n",
       "C16     51\n",
       "C11     51\n",
       "C5      45\n",
       "C17     38\n",
       "C12     36\n",
       "C19     35\n",
       "C13     30\n",
       "C24     29\n",
       "C20     27\n",
       "C21     24\n",
       "C18     24\n",
       "C26     22\n",
       "C14     18\n",
       "C23     17\n",
       "C22     16\n",
       "C28     15\n",
       "C25     12\n",
       "C33     11\n",
       "C29     11\n",
       "C27      9\n",
       "C32      9\n",
       "C34      7\n",
       "C30      4\n",
       "C36      1\n",
       "C35      1\n",
       "Name: City_Code, dtype: int64"
      ]
     },
     "execution_count": 52,
     "metadata": {},
     "output_type": "execute_result"
    }
   ],
   "source": [
    "final_df[final_df['Reco_Insurance_Type']==0]['City_Code'].value_counts()"
   ]
  },
  {
   "cell_type": "code",
   "execution_count": 53,
   "id": "8b335d66",
   "metadata": {},
   "outputs": [
    {
     "data": {
      "text/html": [
       "<div>\n",
       "<style scoped>\n",
       "    .dataframe tbody tr th:only-of-type {\n",
       "        vertical-align: middle;\n",
       "    }\n",
       "\n",
       "    .dataframe tbody tr th {\n",
       "        vertical-align: top;\n",
       "    }\n",
       "\n",
       "    .dataframe thead th {\n",
       "        text-align: right;\n",
       "    }\n",
       "</style>\n",
       "<table border=\"1\" class=\"dataframe\">\n",
       "  <thead>\n",
       "    <tr style=\"text-align: right;\">\n",
       "      <th>City_Code</th>\n",
       "      <th>C1</th>\n",
       "      <th>C10</th>\n",
       "      <th>C11</th>\n",
       "      <th>C12</th>\n",
       "      <th>C13</th>\n",
       "      <th>C14</th>\n",
       "      <th>C15</th>\n",
       "      <th>C16</th>\n",
       "      <th>C17</th>\n",
       "      <th>C18</th>\n",
       "      <th>...</th>\n",
       "      <th>C33</th>\n",
       "      <th>C34</th>\n",
       "      <th>C35</th>\n",
       "      <th>C36</th>\n",
       "      <th>C4</th>\n",
       "      <th>C5</th>\n",
       "      <th>C6</th>\n",
       "      <th>C7</th>\n",
       "      <th>C8</th>\n",
       "      <th>C9</th>\n",
       "    </tr>\n",
       "    <tr>\n",
       "      <th>Response</th>\n",
       "      <th></th>\n",
       "      <th></th>\n",
       "      <th></th>\n",
       "      <th></th>\n",
       "      <th></th>\n",
       "      <th></th>\n",
       "      <th></th>\n",
       "      <th></th>\n",
       "      <th></th>\n",
       "      <th></th>\n",
       "      <th></th>\n",
       "      <th></th>\n",
       "      <th></th>\n",
       "      <th></th>\n",
       "      <th></th>\n",
       "      <th></th>\n",
       "      <th></th>\n",
       "      <th></th>\n",
       "      <th></th>\n",
       "      <th></th>\n",
       "      <th></th>\n",
       "    </tr>\n",
       "  </thead>\n",
       "  <tbody>\n",
       "    <tr>\n",
       "      <th>0</th>\n",
       "      <td>354</td>\n",
       "      <td>37</td>\n",
       "      <td>39</td>\n",
       "      <td>29</td>\n",
       "      <td>22</td>\n",
       "      <td>15</td>\n",
       "      <td>44</td>\n",
       "      <td>40</td>\n",
       "      <td>26</td>\n",
       "      <td>19</td>\n",
       "      <td>...</td>\n",
       "      <td>7</td>\n",
       "      <td>4</td>\n",
       "      <td>1</td>\n",
       "      <td>0</td>\n",
       "      <td>82</td>\n",
       "      <td>30</td>\n",
       "      <td>41</td>\n",
       "      <td>81</td>\n",
       "      <td>60</td>\n",
       "      <td>52</td>\n",
       "    </tr>\n",
       "    <tr>\n",
       "      <th>1</th>\n",
       "      <td>116</td>\n",
       "      <td>25</td>\n",
       "      <td>12</td>\n",
       "      <td>7</td>\n",
       "      <td>8</td>\n",
       "      <td>3</td>\n",
       "      <td>12</td>\n",
       "      <td>11</td>\n",
       "      <td>12</td>\n",
       "      <td>5</td>\n",
       "      <td>...</td>\n",
       "      <td>4</td>\n",
       "      <td>3</td>\n",
       "      <td>0</td>\n",
       "      <td>1</td>\n",
       "      <td>28</td>\n",
       "      <td>15</td>\n",
       "      <td>17</td>\n",
       "      <td>29</td>\n",
       "      <td>12</td>\n",
       "      <td>21</td>\n",
       "    </tr>\n",
       "  </tbody>\n",
       "</table>\n",
       "<p>2 rows × 35 columns</p>\n",
       "</div>"
      ],
      "text/plain": [
       "City_Code   C1  C10  C11  C12  C13  C14  C15  C16  C17  C18  ...  C33  C34  \\\n",
       "Response                                                     ...             \n",
       "0          354   37   39   29   22   15   44   40   26   19  ...    7    4   \n",
       "1          116   25   12    7    8    3   12   11   12    5  ...    4    3   \n",
       "\n",
       "City_Code  C35  C36  C4  C5  C6  C7  C8  C9  \n",
       "Response                                     \n",
       "0            1    0  82  30  41  81  60  52  \n",
       "1            0    1  28  15  17  29  12  21  \n",
       "\n",
       "[2 rows x 35 columns]"
      ]
     },
     "execution_count": 53,
     "metadata": {},
     "output_type": "execute_result"
    }
   ],
   "source": [
    "pd.crosstab(final_df[final_df['Reco_Insurance_Type']==0]['Response'],final_df[final_df['Reco_Insurance_Type']==0]['City_Code'])"
   ]
  },
  {
   "cell_type": "code",
   "execution_count": 54,
   "id": "39db1cf5",
   "metadata": {},
   "outputs": [
    {
     "data": {
      "text/plain": [
       "<AxesSubplot:xlabel='City_Code'>"
      ]
     },
     "execution_count": 54,
     "metadata": {},
     "output_type": "execute_result"
    },
    {
     "data": {
      "image/png": "[encoded data removed]",
      "text/plain": [
       "<Figure size 1440x360 with 1 Axes>"
      ]
     },
     "metadata": {
      "needs_background": "light"
     },
     "output_type": "display_data"
    }
   ],
   "source": [
    "pd.crosstab(final_df[final_df['Reco_Insurance_Type']==0]['City_Code'],\n",
    "            final_df[final_df['Reco_Insurance_Type']==0]['Response']).plot(kind='bar',figsize=(20,5))"
   ]
  },
  {
   "cell_type": "code",
   "execution_count": null,
   "id": "f8b2f29b",
   "metadata": {},
   "outputs": [],
   "source": []
  },
  {
   "cell_type": "markdown",
   "id": "488d83af",
   "metadata": {},
   "source": [
    "## Observe that 26.5% datapoints belong to one class rest all belongs to other class. Clearly dataset is having high imbalance.\n",
    "\n",
    "**To Do:**\n",
    "1. Read about Oversampling and Undersampling.\n",
    "2. Perform undersampling."
   ]
  },
  {
   "cell_type": "code",
   "execution_count": 55,
   "id": "a40ce375",
   "metadata": {},
   "outputs": [
    {
     "data": {
      "text/plain": [
       "0    7541\n",
       "1    2459\n",
       "Name: Response, dtype: int64"
      ]
     },
     "execution_count": 55,
     "metadata": {},
     "output_type": "execute_result"
    }
   ],
   "source": [
    "final_df['Response'].value_counts()"
   ]
  },
  {
   "cell_type": "code",
   "execution_count": 56,
   "id": "103e7af2",
   "metadata": {},
   "outputs": [],
   "source": [
    "from imblearn.under_sampling import RandomUnderSampler"
   ]
  },
  {
   "cell_type": "code",
   "execution_count": 57,
   "id": "79a18d7b",
   "metadata": {},
   "outputs": [],
   "source": [
    "sampler=RandomUnderSampler()"
   ]
  },
  {
   "cell_type": "code",
   "execution_count": 58,
   "id": "c2565c80",
   "metadata": {},
   "outputs": [],
   "source": [
    "X=final_df.drop('Response',axis=1)\n",
    "y=final_df['Response']"
   ]
  },
  {
   "cell_type": "code",
   "execution_count": 59,
   "id": "695248cc",
   "metadata": {},
   "outputs": [
    {
     "name": "stdout",
     "output_type": "stream",
     "text": [
      "(10000, 19) (10000,)\n"
     ]
    }
   ],
   "source": [
    "print(X.shape,y.shape)"
   ]
  },
  {
   "cell_type": "code",
   "execution_count": 60,
   "id": "b283b867",
   "metadata": {},
   "outputs": [],
   "source": [
    "predictor,response=sampler.fit_resample(X,y)"
   ]
  },
  {
   "cell_type": "code",
   "execution_count": 61,
   "id": "424e9c58",
   "metadata": {},
   "outputs": [
    {
     "name": "stdout",
     "output_type": "stream",
     "text": [
      "(4918, 19) (4918,)\n"
     ]
    }
   ],
   "source": [
    "print(predictor.shape,response.shape)"
   ]
  },
  {
   "cell_type": "markdown",
   "id": "923a3be1",
   "metadata": {},
   "source": [
    "## Train Test Split\n",
    "\n",
    "**To Do:**\n",
    "1. Sandardise the data\n",
    "2. Perform 80-20 split"
   ]
  },
  {
   "cell_type": "code",
   "execution_count": 62,
   "id": "d9bf32ed",
   "metadata": {
    "scrolled": true
   },
   "outputs": [
    {
     "data": {
      "text/html": [
       "<div>\n",
       "<style scoped>\n",
       "    .dataframe tbody tr th:only-of-type {\n",
       "        vertical-align: middle;\n",
       "    }\n",
       "\n",
       "    .dataframe tbody tr th {\n",
       "        vertical-align: top;\n",
       "    }\n",
       "\n",
       "    .dataframe thead th {\n",
       "        text-align: right;\n",
       "    }\n",
       "</style>\n",
       "<table border=\"1\" class=\"dataframe\">\n",
       "  <thead>\n",
       "    <tr style=\"text-align: right;\">\n",
       "      <th></th>\n",
       "      <th>City_Code</th>\n",
       "      <th>Region_Code</th>\n",
       "      <th>Accomodation_Type</th>\n",
       "      <th>Reco_Insurance_Type</th>\n",
       "      <th>Upper_Age</th>\n",
       "      <th>Lower_Age</th>\n",
       "      <th>Is_Spouse</th>\n",
       "      <th>Holding_Policy_Duration</th>\n",
       "      <th>Holding_Policy_Type</th>\n",
       "      <th>Reco_Policy_Cat</th>\n",
       "      <th>Reco_Policy_Premium</th>\n",
       "      <th>X1</th>\n",
       "      <th>X2</th>\n",
       "      <th>X3</th>\n",
       "      <th>X4</th>\n",
       "      <th>X5</th>\n",
       "      <th>X6</th>\n",
       "      <th>X7</th>\n",
       "      <th>X8</th>\n",
       "    </tr>\n",
       "  </thead>\n",
       "  <tbody>\n",
       "    <tr>\n",
       "      <th>0</th>\n",
       "      <td>C3</td>\n",
       "      <td>569</td>\n",
       "      <td>0</td>\n",
       "      <td>1</td>\n",
       "      <td>50</td>\n",
       "      <td>50</td>\n",
       "      <td>0</td>\n",
       "      <td>15</td>\n",
       "      <td>3.0</td>\n",
       "      <td>9</td>\n",
       "      <td>12960.0</td>\n",
       "      <td>0.0</td>\n",
       "      <td>1.0</td>\n",
       "      <td>0.0</td>\n",
       "      <td>0.0</td>\n",
       "      <td>0.0</td>\n",
       "      <td>0.0</td>\n",
       "      <td>0.0</td>\n",
       "      <td>0.0</td>\n",
       "    </tr>\n",
       "    <tr>\n",
       "      <th>1</th>\n",
       "      <td>C1</td>\n",
       "      <td>1489</td>\n",
       "      <td>0</td>\n",
       "      <td>1</td>\n",
       "      <td>34</td>\n",
       "      <td>34</td>\n",
       "      <td>0</td>\n",
       "      <td>15</td>\n",
       "      <td>3.0</td>\n",
       "      <td>19</td>\n",
       "      <td>6330.0</td>\n",
       "      <td>0.0</td>\n",
       "      <td>0.0</td>\n",
       "      <td>0.0</td>\n",
       "      <td>0.0</td>\n",
       "      <td>0.0</td>\n",
       "      <td>1.0</td>\n",
       "      <td>0.0</td>\n",
       "      <td>0.0</td>\n",
       "    </tr>\n",
       "    <tr>\n",
       "      <th>2</th>\n",
       "      <td>C9</td>\n",
       "      <td>223</td>\n",
       "      <td>1</td>\n",
       "      <td>1</td>\n",
       "      <td>36</td>\n",
       "      <td>36</td>\n",
       "      <td>0</td>\n",
       "      <td>2</td>\n",
       "      <td>4.0</td>\n",
       "      <td>21</td>\n",
       "      <td>12804.0</td>\n",
       "      <td>1.0</td>\n",
       "      <td>0.0</td>\n",
       "      <td>0.0</td>\n",
       "      <td>0.0</td>\n",
       "      <td>0.0</td>\n",
       "      <td>0.0</td>\n",
       "      <td>0.0</td>\n",
       "      <td>0.0</td>\n",
       "    </tr>\n",
       "    <tr>\n",
       "      <th>3</th>\n",
       "      <td>C2</td>\n",
       "      <td>3510</td>\n",
       "      <td>1</td>\n",
       "      <td>1</td>\n",
       "      <td>58</td>\n",
       "      <td>58</td>\n",
       "      <td>0</td>\n",
       "      <td>7</td>\n",
       "      <td>3.0</td>\n",
       "      <td>3</td>\n",
       "      <td>16008.0</td>\n",
       "      <td>1.0</td>\n",
       "      <td>0.0</td>\n",
       "      <td>0.0</td>\n",
       "      <td>0.0</td>\n",
       "      <td>0.0</td>\n",
       "      <td>0.0</td>\n",
       "      <td>0.0</td>\n",
       "      <td>0.0</td>\n",
       "    </tr>\n",
       "    <tr>\n",
       "      <th>4</th>\n",
       "      <td>C3</td>\n",
       "      <td>2116</td>\n",
       "      <td>0</td>\n",
       "      <td>1</td>\n",
       "      <td>22</td>\n",
       "      <td>22</td>\n",
       "      <td>0</td>\n",
       "      <td>15</td>\n",
       "      <td>3.0</td>\n",
       "      <td>18</td>\n",
       "      <td>5448.0</td>\n",
       "      <td>1.0</td>\n",
       "      <td>0.0</td>\n",
       "      <td>0.0</td>\n",
       "      <td>0.0</td>\n",
       "      <td>0.0</td>\n",
       "      <td>0.0</td>\n",
       "      <td>0.0</td>\n",
       "      <td>0.0</td>\n",
       "    </tr>\n",
       "  </tbody>\n",
       "</table>\n",
       "</div>"
      ],
      "text/plain": [
       "  City_Code  Region_Code  Accomodation_Type  Reco_Insurance_Type  Upper_Age  \\\n",
       "0        C3          569                  0                    1         50   \n",
       "1        C1         1489                  0                    1         34   \n",
       "2        C9          223                  1                    1         36   \n",
       "3        C2         3510                  1                    1         58   \n",
       "4        C3         2116                  0                    1         22   \n",
       "\n",
       "   Lower_Age  Is_Spouse  Holding_Policy_Duration  Holding_Policy_Type  \\\n",
       "0         50          0                       15                  3.0   \n",
       "1         34          0                       15                  3.0   \n",
       "2         36          0                        2                  4.0   \n",
       "3         58          0                        7                  3.0   \n",
       "4         22          0                       15                  3.0   \n",
       "\n",
       "   Reco_Policy_Cat  Reco_Policy_Premium   X1   X2   X3   X4   X5   X6   X7  \\\n",
       "0                9              12960.0  0.0  1.0  0.0  0.0  0.0  0.0  0.0   \n",
       "1               19               6330.0  0.0  0.0  0.0  0.0  0.0  1.0  0.0   \n",
       "2               21              12804.0  1.0  0.0  0.0  0.0  0.0  0.0  0.0   \n",
       "3                3              16008.0  1.0  0.0  0.0  0.0  0.0  0.0  0.0   \n",
       "4               18               5448.0  1.0  0.0  0.0  0.0  0.0  0.0  0.0   \n",
       "\n",
       "    X8  \n",
       "0  0.0  \n",
       "1  0.0  \n",
       "2  0.0  \n",
       "3  0.0  \n",
       "4  0.0  "
      ]
     },
     "execution_count": 62,
     "metadata": {},
     "output_type": "execute_result"
    }
   ],
   "source": [
    "predictor.head()"
   ]
  },
  {
   "cell_type": "code",
   "execution_count": 63,
   "id": "c915b69b",
   "metadata": {},
   "outputs": [],
   "source": [
    "predictor['Holding_Policy_Type']=predictor['Holding_Policy_Type'].astype('category')\n",
    "predictor['Reco_Policy_Cat']=predictor['Reco_Policy_Cat'].astype('category')"
   ]
  },
  {
   "cell_type": "code",
   "execution_count": 64,
   "id": "4eb0e449",
   "metadata": {},
   "outputs": [],
   "source": [
    "predictor=pd.concat([predictor,pd.get_dummies(predictor[['City_Code','Holding_Policy_Type','Reco_Policy_Cat']],drop_first=True)],axis=1)"
   ]
  },
  {
   "cell_type": "code",
   "execution_count": 65,
   "id": "83de4547",
   "metadata": {},
   "outputs": [
    {
     "data": {
      "text/html": [
       "<div>\n",
       "<style scoped>\n",
       "    .dataframe tbody tr th:only-of-type {\n",
       "        vertical-align: middle;\n",
       "    }\n",
       "\n",
       "    .dataframe tbody tr th {\n",
       "        vertical-align: top;\n",
       "    }\n",
       "\n",
       "    .dataframe thead th {\n",
       "        text-align: right;\n",
       "    }\n",
       "</style>\n",
       "<table border=\"1\" class=\"dataframe\">\n",
       "  <thead>\n",
       "    <tr style=\"text-align: right;\">\n",
       "      <th></th>\n",
       "      <th>City_Code</th>\n",
       "      <th>Region_Code</th>\n",
       "      <th>Accomodation_Type</th>\n",
       "      <th>Reco_Insurance_Type</th>\n",
       "      <th>Upper_Age</th>\n",
       "      <th>Lower_Age</th>\n",
       "      <th>Is_Spouse</th>\n",
       "      <th>Holding_Policy_Duration</th>\n",
       "      <th>Holding_Policy_Type</th>\n",
       "      <th>Reco_Policy_Cat</th>\n",
       "      <th>...</th>\n",
       "      <th>Reco_Policy_Cat_13</th>\n",
       "      <th>Reco_Policy_Cat_14</th>\n",
       "      <th>Reco_Policy_Cat_15</th>\n",
       "      <th>Reco_Policy_Cat_16</th>\n",
       "      <th>Reco_Policy_Cat_17</th>\n",
       "      <th>Reco_Policy_Cat_18</th>\n",
       "      <th>Reco_Policy_Cat_19</th>\n",
       "      <th>Reco_Policy_Cat_20</th>\n",
       "      <th>Reco_Policy_Cat_21</th>\n",
       "      <th>Reco_Policy_Cat_22</th>\n",
       "    </tr>\n",
       "  </thead>\n",
       "  <tbody>\n",
       "    <tr>\n",
       "      <th>0</th>\n",
       "      <td>C3</td>\n",
       "      <td>569</td>\n",
       "      <td>0</td>\n",
       "      <td>1</td>\n",
       "      <td>50</td>\n",
       "      <td>50</td>\n",
       "      <td>0</td>\n",
       "      <td>15</td>\n",
       "      <td>3.0</td>\n",
       "      <td>9</td>\n",
       "      <td>...</td>\n",
       "      <td>0</td>\n",
       "      <td>0</td>\n",
       "      <td>0</td>\n",
       "      <td>0</td>\n",
       "      <td>0</td>\n",
       "      <td>0</td>\n",
       "      <td>0</td>\n",
       "      <td>0</td>\n",
       "      <td>0</td>\n",
       "      <td>0</td>\n",
       "    </tr>\n",
       "    <tr>\n",
       "      <th>1</th>\n",
       "      <td>C1</td>\n",
       "      <td>1489</td>\n",
       "      <td>0</td>\n",
       "      <td>1</td>\n",
       "      <td>34</td>\n",
       "      <td>34</td>\n",
       "      <td>0</td>\n",
       "      <td>15</td>\n",
       "      <td>3.0</td>\n",
       "      <td>19</td>\n",
       "      <td>...</td>\n",
       "      <td>0</td>\n",
       "      <td>0</td>\n",
       "      <td>0</td>\n",
       "      <td>0</td>\n",
       "      <td>0</td>\n",
       "      <td>0</td>\n",
       "      <td>1</td>\n",
       "      <td>0</td>\n",
       "      <td>0</td>\n",
       "      <td>0</td>\n",
       "    </tr>\n",
       "    <tr>\n",
       "      <th>2</th>\n",
       "      <td>C9</td>\n",
       "      <td>223</td>\n",
       "      <td>1</td>\n",
       "      <td>1</td>\n",
       "      <td>36</td>\n",
       "      <td>36</td>\n",
       "      <td>0</td>\n",
       "      <td>2</td>\n",
       "      <td>4.0</td>\n",
       "      <td>21</td>\n",
       "      <td>...</td>\n",
       "      <td>0</td>\n",
       "      <td>0</td>\n",
       "      <td>0</td>\n",
       "      <td>0</td>\n",
       "      <td>0</td>\n",
       "      <td>0</td>\n",
       "      <td>0</td>\n",
       "      <td>0</td>\n",
       "      <td>1</td>\n",
       "      <td>0</td>\n",
       "    </tr>\n",
       "    <tr>\n",
       "      <th>3</th>\n",
       "      <td>C2</td>\n",
       "      <td>3510</td>\n",
       "      <td>1</td>\n",
       "      <td>1</td>\n",
       "      <td>58</td>\n",
       "      <td>58</td>\n",
       "      <td>0</td>\n",
       "      <td>7</td>\n",
       "      <td>3.0</td>\n",
       "      <td>3</td>\n",
       "      <td>...</td>\n",
       "      <td>0</td>\n",
       "      <td>0</td>\n",
       "      <td>0</td>\n",
       "      <td>0</td>\n",
       "      <td>0</td>\n",
       "      <td>0</td>\n",
       "      <td>0</td>\n",
       "      <td>0</td>\n",
       "      <td>0</td>\n",
       "      <td>0</td>\n",
       "    </tr>\n",
       "    <tr>\n",
       "      <th>4</th>\n",
       "      <td>C3</td>\n",
       "      <td>2116</td>\n",
       "      <td>0</td>\n",
       "      <td>1</td>\n",
       "      <td>22</td>\n",
       "      <td>22</td>\n",
       "      <td>0</td>\n",
       "      <td>15</td>\n",
       "      <td>3.0</td>\n",
       "      <td>18</td>\n",
       "      <td>...</td>\n",
       "      <td>0</td>\n",
       "      <td>0</td>\n",
       "      <td>0</td>\n",
       "      <td>0</td>\n",
       "      <td>0</td>\n",
       "      <td>1</td>\n",
       "      <td>0</td>\n",
       "      <td>0</td>\n",
       "      <td>0</td>\n",
       "      <td>0</td>\n",
       "    </tr>\n",
       "  </tbody>\n",
       "</table>\n",
       "<p>5 rows × 78 columns</p>\n",
       "</div>"
      ],
      "text/plain": [
       "  City_Code  Region_Code  Accomodation_Type  Reco_Insurance_Type  Upper_Age  \\\n",
       "0        C3          569                  0                    1         50   \n",
       "1        C1         1489                  0                    1         34   \n",
       "2        C9          223                  1                    1         36   \n",
       "3        C2         3510                  1                    1         58   \n",
       "4        C3         2116                  0                    1         22   \n",
       "\n",
       "   Lower_Age  Is_Spouse  Holding_Policy_Duration Holding_Policy_Type  \\\n",
       "0         50          0                       15                 3.0   \n",
       "1         34          0                       15                 3.0   \n",
       "2         36          0                        2                 4.0   \n",
       "3         58          0                        7                 3.0   \n",
       "4         22          0                       15                 3.0   \n",
       "\n",
       "  Reco_Policy_Cat  ...  Reco_Policy_Cat_13  Reco_Policy_Cat_14  \\\n",
       "0               9  ...                   0                   0   \n",
       "1              19  ...                   0                   0   \n",
       "2              21  ...                   0                   0   \n",
       "3               3  ...                   0                   0   \n",
       "4              18  ...                   0                   0   \n",
       "\n",
       "   Reco_Policy_Cat_15  Reco_Policy_Cat_16  Reco_Policy_Cat_17  \\\n",
       "0                   0                   0                   0   \n",
       "1                   0                   0                   0   \n",
       "2                   0                   0                   0   \n",
       "3                   0                   0                   0   \n",
       "4                   0                   0                   0   \n",
       "\n",
       "   Reco_Policy_Cat_18  Reco_Policy_Cat_19  Reco_Policy_Cat_20  \\\n",
       "0                   0                   0                   0   \n",
       "1                   0                   1                   0   \n",
       "2                   0                   0                   0   \n",
       "3                   0                   0                   0   \n",
       "4                   1                   0                   0   \n",
       "\n",
       "   Reco_Policy_Cat_21  Reco_Policy_Cat_22  \n",
       "0                   0                   0  \n",
       "1                   0                   0  \n",
       "2                   1                   0  \n",
       "3                   0                   0  \n",
       "4                   0                   0  \n",
       "\n",
       "[5 rows x 78 columns]"
      ]
     },
     "execution_count": 65,
     "metadata": {},
     "output_type": "execute_result"
    }
   ],
   "source": [
    "predictor.head()"
   ]
  },
  {
   "cell_type": "code",
   "execution_count": 66,
   "id": "0a3b0889",
   "metadata": {},
   "outputs": [],
   "source": [
    "predictor.drop(['City_Code','Region_Code','Holding_Policy_Type','Reco_Policy_Cat'],axis=1,inplace=True)"
   ]
  },
  {
   "cell_type": "code",
   "execution_count": 67,
   "id": "f7890fbc",
   "metadata": {},
   "outputs": [
    {
     "data": {
      "text/plain": [
       "(4918, 74)"
      ]
     },
     "execution_count": 67,
     "metadata": {},
     "output_type": "execute_result"
    }
   ],
   "source": [
    "predictor.shape"
   ]
  },
  {
   "cell_type": "code",
   "execution_count": 68,
   "id": "04b98aac",
   "metadata": {},
   "outputs": [],
   "source": [
    "from sklearn.preprocessing import StandardScaler"
   ]
  },
  {
   "cell_type": "code",
   "execution_count": 69,
   "id": "d6ef2633",
   "metadata": {},
   "outputs": [],
   "source": [
    "scaler=StandardScaler()"
   ]
  },
  {
   "cell_type": "code",
   "execution_count": 70,
   "id": "1cb21064",
   "metadata": {},
   "outputs": [],
   "source": [
    "predictor['Upper_Age']=scaler.fit_transform(predictor[['Upper_Age']])\n",
    "predictor['Lower_Age']=scaler.fit_transform(predictor[['Lower_Age']])\n",
    "predictor['Holding_Policy_Duration']=scaler.fit_transform(predictor[['Holding_Policy_Duration']])\n",
    "predictor['Reco_Policy_Premium']=scaler.fit_transform(predictor[['Reco_Policy_Premium']])"
   ]
  },
  {
   "cell_type": "code",
   "execution_count": 71,
   "id": "266d3be2",
   "metadata": {},
   "outputs": [
    {
     "data": {
      "text/html": [
       "<div>\n",
       "<style scoped>\n",
       "    .dataframe tbody tr th:only-of-type {\n",
       "        vertical-align: middle;\n",
       "    }\n",
       "\n",
       "    .dataframe tbody tr th {\n",
       "        vertical-align: top;\n",
       "    }\n",
       "\n",
       "    .dataframe thead th {\n",
       "        text-align: right;\n",
       "    }\n",
       "</style>\n",
       "<table border=\"1\" class=\"dataframe\">\n",
       "  <thead>\n",
       "    <tr style=\"text-align: right;\">\n",
       "      <th></th>\n",
       "      <th>Accomodation_Type</th>\n",
       "      <th>Reco_Insurance_Type</th>\n",
       "      <th>Upper_Age</th>\n",
       "      <th>Lower_Age</th>\n",
       "      <th>Is_Spouse</th>\n",
       "      <th>Holding_Policy_Duration</th>\n",
       "      <th>Reco_Policy_Premium</th>\n",
       "      <th>X1</th>\n",
       "      <th>X2</th>\n",
       "      <th>X3</th>\n",
       "      <th>...</th>\n",
       "      <th>Reco_Policy_Cat_13</th>\n",
       "      <th>Reco_Policy_Cat_14</th>\n",
       "      <th>Reco_Policy_Cat_15</th>\n",
       "      <th>Reco_Policy_Cat_16</th>\n",
       "      <th>Reco_Policy_Cat_17</th>\n",
       "      <th>Reco_Policy_Cat_18</th>\n",
       "      <th>Reco_Policy_Cat_19</th>\n",
       "      <th>Reco_Policy_Cat_20</th>\n",
       "      <th>Reco_Policy_Cat_21</th>\n",
       "      <th>Reco_Policy_Cat_22</th>\n",
       "    </tr>\n",
       "  </thead>\n",
       "  <tbody>\n",
       "    <tr>\n",
       "      <th>0</th>\n",
       "      <td>0</td>\n",
       "      <td>1</td>\n",
       "      <td>0.307847</td>\n",
       "      <td>0.440793</td>\n",
       "      <td>0</td>\n",
       "      <td>0.917157</td>\n",
       "      <td>-0.195803</td>\n",
       "      <td>0.0</td>\n",
       "      <td>1.0</td>\n",
       "      <td>0.0</td>\n",
       "      <td>...</td>\n",
       "      <td>0</td>\n",
       "      <td>0</td>\n",
       "      <td>0</td>\n",
       "      <td>0</td>\n",
       "      <td>0</td>\n",
       "      <td>0</td>\n",
       "      <td>0</td>\n",
       "      <td>0</td>\n",
       "      <td>0</td>\n",
       "      <td>0</td>\n",
       "    </tr>\n",
       "    <tr>\n",
       "      <th>1</th>\n",
       "      <td>0</td>\n",
       "      <td>1</td>\n",
       "      <td>-0.621231</td>\n",
       "      <td>-0.487585</td>\n",
       "      <td>0</td>\n",
       "      <td>0.917157</td>\n",
       "      <td>-1.208885</td>\n",
       "      <td>0.0</td>\n",
       "      <td>0.0</td>\n",
       "      <td>0.0</td>\n",
       "      <td>...</td>\n",
       "      <td>0</td>\n",
       "      <td>0</td>\n",
       "      <td>0</td>\n",
       "      <td>0</td>\n",
       "      <td>0</td>\n",
       "      <td>0</td>\n",
       "      <td>1</td>\n",
       "      <td>0</td>\n",
       "      <td>0</td>\n",
       "      <td>0</td>\n",
       "    </tr>\n",
       "    <tr>\n",
       "      <th>2</th>\n",
       "      <td>1</td>\n",
       "      <td>1</td>\n",
       "      <td>-0.505096</td>\n",
       "      <td>-0.371537</td>\n",
       "      <td>0</td>\n",
       "      <td>-1.389137</td>\n",
       "      <td>-0.219640</td>\n",
       "      <td>1.0</td>\n",
       "      <td>0.0</td>\n",
       "      <td>0.0</td>\n",
       "      <td>...</td>\n",
       "      <td>0</td>\n",
       "      <td>0</td>\n",
       "      <td>0</td>\n",
       "      <td>0</td>\n",
       "      <td>0</td>\n",
       "      <td>0</td>\n",
       "      <td>0</td>\n",
       "      <td>0</td>\n",
       "      <td>1</td>\n",
       "      <td>0</td>\n",
       "    </tr>\n",
       "    <tr>\n",
       "      <th>3</th>\n",
       "      <td>1</td>\n",
       "      <td>1</td>\n",
       "      <td>0.772385</td>\n",
       "      <td>0.904982</td>\n",
       "      <td>0</td>\n",
       "      <td>-0.502101</td>\n",
       "      <td>0.269940</td>\n",
       "      <td>1.0</td>\n",
       "      <td>0.0</td>\n",
       "      <td>0.0</td>\n",
       "      <td>...</td>\n",
       "      <td>0</td>\n",
       "      <td>0</td>\n",
       "      <td>0</td>\n",
       "      <td>0</td>\n",
       "      <td>0</td>\n",
       "      <td>0</td>\n",
       "      <td>0</td>\n",
       "      <td>0</td>\n",
       "      <td>0</td>\n",
       "      <td>0</td>\n",
       "    </tr>\n",
       "    <tr>\n",
       "      <th>4</th>\n",
       "      <td>0</td>\n",
       "      <td>1</td>\n",
       "      <td>-1.318039</td>\n",
       "      <td>-1.183868</td>\n",
       "      <td>0</td>\n",
       "      <td>0.917157</td>\n",
       "      <td>-1.343657</td>\n",
       "      <td>1.0</td>\n",
       "      <td>0.0</td>\n",
       "      <td>0.0</td>\n",
       "      <td>...</td>\n",
       "      <td>0</td>\n",
       "      <td>0</td>\n",
       "      <td>0</td>\n",
       "      <td>0</td>\n",
       "      <td>0</td>\n",
       "      <td>1</td>\n",
       "      <td>0</td>\n",
       "      <td>0</td>\n",
       "      <td>0</td>\n",
       "      <td>0</td>\n",
       "    </tr>\n",
       "    <tr>\n",
       "      <th>...</th>\n",
       "      <td>...</td>\n",
       "      <td>...</td>\n",
       "      <td>...</td>\n",
       "      <td>...</td>\n",
       "      <td>...</td>\n",
       "      <td>...</td>\n",
       "      <td>...</td>\n",
       "      <td>...</td>\n",
       "      <td>...</td>\n",
       "      <td>...</td>\n",
       "      <td>...</td>\n",
       "      <td>...</td>\n",
       "      <td>...</td>\n",
       "      <td>...</td>\n",
       "      <td>...</td>\n",
       "      <td>...</td>\n",
       "      <td>...</td>\n",
       "      <td>...</td>\n",
       "      <td>...</td>\n",
       "      <td>...</td>\n",
       "      <td>...</td>\n",
       "    </tr>\n",
       "    <tr>\n",
       "      <th>4913</th>\n",
       "      <td>1</td>\n",
       "      <td>1</td>\n",
       "      <td>1.411126</td>\n",
       "      <td>1.543241</td>\n",
       "      <td>0</td>\n",
       "      <td>0.739750</td>\n",
       "      <td>1.330697</td>\n",
       "      <td>0.0</td>\n",
       "      <td>0.0</td>\n",
       "      <td>0.0</td>\n",
       "      <td>...</td>\n",
       "      <td>0</td>\n",
       "      <td>0</td>\n",
       "      <td>0</td>\n",
       "      <td>0</td>\n",
       "      <td>1</td>\n",
       "      <td>0</td>\n",
       "      <td>0</td>\n",
       "      <td>0</td>\n",
       "      <td>0</td>\n",
       "      <td>0</td>\n",
       "    </tr>\n",
       "    <tr>\n",
       "      <th>4914</th>\n",
       "      <td>1</td>\n",
       "      <td>1</td>\n",
       "      <td>-0.621231</td>\n",
       "      <td>-0.487585</td>\n",
       "      <td>0</td>\n",
       "      <td>-0.856915</td>\n",
       "      <td>-0.428063</td>\n",
       "      <td>1.0</td>\n",
       "      <td>0.0</td>\n",
       "      <td>0.0</td>\n",
       "      <td>...</td>\n",
       "      <td>0</td>\n",
       "      <td>0</td>\n",
       "      <td>0</td>\n",
       "      <td>0</td>\n",
       "      <td>0</td>\n",
       "      <td>0</td>\n",
       "      <td>0</td>\n",
       "      <td>0</td>\n",
       "      <td>0</td>\n",
       "      <td>1</td>\n",
       "    </tr>\n",
       "    <tr>\n",
       "      <th>4915</th>\n",
       "      <td>0</td>\n",
       "      <td>1</td>\n",
       "      <td>-1.259971</td>\n",
       "      <td>-1.125844</td>\n",
       "      <td>0</td>\n",
       "      <td>0.917157</td>\n",
       "      <td>-1.605867</td>\n",
       "      <td>0.0</td>\n",
       "      <td>1.0</td>\n",
       "      <td>0.0</td>\n",
       "      <td>...</td>\n",
       "      <td>0</td>\n",
       "      <td>0</td>\n",
       "      <td>0</td>\n",
       "      <td>0</td>\n",
       "      <td>0</td>\n",
       "      <td>1</td>\n",
       "      <td>0</td>\n",
       "      <td>0</td>\n",
       "      <td>0</td>\n",
       "      <td>0</td>\n",
       "    </tr>\n",
       "    <tr>\n",
       "      <th>4916</th>\n",
       "      <td>0</td>\n",
       "      <td>1</td>\n",
       "      <td>0.249779</td>\n",
       "      <td>0.382769</td>\n",
       "      <td>0</td>\n",
       "      <td>-0.502101</td>\n",
       "      <td>-0.074783</td>\n",
       "      <td>1.0</td>\n",
       "      <td>0.0</td>\n",
       "      <td>0.0</td>\n",
       "      <td>...</td>\n",
       "      <td>0</td>\n",
       "      <td>0</td>\n",
       "      <td>1</td>\n",
       "      <td>0</td>\n",
       "      <td>0</td>\n",
       "      <td>0</td>\n",
       "      <td>0</td>\n",
       "      <td>0</td>\n",
       "      <td>0</td>\n",
       "      <td>0</td>\n",
       "    </tr>\n",
       "    <tr>\n",
       "      <th>4917</th>\n",
       "      <td>1</td>\n",
       "      <td>0</td>\n",
       "      <td>0.133645</td>\n",
       "      <td>-0.139443</td>\n",
       "      <td>1</td>\n",
       "      <td>0.917157</td>\n",
       "      <td>2.077902</td>\n",
       "      <td>0.0</td>\n",
       "      <td>0.0</td>\n",
       "      <td>0.0</td>\n",
       "      <td>...</td>\n",
       "      <td>0</td>\n",
       "      <td>0</td>\n",
       "      <td>0</td>\n",
       "      <td>0</td>\n",
       "      <td>0</td>\n",
       "      <td>0</td>\n",
       "      <td>1</td>\n",
       "      <td>0</td>\n",
       "      <td>0</td>\n",
       "      <td>0</td>\n",
       "    </tr>\n",
       "  </tbody>\n",
       "</table>\n",
       "<p>4918 rows × 74 columns</p>\n",
       "</div>"
      ],
      "text/plain": [
       "      Accomodation_Type  Reco_Insurance_Type  Upper_Age  Lower_Age  Is_Spouse  \\\n",
       "0                     0                    1   0.307847   0.440793          0   \n",
       "1                     0                    1  -0.621231  -0.487585          0   \n",
       "2                     1                    1  -0.505096  -0.371537          0   \n",
       "3                     1                    1   0.772385   0.904982          0   \n",
       "4                     0                    1  -1.318039  -1.183868          0   \n",
       "...                 ...                  ...        ...        ...        ...   \n",
       "4913                  1                    1   1.411126   1.543241          0   \n",
       "4914                  1                    1  -0.621231  -0.487585          0   \n",
       "4915                  0                    1  -1.259971  -1.125844          0   \n",
       "4916                  0                    1   0.249779   0.382769          0   \n",
       "4917                  1                    0   0.133645  -0.139443          1   \n",
       "\n",
       "      Holding_Policy_Duration  Reco_Policy_Premium   X1   X2   X3  ...  \\\n",
       "0                    0.917157            -0.195803  0.0  1.0  0.0  ...   \n",
       "1                    0.917157            -1.208885  0.0  0.0  0.0  ...   \n",
       "2                   -1.389137            -0.219640  1.0  0.0  0.0  ...   \n",
       "3                   -0.502101             0.269940  1.0  0.0  0.0  ...   \n",
       "4                    0.917157            -1.343657  1.0  0.0  0.0  ...   \n",
       "...                       ...                  ...  ...  ...  ...  ...   \n",
       "4913                 0.739750             1.330697  0.0  0.0  0.0  ...   \n",
       "4914                -0.856915            -0.428063  1.0  0.0  0.0  ...   \n",
       "4915                 0.917157            -1.605867  0.0  1.0  0.0  ...   \n",
       "4916                -0.502101            -0.074783  1.0  0.0  0.0  ...   \n",
       "4917                 0.917157             2.077902  0.0  0.0  0.0  ...   \n",
       "\n",
       "      Reco_Policy_Cat_13  Reco_Policy_Cat_14  Reco_Policy_Cat_15  \\\n",
       "0                      0                   0                   0   \n",
       "1                      0                   0                   0   \n",
       "2                      0                   0                   0   \n",
       "3                      0                   0                   0   \n",
       "4                      0                   0                   0   \n",
       "...                  ...                 ...                 ...   \n",
       "4913                   0                   0                   0   \n",
       "4914                   0                   0                   0   \n",
       "4915                   0                   0                   0   \n",
       "4916                   0                   0                   1   \n",
       "4917                   0                   0                   0   \n",
       "\n",
       "      Reco_Policy_Cat_16  Reco_Policy_Cat_17  Reco_Policy_Cat_18  \\\n",
       "0                      0                   0                   0   \n",
       "1                      0                   0                   0   \n",
       "2                      0                   0                   0   \n",
       "3                      0                   0                   0   \n",
       "4                      0                   0                   1   \n",
       "...                  ...                 ...                 ...   \n",
       "4913                   0                   1                   0   \n",
       "4914                   0                   0                   0   \n",
       "4915                   0                   0                   1   \n",
       "4916                   0                   0                   0   \n",
       "4917                   0                   0                   0   \n",
       "\n",
       "      Reco_Policy_Cat_19  Reco_Policy_Cat_20  Reco_Policy_Cat_21  \\\n",
       "0                      0                   0                   0   \n",
       "1                      1                   0                   0   \n",
       "2                      0                   0                   1   \n",
       "3                      0                   0                   0   \n",
       "4                      0                   0                   0   \n",
       "...                  ...                 ...                 ...   \n",
       "4913                   0                   0                   0   \n",
       "4914                   0                   0                   0   \n",
       "4915                   0                   0                   0   \n",
       "4916                   0                   0                   0   \n",
       "4917                   1                   0                   0   \n",
       "\n",
       "      Reco_Policy_Cat_22  \n",
       "0                      0  \n",
       "1                      0  \n",
       "2                      0  \n",
       "3                      0  \n",
       "4                      0  \n",
       "...                  ...  \n",
       "4913                   0  \n",
       "4914                   1  \n",
       "4915                   0  \n",
       "4916                   0  \n",
       "4917                   0  \n",
       "\n",
       "[4918 rows x 74 columns]"
      ]
     },
     "execution_count": 71,
     "metadata": {},
     "output_type": "execute_result"
    }
   ],
   "source": [
    "predictor"
   ]
  },
  {
   "cell_type": "code",
   "execution_count": 72,
   "id": "8ebd9be1",
   "metadata": {},
   "outputs": [],
   "source": [
    "from sklearn.model_selection import train_test_split"
   ]
  },
  {
   "cell_type": "code",
   "execution_count": 73,
   "id": "70a94c19",
   "metadata": {},
   "outputs": [],
   "source": [
    "x_train,x_test,y_train,y_test=train_test_split(predictor,response,test_size=0.2)"
   ]
  },
  {
   "cell_type": "code",
   "execution_count": 74,
   "id": "5e77a427",
   "metadata": {},
   "outputs": [
    {
     "name": "stdout",
     "output_type": "stream",
     "text": [
      "(3934, 74) (984, 74)\n"
     ]
    }
   ],
   "source": [
    "print(x_train.shape,x_test.shape)"
   ]
  },
  {
   "cell_type": "code",
   "execution_count": 75,
   "id": "d15ce7a0",
   "metadata": {},
   "outputs": [
    {
     "name": "stdout",
     "output_type": "stream",
     "text": [
      "(3934,) (984,)\n"
     ]
    }
   ],
   "source": [
    "print(y_train.shape,y_test.shape)"
   ]
  },
  {
   "cell_type": "markdown",
   "id": "a905f956",
   "metadata": {},
   "source": [
    "## Model Building - Logistic Regression, SVM, KNN, DT, RF, Gradient Boosting, AdaBoosting etc\n",
    "\n",
    "For all the algorithms mentioned above, perform below mentioned steps.\n",
    "\n",
    "**To Do:**\n",
    "1. Train the Model using `Accuracy` as the evaluation metric\n",
    "2. Predict\n",
    "3. Evaluate use Accuracy, Confusion Matrix, Precision & Recall, F1-score and ROC AUC to understand model performance\n",
    "4. Compare the perormance of all the models"
   ]
  },
  {
   "cell_type": "code",
   "execution_count": 76,
   "id": "823e2d2c",
   "metadata": {},
   "outputs": [],
   "source": [
    "performance_metrics_with_default_parameters=pd.DataFrame(index=['Accuracy','Precision','Recall','F1_score','AUC'])"
   ]
  },
  {
   "cell_type": "markdown",
   "id": "7611d4a1",
   "metadata": {},
   "source": [
    "# Logistic Regression"
   ]
  },
  {
   "cell_type": "code",
   "execution_count": 77,
   "id": "64436cb7",
   "metadata": {},
   "outputs": [],
   "source": [
    "from sklearn.linear_model import LogisticRegression\n",
    "LR_model=LogisticRegression(max_iter=10000)"
   ]
  },
  {
   "cell_type": "code",
   "execution_count": 78,
   "id": "9899f8f8",
   "metadata": {},
   "outputs": [
    {
     "name": "stdout",
     "output_type": "stream",
     "text": [
      "Training Accuracy :  0.5955770208439247\n"
     ]
    }
   ],
   "source": [
    "LR_model.fit(x_train,y_train)\n",
    "print('Training Accuracy : ',LR_model.score(x_train,y_train))"
   ]
  },
  {
   "cell_type": "code",
   "execution_count": 79,
   "id": "1bd2707d",
   "metadata": {},
   "outputs": [
    {
     "name": "stdout",
     "output_type": "stream",
     "text": [
      "Testing Accuracy :  0.5670731707317073\n"
     ]
    }
   ],
   "source": [
    "y_pred=LR_model.predict(x_test)\n",
    "print('Testing Accuracy : ',LR_model.score(x_test,y_test))"
   ]
  },
  {
   "cell_type": "code",
   "execution_count": 80,
   "id": "16c2a09c",
   "metadata": {},
   "outputs": [],
   "source": [
    "from sklearn.metrics import accuracy_score,confusion_matrix,classification_report,precision_score,recall_score,f1_score,roc_auc_score"
   ]
  },
  {
   "cell_type": "code",
   "execution_count": 81,
   "id": "b7868f3e",
   "metadata": {},
   "outputs": [
    {
     "data": {
      "text/plain": [
       "array([[292, 201],\n",
       "       [225, 266]], dtype=int64)"
      ]
     },
     "execution_count": 81,
     "metadata": {},
     "output_type": "execute_result"
    }
   ],
   "source": [
    "confusion_matrix(y_test,y_pred)"
   ]
  },
  {
   "cell_type": "code",
   "execution_count": 82,
   "id": "4f69d3a1",
   "metadata": {},
   "outputs": [
    {
     "name": "stdout",
     "output_type": "stream",
     "text": [
      "              precision    recall  f1-score   support\n",
      "\n",
      "           0       0.56      0.59      0.58       493\n",
      "           1       0.57      0.54      0.56       491\n",
      "\n",
      "    accuracy                           0.57       984\n",
      "   macro avg       0.57      0.57      0.57       984\n",
      "weighted avg       0.57      0.57      0.57       984\n",
      "\n",
      "\n",
      "Accuracy is :  0.5670731707317073\n",
      "Precission :  0.569593147751606\n",
      "Recall :  0.5417515274949084\n",
      "f1-score :  0.5553235908141962\n",
      "Roc Auc score :  0.5670218083722006\n"
     ]
    }
   ],
   "source": [
    "print(classification_report(y_test,y_pred))\n",
    "print()\n",
    "print('Accuracy is : ',accuracy_score(y_test,y_pred))\n",
    "print('Precission : ',precision_score(y_test,y_pred))\n",
    "print('Recall : ',recall_score(y_test,y_pred))\n",
    "print('f1-score : ',f1_score(y_test,y_pred))\n",
    "print('Roc Auc score : ',roc_auc_score(y_test,y_pred))"
   ]
  },
  {
   "cell_type": "code",
   "execution_count": 83,
   "id": "3c85006e",
   "metadata": {},
   "outputs": [],
   "source": [
    "y_pred_proba = LR_model.predict_proba(x_test)[:,1]"
   ]
  },
  {
   "cell_type": "code",
   "execution_count": 84,
   "id": "f4b6a583",
   "metadata": {},
   "outputs": [
    {
     "name": "stdout",
     "output_type": "stream",
     "text": [
      "Area under the ROC curve :  0.6062016912952413\n"
     ]
    }
   ],
   "source": [
    "from sklearn.metrics import roc_curve,auc\n",
    "[fpr, tpr, thr] = roc_curve(y_test, y_pred_proba)\n",
    "print('Area under the ROC curve : ',auc(fpr, tpr))"
   ]
  },
  {
   "cell_type": "code",
   "execution_count": 85,
   "id": "d87bc27d",
   "metadata": {},
   "outputs": [
    {
     "data": {
      "image/png": "[encoded data removed]",
      "text/plain": [
       "<Figure size 432x288 with 1 Axes>"
      ]
     },
     "metadata": {
      "needs_background": "light"
     },
     "output_type": "display_data"
    }
   ],
   "source": [
    "plt.figure()\n",
    "plt.plot(fpr, tpr, color='coral', label = 'ROC Curve with Area Under Curve = '+str(auc (fpr, tpr)))\n",
    "plt.title('ROC curve for Logistic Regression',fontsize=15)\n",
    "plt.xlabel('False positive Rate (1 - specificity)')\n",
    "plt.ylabel('True Positive Rate ')\n",
    "plt.legend(loc='lower right')\n",
    "plt.show()"
   ]
  },
  {
   "cell_type": "code",
   "execution_count": 86,
   "id": "148638cc",
   "metadata": {},
   "outputs": [],
   "source": [
    "performance_metrics_with_default_parameters['Logistic Regression']=[accuracy_score(y_test,y_pred),\n",
    "                                                                    precision_score(y_test,y_pred),\n",
    "                                                                    recall_score(y_test,y_pred),\n",
    "                                                                    f1_score(y_test,y_pred),\n",
    "                                                                    auc(fpr, tpr)]"
   ]
  },
  {
   "cell_type": "code",
   "execution_count": null,
   "id": "b72ddcd0",
   "metadata": {},
   "outputs": [],
   "source": []
  },
  {
   "cell_type": "markdown",
   "id": "70b9231b",
   "metadata": {},
   "source": [
    "# SVM"
   ]
  },
  {
   "cell_type": "code",
   "execution_count": 87,
   "id": "8fe4af08",
   "metadata": {},
   "outputs": [],
   "source": [
    "from sklearn.svm import SVC\n",
    "svm_model=SVC(probability=True)"
   ]
  },
  {
   "cell_type": "code",
   "execution_count": 88,
   "id": "aa7572b0",
   "metadata": {},
   "outputs": [
    {
     "name": "stdout",
     "output_type": "stream",
     "text": [
      "Training Accuracy :  0.6832740213523132\n"
     ]
    }
   ],
   "source": [
    "svm_model.fit(x_train,y_train)\n",
    "print('Training Accuracy : ',svm_model.score(x_train,y_train))"
   ]
  },
  {
   "cell_type": "code",
   "execution_count": 89,
   "id": "0eb4080b",
   "metadata": {},
   "outputs": [
    {
     "name": "stdout",
     "output_type": "stream",
     "text": [
      "Testing Accuracy :  0.5721544715447154\n"
     ]
    }
   ],
   "source": [
    "y_pred=svm_model.predict(x_test)\n",
    "print('Testing Accuracy : ',svm_model.score(x_test,y_test))"
   ]
  },
  {
   "cell_type": "code",
   "execution_count": 90,
   "id": "659004ea",
   "metadata": {},
   "outputs": [
    {
     "data": {
      "text/plain": [
       "array([[282, 211],\n",
       "       [210, 281]], dtype=int64)"
      ]
     },
     "execution_count": 90,
     "metadata": {},
     "output_type": "execute_result"
    }
   ],
   "source": [
    "confusion_matrix(y_test,y_pred)"
   ]
  },
  {
   "cell_type": "code",
   "execution_count": 91,
   "id": "dc88b094",
   "metadata": {},
   "outputs": [
    {
     "name": "stdout",
     "output_type": "stream",
     "text": [
      "              precision    recall  f1-score   support\n",
      "\n",
      "           0       0.57      0.57      0.57       493\n",
      "           1       0.57      0.57      0.57       491\n",
      "\n",
      "    accuracy                           0.57       984\n",
      "   macro avg       0.57      0.57      0.57       984\n",
      "weighted avg       0.57      0.57      0.57       984\n",
      "\n",
      "\n",
      "Accuracy is :  0.5721544715447154\n",
      "Precission :  0.5711382113821138\n",
      "Recall :  0.5723014256619144\n",
      "f1-score :  0.5717192268565615\n",
      "Roc Auc score :  0.5721547696260891\n"
     ]
    }
   ],
   "source": [
    "print(classification_report(y_test,y_pred))\n",
    "print()\n",
    "print('Accuracy is : ',accuracy_score(y_test,y_pred))\n",
    "print('Precission : ',precision_score(y_test,y_pred))\n",
    "print('Recall : ',recall_score(y_test,y_pred))\n",
    "print('f1-score : ',f1_score(y_test,y_pred))\n",
    "print('Roc Auc score : ',roc_auc_score(y_test,y_pred))"
   ]
  },
  {
   "cell_type": "code",
   "execution_count": 92,
   "id": "463f516b",
   "metadata": {},
   "outputs": [],
   "source": [
    "y_pred_proba = svm_model.predict_proba(x_test)[:,1]"
   ]
  },
  {
   "cell_type": "code",
   "execution_count": 93,
   "id": "094289e9",
   "metadata": {},
   "outputs": [
    {
     "name": "stdout",
     "output_type": "stream",
     "text": [
      "Area under the ROC curve :  0.5985693806984131\n"
     ]
    }
   ],
   "source": [
    "[fpr, tpr, thr] = roc_curve(y_test, y_pred_proba)\n",
    "print('Area under the ROC curve : ',auc(fpr, tpr))"
   ]
  },
  {
   "cell_type": "code",
   "execution_count": 94,
   "id": "951a7a43",
   "metadata": {},
   "outputs": [
    {
     "data": {
      "image/png": "[encoded data removed]",
      "text/plain": [
       "<Figure size 432x288 with 1 Axes>"
      ]
     },
     "metadata": {
      "needs_background": "light"
     },
     "output_type": "display_data"
    }
   ],
   "source": [
    "plt.figure()\n",
    "plt.plot(fpr, tpr, color='coral', label = 'ROC Curve with Area Under Curve = '+str(auc (fpr, tpr)))\n",
    "plt.title('ROC curve for SVM ',fontsize=15)\n",
    "plt.xlabel('False positive Rate (1 - specificity)')\n",
    "plt.ylabel('True Positive Rate ')\n",
    "plt.legend(loc='lower right')\n",
    "plt.show()"
   ]
  },
  {
   "cell_type": "code",
   "execution_count": 95,
   "id": "fd6b5a12",
   "metadata": {},
   "outputs": [],
   "source": [
    "performance_metrics_with_default_parameters['SVM']=[accuracy_score(y_test,y_pred),\n",
    "                                                                    precision_score(y_test,y_pred),\n",
    "                                                                    recall_score(y_test,y_pred),\n",
    "                                                                    f1_score(y_test,y_pred),\n",
    "                                                                    auc(fpr, tpr)]"
   ]
  },
  {
   "cell_type": "code",
   "execution_count": null,
   "id": "421e241a",
   "metadata": {},
   "outputs": [],
   "source": []
  },
  {
   "cell_type": "markdown",
   "id": "36d17e0b",
   "metadata": {},
   "source": [
    "# KNN "
   ]
  },
  {
   "cell_type": "code",
   "execution_count": 96,
   "id": "dd2a8c30",
   "metadata": {},
   "outputs": [],
   "source": [
    "from sklearn.neighbors import KNeighborsClassifier\n",
    "knn_model=KNeighborsClassifier()"
   ]
  },
  {
   "cell_type": "code",
   "execution_count": 97,
   "id": "6bc60a8f",
   "metadata": {},
   "outputs": [
    {
     "name": "stdout",
     "output_type": "stream",
     "text": [
      "Training Accuracy :  0.6898830706659889\n"
     ]
    }
   ],
   "source": [
    "knn_model.fit(x_train,y_train)\n",
    "print('Training Accuracy : ',knn_model.score(x_train,y_train))"
   ]
  },
  {
   "cell_type": "code",
   "execution_count": 98,
   "id": "b7056194",
   "metadata": {},
   "outputs": [
    {
     "name": "stdout",
     "output_type": "stream",
     "text": [
      "Testing Accuracy :  0.5142276422764228\n"
     ]
    }
   ],
   "source": [
    "y_pred=knn_model.predict(x_test)\n",
    "print('Testing Accuracy : ',knn_model.score(x_test,y_test))"
   ]
  },
  {
   "cell_type": "code",
   "execution_count": 99,
   "id": "e218bce9",
   "metadata": {},
   "outputs": [
    {
     "data": {
      "text/plain": [
       "array([[251, 242],\n",
       "       [236, 255]], dtype=int64)"
      ]
     },
     "execution_count": 99,
     "metadata": {},
     "output_type": "execute_result"
    }
   ],
   "source": [
    "confusion_matrix(y_test,y_pred)"
   ]
  },
  {
   "cell_type": "code",
   "execution_count": 100,
   "id": "2760ea85",
   "metadata": {},
   "outputs": [
    {
     "name": "stdout",
     "output_type": "stream",
     "text": [
      "              precision    recall  f1-score   support\n",
      "\n",
      "           0       0.52      0.51      0.51       493\n",
      "           1       0.51      0.52      0.52       491\n",
      "\n",
      "    accuracy                           0.51       984\n",
      "   macro avg       0.51      0.51      0.51       984\n",
      "weighted avg       0.51      0.51      0.51       984\n",
      "\n",
      "\n",
      "Accuracy is :  0.5142276422764228\n",
      "Precission :  0.5130784708249497\n",
      "Recall :  0.5193482688391039\n",
      "f1-score :  0.5161943319838057\n",
      "Roc Auc score :  0.5142380289428785\n"
     ]
    }
   ],
   "source": [
    "print(classification_report(y_test,y_pred))\n",
    "print()\n",
    "print('Accuracy is : ',accuracy_score(y_test,y_pred))\n",
    "print('Precission : ',precision_score(y_test,y_pred))\n",
    "print('Recall : ',recall_score(y_test,y_pred))\n",
    "print('f1-score : ',f1_score(y_test,y_pred))\n",
    "print('Roc Auc score : ',roc_auc_score(y_test,y_pred))"
   ]
  },
  {
   "cell_type": "code",
   "execution_count": 101,
   "id": "a220d7b3",
   "metadata": {},
   "outputs": [],
   "source": [
    "y_pred_proba = knn_model.predict_proba(x_test)[:,1]"
   ]
  },
  {
   "cell_type": "code",
   "execution_count": 102,
   "id": "06b4326b",
   "metadata": {},
   "outputs": [
    {
     "name": "stdout",
     "output_type": "stream",
     "text": [
      "Area under the ROC curve :  0.5337040357262366\n"
     ]
    }
   ],
   "source": [
    "[fpr, tpr, thr] = roc_curve(y_test, y_pred_proba)\n",
    "print('Area under the ROC curve : ',auc(fpr, tpr))"
   ]
  },
  {
   "cell_type": "code",
   "execution_count": 103,
   "id": "c4a0a253",
   "metadata": {},
   "outputs": [
    {
     "data": {
      "image/png": "[encoded data removed]",
      "text/plain": [
       "<Figure size 432x288 with 1 Axes>"
      ]
     },
     "metadata": {
      "needs_background": "light"
     },
     "output_type": "display_data"
    }
   ],
   "source": [
    "plt.figure()\n",
    "plt.plot(fpr, tpr, color='coral', label = 'ROC Curve with Area Under Curve = '+str(auc (fpr, tpr)))\n",
    "plt.title('ROC curve for KNN',fontsize=15)\n",
    "plt.xlabel('False positive Rate (1 - specificity)')\n",
    "plt.ylabel('True Positive Rate ')\n",
    "plt.legend(loc='lower right')\n",
    "plt.show()"
   ]
  },
  {
   "cell_type": "code",
   "execution_count": 104,
   "id": "14d7b32c",
   "metadata": {},
   "outputs": [],
   "source": [
    "performance_metrics_with_default_parameters['KNN']=[accuracy_score(y_test,y_pred),\n",
    "                                                                    precision_score(y_test,y_pred),\n",
    "                                                                    recall_score(y_test,y_pred),\n",
    "                                                                    f1_score(y_test,y_pred),\n",
    "                                                                    auc(fpr, tpr)]"
   ]
  },
  {
   "cell_type": "code",
   "execution_count": null,
   "id": "5a8db2e4",
   "metadata": {},
   "outputs": [],
   "source": []
  },
  {
   "cell_type": "markdown",
   "id": "980269fc",
   "metadata": {},
   "source": [
    "# Decision Tree"
   ]
  },
  {
   "cell_type": "code",
   "execution_count": 105,
   "id": "33b1e14f",
   "metadata": {},
   "outputs": [],
   "source": [
    "from sklearn.tree import DecisionTreeClassifier\n",
    "dt_model=DecisionTreeClassifier()"
   ]
  },
  {
   "cell_type": "code",
   "execution_count": 106,
   "id": "25d0c715",
   "metadata": {},
   "outputs": [
    {
     "name": "stdout",
     "output_type": "stream",
     "text": [
      "Training Accuracy :  1.0\n"
     ]
    }
   ],
   "source": [
    "dt_model.fit(x_train,y_train)\n",
    "print('Training Accuracy : ',dt_model.score(x_train,y_train))"
   ]
  },
  {
   "cell_type": "code",
   "execution_count": 107,
   "id": "ad2a77b1",
   "metadata": {},
   "outputs": [
    {
     "name": "stdout",
     "output_type": "stream",
     "text": [
      "Testing Accuracy :  0.5040650406504065\n"
     ]
    }
   ],
   "source": [
    "y_pred=dt_model.predict(x_test)\n",
    "print('Testing Accuracy : ',dt_model.score(x_test,y_test))"
   ]
  },
  {
   "cell_type": "code",
   "execution_count": 108,
   "id": "f2e23c80",
   "metadata": {},
   "outputs": [
    {
     "data": {
      "text/plain": [
       "array([[252, 241],\n",
       "       [247, 244]], dtype=int64)"
      ]
     },
     "execution_count": 108,
     "metadata": {},
     "output_type": "execute_result"
    }
   ],
   "source": [
    "confusion_matrix(y_test,y_pred)"
   ]
  },
  {
   "cell_type": "code",
   "execution_count": 109,
   "id": "0f8c89f6",
   "metadata": {},
   "outputs": [
    {
     "name": "stdout",
     "output_type": "stream",
     "text": [
      "              precision    recall  f1-score   support\n",
      "\n",
      "           0       0.51      0.51      0.51       493\n",
      "           1       0.50      0.50      0.50       491\n",
      "\n",
      "    accuracy                           0.50       984\n",
      "   macro avg       0.50      0.50      0.50       984\n",
      "weighted avg       0.50      0.50      0.50       984\n",
      "\n",
      "\n",
      "Accuracy is :  0.5040650406504065\n",
      "Precission :  0.5030927835051546\n",
      "Recall :  0.4969450101832994\n",
      "f1-score :  0.5\n",
      "Roc Auc score :  0.5040505983979376\n"
     ]
    }
   ],
   "source": [
    "print(classification_report(y_test,y_pred))\n",
    "print()\n",
    "print('Accuracy is : ',accuracy_score(y_test,y_pred))\n",
    "print('Precission : ',precision_score(y_test,y_pred))\n",
    "print('Recall : ',recall_score(y_test,y_pred))\n",
    "print('f1-score : ',f1_score(y_test,y_pred))\n",
    "print('Roc Auc score : ',roc_auc_score(y_test,y_pred))"
   ]
  },
  {
   "cell_type": "code",
   "execution_count": 110,
   "id": "031db026",
   "metadata": {},
   "outputs": [],
   "source": [
    "y_pred_proba = dt_model.predict_proba(x_test)[:,1]"
   ]
  },
  {
   "cell_type": "code",
   "execution_count": 111,
   "id": "b181d6ec",
   "metadata": {},
   "outputs": [
    {
     "name": "stdout",
     "output_type": "stream",
     "text": [
      "Area under the ROC curve :  0.5040505983979376\n"
     ]
    }
   ],
   "source": [
    "[fpr, tpr, thr] = roc_curve(y_test, y_pred_proba)\n",
    "print('Area under the ROC curve : ',auc(fpr, tpr))"
   ]
  },
  {
   "cell_type": "code",
   "execution_count": 112,
   "id": "b5484314",
   "metadata": {},
   "outputs": [
    {
     "data": {
      "image/png": "[encoded data removed]",
      "text/plain": [
       "<Figure size 432x288 with 1 Axes>"
      ]
     },
     "metadata": {
      "needs_background": "light"
     },
     "output_type": "display_data"
    }
   ],
   "source": [
    "plt.figure()\n",
    "plt.plot(fpr, tpr, color='coral', label = 'ROC Curve with Area Under Curve = '+str(auc (fpr, tpr)))\n",
    "plt.title('ROC curve for Decision Tree',fontsize=15)\n",
    "plt.xlabel('False positive Rate (1 - specificity)')\n",
    "plt.ylabel('True Positive Rate ')\n",
    "plt.legend(loc='lower right')\n",
    "plt.show()"
   ]
  },
  {
   "cell_type": "code",
   "execution_count": 113,
   "id": "357206c3",
   "metadata": {},
   "outputs": [],
   "source": [
    "performance_metrics_with_default_parameters['Decision Tree']=[accuracy_score(y_test,y_pred),\n",
    "                                                                    precision_score(y_test,y_pred),\n",
    "                                                                    recall_score(y_test,y_pred),\n",
    "                                                                    f1_score(y_test,y_pred),\n",
    "                                                                    auc(fpr, tpr)]"
   ]
  },
  {
   "cell_type": "code",
   "execution_count": null,
   "id": "0ba34df2",
   "metadata": {},
   "outputs": [],
   "source": []
  },
  {
   "cell_type": "markdown",
   "id": "15bd19f6",
   "metadata": {},
   "source": [
    "# Random Forest"
   ]
  },
  {
   "cell_type": "code",
   "execution_count": 114,
   "id": "a447a82a",
   "metadata": {},
   "outputs": [],
   "source": [
    "from sklearn.ensemble import RandomForestClassifier\n",
    "rf_model=RandomForestClassifier()"
   ]
  },
  {
   "cell_type": "code",
   "execution_count": 115,
   "id": "30c311c7",
   "metadata": {},
   "outputs": [
    {
     "name": "stdout",
     "output_type": "stream",
     "text": [
      "Training Accuracy :  1.0\n"
     ]
    }
   ],
   "source": [
    "rf_model.fit(x_train,y_train)\n",
    "print('Training Accuracy : ',rf_model.score(x_train,y_train))"
   ]
  },
  {
   "cell_type": "code",
   "execution_count": 116,
   "id": "e315e6a8",
   "metadata": {},
   "outputs": [
    {
     "name": "stdout",
     "output_type": "stream",
     "text": [
      "Testing Accuracy :  0.5376016260162602\n"
     ]
    }
   ],
   "source": [
    "y_pred=rf_model.predict(x_test)\n",
    "print('Testing Accuracy : ',rf_model.score(x_test,y_test))"
   ]
  },
  {
   "cell_type": "code",
   "execution_count": 117,
   "id": "dcdbe027",
   "metadata": {},
   "outputs": [
    {
     "data": {
      "text/plain": [
       "array([[275, 218],\n",
       "       [237, 254]], dtype=int64)"
      ]
     },
     "execution_count": 117,
     "metadata": {},
     "output_type": "execute_result"
    }
   ],
   "source": [
    "confusion_matrix(y_test,y_pred)"
   ]
  },
  {
   "cell_type": "code",
   "execution_count": 118,
   "id": "4ec6febf",
   "metadata": {},
   "outputs": [
    {
     "name": "stdout",
     "output_type": "stream",
     "text": [
      "              precision    recall  f1-score   support\n",
      "\n",
      "           0       0.54      0.56      0.55       493\n",
      "           1       0.54      0.52      0.53       491\n",
      "\n",
      "    accuracy                           0.54       984\n",
      "   macro avg       0.54      0.54      0.54       984\n",
      "weighted avg       0.54      0.54      0.54       984\n",
      "\n",
      "\n",
      "Accuracy is :  0.5376016260162602\n",
      "Precission :  0.538135593220339\n",
      "Recall :  0.5173116089613035\n",
      "f1-score :  0.5275181723779854\n",
      "Roc Auc score :  0.5375604697950533\n"
     ]
    }
   ],
   "source": [
    "print(classification_report(y_test,y_pred))\n",
    "print()\n",
    "print('Accuracy is : ',accuracy_score(y_test,y_pred))\n",
    "print('Precission : ',precision_score(y_test,y_pred))\n",
    "print('Recall : ',recall_score(y_test,y_pred))\n",
    "print('f1-score : ',f1_score(y_test,y_pred))\n",
    "print('Roc Auc score : ',roc_auc_score(y_test,y_pred))"
   ]
  },
  {
   "cell_type": "code",
   "execution_count": 119,
   "id": "7638eb62",
   "metadata": {},
   "outputs": [],
   "source": [
    "y_pred_proba = rf_model.predict_proba(x_test)[:,1]"
   ]
  },
  {
   "cell_type": "code",
   "execution_count": 120,
   "id": "713b6b1a",
   "metadata": {},
   "outputs": [
    {
     "name": "stdout",
     "output_type": "stream",
     "text": [
      "Area under the ROC curve :  0.5641423926828966\n"
     ]
    }
   ],
   "source": [
    "[fpr, tpr, thr] = roc_curve(y_test, y_pred_proba)\n",
    "print('Area under the ROC curve : ',auc(fpr, tpr))"
   ]
  },
  {
   "cell_type": "code",
   "execution_count": 121,
   "id": "94a36946",
   "metadata": {},
   "outputs": [
    {
     "data": {
      "image/png": "[encoded data removed]",
      "text/plain": [
       "<Figure size 432x288 with 1 Axes>"
      ]
     },
     "metadata": {
      "needs_background": "light"
     },
     "output_type": "display_data"
    }
   ],
   "source": [
    "plt.figure()\n",
    "plt.plot(fpr, tpr, color='coral', label = 'ROC Curve with Area Under Curve = '+str(auc (fpr, tpr)))\n",
    "plt.title('ROC curve for Random forest',fontsize=15)\n",
    "plt.xlabel('False positive Rate (1 - specificity)')\n",
    "plt.ylabel('True Positive Rate ')\n",
    "plt.legend(loc='lower right')\n",
    "plt.show()"
   ]
  },
  {
   "cell_type": "code",
   "execution_count": 122,
   "id": "4ce84b3e",
   "metadata": {},
   "outputs": [],
   "source": [
    "performance_metrics_with_default_parameters['Random Forest']=[accuracy_score(y_test,y_pred),\n",
    "                                                                    precision_score(y_test,y_pred),\n",
    "                                                                    recall_score(y_test,y_pred),\n",
    "                                                                    f1_score(y_test,y_pred),\n",
    "                                                                    auc(fpr, tpr)]"
   ]
  },
  {
   "cell_type": "code",
   "execution_count": null,
   "id": "7990025f",
   "metadata": {},
   "outputs": [],
   "source": []
  },
  {
   "cell_type": "markdown",
   "id": "2d839582",
   "metadata": {},
   "source": [
    "# Adaboosting"
   ]
  },
  {
   "cell_type": "code",
   "execution_count": 123,
   "id": "e27f25eb",
   "metadata": {},
   "outputs": [],
   "source": [
    "from sklearn.ensemble import AdaBoostClassifier\n",
    "adaboost=AdaBoostClassifier()"
   ]
  },
  {
   "cell_type": "code",
   "execution_count": 124,
   "id": "a59c9425",
   "metadata": {},
   "outputs": [
    {
     "name": "stdout",
     "output_type": "stream",
     "text": [
      "Training Accuracy :  0.6044738179969497\n"
     ]
    }
   ],
   "source": [
    "adaboost.fit(x_train,y_train)\n",
    "print('Training Accuracy : ',adaboost.score(x_train,y_train))"
   ]
  },
  {
   "cell_type": "code",
   "execution_count": 125,
   "id": "51dcc6b1",
   "metadata": {},
   "outputs": [
    {
     "name": "stdout",
     "output_type": "stream",
     "text": [
      "Testing Accuracy :  0.5721544715447154\n"
     ]
    }
   ],
   "source": [
    "y_pred=adaboost.predict(x_test)\n",
    "print('Testing Accuracy : ',adaboost.score(x_test,y_test))"
   ]
  },
  {
   "cell_type": "code",
   "execution_count": 126,
   "id": "6b9e2aae",
   "metadata": {},
   "outputs": [
    {
     "data": {
      "text/plain": [
       "array([[285, 208],\n",
       "       [213, 278]], dtype=int64)"
      ]
     },
     "execution_count": 126,
     "metadata": {},
     "output_type": "execute_result"
    }
   ],
   "source": [
    "confusion_matrix(y_test,y_pred)"
   ]
  },
  {
   "cell_type": "code",
   "execution_count": 127,
   "id": "5cc707bc",
   "metadata": {},
   "outputs": [
    {
     "name": "stdout",
     "output_type": "stream",
     "text": [
      "              precision    recall  f1-score   support\n",
      "\n",
      "           0       0.57      0.58      0.58       493\n",
      "           1       0.57      0.57      0.57       491\n",
      "\n",
      "    accuracy                           0.57       984\n",
      "   macro avg       0.57      0.57      0.57       984\n",
      "weighted avg       0.57      0.57      0.57       984\n",
      "\n",
      "\n",
      "Accuracy is :  0.5721544715447154\n",
      "Precission :  0.5720164609053497\n",
      "Recall :  0.5661914460285132\n",
      "f1-score :  0.5690890481064482\n",
      "Roc Auc score :  0.5721423761582728\n"
     ]
    }
   ],
   "source": [
    "print(classification_report(y_test,y_pred))\n",
    "print()\n",
    "print('Accuracy is : ',accuracy_score(y_test,y_pred))\n",
    "print('Precission : ',precision_score(y_test,y_pred))\n",
    "print('Recall : ',recall_score(y_test,y_pred))\n",
    "print('f1-score : ',f1_score(y_test,y_pred))\n",
    "print('Roc Auc score : ',roc_auc_score(y_test,y_pred))"
   ]
  },
  {
   "cell_type": "code",
   "execution_count": 128,
   "id": "d415e4bd",
   "metadata": {},
   "outputs": [],
   "source": [
    "y_pred_proba = adaboost.predict_proba(x_test)[:,1]"
   ]
  },
  {
   "cell_type": "code",
   "execution_count": 129,
   "id": "982680ef",
   "metadata": {},
   "outputs": [
    {
     "name": "stdout",
     "output_type": "stream",
     "text": [
      "Area under the ROC curve :  0.5801155071200472\n"
     ]
    }
   ],
   "source": [
    "[fpr, tpr, thr] = roc_curve(y_test, y_pred_proba)\n",
    "print('Area under the ROC curve : ',auc(fpr, tpr))"
   ]
  },
  {
   "cell_type": "code",
   "execution_count": 130,
   "id": "3c3ad140",
   "metadata": {},
   "outputs": [
    {
     "data": {
      "image/png": "[encoded data removed]",
      "text/plain": [
       "<Figure size 432x288 with 1 Axes>"
      ]
     },
     "metadata": {
      "needs_background": "light"
     },
     "output_type": "display_data"
    }
   ],
   "source": [
    "plt.figure()\n",
    "plt.plot(fpr, tpr, color='coral', label = 'ROC Curve with Area Under Curve = '+str(auc (fpr, tpr)))\n",
    "plt.title('ROC curve for Adaboost',fontsize=15)\n",
    "plt.xlabel('False positive Rate (1 - specificity)')\n",
    "plt.ylabel('True Positive Rate ')\n",
    "plt.legend(loc='lower right')\n",
    "plt.show()"
   ]
  },
  {
   "cell_type": "code",
   "execution_count": 131,
   "id": "08995cfa",
   "metadata": {},
   "outputs": [],
   "source": [
    "performance_metrics_with_default_parameters['Adaboosting']=[accuracy_score(y_test,y_pred),\n",
    "                                                                    precision_score(y_test,y_pred),\n",
    "                                                                    recall_score(y_test,y_pred),\n",
    "                                                                    f1_score(y_test,y_pred),\n",
    "                                                                    auc(fpr, tpr)]"
   ]
  },
  {
   "cell_type": "code",
   "execution_count": null,
   "id": "76d788ca",
   "metadata": {},
   "outputs": [],
   "source": []
  },
  {
   "cell_type": "markdown",
   "id": "0951412b",
   "metadata": {},
   "source": [
    "# Gradient Boosting"
   ]
  },
  {
   "cell_type": "code",
   "execution_count": 132,
   "id": "06582094",
   "metadata": {},
   "outputs": [],
   "source": [
    "from sklearn.ensemble import GradientBoostingClassifier\n",
    "gb_model=GradientBoostingClassifier()"
   ]
  },
  {
   "cell_type": "code",
   "execution_count": 133,
   "id": "6ea1e42b",
   "metadata": {},
   "outputs": [
    {
     "name": "stdout",
     "output_type": "stream",
     "text": [
      "Training Accuracy :  0.6545500762582613\n"
     ]
    }
   ],
   "source": [
    "gb_model.fit(x_train,y_train)\n",
    "print('Training Accuracy : ',gb_model.score(x_train,y_train))"
   ]
  },
  {
   "cell_type": "code",
   "execution_count": 134,
   "id": "8819d80d",
   "metadata": {},
   "outputs": [
    {
     "name": "stdout",
     "output_type": "stream",
     "text": [
      "Testing Accuracy :  0.5691056910569106\n"
     ]
    }
   ],
   "source": [
    "y_pred=gb_model.predict(x_test)\n",
    "print('Testing Accuracy : ',gb_model.score(x_test,y_test))"
   ]
  },
  {
   "cell_type": "code",
   "execution_count": 135,
   "id": "a034178f",
   "metadata": {},
   "outputs": [
    {
     "data": {
      "text/plain": [
       "array([[317, 176],\n",
       "       [248, 243]], dtype=int64)"
      ]
     },
     "execution_count": 135,
     "metadata": {},
     "output_type": "execute_result"
    }
   ],
   "source": [
    "confusion_matrix(y_test,y_pred)"
   ]
  },
  {
   "cell_type": "code",
   "execution_count": 136,
   "id": "6156a0f7",
   "metadata": {},
   "outputs": [
    {
     "name": "stdout",
     "output_type": "stream",
     "text": [
      "              precision    recall  f1-score   support\n",
      "\n",
      "           0       0.56      0.64      0.60       493\n",
      "           1       0.58      0.49      0.53       491\n",
      "\n",
      "    accuracy                           0.57       984\n",
      "   macro avg       0.57      0.57      0.57       984\n",
      "weighted avg       0.57      0.57      0.57       984\n",
      "\n",
      "\n",
      "Accuracy is :  0.5691056910569106\n",
      "Precission :  0.5799522673031027\n",
      "Recall :  0.49490835030549896\n",
      "f1-score :  0.5340659340659341\n",
      "Roc Auc score :  0.5689551893515324\n"
     ]
    }
   ],
   "source": [
    "print(classification_report(y_test,y_pred))\n",
    "print()\n",
    "print('Accuracy is : ',accuracy_score(y_test,y_pred))\n",
    "print('Precission : ',precision_score(y_test,y_pred))\n",
    "print('Recall : ',recall_score(y_test,y_pred))\n",
    "print('f1-score : ',f1_score(y_test,y_pred))\n",
    "print('Roc Auc score : ',roc_auc_score(y_test,y_pred))"
   ]
  },
  {
   "cell_type": "code",
   "execution_count": 137,
   "id": "0f235c2e",
   "metadata": {},
   "outputs": [],
   "source": [
    "y_pred_proba = gb_model.predict_proba(x_test)[:,1]"
   ]
  },
  {
   "cell_type": "code",
   "execution_count": 138,
   "id": "7b68820f",
   "metadata": {},
   "outputs": [
    {
     "name": "stdout",
     "output_type": "stream",
     "text": [
      "Area under the ROC curve :  0.5971420663215774\n"
     ]
    }
   ],
   "source": [
    "[fpr, tpr, thr] = roc_curve(y_test, y_pred_proba)\n",
    "print('Area under the ROC curve : ',auc(fpr, tpr))"
   ]
  },
  {
   "cell_type": "code",
   "execution_count": 139,
   "id": "984cbab6",
   "metadata": {},
   "outputs": [
    {
     "data": {
      "image/png": "[encoded data removed]",
      "text/plain": [
       "<Figure size 432x288 with 1 Axes>"
      ]
     },
     "metadata": {
      "needs_background": "light"
     },
     "output_type": "display_data"
    }
   ],
   "source": [
    "plt.figure()\n",
    "plt.plot(fpr, tpr, color='coral', label = 'ROC Curve with Area Under Curve = '+str(auc (fpr, tpr)))\n",
    "plt.title('ROC curve for Gradient Boosting',fontsize=15)\n",
    "plt.xlabel('False positive Rate (1 - specificity)')\n",
    "plt.ylabel('True Positive Rate ')\n",
    "plt.legend(loc='lower right')\n",
    "plt.show()"
   ]
  },
  {
   "cell_type": "code",
   "execution_count": 140,
   "id": "3bcda5cb",
   "metadata": {},
   "outputs": [],
   "source": [
    "performance_metrics_with_default_parameters['Gradient Boosting']=[accuracy_score(y_test,y_pred),\n",
    "                                                                    precision_score(y_test,y_pred),\n",
    "                                                                    recall_score(y_test,y_pred),\n",
    "                                                                    f1_score(y_test,y_pred),\n",
    "                                                                    auc(fpr, tpr)]"
   ]
  },
  {
   "cell_type": "code",
   "execution_count": null,
   "id": "d9f64314",
   "metadata": {},
   "outputs": [],
   "source": []
  },
  {
   "cell_type": "markdown",
   "id": "3a6d81b9",
   "metadata": {},
   "source": [
    "# Comparing performance of all models"
   ]
  },
  {
   "cell_type": "code",
   "execution_count": 141,
   "id": "db53ee7d",
   "metadata": {
    "scrolled": true
   },
   "outputs": [
    {
     "data": {
      "text/html": [
       "<div>\n",
       "<style scoped>\n",
       "    .dataframe tbody tr th:only-of-type {\n",
       "        vertical-align: middle;\n",
       "    }\n",
       "\n",
       "    .dataframe tbody tr th {\n",
       "        vertical-align: top;\n",
       "    }\n",
       "\n",
       "    .dataframe thead th {\n",
       "        text-align: right;\n",
       "    }\n",
       "</style>\n",
       "<table border=\"1\" class=\"dataframe\">\n",
       "  <thead>\n",
       "    <tr style=\"text-align: right;\">\n",
       "      <th></th>\n",
       "      <th>Logistic Regression</th>\n",
       "      <th>SVM</th>\n",
       "      <th>KNN</th>\n",
       "      <th>Decision Tree</th>\n",
       "      <th>Random Forest</th>\n",
       "      <th>Adaboosting</th>\n",
       "      <th>Gradient Boosting</th>\n",
       "    </tr>\n",
       "  </thead>\n",
       "  <tbody>\n",
       "    <tr>\n",
       "      <th>Accuracy</th>\n",
       "      <td>0.567073</td>\n",
       "      <td>0.572154</td>\n",
       "      <td>0.514228</td>\n",
       "      <td>0.504065</td>\n",
       "      <td>0.537602</td>\n",
       "      <td>0.572154</td>\n",
       "      <td>0.569106</td>\n",
       "    </tr>\n",
       "    <tr>\n",
       "      <th>Precision</th>\n",
       "      <td>0.569593</td>\n",
       "      <td>0.571138</td>\n",
       "      <td>0.513078</td>\n",
       "      <td>0.503093</td>\n",
       "      <td>0.538136</td>\n",
       "      <td>0.572016</td>\n",
       "      <td>0.579952</td>\n",
       "    </tr>\n",
       "    <tr>\n",
       "      <th>Recall</th>\n",
       "      <td>0.541752</td>\n",
       "      <td>0.572301</td>\n",
       "      <td>0.519348</td>\n",
       "      <td>0.496945</td>\n",
       "      <td>0.517312</td>\n",
       "      <td>0.566191</td>\n",
       "      <td>0.494908</td>\n",
       "    </tr>\n",
       "    <tr>\n",
       "      <th>F1_score</th>\n",
       "      <td>0.555324</td>\n",
       "      <td>0.571719</td>\n",
       "      <td>0.516194</td>\n",
       "      <td>0.500000</td>\n",
       "      <td>0.527518</td>\n",
       "      <td>0.569089</td>\n",
       "      <td>0.534066</td>\n",
       "    </tr>\n",
       "    <tr>\n",
       "      <th>AUC</th>\n",
       "      <td>0.606202</td>\n",
       "      <td>0.598569</td>\n",
       "      <td>0.533704</td>\n",
       "      <td>0.504051</td>\n",
       "      <td>0.564142</td>\n",
       "      <td>0.580116</td>\n",
       "      <td>0.597142</td>\n",
       "    </tr>\n",
       "  </tbody>\n",
       "</table>\n",
       "</div>"
      ],
      "text/plain": [
       "           Logistic Regression       SVM       KNN  Decision Tree  \\\n",
       "Accuracy              0.567073  0.572154  0.514228       0.504065   \n",
       "Precision             0.569593  0.571138  0.513078       0.503093   \n",
       "Recall                0.541752  0.572301  0.519348       0.496945   \n",
       "F1_score              0.555324  0.571719  0.516194       0.500000   \n",
       "AUC                   0.606202  0.598569  0.533704       0.504051   \n",
       "\n",
       "           Random Forest  Adaboosting  Gradient Boosting  \n",
       "Accuracy        0.537602     0.572154           0.569106  \n",
       "Precision       0.538136     0.572016           0.579952  \n",
       "Recall          0.517312     0.566191           0.494908  \n",
       "F1_score        0.527518     0.569089           0.534066  \n",
       "AUC             0.564142     0.580116           0.597142  "
      ]
     },
     "execution_count": 141,
     "metadata": {},
     "output_type": "execute_result"
    }
   ],
   "source": [
    "performance_metrics_with_default_parameters"
   ]
  },
  {
   "cell_type": "code",
   "execution_count": null,
   "id": "794b2ec2",
   "metadata": {},
   "outputs": [],
   "source": []
  },
  {
   "cell_type": "markdown",
   "id": "80700349",
   "metadata": {},
   "source": [
    "## Model Building - Logistic Regression\n",
    "\n",
    "**To Do:**\n",
    "1. Perform appropriate Hyperparameter Tuning\n",
    "2. Train the Model using `Accuracy` as the evaluation metric\n",
    "3. Predict\n",
    "4. Evaluate\n",
    "5. Use Accuracy, Confusion Matrix, Precision & Recall, F1-score and ROC AUC to understand model performance\n",
    "\n",
    "\n",
    "## Model Building - SVM, KNN, DT, RF, Gradient Boosting, AdaBoosting etc\n",
    "\n",
    "For all the algorithms mentioned above, perform below mentioned steps.\n",
    "\n",
    "**To Do:**\n",
    "1. Perform appropriate Hyperparameter Tuning\n",
    "2. Train the Model using `Accuracy` as the evaluation metric\n",
    "3. Predict\n",
    "4. Evaluate\n",
    "5. Use Accuracy, Confusion Matrix, Precision & Recall, F1-score and ROC AUC to understand model performance\n",
    "6. Compare the perormance of all the models"
   ]
  },
  {
   "cell_type": "markdown",
   "id": "5b774e7e",
   "metadata": {},
   "source": [
    "# Hyperparamter tuning"
   ]
  },
  {
   "cell_type": "code",
   "execution_count": 142,
   "id": "e610de00",
   "metadata": {},
   "outputs": [],
   "source": [
    "performance_metrics_with_hyperparameters=pd.DataFrame(index=['Accuracy','Precision','Recall','F1_score','AUC'])"
   ]
  },
  {
   "cell_type": "markdown",
   "id": "99fcca8f",
   "metadata": {},
   "source": [
    "# Logistic Regression"
   ]
  },
  {
   "cell_type": "code",
   "execution_count": 143,
   "id": "5c93b2bf",
   "metadata": {},
   "outputs": [],
   "source": [
    "from sklearn.model_selection import RandomizedSearchCV"
   ]
  },
  {
   "cell_type": "code",
   "execution_count": 144,
   "id": "c29a8609",
   "metadata": {},
   "outputs": [],
   "source": [
    "h_params={'solver':['newton-cg', 'lbfgs', 'liblinear', 'sag', 'saga'],\n",
    "          'penalty' : ['l1', 'l2', 'elasticnet', 'none'],'C':np.linspace(0,1,100)}"
   ]
  },
  {
   "cell_type": "code",
   "execution_count": 145,
   "id": "d681ee79",
   "metadata": {},
   "outputs": [],
   "source": [
    "rscv=RandomizedSearchCV(estimator=LogisticRegression(),param_distributions=h_params,scoring='accuracy',cv=5,random_state=1)\n",
    "results=rscv.fit(predictor,response)"
   ]
  },
  {
   "cell_type": "code",
   "execution_count": 146,
   "id": "158c96c2",
   "metadata": {},
   "outputs": [
    {
     "data": {
      "text/plain": [
       "{'solver': 'liblinear', 'penalty': 'l2', 'C': 0.42424242424242425}"
      ]
     },
     "execution_count": 146,
     "metadata": {},
     "output_type": "execute_result"
    }
   ],
   "source": [
    "results.best_params_"
   ]
  },
  {
   "cell_type": "code",
   "execution_count": 147,
   "id": "fc44a917",
   "metadata": {},
   "outputs": [
    {
     "data": {
      "text/plain": [
       "0.569948473645469"
      ]
     },
     "execution_count": 147,
     "metadata": {},
     "output_type": "execute_result"
    }
   ],
   "source": [
    "results.best_score_"
   ]
  },
  {
   "cell_type": "markdown",
   "id": "bc44fbab",
   "metadata": {},
   "source": [
    "## Building Logistic model with hyperparameters"
   ]
  },
  {
   "cell_type": "code",
   "execution_count": 148,
   "id": "dacef795",
   "metadata": {},
   "outputs": [],
   "source": [
    "LR_tuned_model=LogisticRegression(max_iter=10000,solver='newton-cg',penalty='l2',C=0.4545454545454546)\n",
    "LR_tuned_model.fit(x_train,y_train)\n",
    "y_pred=LR_tuned_model.predict(x_test)\n",
    "y_pred_proba=LR_tuned_model.predict_proba(x_test)[:,1]"
   ]
  },
  {
   "cell_type": "code",
   "execution_count": 149,
   "id": "3319a188",
   "metadata": {},
   "outputs": [
    {
     "data": {
      "text/plain": [
       "array([[298, 195],\n",
       "       [231, 260]], dtype=int64)"
      ]
     },
     "execution_count": 149,
     "metadata": {},
     "output_type": "execute_result"
    }
   ],
   "source": [
    "confusion_matrix(y_test,y_pred)"
   ]
  },
  {
   "cell_type": "code",
   "execution_count": 150,
   "id": "c03deecb",
   "metadata": {},
   "outputs": [
    {
     "name": "stdout",
     "output_type": "stream",
     "text": [
      "              precision    recall  f1-score   support\n",
      "\n",
      "           0       0.56      0.60      0.58       493\n",
      "           1       0.57      0.53      0.55       491\n",
      "\n",
      "    accuracy                           0.57       984\n",
      "   macro avg       0.57      0.57      0.57       984\n",
      "weighted avg       0.57      0.57      0.57       984\n",
      "\n",
      "\n",
      "Accuracy is :  0.5670731707317073\n",
      "Precission :  0.5714285714285714\n",
      "Recall :  0.5295315682281059\n",
      "f1-score :  0.5496828752642706\n",
      "Roc Auc score :  0.5669970214365682\n"
     ]
    }
   ],
   "source": [
    "print(classification_report(y_test,y_pred))\n",
    "print()\n",
    "print('Accuracy is : ',accuracy_score(y_test,y_pred))\n",
    "print('Precission : ',precision_score(y_test,y_pred))\n",
    "print('Recall : ',recall_score(y_test,y_pred))\n",
    "print('f1-score : ',f1_score(y_test,y_pred))\n",
    "print('Roc Auc score : ',roc_auc_score(y_test,y_pred))"
   ]
  },
  {
   "cell_type": "code",
   "execution_count": 151,
   "id": "6690e17c",
   "metadata": {},
   "outputs": [
    {
     "name": "stdout",
     "output_type": "stream",
     "text": [
      "Area under the ROC curve :  0.6023349293365776\n"
     ]
    }
   ],
   "source": [
    "[fpr, tpr, thr] = roc_curve(y_test, y_pred_proba)\n",
    "print('Area under the ROC curve : ',auc(fpr, tpr))"
   ]
  },
  {
   "cell_type": "code",
   "execution_count": 152,
   "id": "9eeb77be",
   "metadata": {},
   "outputs": [
    {
     "data": {
      "image/png": "[encoded data removed]",
      "text/plain": [
       "<Figure size 432x288 with 1 Axes>"
      ]
     },
     "metadata": {
      "needs_background": "light"
     },
     "output_type": "display_data"
    }
   ],
   "source": [
    "plt.figure()\n",
    "plt.plot(fpr, tpr, color='coral', label = 'ROC Curve with Area Under Curve = '+str(auc (fpr, tpr)))\n",
    "plt.title('ROC curve for Logistic Regression ',fontsize=15)\n",
    "plt.xlabel('False positive Rate (1 - specificity)')\n",
    "plt.ylabel('True Positive Rate ')\n",
    "plt.legend(loc='lower right')\n",
    "plt.show()"
   ]
  },
  {
   "cell_type": "code",
   "execution_count": 153,
   "id": "334b3c76",
   "metadata": {},
   "outputs": [],
   "source": [
    "performance_metrics_with_hyperparameters['Logistic Regression']=[accuracy_score(y_test,y_pred),\n",
    "                                                                    precision_score(y_test,y_pred),\n",
    "                                                                    recall_score(y_test,y_pred),\n",
    "                                                                    f1_score(y_test,y_pred),\n",
    "                                                                    auc(fpr, tpr)]"
   ]
  },
  {
   "cell_type": "markdown",
   "id": "88c398ea",
   "metadata": {},
   "source": [
    "# SVM"
   ]
  },
  {
   "cell_type": "code",
   "execution_count": 154,
   "id": "2f981d1e",
   "metadata": {},
   "outputs": [],
   "source": [
    "h_params={'kernel':['linear', 'poly', 'rbf', 'sigmoid', 'precomputed'],'gamma':['scale','auto'],'C':np.linspace(0,1,100)}"
   ]
  },
  {
   "cell_type": "code",
   "execution_count": 155,
   "id": "877b3ab4",
   "metadata": {},
   "outputs": [],
   "source": [
    "rscv=RandomizedSearchCV(estimator=SVC(),param_distributions=h_params,scoring='accuracy',cv=5,random_state=1)\n",
    "results=rscv.fit(predictor,response)"
   ]
  },
  {
   "cell_type": "code",
   "execution_count": 156,
   "id": "a4c18b55",
   "metadata": {},
   "outputs": [
    {
     "data": {
      "text/plain": [
       "{'kernel': 'rbf', 'gamma': 'auto', 'C': 0.8484848484848485}"
      ]
     },
     "execution_count": 156,
     "metadata": {},
     "output_type": "execute_result"
    }
   ],
   "source": [
    "results.best_params_"
   ]
  },
  {
   "cell_type": "code",
   "execution_count": 157,
   "id": "b9ba7257",
   "metadata": {},
   "outputs": [
    {
     "data": {
      "text/plain": [
       "0.5780831038218827"
      ]
     },
     "execution_count": 157,
     "metadata": {},
     "output_type": "execute_result"
    }
   ],
   "source": [
    "results.best_score_"
   ]
  },
  {
   "cell_type": "markdown",
   "id": "449e781e",
   "metadata": {},
   "source": [
    "## Building SVM model with Hyperparameters"
   ]
  },
  {
   "cell_type": "code",
   "execution_count": 158,
   "id": "0b35d5e3",
   "metadata": {},
   "outputs": [],
   "source": [
    "svm_tuned_model=SVC(probability=True,kernel='rbf',gamma='auto',C=0.8484848484848485)\n",
    "svm_tuned_model.fit(x_train,y_train)\n",
    "y_pred=svm_tuned_model.predict(x_test)\n",
    "y_pred_proba=svm_tuned_model.predict_proba(x_test)[:,1]"
   ]
  },
  {
   "cell_type": "code",
   "execution_count": 159,
   "id": "3487af52",
   "metadata": {},
   "outputs": [
    {
     "data": {
      "text/plain": [
       "array([[367, 126],\n",
       "       [294, 197]], dtype=int64)"
      ]
     },
     "execution_count": 159,
     "metadata": {},
     "output_type": "execute_result"
    }
   ],
   "source": [
    "confusion_matrix(y_test,y_pred)"
   ]
  },
  {
   "cell_type": "code",
   "execution_count": 160,
   "id": "90b46177",
   "metadata": {},
   "outputs": [
    {
     "name": "stdout",
     "output_type": "stream",
     "text": [
      "              precision    recall  f1-score   support\n",
      "\n",
      "           0       0.56      0.74      0.64       493\n",
      "           1       0.61      0.40      0.48       491\n",
      "\n",
      "    accuracy                           0.57       984\n",
      "   macro avg       0.58      0.57      0.56       984\n",
      "weighted avg       0.58      0.57      0.56       984\n",
      "\n",
      "\n",
      "Accuracy is :  0.573170731707317\n",
      "Precission :  0.6099071207430341\n",
      "Recall :  0.40122199592668023\n",
      "f1-score :  0.48402948402948404\n",
      "Roc Auc score :  0.5728219513101961\n"
     ]
    }
   ],
   "source": [
    "print(classification_report(y_test,y_pred))\n",
    "print()\n",
    "print('Accuracy is : ',accuracy_score(y_test,y_pred))\n",
    "print('Precission : ',precision_score(y_test,y_pred))\n",
    "print('Recall : ',recall_score(y_test,y_pred))\n",
    "print('f1-score : ',f1_score(y_test,y_pred))\n",
    "print('Roc Auc score : ',roc_auc_score(y_test,y_pred))"
   ]
  },
  {
   "cell_type": "code",
   "execution_count": 161,
   "id": "b0784459",
   "metadata": {},
   "outputs": [
    {
     "name": "stdout",
     "output_type": "stream",
     "text": [
      "Area under the ROC curve :  0.5817700350735139\n"
     ]
    }
   ],
   "source": [
    "[fpr, tpr, thr] = roc_curve(y_test, y_pred_proba)\n",
    "print('Area under the ROC curve : ',auc(fpr, tpr))"
   ]
  },
  {
   "cell_type": "code",
   "execution_count": 162,
   "id": "41386ace",
   "metadata": {},
   "outputs": [
    {
     "data": {
      "image/png": "[encoded data removed]",
      "text/plain": [
       "<Figure size 432x288 with 1 Axes>"
      ]
     },
     "metadata": {
      "needs_background": "light"
     },
     "output_type": "display_data"
    }
   ],
   "source": [
    "plt.figure()\n",
    "plt.plot(fpr, tpr, color='coral', label = 'ROC Curve with Area Under Curve = '+str(auc (fpr, tpr)))\n",
    "plt.title('ROC curve for SVM ',fontsize=15)\n",
    "plt.xlabel('False positive Rate (1 - specificity)')\n",
    "plt.ylabel('True Positive Rate ')\n",
    "plt.legend(loc='lower right')\n",
    "plt.show()"
   ]
  },
  {
   "cell_type": "code",
   "execution_count": 163,
   "id": "f81c9ca9",
   "metadata": {},
   "outputs": [],
   "source": [
    "performance_metrics_with_hyperparameters['SVM']=[accuracy_score(y_test,y_pred),\n",
    "                                                                    precision_score(y_test,y_pred),\n",
    "                                                                    recall_score(y_test,y_pred),\n",
    "                                                                    f1_score(y_test,y_pred),\n",
    "                                                                    auc(fpr, tpr)]"
   ]
  },
  {
   "cell_type": "markdown",
   "id": "6af7a945",
   "metadata": {},
   "source": [
    "# KNN"
   ]
  },
  {
   "cell_type": "code",
   "execution_count": 164,
   "id": "629d9295",
   "metadata": {},
   "outputs": [],
   "source": [
    "h_params={'n_neighbors':range(1,11,2),'weights':['uniform','distance'],'metric':['minkowski','euclidean','manhattan']}"
   ]
  },
  {
   "cell_type": "code",
   "execution_count": 165,
   "id": "44fa87ca",
   "metadata": {},
   "outputs": [],
   "source": [
    "rscv=RandomizedSearchCV(estimator=KNeighborsClassifier(),param_distributions=h_params,scoring='accuracy',cv=5,random_state=1)\n",
    "results=rscv.fit(predictor,response)"
   ]
  },
  {
   "cell_type": "code",
   "execution_count": 166,
   "id": "de14a24f",
   "metadata": {},
   "outputs": [
    {
     "data": {
      "text/plain": [
       "{'weights': 'distance', 'n_neighbors': 9, 'metric': 'euclidean'}"
      ]
     },
     "execution_count": 166,
     "metadata": {},
     "output_type": "execute_result"
    }
   ],
   "source": [
    "results.best_params_"
   ]
  },
  {
   "cell_type": "code",
   "execution_count": 167,
   "id": "fc997448",
   "metadata": {},
   "outputs": [
    {
     "data": {
      "text/plain": [
       "0.5372114565499673"
      ]
     },
     "execution_count": 167,
     "metadata": {},
     "output_type": "execute_result"
    }
   ],
   "source": [
    "results.best_score_"
   ]
  },
  {
   "cell_type": "markdown",
   "id": "1fdf45fb",
   "metadata": {},
   "source": [
    "## Building knn model with hyperparameters"
   ]
  },
  {
   "cell_type": "code",
   "execution_count": 168,
   "id": "f83a5985",
   "metadata": {},
   "outputs": [
    {
     "data": {
      "text/plain": [
       "array([[261, 232],\n",
       "       [229, 262]], dtype=int64)"
      ]
     },
     "execution_count": 168,
     "metadata": {},
     "output_type": "execute_result"
    }
   ],
   "source": [
    "knn_tuned_model=KNeighborsClassifier(weights='uniform',n_neighbors=7,metric='manhattan')\n",
    "knn_tuned_model.fit(x_train,y_train)\n",
    "y_pred=knn_tuned_model.predict(x_test)\n",
    "y_pred_proba=knn_tuned_model.predict_proba(x_test)[:,1]\n",
    "\n",
    "\n",
    "confusion_matrix(y_test,y_pred)"
   ]
  },
  {
   "cell_type": "code",
   "execution_count": 169,
   "id": "616ef3b6",
   "metadata": {},
   "outputs": [
    {
     "name": "stdout",
     "output_type": "stream",
     "text": [
      "              precision    recall  f1-score   support\n",
      "\n",
      "           0       0.53      0.53      0.53       493\n",
      "           1       0.53      0.53      0.53       491\n",
      "\n",
      "    accuracy                           0.53       984\n",
      "   macro avg       0.53      0.53      0.53       984\n",
      "weighted avg       0.53      0.53      0.53       984\n",
      "\n",
      "\n",
      "Accuracy is :  0.5315040650406504\n",
      "Precission :  0.5303643724696356\n",
      "Recall :  0.5336048879837068\n",
      "f1-score :  0.5319796954314722\n",
      "Roc Auc score :  0.5315083263447946\n"
     ]
    }
   ],
   "source": [
    "print(classification_report(y_test,y_pred))\n",
    "print()\n",
    "print('Accuracy is : ',accuracy_score(y_test,y_pred))\n",
    "print('Precission : ',precision_score(y_test,y_pred))\n",
    "print('Recall : ',recall_score(y_test,y_pred))\n",
    "print('f1-score : ',f1_score(y_test,y_pred))\n",
    "print('Roc Auc score : ',roc_auc_score(y_test,y_pred))"
   ]
  },
  {
   "cell_type": "code",
   "execution_count": 170,
   "id": "5da8c42c",
   "metadata": {},
   "outputs": [
    {
     "name": "stdout",
     "output_type": "stream",
     "text": [
      "Area under the ROC curve :  0.5311675059798482\n"
     ]
    }
   ],
   "source": [
    "[fpr, tpr, thr] = roc_curve(y_test, y_pred_proba)\n",
    "print('Area under the ROC curve : ',auc(fpr, tpr))"
   ]
  },
  {
   "cell_type": "code",
   "execution_count": 171,
   "id": "68fbc0fc",
   "metadata": {},
   "outputs": [
    {
     "data": {
      "image/png": "[encoded data removed]",
      "text/plain": [
       "<Figure size 432x288 with 1 Axes>"
      ]
     },
     "metadata": {
      "needs_background": "light"
     },
     "output_type": "display_data"
    }
   ],
   "source": [
    "plt.figure()\n",
    "plt.plot(fpr, tpr, color='coral', label = 'ROC Curve with Area Under Curve = '+str(auc (fpr, tpr)))\n",
    "plt.title('ROC curve for KNN ',fontsize=15)\n",
    "plt.xlabel('False positive Rate (1 - specificity)')\n",
    "plt.ylabel('True Positive Rate ')\n",
    "plt.legend(loc='lower right')\n",
    "plt.show()"
   ]
  },
  {
   "cell_type": "code",
   "execution_count": 172,
   "id": "bfd449ea",
   "metadata": {},
   "outputs": [],
   "source": [
    "performance_metrics_with_hyperparameters['KNN']=[accuracy_score(y_test,y_pred),\n",
    "                                                                    precision_score(y_test,y_pred),\n",
    "                                                                    recall_score(y_test,y_pred),\n",
    "                                                                    f1_score(y_test,y_pred),\n",
    "                                                                    auc(fpr, tpr)]"
   ]
  },
  {
   "cell_type": "markdown",
   "id": "7d91e308",
   "metadata": {},
   "source": [
    "# Decision Tree"
   ]
  },
  {
   "cell_type": "code",
   "execution_count": 173,
   "id": "96233d68",
   "metadata": {},
   "outputs": [],
   "source": [
    "h_params={'criterion':[\"gini\", \"entropy\"],\n",
    "        'splitter':[\"best\", \"random\"],\n",
    "        'max_depth':[1,3,5,7,10,15,20,25,30],\n",
    "        'min_samples_split':[2,5,10,20,50],\n",
    "        'max_features':[\"auto\", \"sqrt\", \"log2\",None],\n",
    "        'max_leaf_nodes':[10,20,30,40,50,60,70,80,90]}"
   ]
  },
  {
   "cell_type": "code",
   "execution_count": 174,
   "id": "90ea9ea2",
   "metadata": {},
   "outputs": [],
   "source": [
    "rscv=RandomizedSearchCV(estimator=DecisionTreeClassifier(),param_distributions=h_params,scoring='accuracy',cv=5,random_state=1)\n",
    "results=rscv.fit(predictor,response)"
   ]
  },
  {
   "cell_type": "code",
   "execution_count": 175,
   "id": "ee503647",
   "metadata": {},
   "outputs": [
    {
     "data": {
      "text/plain": [
       "{'splitter': 'random',\n",
       " 'min_samples_split': 10,\n",
       " 'max_leaf_nodes': 20,\n",
       " 'max_features': 'auto',\n",
       " 'max_depth': 30,\n",
       " 'criterion': 'gini'}"
      ]
     },
     "execution_count": 175,
     "metadata": {},
     "output_type": "execute_result"
    }
   ],
   "source": [
    "results.best_params_"
   ]
  },
  {
   "cell_type": "code",
   "execution_count": 176,
   "id": "512e3779",
   "metadata": {},
   "outputs": [
    {
     "data": {
      "text/plain": [
       "0.5465695274958854"
      ]
     },
     "execution_count": 176,
     "metadata": {},
     "output_type": "execute_result"
    }
   ],
   "source": [
    "results.best_score_"
   ]
  },
  {
   "cell_type": "markdown",
   "id": "f9be1a36",
   "metadata": {},
   "source": [
    "## Building Decision Tree model with hyperparameters"
   ]
  },
  {
   "cell_type": "code",
   "execution_count": 177,
   "id": "e9d4d556",
   "metadata": {},
   "outputs": [
    {
     "data": {
      "text/plain": [
       "array([[ 59, 434],\n",
       "       [ 49, 442]], dtype=int64)"
      ]
     },
     "execution_count": 177,
     "metadata": {},
     "output_type": "execute_result"
    }
   ],
   "source": [
    "dt_tuned_model=DecisionTreeClassifier(splitter= 'random',\n",
    "                                     min_samples_split= 10,\n",
    "                                     max_leaf_nodes=20,\n",
    "                                     max_features= 'auto',\n",
    "                                     max_depth=30,\n",
    "                                     criterion= 'gini')\n",
    "dt_tuned_model.fit(x_train,y_train)\n",
    "y_pred=dt_tuned_model.predict(x_test)\n",
    "y_pred_proba=dt_tuned_model.predict_proba(x_test)[:,1]\n",
    "\n",
    "\n",
    "confusion_matrix(y_test,y_pred)"
   ]
  },
  {
   "cell_type": "code",
   "execution_count": 178,
   "id": "e2909d51",
   "metadata": {},
   "outputs": [
    {
     "name": "stdout",
     "output_type": "stream",
     "text": [
      "              precision    recall  f1-score   support\n",
      "\n",
      "           0       0.55      0.12      0.20       493\n",
      "           1       0.50      0.90      0.65       491\n",
      "\n",
      "    accuracy                           0.51       984\n",
      "   macro avg       0.53      0.51      0.42       984\n",
      "weighted avg       0.53      0.51      0.42       984\n",
      "\n",
      "\n",
      "Accuracy is :  0.5091463414634146\n",
      "Precission :  0.5045662100456622\n",
      "Recall :  0.90020366598778\n",
      "f1-score :  0.6466715435259693\n",
      "Roc Auc score :  0.5099395611886162\n"
     ]
    }
   ],
   "source": [
    "print(classification_report(y_test,y_pred))\n",
    "print()\n",
    "print('Accuracy is : ',accuracy_score(y_test,y_pred))\n",
    "print('Precission : ',precision_score(y_test,y_pred))\n",
    "print('Recall : ',recall_score(y_test,y_pred))\n",
    "print('f1-score : ',f1_score(y_test,y_pred))\n",
    "print('Roc Auc score : ',roc_auc_score(y_test,y_pred))"
   ]
  },
  {
   "cell_type": "code",
   "execution_count": 179,
   "id": "2e4f3fa6",
   "metadata": {},
   "outputs": [
    {
     "name": "stdout",
     "output_type": "stream",
     "text": [
      "Area under the ROC curve :  0.5199700078078847\n"
     ]
    }
   ],
   "source": [
    "[fpr, tpr, thr] = roc_curve(y_test, y_pred_proba)\n",
    "print('Area under the ROC curve : ',auc(fpr, tpr))"
   ]
  },
  {
   "cell_type": "code",
   "execution_count": 180,
   "id": "d05d3375",
   "metadata": {},
   "outputs": [
    {
     "data": {
      "image/png": "[encoded data removed]",
      "text/plain": [
       "<Figure size 432x288 with 1 Axes>"
      ]
     },
     "metadata": {
      "needs_background": "light"
     },
     "output_type": "display_data"
    }
   ],
   "source": [
    "plt.figure()\n",
    "plt.plot(fpr, tpr, color='coral', label = 'ROC Curve with Area Under Curve = '+str(auc (fpr, tpr)))\n",
    "plt.title('ROC curve for Decision Tree ',fontsize=15)\n",
    "plt.xlabel('False positive Rate (1 - specificity)')\n",
    "plt.ylabel('True Positive Rate ')\n",
    "plt.legend(loc='lower right')\n",
    "plt.show()"
   ]
  },
  {
   "cell_type": "code",
   "execution_count": 181,
   "id": "586b1cc5",
   "metadata": {},
   "outputs": [],
   "source": [
    "performance_metrics_with_hyperparameters['Decision Tree']=[accuracy_score(y_test,y_pred),\n",
    "                                                                    precision_score(y_test,y_pred),\n",
    "                                                                    recall_score(y_test,y_pred),\n",
    "                                                                    f1_score(y_test,y_pred),\n",
    "                                                                    auc(fpr, tpr)]"
   ]
  },
  {
   "cell_type": "markdown",
   "id": "ab25bcc1",
   "metadata": {},
   "source": [
    "# Random Forest"
   ]
  },
  {
   "cell_type": "code",
   "execution_count": 182,
   "id": "78a4c973",
   "metadata": {},
   "outputs": [],
   "source": [
    "h_params={'n_estimators':[10,20,30,50,100,150,200],\n",
    "        'criterion':[\"gini\", \"entropy\"],\n",
    "        'max_depth':[1,3,5,7,10,15,20,25,30],\n",
    "        'min_samples_split':[2,5,10,20,50],\n",
    "        'max_features':[\"auto\", \"sqrt\", \"log2\",None],\n",
    "        'max_leaf_nodes':[10,20,30,40,50,60,70,80,90]}"
   ]
  },
  {
   "cell_type": "code",
   "execution_count": 183,
   "id": "03a05cab",
   "metadata": {},
   "outputs": [],
   "source": [
    "rscv=RandomizedSearchCV(estimator=RandomForestClassifier(),param_distributions=h_params,scoring='accuracy',cv=5,random_state=1)\n",
    "results=rscv.fit(predictor,response)"
   ]
  },
  {
   "cell_type": "code",
   "execution_count": 184,
   "id": "cf2864f0",
   "metadata": {},
   "outputs": [
    {
     "data": {
      "text/plain": [
       "{'n_estimators': 150,\n",
       " 'min_samples_split': 5,\n",
       " 'max_leaf_nodes': 50,\n",
       " 'max_features': 'auto',\n",
       " 'max_depth': 10,\n",
       " 'criterion': 'gini'}"
      ]
     },
     "execution_count": 184,
     "metadata": {},
     "output_type": "execute_result"
    }
   ],
   "source": [
    "results.best_params_"
   ]
  },
  {
   "cell_type": "code",
   "execution_count": 185,
   "id": "5c581d3a",
   "metadata": {},
   "outputs": [
    {
     "data": {
      "text/plain": [
       "0.5713735123109116"
      ]
     },
     "execution_count": 185,
     "metadata": {},
     "output_type": "execute_result"
    }
   ],
   "source": [
    "results.best_score_"
   ]
  },
  {
   "cell_type": "markdown",
   "id": "0018d5d9",
   "metadata": {},
   "source": [
    "## Building Random Forest model with hyperparameters"
   ]
  },
  {
   "cell_type": "code",
   "execution_count": 186,
   "id": "495a05e6",
   "metadata": {},
   "outputs": [
    {
     "data": {
      "text/plain": [
       "array([[324, 169],\n",
       "       [271, 220]], dtype=int64)"
      ]
     },
     "execution_count": 186,
     "metadata": {},
     "output_type": "execute_result"
    }
   ],
   "source": [
    "rf_tuned_model=RandomForestClassifier(n_estimators= 200,\n",
    "                                     min_samples_split= 10,\n",
    "                                     max_leaf_nodes=10,\n",
    "                                     max_features= 'auto',\n",
    "                                     max_depth=30,\n",
    "                                     criterion= 'entropy')\n",
    "rf_tuned_model.fit(x_train,y_train)\n",
    "y_pred=rf_tuned_model.predict(x_test)\n",
    "y_pred_proba=rf_tuned_model.predict_proba(x_test)[:,1]\n",
    "\n",
    "\n",
    "\n",
    "confusion_matrix(y_test,y_pred)"
   ]
  },
  {
   "cell_type": "code",
   "execution_count": 187,
   "id": "b90c18cc",
   "metadata": {},
   "outputs": [
    {
     "name": "stdout",
     "output_type": "stream",
     "text": [
      "              precision    recall  f1-score   support\n",
      "\n",
      "           0       0.54      0.66      0.60       493\n",
      "           1       0.57      0.45      0.50       491\n",
      "\n",
      "    accuracy                           0.55       984\n",
      "   macro avg       0.56      0.55      0.55       984\n",
      "weighted avg       0.56      0.55      0.55       984\n",
      "\n",
      "\n",
      "Accuracy is :  0.5528455284552846\n",
      "Precission :  0.5655526992287918\n",
      "Recall :  0.4480651731160896\n",
      "f1-score :  0.5\n",
      "Roc Auc score :  0.552632992237558\n"
     ]
    }
   ],
   "source": [
    "print(classification_report(y_test,y_pred))\n",
    "print()\n",
    "print('Accuracy is : ',accuracy_score(y_test,y_pred))\n",
    "print('Precission : ',precision_score(y_test,y_pred))\n",
    "print('Recall : ',recall_score(y_test,y_pred))\n",
    "print('f1-score : ',f1_score(y_test,y_pred))\n",
    "print('Roc Auc score : ',roc_auc_score(y_test,y_pred))"
   ]
  },
  {
   "cell_type": "code",
   "execution_count": 188,
   "id": "e7b67114",
   "metadata": {},
   "outputs": [
    {
     "name": "stdout",
     "output_type": "stream",
     "text": [
      "Area under the ROC curve :  0.5771038944407034\n"
     ]
    }
   ],
   "source": [
    "[fpr, tpr, thr] = roc_curve(y_test, y_pred_proba)\n",
    "print('Area under the ROC curve : ',auc(fpr, tpr))"
   ]
  },
  {
   "cell_type": "code",
   "execution_count": 189,
   "id": "12ed9e2f",
   "metadata": {},
   "outputs": [
    {
     "data": {
      "image/png": "[encoded data removed]",
      "text/plain": [
       "<Figure size 432x288 with 1 Axes>"
      ]
     },
     "metadata": {
      "needs_background": "light"
     },
     "output_type": "display_data"
    }
   ],
   "source": [
    "plt.figure()\n",
    "plt.plot(fpr, tpr, color='coral', label = 'ROC Curve with Area Under Curve = '+str(auc (fpr, tpr)))\n",
    "plt.title('ROC curve for Random forest ',fontsize=15)\n",
    "plt.xlabel('False positive Rate (1 - specificity)')\n",
    "plt.ylabel('True Positive Rate ')\n",
    "plt.legend(loc='lower right')\n",
    "plt.show()"
   ]
  },
  {
   "cell_type": "code",
   "execution_count": 190,
   "id": "9a70cb4b",
   "metadata": {},
   "outputs": [],
   "source": [
    "performance_metrics_with_hyperparameters['Random Forest']=[accuracy_score(y_test,y_pred),\n",
    "                                                                    precision_score(y_test,y_pred),\n",
    "                                                                    recall_score(y_test,y_pred),\n",
    "                                                                    f1_score(y_test,y_pred),\n",
    "                                                                    auc(fpr, tpr)]"
   ]
  },
  {
   "cell_type": "markdown",
   "id": "8756b7e2",
   "metadata": {},
   "source": [
    "# Gradient Boosting"
   ]
  },
  {
   "cell_type": "code",
   "execution_count": 191,
   "id": "c9bf43e8",
   "metadata": {},
   "outputs": [],
   "source": [
    "h_params={'n_estimators':[10,20,30,50,70],\n",
    "        'criterion':['friedman_mse', 'mse', 'mae'],\n",
    "        'max_depth':[1,3,5,7,10,15,20],\n",
    "        'min_samples_split':[2,5,10,20,50],\n",
    "        'max_features':[\"auto\", \"sqrt\", \"log2\",None],\n",
    "        'max_leaf_nodes':[10,20,30,40,50,60]}"
   ]
  },
  {
   "cell_type": "code",
   "execution_count": 192,
   "id": "defc08f5",
   "metadata": {},
   "outputs": [],
   "source": [
    "rscv=RandomizedSearchCV(estimator=GradientBoostingClassifier(),param_distributions=h_params,scoring='accuracy',cv=5,random_state=1)\n",
    "results=rscv.fit(predictor,response)"
   ]
  },
  {
   "cell_type": "code",
   "execution_count": 193,
   "id": "55d506e3",
   "metadata": {},
   "outputs": [
    {
     "data": {
      "text/plain": [
       "{'n_estimators': 70,\n",
       " 'min_samples_split': 20,\n",
       " 'max_leaf_nodes': 60,\n",
       " 'max_features': 'auto',\n",
       " 'max_depth': 1,\n",
       " 'criterion': 'friedman_mse'}"
      ]
     },
     "execution_count": 193,
     "metadata": {},
     "output_type": "execute_result"
    }
   ],
   "source": [
    "results.best_params_"
   ]
  },
  {
   "cell_type": "code",
   "execution_count": 194,
   "id": "c2c01f4c",
   "metadata": {},
   "outputs": [
    {
     "data": {
      "text/plain": [
       "0.5742192475332688"
      ]
     },
     "execution_count": 194,
     "metadata": {},
     "output_type": "execute_result"
    }
   ],
   "source": [
    "results.best_score_"
   ]
  },
  {
   "cell_type": "markdown",
   "id": "5aea2a49",
   "metadata": {},
   "source": [
    "## Building Gradient Boosting model with Hyperparameters"
   ]
  },
  {
   "cell_type": "code",
   "execution_count": 195,
   "id": "a37c3b8c",
   "metadata": {},
   "outputs": [
    {
     "data": {
      "text/plain": [
       "array([[338, 155],\n",
       "       [262, 229]], dtype=int64)"
      ]
     },
     "execution_count": 195,
     "metadata": {},
     "output_type": "execute_result"
    }
   ],
   "source": [
    "gd_tuned_model=GradientBoostingClassifier(n_estimators= 10,\n",
    "                                             min_samples_split= 50,\n",
    "                                             max_leaf_nodes= 20,\n",
    "                                             max_features= None,\n",
    "                                             max_depth= 10,\n",
    "                                             criterion= 'friedman_mse')\n",
    "gd_tuned_model.fit(x_train,y_train)\n",
    "y_pred=gd_tuned_model.predict(x_test)\n",
    "y_pred_proba=gd_tuned_model.predict_proba(x_test)[:,1]\n",
    "\n",
    "\n",
    "\n",
    "confusion_matrix(y_test,y_pred)"
   ]
  },
  {
   "cell_type": "code",
   "execution_count": 196,
   "id": "d0c00543",
   "metadata": {},
   "outputs": [
    {
     "name": "stdout",
     "output_type": "stream",
     "text": [
      "              precision    recall  f1-score   support\n",
      "\n",
      "           0       0.56      0.69      0.62       493\n",
      "           1       0.60      0.47      0.52       491\n",
      "\n",
      "    accuracy                           0.58       984\n",
      "   macro avg       0.58      0.58      0.57       984\n",
      "weighted avg       0.58      0.58      0.57       984\n",
      "\n",
      "\n",
      "Accuracy is :  0.5762195121951219\n",
      "Precission :  0.5963541666666666\n",
      "Recall :  0.4663951120162933\n",
      "f1-score :  0.5234285714285715\n",
      "Roc Auc score :  0.5759967446491202\n"
     ]
    }
   ],
   "source": [
    "print(classification_report(y_test,y_pred))\n",
    "print()\n",
    "print('Accuracy is : ',accuracy_score(y_test,y_pred))\n",
    "print('Precission : ',precision_score(y_test,y_pred))\n",
    "print('Recall : ',recall_score(y_test,y_pred))\n",
    "print('f1-score : ',f1_score(y_test,y_pred))\n",
    "print('Roc Auc score : ',roc_auc_score(y_test,y_pred))"
   ]
  },
  {
   "cell_type": "code",
   "execution_count": 197,
   "id": "9098a398",
   "metadata": {},
   "outputs": [
    {
     "name": "stdout",
     "output_type": "stream",
     "text": [
      "Area under the ROC curve :  0.5921474987916369\n"
     ]
    }
   ],
   "source": [
    "[fpr, tpr, thr] = roc_curve(y_test, y_pred_proba)\n",
    "print('Area under the ROC curve : ',auc(fpr, tpr))"
   ]
  },
  {
   "cell_type": "code",
   "execution_count": 198,
   "id": "dd981e85",
   "metadata": {},
   "outputs": [
    {
     "data": {
      "image/png": "[encoded data removed]",
      "text/plain": [
       "<Figure size 432x288 with 1 Axes>"
      ]
     },
     "metadata": {
      "needs_background": "light"
     },
     "output_type": "display_data"
    }
   ],
   "source": [
    "plt.figure()\n",
    "plt.plot(fpr, tpr, color='coral', label = 'ROC Curve with Area Under Curve = '+str(auc (fpr, tpr)))\n",
    "plt.title('ROC curve for Gradient boosting ',fontsize=15)\n",
    "plt.xlabel('False positive Rate (1 - specificity)')\n",
    "plt.ylabel('True Positive Rate ')\n",
    "plt.legend(loc='lower right')\n",
    "plt.show()"
   ]
  },
  {
   "cell_type": "code",
   "execution_count": 199,
   "id": "8c641a29",
   "metadata": {},
   "outputs": [],
   "source": [
    "performance_metrics_with_hyperparameters['Gradient boosting']=[accuracy_score(y_test,y_pred),\n",
    "                                                                    precision_score(y_test,y_pred),\n",
    "                                                                    recall_score(y_test,y_pred),\n",
    "                                                                    f1_score(y_test,y_pred),\n",
    "                                                                    auc(fpr, tpr)]"
   ]
  },
  {
   "cell_type": "markdown",
   "id": "9ddcb5f9",
   "metadata": {},
   "source": [
    "# Adaboosting"
   ]
  },
  {
   "cell_type": "code",
   "execution_count": 200,
   "id": "590b82de",
   "metadata": {},
   "outputs": [],
   "source": [
    "h_params={'n_estimators':[10,20,30,50,70],\n",
    "        'learning_rate':[0.01,0.05,0.1,0.2,0.5,1,2,5],\n",
    "        'algorithm' : ['SAMME', 'SAMME.R']}"
   ]
  },
  {
   "cell_type": "code",
   "execution_count": 201,
   "id": "1a114d0b",
   "metadata": {},
   "outputs": [],
   "source": [
    "rscv=RandomizedSearchCV(estimator=AdaBoostClassifier(),param_distributions=h_params,scoring='accuracy',cv=5,random_state=1)\n",
    "results=rscv.fit(predictor,response)"
   ]
  },
  {
   "cell_type": "code",
   "execution_count": 202,
   "id": "22cb9c2e",
   "metadata": {},
   "outputs": [
    {
     "data": {
      "text/plain": [
       "{'n_estimators': 50, 'learning_rate': 0.1, 'algorithm': 'SAMME.R'}"
      ]
     },
     "execution_count": 202,
     "metadata": {},
     "output_type": "execute_result"
    }
   ],
   "source": [
    "results.best_params_"
   ]
  },
  {
   "cell_type": "code",
   "execution_count": 203,
   "id": "417f0433",
   "metadata": {},
   "outputs": [
    {
     "data": {
      "text/plain": [
       "0.5758454705605042"
      ]
     },
     "execution_count": 203,
     "metadata": {},
     "output_type": "execute_result"
    }
   ],
   "source": [
    "results.best_score_"
   ]
  },
  {
   "cell_type": "markdown",
   "id": "4c51963c",
   "metadata": {},
   "source": [
    "## Building Adaboost model with Hyperparameters"
   ]
  },
  {
   "cell_type": "code",
   "execution_count": 204,
   "id": "80f94b6e",
   "metadata": {},
   "outputs": [
    {
     "data": {
      "text/plain": [
       "array([[378, 115],\n",
       "       [310, 181]], dtype=int64)"
      ]
     },
     "execution_count": 204,
     "metadata": {},
     "output_type": "execute_result"
    }
   ],
   "source": [
    "ada_tuned_model=AdaBoostClassifier(n_estimators= 50, learning_rate= 0.1, algorithm= 'SAMME.R')\n",
    "ada_tuned_model.fit(x_train,y_train)\n",
    "y_pred=ada_tuned_model.predict(x_test)\n",
    "y_pred_proba=ada_tuned_model.predict_proba(x_test)[:,1]\n",
    "\n",
    "\n",
    "\n",
    "confusion_matrix(y_test,y_pred)"
   ]
  },
  {
   "cell_type": "code",
   "execution_count": 205,
   "id": "ac812368",
   "metadata": {},
   "outputs": [
    {
     "name": "stdout",
     "output_type": "stream",
     "text": [
      "              precision    recall  f1-score   support\n",
      "\n",
      "           0       0.55      0.77      0.64       493\n",
      "           1       0.61      0.37      0.46       491\n",
      "\n",
      "    accuracy                           0.57       984\n",
      "   macro avg       0.58      0.57      0.55       984\n",
      "weighted avg       0.58      0.57      0.55       984\n",
      "\n",
      "\n",
      "Accuracy is :  0.568089430894309\n",
      "Precission :  0.6114864864864865\n",
      "Recall :  0.36863543788187375\n",
      "f1-score :  0.4599745870393901\n",
      "Roc Auc score :  0.5676848589003689\n"
     ]
    }
   ],
   "source": [
    "print(classification_report(y_test,y_pred))\n",
    "print()\n",
    "print('Accuracy is : ',accuracy_score(y_test,y_pred))\n",
    "print('Precission : ',precision_score(y_test,y_pred))\n",
    "print('Recall : ',recall_score(y_test,y_pred))\n",
    "print('f1-score : ',f1_score(y_test,y_pred))\n",
    "print('Roc Auc score : ',roc_auc_score(y_test,y_pred))"
   ]
  },
  {
   "cell_type": "code",
   "execution_count": 206,
   "id": "1a82d8ec",
   "metadata": {},
   "outputs": [
    {
     "name": "stdout",
     "output_type": "stream",
     "text": [
      "Area under the ROC curve :  0.5959998017045149\n"
     ]
    }
   ],
   "source": [
    "[fpr, tpr, thr] = roc_curve(y_test, y_pred_proba)\n",
    "print('Area under the ROC curve : ',auc(fpr, tpr))"
   ]
  },
  {
   "cell_type": "code",
   "execution_count": 207,
   "id": "064a442a",
   "metadata": {},
   "outputs": [
    {
     "data": {
      "image/png": "[encoded data removed]",
      "text/plain": [
       "<Figure size 432x288 with 1 Axes>"
      ]
     },
     "metadata": {
      "needs_background": "light"
     },
     "output_type": "display_data"
    }
   ],
   "source": [
    "plt.figure()\n",
    "plt.plot(fpr, tpr, color='coral', label = 'ROC Curve with Area Under Curve = '+str(auc (fpr, tpr)))\n",
    "plt.title('ROC curve for Gradient boosting ',fontsize=15)\n",
    "plt.xlabel('False positive Rate (1 - specificity)')\n",
    "plt.ylabel('True Positive Rate ')\n",
    "plt.legend(loc='lower right')\n",
    "plt.show()"
   ]
  },
  {
   "cell_type": "code",
   "execution_count": 208,
   "id": "64655d1d",
   "metadata": {},
   "outputs": [],
   "source": [
    "performance_metrics_with_hyperparameters['Gradient boosting']=[accuracy_score(y_test,y_pred),\n",
    "                                                                    precision_score(y_test,y_pred),\n",
    "                                                                    recall_score(y_test,y_pred),\n",
    "                                                                    f1_score(y_test,y_pred),\n",
    "                                                                    auc(fpr, tpr)]"
   ]
  },
  {
   "cell_type": "markdown",
   "id": "f72f3280",
   "metadata": {},
   "source": [
    "# Performance metrics with hyperparameters"
   ]
  },
  {
   "cell_type": "code",
   "execution_count": 209,
   "id": "6063ca59",
   "metadata": {
    "scrolled": true
   },
   "outputs": [
    {
     "data": {
      "text/html": [
       "<div>\n",
       "<style scoped>\n",
       "    .dataframe tbody tr th:only-of-type {\n",
       "        vertical-align: middle;\n",
       "    }\n",
       "\n",
       "    .dataframe tbody tr th {\n",
       "        vertical-align: top;\n",
       "    }\n",
       "\n",
       "    .dataframe thead th {\n",
       "        text-align: right;\n",
       "    }\n",
       "</style>\n",
       "<table border=\"1\" class=\"dataframe\">\n",
       "  <thead>\n",
       "    <tr style=\"text-align: right;\">\n",
       "      <th></th>\n",
       "      <th>Logistic Regression</th>\n",
       "      <th>SVM</th>\n",
       "      <th>KNN</th>\n",
       "      <th>Decision Tree</th>\n",
       "      <th>Random Forest</th>\n",
       "      <th>Gradient boosting</th>\n",
       "    </tr>\n",
       "  </thead>\n",
       "  <tbody>\n",
       "    <tr>\n",
       "      <th>Accuracy</th>\n",
       "      <td>0.567073</td>\n",
       "      <td>0.573171</td>\n",
       "      <td>0.531504</td>\n",
       "      <td>0.509146</td>\n",
       "      <td>0.552846</td>\n",
       "      <td>0.568089</td>\n",
       "    </tr>\n",
       "    <tr>\n",
       "      <th>Precision</th>\n",
       "      <td>0.571429</td>\n",
       "      <td>0.609907</td>\n",
       "      <td>0.530364</td>\n",
       "      <td>0.504566</td>\n",
       "      <td>0.565553</td>\n",
       "      <td>0.611486</td>\n",
       "    </tr>\n",
       "    <tr>\n",
       "      <th>Recall</th>\n",
       "      <td>0.529532</td>\n",
       "      <td>0.401222</td>\n",
       "      <td>0.533605</td>\n",
       "      <td>0.900204</td>\n",
       "      <td>0.448065</td>\n",
       "      <td>0.368635</td>\n",
       "    </tr>\n",
       "    <tr>\n",
       "      <th>F1_score</th>\n",
       "      <td>0.549683</td>\n",
       "      <td>0.484029</td>\n",
       "      <td>0.531980</td>\n",
       "      <td>0.646672</td>\n",
       "      <td>0.500000</td>\n",
       "      <td>0.459975</td>\n",
       "    </tr>\n",
       "    <tr>\n",
       "      <th>AUC</th>\n",
       "      <td>0.602335</td>\n",
       "      <td>0.581770</td>\n",
       "      <td>0.531168</td>\n",
       "      <td>0.519970</td>\n",
       "      <td>0.577104</td>\n",
       "      <td>0.596000</td>\n",
       "    </tr>\n",
       "  </tbody>\n",
       "</table>\n",
       "</div>"
      ],
      "text/plain": [
       "           Logistic Regression       SVM       KNN  Decision Tree  \\\n",
       "Accuracy              0.567073  0.573171  0.531504       0.509146   \n",
       "Precision             0.571429  0.609907  0.530364       0.504566   \n",
       "Recall                0.529532  0.401222  0.533605       0.900204   \n",
       "F1_score              0.549683  0.484029  0.531980       0.646672   \n",
       "AUC                   0.602335  0.581770  0.531168       0.519970   \n",
       "\n",
       "           Random Forest  Gradient boosting  \n",
       "Accuracy        0.552846           0.568089  \n",
       "Precision       0.565553           0.611486  \n",
       "Recall          0.448065           0.368635  \n",
       "F1_score        0.500000           0.459975  \n",
       "AUC             0.577104           0.596000  "
      ]
     },
     "execution_count": 209,
     "metadata": {},
     "output_type": "execute_result"
    }
   ],
   "source": [
    "performance_metrics_with_hyperparameters"
   ]
  },
  {
   "cell_type": "code",
   "execution_count": null,
   "id": "02b21b5e",
   "metadata": {},
   "outputs": [],
   "source": []
  }
 ],
 "metadata": {
  "kernelspec": {
   "display_name": "Python 3 (ipykernel)",
   "language": "python",
   "name": "python3"
  },
  "language_info": {
   "codemirror_mode": {
    "name": "ipython",
    "version": 3
   },
   "file_extension": ".py",
   "mimetype": "text/x-python",
   "name": "python",
   "nbconvert_exporter": "python",
   "pygments_lexer": "ipython3",
   "version": "3.8.12"
  }
 },
 "nbformat": 4,
 "nbformat_minor": 5
}
